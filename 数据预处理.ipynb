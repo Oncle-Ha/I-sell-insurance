{
 "metadata": {
  "language_info": {
   "codemirror_mode": {
    "name": "ipython",
    "version": 3
   },
   "file_extension": ".py",
   "mimetype": "text/x-python",
   "name": "python",
   "nbconvert_exporter": "python",
   "pygments_lexer": "ipython3",
   "version": "3.8.3-final"
  },
  "orig_nbformat": 2,
  "kernelspec": {
   "name": "Python 3.8.3 64-bit ('base': conda)",
   "display_name": "Python 3.8.3 64-bit ('base': conda)",
   "metadata": {
    "interpreter": {
     "hash": "79c9d1bfe61bb90fb7be5bc64043ea578cba474de75c55c4010338ea61c39fff"
    }
   }
  }
 },
 "nbformat": 4,
 "nbformat_minor": 2,
 "cells": [
  {
   "source": [
    "## 数据预处理"
   ],
   "cell_type": "markdown",
   "metadata": {}
  },
  {
   "source": [
    "### 导入数据"
   ],
   "cell_type": "markdown",
   "metadata": {}
  },
  {
   "cell_type": "code",
   "execution_count": 10,
   "metadata": {},
   "outputs": [
    {
     "output_type": "stream",
     "name": "stdout",
     "text": [
      "<class 'pandas.core.frame.DataFrame'>\nRangeIndex: 304888 entries, 0 to 304887\nData columns (total 12 columns):\n #   Column                Non-Null Count   Dtype  \n---  ------                --------------   -----  \n 0   id                    304888 non-null  int64  \n 1   Gender                304888 non-null  object \n 2   Age                   304888 non-null  int64  \n 3   Driving_License       304010 non-null  float64\n 4   Region_Code           304888 non-null  float64\n 5   Previously_Insured    304888 non-null  int64  \n 6   Vehicle_Age           304888 non-null  object \n 7   Vehicle_Damage        304888 non-null  object \n 8   Annual_Premium        304888 non-null  float64\n 9   Policy_Sales_Channel  304007 non-null  float64\n 10  Vintage               304888 non-null  int64  \n 11  Response              304888 non-null  int64  \ndtypes: float64(4), int64(5), object(3)\nmemory usage: 27.9+ MB\n"
     ]
    }
   ],
   "source": [
    "import pandas as pd\n",
    "from collections import Counter\n",
    "\n",
    "df_train = pd.read_csv('data/train.csv') # 训练集\n",
    "df_train.info()"
   ]
  },
  {
   "source": [
    "### 数据格式处理（未升维）"
   ],
   "cell_type": "markdown",
   "metadata": {}
  },
  {
   "cell_type": "code",
   "execution_count": 11,
   "metadata": {},
   "outputs": [
    {
     "output_type": "stream",
     "name": "stdout",
     "text": [
      "<class 'pandas.core.frame.DataFrame'>\nRangeIndex: 304888 entries, 0 to 304887\nData columns (total 12 columns):\n #   Column                Non-Null Count   Dtype  \n---  ------                --------------   -----  \n 0   id                    304888 non-null  int64  \n 1   Gender                304888 non-null  int32  \n 2   Age                   304888 non-null  int64  \n 3   Driving_License       304010 non-null  float64\n 4   Region_Code           304888 non-null  int32  \n 5   Previously_Insured    304888 non-null  int64  \n 6   Vehicle_Age           304888 non-null  int32  \n 7   Vehicle_Damage        304888 non-null  int32  \n 8   Annual_Premium        304888 non-null  float64\n 9   Policy_Sales_Channel  304007 non-null  float64\n 10  Vintage               304888 non-null  int64  \n 11  Response              304888 non-null  int64  \ndtypes: float64(3), int32(4), int64(5)\nmemory usage: 23.3 MB\n"
     ]
    }
   ],
   "source": [
    "# 数据格式处理\n",
    "num_feat = ['Age', 'Vintage', 'Previously_Insured', 'Annual_Premium'] # 数值属性\n",
    "nor_feat = ['Gender', 'Driving_License', 'Region_Code', 'Vehicle_Damage',  'Vehicle_Age', 'Policy_Sales_Channel'] # 标称属性\n",
    "\n",
    "df_train['Gender'] = df_train['Gender'].map( {'Female': 0, 'Male': 1} ).astype(int)\n",
    "df_train['Vehicle_Damage'] = df_train['Vehicle_Damage'].map( {'Yes': 1, 'No': 0} ).astype(int)\n",
    "df_train['Region_Code'] = df_train['Region_Code'].astype(int)\n",
    "df_train['Vehicle_Age'] = df_train['Vehicle_Age'].map( {'< 1 Year': 0, '1-2 Year': 1, '> 2 Years': 2} ).astype(int)\n",
    "# df_train['Policy_Sales_Channel'] = df_train['Policy_Sales_Channel'].astype(int)\n",
    "# df_train['Driving_License'] = df_train['Driving_License'].astype(int)\n",
    "df_train.info()"
   ]
  },
  {
   "cell_type": "code",
   "execution_count": null,
   "metadata": {},
   "outputs": [],
   "source": [
    "# 缺失值检测处理：删除含有空值的行（标称属性）\n",
    "df_train.dropna(axis=0, how='any', inplace=True)\n"
   ]
  },
  {
   "cell_type": "code",
   "execution_count": null,
   "metadata": {},
   "outputs": [],
   "source": [
    "# 缺失值检测处理：逻辑回归（标称属性）\n",
    "\n",
    "# 划分缺失值行\n",
    "\n",
    "list_null = []\n",
    "list_notnull = []\n",
    "\n",
    "null_pro = ['Driving_License']\n",
    "for pro in null_pro:                        \n",
    "    for index in range(len(df_train[pro])):\n",
    "        if pd.isnull(df_train[pro][index]):\n",
    "            list_null.append(df_train[index:index+1])\n",
    "        else:\n",
    "            list_notnull.append(df_train[index:index+1])\n",
    "df_null = pd.concat(list_null)\n",
    "df_notnull = pd.concat(list_notnull)\n",
    "\n"
   ]
  },
  {
   "cell_type": "code",
   "execution_count": null,
   "metadata": {},
   "outputs": [],
   "source": [
    "df_null.info()"
   ]
  },
  {
   "cell_type": "code",
   "execution_count": null,
   "metadata": {},
   "outputs": [],
   "source": [
    "# 划分data、label\n",
    "train_dl = df_notnull[\"Driving_License\"]\n",
    "train_data = df_notnull.drop(['Response', 'id', 'Driving_License', 'Policy_Sales_Channel'], axis = 1)\n",
    "\n",
    "test_data = df_null.drop(['Response', 'id', 'Driving_License', 'Policy_Sales_Channel'], axis = 1)"
   ]
  },
  {
   "cell_type": "code",
   "execution_count": null,
   "metadata": {},
   "outputs": [],
   "source": [
    "# 调用逻辑回归\n",
    "from sklearn import linear_model\n",
    "lr = linear_model.LogisticRegression()\n",
    "lr.fit(train_data, train_dl)\n",
    "predict_dl = lr.predict(test_data)\n",
    "\n",
    "index_pdl = 0\n",
    "for pro in null_pro:                        \n",
    "    for index in range(len(df_train[pro])):\n",
    "        if pd.isnull(df_train[pro][index]):\n",
    "            df_train[pro][index] = predict_dl[index_pdl]\n",
    "            index_pdl += 1\n",
    "\n",
    "df_train.info()"
   ]
  },
  {
   "cell_type": "code",
   "execution_count": 12,
   "metadata": {
    "tags": []
   },
   "outputs": [
    {
     "output_type": "stream",
     "name": "stdout",
     "text": [
      "<class 'pandas.core.frame.DataFrame'>\nRangeIndex: 304888 entries, 0 to 304887\nData columns (total 12 columns):\n #   Column                Non-Null Count   Dtype  \n---  ------                --------------   -----  \n 0   id                    304888 non-null  int64  \n 1   Gender                304888 non-null  int32  \n 2   Age                   304888 non-null  int64  \n 3   Driving_License       304888 non-null  float64\n 4   Region_Code           304888 non-null  int32  \n 5   Previously_Insured    304888 non-null  int64  \n 6   Vehicle_Age           304888 non-null  int32  \n 7   Vehicle_Damage        304888 non-null  int32  \n 8   Annual_Premium        304888 non-null  float64\n 9   Policy_Sales_Channel  304888 non-null  float64\n 10  Vintage               304888 non-null  int64  \n 11  Response              304888 non-null  int64  \ndtypes: float64(3), int32(4), int64(5)\nmemory usage: 23.3 MB\n"
     ]
    }
   ],
   "source": [
    "# 缺失值检测处理：轮盘法按概率填充（标称属性）\n",
    "import random\n",
    "\n",
    "null_pro = ['Driving_License', 'Policy_Sales_Channel']\n",
    "for pro in null_pro:\n",
    "    countPro = Counter([x for x in df_train[pro] if pd.isnull(x) == False])\n",
    "    sumPro = sum(countPro.values())\n",
    "    for index in range(len(df_train[pro])):\n",
    "        if pd.isnull(df_train[pro][index]):\n",
    "            needle = random.random() \n",
    "            needle *= sumPro\n",
    "            for cur in countPro.most_common():\n",
    "                needle -= cur[1]\n",
    "                if needle <= 0:\n",
    "                    df_train[pro][index] = cur[0]\n",
    "                    break\n",
    "df_train.info()"
   ]
  },
  {
   "cell_type": "code",
   "execution_count": 13,
   "metadata": {},
   "outputs": [],
   "source": [
    "# 数据格式处理\n",
    "df_train['Policy_Sales_Channel'] = df_train['Policy_Sales_Channel'].astype(int)\n",
    "df_train['Driving_License'] = df_train['Driving_License'].astype(int)"
   ]
  },
  {
   "cell_type": "code",
   "execution_count": 14,
   "metadata": {},
   "outputs": [],
   "source": [
    "# 划分数据\n",
    "from sklearn.model_selection import train_test_split\n",
    "train_id = df_train['id']\n",
    "train_target = df_train['Response']\n",
    "train = df_train.drop(['Response', 'id'], axis = 1)\n",
    "x_train,x_test,y_train,y_test = train_test_split(train,train_target, test_size = 0.3,random_state = 0)\n",
    "# x_test,x_left,y_test,y_left = train_test_split(x_left,y_left, test_size = 0.1,random_state = 0)\n",
    "\n"
   ]
  },
  {
   "cell_type": "code",
   "execution_count": 15,
   "metadata": {},
   "outputs": [
    {
     "output_type": "stream",
     "name": "stdout",
     "text": [
      "<class 'pandas.core.frame.DataFrame'>\nInt64Index: 213421 entries, 82054 to 117952\nData columns (total 10 columns):\n #   Column                Non-Null Count   Dtype  \n---  ------                --------------   -----  \n 0   Gender                213421 non-null  int32  \n 1   Age                   213421 non-null  int64  \n 2   Driving_License       213421 non-null  int32  \n 3   Region_Code           213421 non-null  int32  \n 4   Previously_Insured    213421 non-null  int64  \n 5   Vehicle_Age           213421 non-null  int32  \n 6   Vehicle_Damage        213421 non-null  int32  \n 7   Annual_Premium        213421 non-null  float64\n 8   Policy_Sales_Channel  213421 non-null  int32  \n 9   Vintage               213421 non-null  int64  \ndtypes: float64(1), int32(6), int64(3)\nmemory usage: 13.0 MB\n"
     ]
    }
   ],
   "source": [
    "x_train.info()"
   ]
  },
  {
   "cell_type": "code",
   "execution_count": 36,
   "metadata": {},
   "outputs": [
    {
     "output_type": "stream",
     "name": "stdout",
     "text": [
      "Counter({0: 187239, 1: 26182})\nCounter({0: 79592, 1: 11875})\n"
     ]
    }
   ],
   "source": [
    "# 使用决策树简单尝试\n",
    "from sklearn import tree\n",
    "tree = tree.DecisionTreeClassifier()\n",
    "tree.fit(x_train, y_train)\n",
    "\n",
    "print(classification_report(y_test, tree.predict(x_test)))\n",
    "                                                                        \n",
    "print(\"模型训练集的准确率：%.3f\" %tree.score(x_train, y_train))\n",
    "print(\"模型测试集的准确率：%.3f\" %tree.score(x_test, y_test))"
   ]
  },
  {
   "cell_type": "code",
   "execution_count": 29,
   "metadata": {},
   "outputs": [
    {
     "output_type": "execute_result",
     "data": {
      "text/plain": [
       "Counter({0: 213421})"
      ]
     },
     "metadata": {},
     "execution_count": 29
    }
   ],
   "source": [
    "# 使用Logistic\n",
    "from sklearn import linear_model\n",
    "from sklearn.metrics  import classification_report\n",
    "lr = linear_model.LogisticRegression()\n",
    "lr.fit(x_train, y_train)\n",
    "\n",
    "# print(classification_report(y_train, ))\n",
    "Counter(lr.predict(x_train))\n",
    "# print(\"模型训练集的准确率：%.3f\" %lr.score(x_train, y_train))\n",
    "# print(\"模型测试集的准确率：%.3f\" %lr.score(x_test, y_test))"
   ]
  },
  {
   "cell_type": "code",
   "execution_count": null,
   "metadata": {},
   "outputs": [],
   "source": []
  }
 ]
}