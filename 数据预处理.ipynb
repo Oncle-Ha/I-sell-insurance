{
 "metadata": {
  "language_info": {
   "codemirror_mode": {
    "name": "ipython",
    "version": 3
   },
   "file_extension": ".py",
   "mimetype": "text/x-python",
   "name": "python",
   "nbconvert_exporter": "python",
   "pygments_lexer": "ipython3",
   "version": "3.8.5-final"
  },
  "orig_nbformat": 2,
  "kernelspec": {
   "name": "python3",
   "display_name": "Python 3"
  }
 },
 "nbformat": 4,
 "nbformat_minor": 2,
 "cells": [
  {
   "source": [
    "## 数据预处理"
   ],
   "cell_type": "markdown",
   "metadata": {}
  },
  {
   "source": [
    "### 导入数据"
   ],
   "cell_type": "markdown",
   "metadata": {}
  },
  {
   "cell_type": "code",
   "execution_count": 1,
   "metadata": {},
   "outputs": [
    {
     "output_type": "stream",
     "name": "stdout",
     "text": [
      "<class 'pandas.core.frame.DataFrame'>\nRangeIndex: 76221 entries, 0 to 76220\nData columns (total 14 columns):\n #   Column                Non-Null Count  Dtype  \n---  ------                --------------  -----  \n 0   Unnamed: 0            76221 non-null  int64  \n 1   id                    76221 non-null  int64  \n 2   Gender                76221 non-null  object \n 3   Age                   76221 non-null  int64  \n 4   Driving_License       76221 non-null  float64\n 5   Region_Code           76221 non-null  float64\n 6   Previously_Insured    76221 non-null  int64  \n 7   Vehicle_Age           76221 non-null  object \n 8   Vehicle_Damage        76221 non-null  object \n 9   Annual_Premium        76221 non-null  float64\n 10  Policy_Sales_Channel  76221 non-null  float64\n 11  Vintage               76221 non-null  int64  \n 12  Response              76221 non-null  int64  \n 13  way                   76221 non-null  object \ndtypes: float64(4), int64(6), object(4)\nmemory usage: 8.1+ MB\n"
     ]
    }
   ],
   "source": [
    "import pandas as pd\n",
    "from collections import Counter\n",
    "\n",
    "df_train = pd.read_csv('data/tmp.csv') # 训练集\n",
    "df_train.info()"
   ]
  },
  {
   "source": [
    "### 数据格式处理（未升维）"
   ],
   "cell_type": "markdown",
   "metadata": {}
  },
  {
   "cell_type": "code",
   "execution_count": 2,
   "metadata": {},
   "outputs": [],
   "source": [
    "# 数据格式处理\n",
    "num_feat = ['Age', 'Vintage', 'Annual_Premium'] # 数值属性\n",
    "nor_feat = ['Gender', 'Driving_License', 'Region_Code', 'Vehicle_Damage',  'Vehicle_Age', 'Policy_Sales_Channel', 'Previously_Insured'] # 标称属性\n",
    "\n",
    "df_train['Gender'] = df_train['Gender'].map( {'Female': 0, 'Male': 1} ).astype(int)"
   ]
  },
  {
   "source": [
    "### 缺失值处理\n",
    "写了三种方法，自行选择\n",
    "* 删除含有空值的行\n",
    "* 逻辑回归填充`Driving_License` + 轮盘法填充 `Policy_Sales_Channel`\n",
    "* 全部轮盘法填充"
   ],
   "cell_type": "markdown",
   "metadata": {}
  },
  {
   "source": [
    "#### 1、删除含有空值的行"
   ],
   "cell_type": "markdown",
   "metadata": {}
  },
  {
   "cell_type": "code",
   "execution_count": null,
   "metadata": {},
   "outputs": [],
   "source": [
    "# 缺失值检测处理：删除含有空值的行（标称属性）\n",
    "df_train.dropna(axis=0, how='any', inplace=True)\n"
   ]
  },
  {
   "source": [
    "#### 2、逻辑回归\n",
    "*自行修改轮盘法`null_pro`*"
   ],
   "cell_type": "markdown",
   "metadata": {}
  },
  {
   "cell_type": "code",
   "execution_count": null,
   "metadata": {},
   "outputs": [],
   "source": [
    "# 缺失值检测处理：逻辑回归（标称属性）\n",
    "\n",
    "# 划分缺失值行\n",
    "\n",
    "list_null = []\n",
    "list_notnull = []\n",
    "\n",
    "null_pro = ['Driving_License']\n",
    "for pro in null_pro:                        \n",
    "    for index in range(len(df_train[pro])):\n",
    "        if pd.isnull(df_train[pro][index]):\n",
    "            list_null.append(df_train[index:index+1])\n",
    "        else:\n",
    "            list_notnull.append(df_train[index:index+1])\n",
    "df_null = pd.concat(list_null)\n",
    "df_notnull = pd.concat(list_notnull)\n"
   ]
  },
  {
   "cell_type": "code",
   "execution_count": null,
   "metadata": {},
   "outputs": [],
   "source": [
    "# 划分data、label\n",
    "train_dl = df_notnull[\"Driving_License\"]\n",
    "train_data = df_notnull.drop(['Response', 'id', 'Driving_License', 'Policy_Sales_Channel'], axis = 1)\n",
    "\n",
    "test_data = df_null.drop(['Response', 'id', 'Driving_License', 'Policy_Sales_Channel'], axis = 1)"
   ]
  },
  {
   "cell_type": "code",
   "execution_count": null,
   "metadata": {},
   "outputs": [],
   "source": [
    "# 调用逻辑回归\n",
    "from sklearn import linear_model\n",
    "lr = linear_model.LogisticRegression()\n",
    "lr.fit(train_data, train_dl)\n",
    "predict_dl = lr.predict(test_data)\n",
    "\n",
    "index_pdl = 0\n",
    "for pro in null_pro:                        \n",
    "    for index in range(len(df_train[pro])):\n",
    "        if pd.isnull(df_train[pro][index]):\n",
    "            df_train[pro][index] = predict_dl[index_pdl]\n",
    "            index_pdl += 1\n",
    "\n",
    "df_train.info()"
   ]
  },
  {
   "source": [
    "#### 3、轮盘法"
   ],
   "cell_type": "markdown",
   "metadata": {}
  },
  {
   "cell_type": "code",
   "execution_count": 3,
   "metadata": {
    "tags": []
   },
   "outputs": [
    {
     "output_type": "stream",
     "name": "stdout",
     "text": [
      "<class 'pandas.core.frame.DataFrame'>\nRangeIndex: 76221 entries, 0 to 76220\nData columns (total 14 columns):\n #   Column                Non-Null Count  Dtype  \n---  ------                --------------  -----  \n 0   Unnamed: 0            76221 non-null  int64  \n 1   id                    76221 non-null  int64  \n 2   Gender                76221 non-null  int64  \n 3   Age                   76221 non-null  int64  \n 4   Driving_License       76221 non-null  float64\n 5   Region_Code           76221 non-null  float64\n 6   Previously_Insured    76221 non-null  int64  \n 7   Vehicle_Age           76221 non-null  object \n 8   Vehicle_Damage        76221 non-null  object \n 9   Annual_Premium        76221 non-null  float64\n 10  Policy_Sales_Channel  76221 non-null  float64\n 11  Vintage               76221 non-null  int64  \n 12  Response              76221 non-null  int64  \n 13  way                   76221 non-null  object \ndtypes: float64(4), int64(7), object(3)\nmemory usage: 8.1+ MB\n"
     ]
    }
   ],
   "source": [
    "# 缺失值检测处理：轮盘法按概率填充（标称属性）\n",
    "import random\n",
    "\n",
    "null_pro = ['Driving_License', 'Policy_Sales_Channel']\n",
    "for pro in null_pro:\n",
    "    countPro = Counter([x for x in df_train[pro] if pd.isnull(x) == False])\n",
    "    sumPro = sum(countPro.values())\n",
    "    for index in range(len(df_train[pro])):\n",
    "        if pd.isnull(df_train[pro][index]):\n",
    "            needle = random.random() \n",
    "            needle *= sumPro\n",
    "            for cur in countPro.most_common():\n",
    "                needle -= cur[1]\n",
    "                if needle <= 0:\n",
    "                    df_train[pro][index] = cur[0]\n",
    "                    break\n",
    "df_train.info()"
   ]
  },
  {
   "source": [
    "## 对PSC进行处理"
   ],
   "cell_type": "markdown",
   "metadata": {}
  },
  {
   "cell_type": "code",
   "execution_count": 4,
   "metadata": {},
   "outputs": [],
   "source": [
    "import numpy as np"
   ]
  },
  {
   "cell_type": "code",
   "execution_count": 5,
   "metadata": {},
   "outputs": [],
   "source": [
    "psc_min = np.int(np.min(df_train['Policy_Sales_Channel']))\n",
    "psc_max = np.int(np.max(df_train['Policy_Sales_Channel']))\n",
    "psc_counts = [ np.sum(df_train['Policy_Sales_Channel'] == i) for i in range(psc_min, psc_max+1)]"
   ]
  },
  {
   "cell_type": "code",
   "execution_count": 6,
   "metadata": {},
   "outputs": [],
   "source": [
    "psc_sort = psc_counts.copy()\n",
    "psc_sort.sort(reverse=True)"
   ]
  },
  {
   "cell_type": "code",
   "execution_count": 7,
   "metadata": {},
   "outputs": [
    {
     "output_type": "execute_result",
     "data": {
      "text/plain": [
       "1210"
      ]
     },
     "metadata": {},
     "execution_count": 7
    }
   ],
   "source": [
    "psc_threshold = psc_sort[7]\n",
    "psc_threshold"
   ]
  },
  {
   "cell_type": "code",
   "execution_count": 8,
   "metadata": {},
   "outputs": [],
   "source": [
    "df_train['Policy_Sales_Channel'] = df_train['Policy_Sales_Channel'].astype('int')"
   ]
  },
  {
   "cell_type": "code",
   "execution_count": 9,
   "metadata": {},
   "outputs": [
    {
     "output_type": "execute_result",
     "data": {
      "text/plain": [
       "[26989, 15901, 14820, 4425, 2144, 1943, 1297, 1210]"
      ]
     },
     "metadata": {},
     "execution_count": 9
    }
   ],
   "source": [
    "psc_sort[:8]"
   ]
  },
  {
   "cell_type": "code",
   "execution_count": 12,
   "metadata": {},
   "outputs": [
    {
     "output_type": "execute_result",
     "data": {
      "text/plain": [
       "0        3\n",
       "1        1\n",
       "2        3\n",
       "3        6\n",
       "4        1\n",
       "        ..\n",
       "76216    2\n",
       "76217    0\n",
       "76218    1\n",
       "76219    3\n",
       "76220    2\n",
       "Name: Policy_Sales_Channel, Length: 76221, dtype: int64"
      ]
     },
     "metadata": {},
     "execution_count": 12
    }
   ],
   "source": [
    "psc_cats = 8\n",
    "train_psc = df_train['Policy_Sales_Channel'].copy()\n",
    "for i in range(len(train_psc)):\n",
    "    now_psc = train_psc[i]-1\n",
    "    if (psc_counts[now_psc] >= psc_threshold):\n",
    "        for j in range(psc_cats):\n",
    "            if (psc_sort[j] == psc_counts[now_psc]):\n",
    "                train_psc[i] = j+1\n",
    "                break\n",
    "    else:\n",
    "        train_psc[i] = 0\n",
    "train_psc"
   ]
  },
  {
   "cell_type": "code",
   "execution_count": 13,
   "metadata": {},
   "outputs": [],
   "source": [
    "import seaborn as sns\n",
    "import matplotlib.pyplot as plt"
   ]
  },
  {
   "cell_type": "code",
   "execution_count": 14,
   "metadata": {},
   "outputs": [
    {
     "output_type": "execute_result",
     "data": {
      "text/plain": [
       "<matplotlib.axes._subplots.AxesSubplot at 0x7f903c9283c8>"
      ]
     },
     "metadata": {},
     "execution_count": 14
    },
    {
     "output_type": "display_data",
     "data": {
      "text/plain": "<Figure size 432x288 with 1 Axes>",
      "image/svg+xml": "<?xml version=\"1.0\" encoding=\"utf-8\" standalone=\"no\"?>\n<!DOCTYPE svg PUBLIC \"-//W3C//DTD SVG 1.1//EN\"\n  \"http://www.w3.org/Graphics/SVG/1.1/DTD/svg11.dtd\">\n<!-- Created with matplotlib (http://matplotlib.org/) -->\n<svg height=\"265.974375pt\" version=\"1.1\" viewBox=\"0 0 405.190625 265.974375\" width=\"405.190625pt\" xmlns=\"http://www.w3.org/2000/svg\" xmlns:xlink=\"http://www.w3.org/1999/xlink\">\n <defs>\n  <style type=\"text/css\">\n*{stroke-linecap:butt;stroke-linejoin:round;}\n  </style>\n </defs>\n <g id=\"figure_1\">\n  <g id=\"patch_1\">\n   <path d=\"M 0 265.974375 \nL 405.190625 265.974375 \nL 405.190625 0 \nL 0 0 \nz\n\" style=\"fill:none;\"/>\n  </g>\n  <g id=\"axes_1\">\n   <g id=\"patch_2\">\n    <path d=\"M 59.690625 228.14 \nL 394.490625 228.14 \nL 394.490625 10.7 \nL 59.690625 10.7 \nz\n\" style=\"fill:#ffffff;\"/>\n   </g>\n   <g id=\"patch_3\">\n    <path clip-path=\"url(#pc8b53cf386)\" d=\"M 63.410625 228.14 \nL 93.170625 228.14 \nL 93.170625 170.654129 \nL 63.410625 170.654129 \nz\n\" style=\"fill:#3274a1;\"/>\n   </g>\n   <g id=\"patch_4\">\n    <path clip-path=\"url(#pc8b53cf386)\" d=\"M 100.610625 228.14 \nL 130.370625 228.14 \nL 130.370625 21.054286 \nL 100.610625 21.054286 \nz\n\" style=\"fill:#e1812c;\"/>\n   </g>\n   <g id=\"patch_5\">\n    <path clip-path=\"url(#pc8b53cf386)\" d=\"M 137.810625 228.14 \nL 167.570625 228.14 \nL 167.570625 106.132147 \nL 137.810625 106.132147 \nz\n\" style=\"fill:#3a923a;\"/>\n   </g>\n   <g id=\"patch_6\">\n    <path clip-path=\"url(#pc8b53cf386)\" d=\"M 175.010625 228.14 \nL 204.770625 228.14 \nL 204.770625 114.426625 \nL 175.010625 114.426625 \nz\n\" style=\"fill:#c03d3e;\"/>\n   </g>\n   <g id=\"patch_7\">\n    <path clip-path=\"url(#pc8b53cf386)\" d=\"M 212.210625 228.14 \nL 241.970625 228.14 \nL 241.970625 194.18712 \nL 212.210625 194.18712 \nz\n\" style=\"fill:#9372b2;\"/>\n   </g>\n   <g id=\"patch_8\">\n    <path clip-path=\"url(#pc8b53cf386)\" d=\"M 249.410625 228.14 \nL 279.170625 228.14 \nL 279.170625 211.689158 \nL 249.410625 211.689158 \nz\n\" style=\"fill:#845b53;\"/>\n   </g>\n   <g id=\"patch_9\">\n    <path clip-path=\"url(#pc8b53cf386)\" d=\"M 286.610625 228.14 \nL 316.370625 228.14 \nL 316.370625 213.231425 \nL 286.610625 213.231425 \nz\n\" style=\"fill:#d684bd;\"/>\n   </g>\n   <g id=\"patch_10\">\n    <path clip-path=\"url(#pc8b53cf386)\" d=\"M 323.810625 228.14 \nL 353.570625 228.14 \nL 353.570625 218.188161 \nL 323.810625 218.188161 \nz\n\" style=\"fill:#7f7f7f;\"/>\n   </g>\n   <g id=\"patch_11\">\n    <path clip-path=\"url(#pc8b53cf386)\" d=\"M 361.010625 228.14 \nL 390.770625 228.14 \nL 390.770625 218.85571 \nL 361.010625 218.85571 \nz\n\" style=\"fill:#a9aa35;\"/>\n   </g>\n   <g id=\"matplotlib.axis_1\">\n    <g id=\"xtick_1\">\n     <g id=\"line2d_1\">\n      <defs>\n       <path d=\"M 0 0 \nL 0 3.5 \n\" id=\"m277ee7b019\" style=\"stroke:#000000;stroke-width:0.8;\"/>\n      </defs>\n      <g>\n       <use style=\"stroke:#000000;stroke-width:0.8;\" x=\"78.290625\" xlink:href=\"#m277ee7b019\" y=\"228.14\"/>\n      </g>\n     </g>\n     <g id=\"text_1\">\n      <!-- 0 -->\n      <defs>\n       <path d=\"M 31.78125 66.40625 \nQ 24.171875 66.40625 20.328125 58.90625 \nQ 16.5 51.421875 16.5 36.375 \nQ 16.5 21.390625 20.328125 13.890625 \nQ 24.171875 6.390625 31.78125 6.390625 \nQ 39.453125 6.390625 43.28125 13.890625 \nQ 47.125 21.390625 47.125 36.375 \nQ 47.125 51.421875 43.28125 58.90625 \nQ 39.453125 66.40625 31.78125 66.40625 \nz\nM 31.78125 74.21875 \nQ 44.046875 74.21875 50.515625 64.515625 \nQ 56.984375 54.828125 56.984375 36.375 \nQ 56.984375 17.96875 50.515625 8.265625 \nQ 44.046875 -1.421875 31.78125 -1.421875 \nQ 19.53125 -1.421875 13.0625 8.265625 \nQ 6.59375 17.96875 6.59375 36.375 \nQ 6.59375 54.828125 13.0625 64.515625 \nQ 19.53125 74.21875 31.78125 74.21875 \nz\n\" id=\"DejaVuSans-30\"/>\n      </defs>\n      <g transform=\"translate(75.109375 242.738438)scale(0.1 -0.1)\">\n       <use xlink:href=\"#DejaVuSans-30\"/>\n      </g>\n     </g>\n    </g>\n    <g id=\"xtick_2\">\n     <g id=\"line2d_2\">\n      <g>\n       <use style=\"stroke:#000000;stroke-width:0.8;\" x=\"115.490625\" xlink:href=\"#m277ee7b019\" y=\"228.14\"/>\n      </g>\n     </g>\n     <g id=\"text_2\">\n      <!-- 1 -->\n      <defs>\n       <path d=\"M 12.40625 8.296875 \nL 28.515625 8.296875 \nL 28.515625 63.921875 \nL 10.984375 60.40625 \nL 10.984375 69.390625 \nL 28.421875 72.90625 \nL 38.28125 72.90625 \nL 38.28125 8.296875 \nL 54.390625 8.296875 \nL 54.390625 0 \nL 12.40625 0 \nz\n\" id=\"DejaVuSans-31\"/>\n      </defs>\n      <g transform=\"translate(112.309375 242.738438)scale(0.1 -0.1)\">\n       <use xlink:href=\"#DejaVuSans-31\"/>\n      </g>\n     </g>\n    </g>\n    <g id=\"xtick_3\">\n     <g id=\"line2d_3\">\n      <g>\n       <use style=\"stroke:#000000;stroke-width:0.8;\" x=\"152.690625\" xlink:href=\"#m277ee7b019\" y=\"228.14\"/>\n      </g>\n     </g>\n     <g id=\"text_3\">\n      <!-- 2 -->\n      <defs>\n       <path d=\"M 19.1875 8.296875 \nL 53.609375 8.296875 \nL 53.609375 0 \nL 7.328125 0 \nL 7.328125 8.296875 \nQ 12.9375 14.109375 22.625 23.890625 \nQ 32.328125 33.6875 34.8125 36.53125 \nQ 39.546875 41.84375 41.421875 45.53125 \nQ 43.3125 49.21875 43.3125 52.78125 \nQ 43.3125 58.59375 39.234375 62.25 \nQ 35.15625 65.921875 28.609375 65.921875 \nQ 23.96875 65.921875 18.8125 64.3125 \nQ 13.671875 62.703125 7.8125 59.421875 \nL 7.8125 69.390625 \nQ 13.765625 71.78125 18.9375 73 \nQ 24.125 74.21875 28.421875 74.21875 \nQ 39.75 74.21875 46.484375 68.546875 \nQ 53.21875 62.890625 53.21875 53.421875 \nQ 53.21875 48.921875 51.53125 44.890625 \nQ 49.859375 40.875 45.40625 35.40625 \nQ 44.1875 33.984375 37.640625 27.21875 \nQ 31.109375 20.453125 19.1875 8.296875 \nz\n\" id=\"DejaVuSans-32\"/>\n      </defs>\n      <g transform=\"translate(149.509375 242.738438)scale(0.1 -0.1)\">\n       <use xlink:href=\"#DejaVuSans-32\"/>\n      </g>\n     </g>\n    </g>\n    <g id=\"xtick_4\">\n     <g id=\"line2d_4\">\n      <g>\n       <use style=\"stroke:#000000;stroke-width:0.8;\" x=\"189.890625\" xlink:href=\"#m277ee7b019\" y=\"228.14\"/>\n      </g>\n     </g>\n     <g id=\"text_4\">\n      <!-- 3 -->\n      <defs>\n       <path d=\"M 40.578125 39.3125 \nQ 47.65625 37.796875 51.625 33 \nQ 55.609375 28.21875 55.609375 21.1875 \nQ 55.609375 10.40625 48.1875 4.484375 \nQ 40.765625 -1.421875 27.09375 -1.421875 \nQ 22.515625 -1.421875 17.65625 -0.515625 \nQ 12.796875 0.390625 7.625 2.203125 \nL 7.625 11.71875 \nQ 11.71875 9.328125 16.59375 8.109375 \nQ 21.484375 6.890625 26.8125 6.890625 \nQ 36.078125 6.890625 40.9375 10.546875 \nQ 45.796875 14.203125 45.796875 21.1875 \nQ 45.796875 27.640625 41.28125 31.265625 \nQ 36.765625 34.90625 28.71875 34.90625 \nL 20.21875 34.90625 \nL 20.21875 43.015625 \nL 29.109375 43.015625 \nQ 36.375 43.015625 40.234375 45.921875 \nQ 44.09375 48.828125 44.09375 54.296875 \nQ 44.09375 59.90625 40.109375 62.90625 \nQ 36.140625 65.921875 28.71875 65.921875 \nQ 24.65625 65.921875 20.015625 65.03125 \nQ 15.375 64.15625 9.8125 62.3125 \nL 9.8125 71.09375 \nQ 15.4375 72.65625 20.34375 73.4375 \nQ 25.25 74.21875 29.59375 74.21875 \nQ 40.828125 74.21875 47.359375 69.109375 \nQ 53.90625 64.015625 53.90625 55.328125 \nQ 53.90625 49.265625 50.4375 45.09375 \nQ 46.96875 40.921875 40.578125 39.3125 \nz\n\" id=\"DejaVuSans-33\"/>\n      </defs>\n      <g transform=\"translate(186.709375 242.738438)scale(0.1 -0.1)\">\n       <use xlink:href=\"#DejaVuSans-33\"/>\n      </g>\n     </g>\n    </g>\n    <g id=\"xtick_5\">\n     <g id=\"line2d_5\">\n      <g>\n       <use style=\"stroke:#000000;stroke-width:0.8;\" x=\"227.090625\" xlink:href=\"#m277ee7b019\" y=\"228.14\"/>\n      </g>\n     </g>\n     <g id=\"text_5\">\n      <!-- 4 -->\n      <defs>\n       <path d=\"M 37.796875 64.3125 \nL 12.890625 25.390625 \nL 37.796875 25.390625 \nz\nM 35.203125 72.90625 \nL 47.609375 72.90625 \nL 47.609375 25.390625 \nL 58.015625 25.390625 \nL 58.015625 17.1875 \nL 47.609375 17.1875 \nL 47.609375 0 \nL 37.796875 0 \nL 37.796875 17.1875 \nL 4.890625 17.1875 \nL 4.890625 26.703125 \nz\n\" id=\"DejaVuSans-34\"/>\n      </defs>\n      <g transform=\"translate(223.909375 242.738438)scale(0.1 -0.1)\">\n       <use xlink:href=\"#DejaVuSans-34\"/>\n      </g>\n     </g>\n    </g>\n    <g id=\"xtick_6\">\n     <g id=\"line2d_6\">\n      <g>\n       <use style=\"stroke:#000000;stroke-width:0.8;\" x=\"264.290625\" xlink:href=\"#m277ee7b019\" y=\"228.14\"/>\n      </g>\n     </g>\n     <g id=\"text_6\">\n      <!-- 5 -->\n      <defs>\n       <path d=\"M 10.796875 72.90625 \nL 49.515625 72.90625 \nL 49.515625 64.59375 \nL 19.828125 64.59375 \nL 19.828125 46.734375 \nQ 21.96875 47.46875 24.109375 47.828125 \nQ 26.265625 48.1875 28.421875 48.1875 \nQ 40.625 48.1875 47.75 41.5 \nQ 54.890625 34.8125 54.890625 23.390625 \nQ 54.890625 11.625 47.5625 5.09375 \nQ 40.234375 -1.421875 26.90625 -1.421875 \nQ 22.3125 -1.421875 17.546875 -0.640625 \nQ 12.796875 0.140625 7.71875 1.703125 \nL 7.71875 11.625 \nQ 12.109375 9.234375 16.796875 8.0625 \nQ 21.484375 6.890625 26.703125 6.890625 \nQ 35.15625 6.890625 40.078125 11.328125 \nQ 45.015625 15.765625 45.015625 23.390625 \nQ 45.015625 31 40.078125 35.4375 \nQ 35.15625 39.890625 26.703125 39.890625 \nQ 22.75 39.890625 18.8125 39.015625 \nQ 14.890625 38.140625 10.796875 36.28125 \nz\n\" id=\"DejaVuSans-35\"/>\n      </defs>\n      <g transform=\"translate(261.109375 242.738438)scale(0.1 -0.1)\">\n       <use xlink:href=\"#DejaVuSans-35\"/>\n      </g>\n     </g>\n    </g>\n    <g id=\"xtick_7\">\n     <g id=\"line2d_7\">\n      <g>\n       <use style=\"stroke:#000000;stroke-width:0.8;\" x=\"301.490625\" xlink:href=\"#m277ee7b019\" y=\"228.14\"/>\n      </g>\n     </g>\n     <g id=\"text_7\">\n      <!-- 6 -->\n      <defs>\n       <path d=\"M 33.015625 40.375 \nQ 26.375 40.375 22.484375 35.828125 \nQ 18.609375 31.296875 18.609375 23.390625 \nQ 18.609375 15.53125 22.484375 10.953125 \nQ 26.375 6.390625 33.015625 6.390625 \nQ 39.65625 6.390625 43.53125 10.953125 \nQ 47.40625 15.53125 47.40625 23.390625 \nQ 47.40625 31.296875 43.53125 35.828125 \nQ 39.65625 40.375 33.015625 40.375 \nz\nM 52.59375 71.296875 \nL 52.59375 62.3125 \nQ 48.875 64.0625 45.09375 64.984375 \nQ 41.3125 65.921875 37.59375 65.921875 \nQ 27.828125 65.921875 22.671875 59.328125 \nQ 17.53125 52.734375 16.796875 39.40625 \nQ 19.671875 43.65625 24.015625 45.921875 \nQ 28.375 48.1875 33.59375 48.1875 \nQ 44.578125 48.1875 50.953125 41.515625 \nQ 57.328125 34.859375 57.328125 23.390625 \nQ 57.328125 12.15625 50.6875 5.359375 \nQ 44.046875 -1.421875 33.015625 -1.421875 \nQ 20.359375 -1.421875 13.671875 8.265625 \nQ 6.984375 17.96875 6.984375 36.375 \nQ 6.984375 53.65625 15.1875 63.9375 \nQ 23.390625 74.21875 37.203125 74.21875 \nQ 40.921875 74.21875 44.703125 73.484375 \nQ 48.484375 72.75 52.59375 71.296875 \nz\n\" id=\"DejaVuSans-36\"/>\n      </defs>\n      <g transform=\"translate(298.309375 242.738438)scale(0.1 -0.1)\">\n       <use xlink:href=\"#DejaVuSans-36\"/>\n      </g>\n     </g>\n    </g>\n    <g id=\"xtick_8\">\n     <g id=\"line2d_8\">\n      <g>\n       <use style=\"stroke:#000000;stroke-width:0.8;\" x=\"338.690625\" xlink:href=\"#m277ee7b019\" y=\"228.14\"/>\n      </g>\n     </g>\n     <g id=\"text_8\">\n      <!-- 7 -->\n      <defs>\n       <path d=\"M 8.203125 72.90625 \nL 55.078125 72.90625 \nL 55.078125 68.703125 \nL 28.609375 0 \nL 18.3125 0 \nL 43.21875 64.59375 \nL 8.203125 64.59375 \nz\n\" id=\"DejaVuSans-37\"/>\n      </defs>\n      <g transform=\"translate(335.509375 242.738438)scale(0.1 -0.1)\">\n       <use xlink:href=\"#DejaVuSans-37\"/>\n      </g>\n     </g>\n    </g>\n    <g id=\"xtick_9\">\n     <g id=\"line2d_9\">\n      <g>\n       <use style=\"stroke:#000000;stroke-width:0.8;\" x=\"375.890625\" xlink:href=\"#m277ee7b019\" y=\"228.14\"/>\n      </g>\n     </g>\n     <g id=\"text_9\">\n      <!-- 8 -->\n      <defs>\n       <path d=\"M 31.78125 34.625 \nQ 24.75 34.625 20.71875 30.859375 \nQ 16.703125 27.09375 16.703125 20.515625 \nQ 16.703125 13.921875 20.71875 10.15625 \nQ 24.75 6.390625 31.78125 6.390625 \nQ 38.8125 6.390625 42.859375 10.171875 \nQ 46.921875 13.96875 46.921875 20.515625 \nQ 46.921875 27.09375 42.890625 30.859375 \nQ 38.875 34.625 31.78125 34.625 \nz\nM 21.921875 38.8125 \nQ 15.578125 40.375 12.03125 44.71875 \nQ 8.5 49.078125 8.5 55.328125 \nQ 8.5 64.0625 14.71875 69.140625 \nQ 20.953125 74.21875 31.78125 74.21875 \nQ 42.671875 74.21875 48.875 69.140625 \nQ 55.078125 64.0625 55.078125 55.328125 \nQ 55.078125 49.078125 51.53125 44.71875 \nQ 48 40.375 41.703125 38.8125 \nQ 48.828125 37.15625 52.796875 32.3125 \nQ 56.78125 27.484375 56.78125 20.515625 \nQ 56.78125 9.90625 50.3125 4.234375 \nQ 43.84375 -1.421875 31.78125 -1.421875 \nQ 19.734375 -1.421875 13.25 4.234375 \nQ 6.78125 9.90625 6.78125 20.515625 \nQ 6.78125 27.484375 10.78125 32.3125 \nQ 14.796875 37.15625 21.921875 38.8125 \nz\nM 18.3125 54.390625 \nQ 18.3125 48.734375 21.84375 45.5625 \nQ 25.390625 42.390625 31.78125 42.390625 \nQ 38.140625 42.390625 41.71875 45.5625 \nQ 45.3125 48.734375 45.3125 54.390625 \nQ 45.3125 60.0625 41.71875 63.234375 \nQ 38.140625 66.40625 31.78125 66.40625 \nQ 25.390625 66.40625 21.84375 63.234375 \nQ 18.3125 60.0625 18.3125 54.390625 \nz\n\" id=\"DejaVuSans-38\"/>\n      </defs>\n      <g transform=\"translate(372.709375 242.738438)scale(0.1 -0.1)\">\n       <use xlink:href=\"#DejaVuSans-38\"/>\n      </g>\n     </g>\n    </g>\n    <g id=\"text_10\">\n     <!-- Policy_Sales_Channel -->\n     <defs>\n      <path d=\"M 19.671875 64.796875 \nL 19.671875 37.40625 \nL 32.078125 37.40625 \nQ 38.96875 37.40625 42.71875 40.96875 \nQ 46.484375 44.53125 46.484375 51.125 \nQ 46.484375 57.671875 42.71875 61.234375 \nQ 38.96875 64.796875 32.078125 64.796875 \nz\nM 9.8125 72.90625 \nL 32.078125 72.90625 \nQ 44.34375 72.90625 50.609375 67.359375 \nQ 56.890625 61.8125 56.890625 51.125 \nQ 56.890625 40.328125 50.609375 34.8125 \nQ 44.34375 29.296875 32.078125 29.296875 \nL 19.671875 29.296875 \nL 19.671875 0 \nL 9.8125 0 \nz\n\" id=\"DejaVuSans-50\"/>\n      <path d=\"M 30.609375 48.390625 \nQ 23.390625 48.390625 19.1875 42.75 \nQ 14.984375 37.109375 14.984375 27.296875 \nQ 14.984375 17.484375 19.15625 11.84375 \nQ 23.34375 6.203125 30.609375 6.203125 \nQ 37.796875 6.203125 41.984375 11.859375 \nQ 46.1875 17.53125 46.1875 27.296875 \nQ 46.1875 37.015625 41.984375 42.703125 \nQ 37.796875 48.390625 30.609375 48.390625 \nz\nM 30.609375 56 \nQ 42.328125 56 49.015625 48.375 \nQ 55.71875 40.765625 55.71875 27.296875 \nQ 55.71875 13.875 49.015625 6.21875 \nQ 42.328125 -1.421875 30.609375 -1.421875 \nQ 18.84375 -1.421875 12.171875 6.21875 \nQ 5.515625 13.875 5.515625 27.296875 \nQ 5.515625 40.765625 12.171875 48.375 \nQ 18.84375 56 30.609375 56 \nz\n\" id=\"DejaVuSans-6f\"/>\n      <path d=\"M 9.421875 75.984375 \nL 18.40625 75.984375 \nL 18.40625 0 \nL 9.421875 0 \nz\n\" id=\"DejaVuSans-6c\"/>\n      <path d=\"M 9.421875 54.6875 \nL 18.40625 54.6875 \nL 18.40625 0 \nL 9.421875 0 \nz\nM 9.421875 75.984375 \nL 18.40625 75.984375 \nL 18.40625 64.59375 \nL 9.421875 64.59375 \nz\n\" id=\"DejaVuSans-69\"/>\n      <path d=\"M 48.78125 52.59375 \nL 48.78125 44.1875 \nQ 44.96875 46.296875 41.140625 47.34375 \nQ 37.3125 48.390625 33.40625 48.390625 \nQ 24.65625 48.390625 19.8125 42.84375 \nQ 14.984375 37.3125 14.984375 27.296875 \nQ 14.984375 17.28125 19.8125 11.734375 \nQ 24.65625 6.203125 33.40625 6.203125 \nQ 37.3125 6.203125 41.140625 7.25 \nQ 44.96875 8.296875 48.78125 10.40625 \nL 48.78125 2.09375 \nQ 45.015625 0.34375 40.984375 -0.53125 \nQ 36.96875 -1.421875 32.421875 -1.421875 \nQ 20.0625 -1.421875 12.78125 6.34375 \nQ 5.515625 14.109375 5.515625 27.296875 \nQ 5.515625 40.671875 12.859375 48.328125 \nQ 20.21875 56 33.015625 56 \nQ 37.15625 56 41.109375 55.140625 \nQ 45.0625 54.296875 48.78125 52.59375 \nz\n\" id=\"DejaVuSans-63\"/>\n      <path d=\"M 32.171875 -5.078125 \nQ 28.375 -14.84375 24.75 -17.8125 \nQ 21.140625 -20.796875 15.09375 -20.796875 \nL 7.90625 -20.796875 \nL 7.90625 -13.28125 \nL 13.1875 -13.28125 \nQ 16.890625 -13.28125 18.9375 -11.515625 \nQ 21 -9.765625 23.484375 -3.21875 \nL 25.09375 0.875 \nL 2.984375 54.6875 \nL 12.5 54.6875 \nL 29.59375 11.921875 \nL 46.6875 54.6875 \nL 56.203125 54.6875 \nz\n\" id=\"DejaVuSans-79\"/>\n      <path d=\"M 50.984375 -16.609375 \nL 50.984375 -23.578125 \nL -0.984375 -23.578125 \nL -0.984375 -16.609375 \nz\n\" id=\"DejaVuSans-5f\"/>\n      <path d=\"M 53.515625 70.515625 \nL 53.515625 60.890625 \nQ 47.90625 63.578125 42.921875 64.890625 \nQ 37.9375 66.21875 33.296875 66.21875 \nQ 25.25 66.21875 20.875 63.09375 \nQ 16.5 59.96875 16.5 54.203125 \nQ 16.5 49.359375 19.40625 46.890625 \nQ 22.3125 44.4375 30.421875 42.921875 \nL 36.375 41.703125 \nQ 47.40625 39.59375 52.65625 34.296875 \nQ 57.90625 29 57.90625 20.125 \nQ 57.90625 9.515625 50.796875 4.046875 \nQ 43.703125 -1.421875 29.984375 -1.421875 \nQ 24.8125 -1.421875 18.96875 -0.25 \nQ 13.140625 0.921875 6.890625 3.21875 \nL 6.890625 13.375 \nQ 12.890625 10.015625 18.65625 8.296875 \nQ 24.421875 6.59375 29.984375 6.59375 \nQ 38.421875 6.59375 43.015625 9.90625 \nQ 47.609375 13.234375 47.609375 19.390625 \nQ 47.609375 24.75 44.3125 27.78125 \nQ 41.015625 30.8125 33.5 32.328125 \nL 27.484375 33.5 \nQ 16.453125 35.6875 11.515625 40.375 \nQ 6.59375 45.0625 6.59375 53.421875 \nQ 6.59375 63.09375 13.40625 68.65625 \nQ 20.21875 74.21875 32.171875 74.21875 \nQ 37.3125 74.21875 42.625 73.28125 \nQ 47.953125 72.359375 53.515625 70.515625 \nz\n\" id=\"DejaVuSans-53\"/>\n      <path d=\"M 34.28125 27.484375 \nQ 23.390625 27.484375 19.1875 25 \nQ 14.984375 22.515625 14.984375 16.5 \nQ 14.984375 11.71875 18.140625 8.90625 \nQ 21.296875 6.109375 26.703125 6.109375 \nQ 34.1875 6.109375 38.703125 11.40625 \nQ 43.21875 16.703125 43.21875 25.484375 \nL 43.21875 27.484375 \nz\nM 52.203125 31.203125 \nL 52.203125 0 \nL 43.21875 0 \nL 43.21875 8.296875 \nQ 40.140625 3.328125 35.546875 0.953125 \nQ 30.953125 -1.421875 24.3125 -1.421875 \nQ 15.921875 -1.421875 10.953125 3.296875 \nQ 6 8.015625 6 15.921875 \nQ 6 25.140625 12.171875 29.828125 \nQ 18.359375 34.515625 30.609375 34.515625 \nL 43.21875 34.515625 \nL 43.21875 35.40625 \nQ 43.21875 41.609375 39.140625 45 \nQ 35.0625 48.390625 27.6875 48.390625 \nQ 23 48.390625 18.546875 47.265625 \nQ 14.109375 46.140625 10.015625 43.890625 \nL 10.015625 52.203125 \nQ 14.9375 54.109375 19.578125 55.046875 \nQ 24.21875 56 28.609375 56 \nQ 40.484375 56 46.34375 49.84375 \nQ 52.203125 43.703125 52.203125 31.203125 \nz\n\" id=\"DejaVuSans-61\"/>\n      <path d=\"M 56.203125 29.59375 \nL 56.203125 25.203125 \nL 14.890625 25.203125 \nQ 15.484375 15.921875 20.484375 11.0625 \nQ 25.484375 6.203125 34.421875 6.203125 \nQ 39.59375 6.203125 44.453125 7.46875 \nQ 49.3125 8.734375 54.109375 11.28125 \nL 54.109375 2.78125 \nQ 49.265625 0.734375 44.1875 -0.34375 \nQ 39.109375 -1.421875 33.890625 -1.421875 \nQ 20.796875 -1.421875 13.15625 6.1875 \nQ 5.515625 13.8125 5.515625 26.8125 \nQ 5.515625 40.234375 12.765625 48.109375 \nQ 20.015625 56 32.328125 56 \nQ 43.359375 56 49.78125 48.890625 \nQ 56.203125 41.796875 56.203125 29.59375 \nz\nM 47.21875 32.234375 \nQ 47.125 39.59375 43.09375 43.984375 \nQ 39.0625 48.390625 32.421875 48.390625 \nQ 24.90625 48.390625 20.390625 44.140625 \nQ 15.875 39.890625 15.1875 32.171875 \nz\n\" id=\"DejaVuSans-65\"/>\n      <path d=\"M 44.28125 53.078125 \nL 44.28125 44.578125 \nQ 40.484375 46.53125 36.375 47.5 \nQ 32.28125 48.484375 27.875 48.484375 \nQ 21.1875 48.484375 17.84375 46.4375 \nQ 14.5 44.390625 14.5 40.28125 \nQ 14.5 37.15625 16.890625 35.375 \nQ 19.28125 33.59375 26.515625 31.984375 \nL 29.59375 31.296875 \nQ 39.15625 29.25 43.1875 25.515625 \nQ 47.21875 21.78125 47.21875 15.09375 \nQ 47.21875 7.46875 41.1875 3.015625 \nQ 35.15625 -1.421875 24.609375 -1.421875 \nQ 20.21875 -1.421875 15.453125 -0.5625 \nQ 10.6875 0.296875 5.421875 2 \nL 5.421875 11.28125 \nQ 10.40625 8.6875 15.234375 7.390625 \nQ 20.0625 6.109375 24.8125 6.109375 \nQ 31.15625 6.109375 34.5625 8.28125 \nQ 37.984375 10.453125 37.984375 14.40625 \nQ 37.984375 18.0625 35.515625 20.015625 \nQ 33.0625 21.96875 24.703125 23.78125 \nL 21.578125 24.515625 \nQ 13.234375 26.265625 9.515625 29.90625 \nQ 5.8125 33.546875 5.8125 39.890625 \nQ 5.8125 47.609375 11.28125 51.796875 \nQ 16.75 56 26.8125 56 \nQ 31.78125 56 36.171875 55.265625 \nQ 40.578125 54.546875 44.28125 53.078125 \nz\n\" id=\"DejaVuSans-73\"/>\n      <path d=\"M 64.40625 67.28125 \nL 64.40625 56.890625 \nQ 59.421875 61.53125 53.78125 63.8125 \nQ 48.140625 66.109375 41.796875 66.109375 \nQ 29.296875 66.109375 22.65625 58.46875 \nQ 16.015625 50.828125 16.015625 36.375 \nQ 16.015625 21.96875 22.65625 14.328125 \nQ 29.296875 6.6875 41.796875 6.6875 \nQ 48.140625 6.6875 53.78125 8.984375 \nQ 59.421875 11.28125 64.40625 15.921875 \nL 64.40625 5.609375 \nQ 59.234375 2.09375 53.4375 0.328125 \nQ 47.65625 -1.421875 41.21875 -1.421875 \nQ 24.65625 -1.421875 15.125 8.703125 \nQ 5.609375 18.84375 5.609375 36.375 \nQ 5.609375 53.953125 15.125 64.078125 \nQ 24.65625 74.21875 41.21875 74.21875 \nQ 47.75 74.21875 53.53125 72.484375 \nQ 59.328125 70.75 64.40625 67.28125 \nz\n\" id=\"DejaVuSans-43\"/>\n      <path d=\"M 54.890625 33.015625 \nL 54.890625 0 \nL 45.90625 0 \nL 45.90625 32.71875 \nQ 45.90625 40.484375 42.875 44.328125 \nQ 39.84375 48.1875 33.796875 48.1875 \nQ 26.515625 48.1875 22.3125 43.546875 \nQ 18.109375 38.921875 18.109375 30.90625 \nL 18.109375 0 \nL 9.078125 0 \nL 9.078125 75.984375 \nL 18.109375 75.984375 \nL 18.109375 46.1875 \nQ 21.34375 51.125 25.703125 53.5625 \nQ 30.078125 56 35.796875 56 \nQ 45.21875 56 50.046875 50.171875 \nQ 54.890625 44.34375 54.890625 33.015625 \nz\n\" id=\"DejaVuSans-68\"/>\n      <path d=\"M 54.890625 33.015625 \nL 54.890625 0 \nL 45.90625 0 \nL 45.90625 32.71875 \nQ 45.90625 40.484375 42.875 44.328125 \nQ 39.84375 48.1875 33.796875 48.1875 \nQ 26.515625 48.1875 22.3125 43.546875 \nQ 18.109375 38.921875 18.109375 30.90625 \nL 18.109375 0 \nL 9.078125 0 \nL 9.078125 54.6875 \nL 18.109375 54.6875 \nL 18.109375 46.1875 \nQ 21.34375 51.125 25.703125 53.5625 \nQ 30.078125 56 35.796875 56 \nQ 45.21875 56 50.046875 50.171875 \nQ 54.890625 44.34375 54.890625 33.015625 \nz\n\" id=\"DejaVuSans-6e\"/>\n     </defs>\n     <g transform=\"translate(173.696094 256.416562)scale(0.1 -0.1)\">\n      <use xlink:href=\"#DejaVuSans-50\"/>\n      <use x=\"60.255859\" xlink:href=\"#DejaVuSans-6f\"/>\n      <use x=\"121.4375\" xlink:href=\"#DejaVuSans-6c\"/>\n      <use x=\"149.220703\" xlink:href=\"#DejaVuSans-69\"/>\n      <use x=\"177.003906\" xlink:href=\"#DejaVuSans-63\"/>\n      <use x=\"231.984375\" xlink:href=\"#DejaVuSans-79\"/>\n      <use x=\"291.164062\" xlink:href=\"#DejaVuSans-5f\"/>\n      <use x=\"341.164062\" xlink:href=\"#DejaVuSans-53\"/>\n      <use x=\"404.640625\" xlink:href=\"#DejaVuSans-61\"/>\n      <use x=\"465.919922\" xlink:href=\"#DejaVuSans-6c\"/>\n      <use x=\"493.703125\" xlink:href=\"#DejaVuSans-65\"/>\n      <use x=\"555.226562\" xlink:href=\"#DejaVuSans-73\"/>\n      <use x=\"607.326172\" xlink:href=\"#DejaVuSans-5f\"/>\n      <use x=\"657.326172\" xlink:href=\"#DejaVuSans-43\"/>\n      <use x=\"727.150391\" xlink:href=\"#DejaVuSans-68\"/>\n      <use x=\"790.529297\" xlink:href=\"#DejaVuSans-61\"/>\n      <use x=\"851.808594\" xlink:href=\"#DejaVuSans-6e\"/>\n      <use x=\"915.1875\" xlink:href=\"#DejaVuSans-6e\"/>\n      <use x=\"978.566406\" xlink:href=\"#DejaVuSans-65\"/>\n      <use x=\"1040.089844\" xlink:href=\"#DejaVuSans-6c\"/>\n     </g>\n    </g>\n   </g>\n   <g id=\"matplotlib.axis_2\">\n    <g id=\"ytick_1\">\n     <g id=\"line2d_10\">\n      <defs>\n       <path d=\"M 0 0 \nL -3.5 0 \n\" id=\"m99a2ca7ac3\" style=\"stroke:#000000;stroke-width:0.8;\"/>\n      </defs>\n      <g>\n       <use style=\"stroke:#000000;stroke-width:0.8;\" x=\"59.690625\" xlink:href=\"#m99a2ca7ac3\" y=\"228.14\"/>\n      </g>\n     </g>\n     <g id=\"text_11\">\n      <!-- 0 -->\n      <g transform=\"translate(46.328125 231.939219)scale(0.1 -0.1)\">\n       <use xlink:href=\"#DejaVuSans-30\"/>\n      </g>\n     </g>\n    </g>\n    <g id=\"ytick_2\">\n     <g id=\"line2d_11\">\n      <g>\n       <use style=\"stroke:#000000;stroke-width:0.8;\" x=\"59.690625\" xlink:href=\"#m99a2ca7ac3\" y=\"189.775164\"/>\n      </g>\n     </g>\n     <g id=\"text_12\">\n      <!-- 5000 -->\n      <g transform=\"translate(27.240625 193.574382)scale(0.1 -0.1)\">\n       <use xlink:href=\"#DejaVuSans-35\"/>\n       <use x=\"63.623047\" xlink:href=\"#DejaVuSans-30\"/>\n       <use x=\"127.246094\" xlink:href=\"#DejaVuSans-30\"/>\n       <use x=\"190.869141\" xlink:href=\"#DejaVuSans-30\"/>\n      </g>\n     </g>\n    </g>\n    <g id=\"ytick_3\">\n     <g id=\"line2d_12\">\n      <g>\n       <use style=\"stroke:#000000;stroke-width:0.8;\" x=\"59.690625\" xlink:href=\"#m99a2ca7ac3\" y=\"151.410327\"/>\n      </g>\n     </g>\n     <g id=\"text_13\">\n      <!-- 10000 -->\n      <g transform=\"translate(20.878125 155.209546)scale(0.1 -0.1)\">\n       <use xlink:href=\"#DejaVuSans-31\"/>\n       <use x=\"63.623047\" xlink:href=\"#DejaVuSans-30\"/>\n       <use x=\"127.246094\" xlink:href=\"#DejaVuSans-30\"/>\n       <use x=\"190.869141\" xlink:href=\"#DejaVuSans-30\"/>\n       <use x=\"254.492188\" xlink:href=\"#DejaVuSans-30\"/>\n      </g>\n     </g>\n    </g>\n    <g id=\"ytick_4\">\n     <g id=\"line2d_13\">\n      <g>\n       <use style=\"stroke:#000000;stroke-width:0.8;\" x=\"59.690625\" xlink:href=\"#m99a2ca7ac3\" y=\"113.045491\"/>\n      </g>\n     </g>\n     <g id=\"text_14\">\n      <!-- 15000 -->\n      <g transform=\"translate(20.878125 116.844709)scale(0.1 -0.1)\">\n       <use xlink:href=\"#DejaVuSans-31\"/>\n       <use x=\"63.623047\" xlink:href=\"#DejaVuSans-35\"/>\n       <use x=\"127.246094\" xlink:href=\"#DejaVuSans-30\"/>\n       <use x=\"190.869141\" xlink:href=\"#DejaVuSans-30\"/>\n       <use x=\"254.492188\" xlink:href=\"#DejaVuSans-30\"/>\n      </g>\n     </g>\n    </g>\n    <g id=\"ytick_5\">\n     <g id=\"line2d_14\">\n      <g>\n       <use style=\"stroke:#000000;stroke-width:0.8;\" x=\"59.690625\" xlink:href=\"#m99a2ca7ac3\" y=\"74.680654\"/>\n      </g>\n     </g>\n     <g id=\"text_15\">\n      <!-- 20000 -->\n      <g transform=\"translate(20.878125 78.479873)scale(0.1 -0.1)\">\n       <use xlink:href=\"#DejaVuSans-32\"/>\n       <use x=\"63.623047\" xlink:href=\"#DejaVuSans-30\"/>\n       <use x=\"127.246094\" xlink:href=\"#DejaVuSans-30\"/>\n       <use x=\"190.869141\" xlink:href=\"#DejaVuSans-30\"/>\n       <use x=\"254.492188\" xlink:href=\"#DejaVuSans-30\"/>\n      </g>\n     </g>\n    </g>\n    <g id=\"ytick_6\">\n     <g id=\"line2d_15\">\n      <g>\n       <use style=\"stroke:#000000;stroke-width:0.8;\" x=\"59.690625\" xlink:href=\"#m99a2ca7ac3\" y=\"36.315818\"/>\n      </g>\n     </g>\n     <g id=\"text_16\">\n      <!-- 25000 -->\n      <g transform=\"translate(20.878125 40.115036)scale(0.1 -0.1)\">\n       <use xlink:href=\"#DejaVuSans-32\"/>\n       <use x=\"63.623047\" xlink:href=\"#DejaVuSans-35\"/>\n       <use x=\"127.246094\" xlink:href=\"#DejaVuSans-30\"/>\n       <use x=\"190.869141\" xlink:href=\"#DejaVuSans-30\"/>\n       <use x=\"254.492188\" xlink:href=\"#DejaVuSans-30\"/>\n      </g>\n     </g>\n    </g>\n    <g id=\"text_17\">\n     <!-- count -->\n     <defs>\n      <path d=\"M 8.5 21.578125 \nL 8.5 54.6875 \nL 17.484375 54.6875 \nL 17.484375 21.921875 \nQ 17.484375 14.15625 20.5 10.265625 \nQ 23.53125 6.390625 29.59375 6.390625 \nQ 36.859375 6.390625 41.078125 11.03125 \nQ 45.3125 15.671875 45.3125 23.6875 \nL 45.3125 54.6875 \nL 54.296875 54.6875 \nL 54.296875 0 \nL 45.3125 0 \nL 45.3125 8.40625 \nQ 42.046875 3.421875 37.71875 1 \nQ 33.40625 -1.421875 27.6875 -1.421875 \nQ 18.265625 -1.421875 13.375 4.4375 \nQ 8.5 10.296875 8.5 21.578125 \nz\nM 31.109375 56 \nz\n\" id=\"DejaVuSans-75\"/>\n      <path d=\"M 18.3125 70.21875 \nL 18.3125 54.6875 \nL 36.8125 54.6875 \nL 36.8125 47.703125 \nL 18.3125 47.703125 \nL 18.3125 18.015625 \nQ 18.3125 11.328125 20.140625 9.421875 \nQ 21.96875 7.515625 27.59375 7.515625 \nL 36.8125 7.515625 \nL 36.8125 0 \nL 27.59375 0 \nQ 17.1875 0 13.234375 3.875 \nQ 9.28125 7.765625 9.28125 18.015625 \nL 9.28125 47.703125 \nL 2.6875 47.703125 \nL 2.6875 54.6875 \nL 9.28125 54.6875 \nL 9.28125 70.21875 \nz\n\" id=\"DejaVuSans-74\"/>\n     </defs>\n     <g transform=\"translate(14.798438 133.52625)rotate(-90)scale(0.1 -0.1)\">\n      <use xlink:href=\"#DejaVuSans-63\"/>\n      <use x=\"54.980469\" xlink:href=\"#DejaVuSans-6f\"/>\n      <use x=\"116.162109\" xlink:href=\"#DejaVuSans-75\"/>\n      <use x=\"179.541016\" xlink:href=\"#DejaVuSans-6e\"/>\n      <use x=\"242.919922\" xlink:href=\"#DejaVuSans-74\"/>\n     </g>\n    </g>\n   </g>\n   <g id=\"patch_12\">\n    <path d=\"M 59.690625 228.14 \nL 59.690625 10.7 \n\" style=\"fill:none;stroke:#000000;stroke-linecap:square;stroke-linejoin:miter;stroke-width:0.8;\"/>\n   </g>\n   <g id=\"patch_13\">\n    <path d=\"M 394.490625 228.14 \nL 394.490625 10.7 \n\" style=\"fill:none;stroke:#000000;stroke-linecap:square;stroke-linejoin:miter;stroke-width:0.8;\"/>\n   </g>\n   <g id=\"patch_14\">\n    <path d=\"M 59.690625 228.14 \nL 394.490625 228.14 \n\" style=\"fill:none;stroke:#000000;stroke-linecap:square;stroke-linejoin:miter;stroke-width:0.8;\"/>\n   </g>\n   <g id=\"patch_15\">\n    <path d=\"M 59.690625 10.7 \nL 394.490625 10.7 \n\" style=\"fill:none;stroke:#000000;stroke-linecap:square;stroke-linejoin:miter;stroke-width:0.8;\"/>\n   </g>\n  </g>\n </g>\n <defs>\n  <clipPath id=\"pc8b53cf386\">\n   <rect height=\"217.44\" width=\"334.8\" x=\"59.690625\" y=\"10.7\"/>\n  </clipPath>\n </defs>\n</svg>\n",
      "image/png": "[encoded data removed]"
     },
     "metadata": {}
    }
   ],
   "source": [
    "sns.countplot(train_psc)"
   ]
  },
  {
   "cell_type": "code",
   "execution_count": 15,
   "metadata": {},
   "outputs": [
    {
     "output_type": "execute_result",
     "data": {
      "text/plain": [
       "       Unnamed: 0     id  Gender  Age  Driving_License  Region_Code  \\\n",
       "0               0      0       1   41              1.0          6.0   \n",
       "1               1      1       0   28              1.0         28.0   \n",
       "2               2      2       0   32              1.0          8.0   \n",
       "3               3      3       1   36              1.0         28.0   \n",
       "4               4      4       0   32              1.0         15.0   \n",
       "...           ...    ...     ...  ...              ...          ...   \n",
       "76216       76216  76216       0   46              1.0          3.0   \n",
       "76217       76217  76217       0   37              1.0          0.0   \n",
       "76218       76218  76218       1   33              1.0         49.0   \n",
       "76219       76219  76219       1   72              1.0         28.0   \n",
       "76220       76220  76220       1   55              1.0          0.0   \n",
       "\n",
       "       Previously_Insured Vehicle_Age Vehicle_Damage  Annual_Premium  \\\n",
       "0                       0    1-2 Year            Yes         36438.0   \n",
       "1                       1    < 1 Year             No         44632.0   \n",
       "2                       0    1-2 Year            Yes         36838.0   \n",
       "3                       1    1-2 Year             No         30074.0   \n",
       "4                       0    < 1 Year            Yes         38230.0   \n",
       "...                   ...         ...            ...             ...   \n",
       "76216                   0   > 2 Years            Yes         30714.0   \n",
       "76217                   0    1-2 Year             No          2630.0   \n",
       "76218                   1    < 1 Year             No         33553.0   \n",
       "76219                   0   > 2 Years            Yes         34283.0   \n",
       "76220                   0    1-2 Year            Yes          2630.0   \n",
       "\n",
       "       Policy_Sales_Channel  Vintage  Response  way  \n",
       "0                         3      119         0  raw  \n",
       "1                         1       91         0  raw  \n",
       "2                         3       83         0  raw  \n",
       "3                         6      273         0  raw  \n",
       "4                         1      297         0  raw  \n",
       "...                     ...      ...       ...  ...  \n",
       "76216                     2      148         0  raw  \n",
       "76217                     0      143         0  raw  \n",
       "76218                     1      267         0  raw  \n",
       "76219                     3      284         0  raw  \n",
       "76220                     2      154         0  raw  \n",
       "\n",
       "[76221 rows x 14 columns]"
      ],
      "text/html": "<div>\n<style scoped>\n    .dataframe tbody tr th:only-of-type {\n        vertical-align: middle;\n    }\n\n    .dataframe tbody tr th {\n        vertical-align: top;\n    }\n\n    .dataframe thead th {\n        text-align: right;\n    }\n</style>\n<table border=\"1\" class=\"dataframe\">\n  <thead>\n    <tr style=\"text-align: right;\">\n      <th></th>\n      <th>Unnamed: 0</th>\n      <th>id</th>\n      <th>Gender</th>\n      <th>Age</th>\n      <th>Driving_License</th>\n      <th>Region_Code</th>\n      <th>Previously_Insured</th>\n      <th>Vehicle_Age</th>\n      <th>Vehicle_Damage</th>\n      <th>Annual_Premium</th>\n      <th>Policy_Sales_Channel</th>\n      <th>Vintage</th>\n      <th>Response</th>\n      <th>way</th>\n    </tr>\n  </thead>\n  <tbody>\n    <tr>\n      <th>0</th>\n      <td>0</td>\n      <td>0</td>\n      <td>1</td>\n      <td>41</td>\n      <td>1.0</td>\n      <td>6.0</td>\n      <td>0</td>\n      <td>1-2 Year</td>\n      <td>Yes</td>\n      <td>36438.0</td>\n      <td>3</td>\n      <td>119</td>\n      <td>0</td>\n      <td>raw</td>\n    </tr>\n    <tr>\n      <th>1</th>\n      <td>1</td>\n      <td>1</td>\n      <td>0</td>\n      <td>28</td>\n      <td>1.0</td>\n      <td>28.0</td>\n      <td>1</td>\n      <td>&lt; 1 Year</td>\n      <td>No</td>\n      <td>44632.0</td>\n      <td>1</td>\n      <td>91</td>\n      <td>0</td>\n      <td>raw</td>\n    </tr>\n    <tr>\n      <th>2</th>\n      <td>2</td>\n      <td>2</td>\n      <td>0</td>\n      <td>32</td>\n      <td>1.0</td>\n      <td>8.0</td>\n      <td>0</td>\n      <td>1-2 Year</td>\n      <td>Yes</td>\n      <td>36838.0</td>\n      <td>3</td>\n      <td>83</td>\n      <td>0</td>\n      <td>raw</td>\n    </tr>\n    <tr>\n      <th>3</th>\n      <td>3</td>\n      <td>3</td>\n      <td>1</td>\n      <td>36</td>\n      <td>1.0</td>\n      <td>28.0</td>\n      <td>1</td>\n      <td>1-2 Year</td>\n      <td>No</td>\n      <td>30074.0</td>\n      <td>6</td>\n      <td>273</td>\n      <td>0</td>\n      <td>raw</td>\n    </tr>\n    <tr>\n      <th>4</th>\n      <td>4</td>\n      <td>4</td>\n      <td>0</td>\n      <td>32</td>\n      <td>1.0</td>\n      <td>15.0</td>\n      <td>0</td>\n      <td>&lt; 1 Year</td>\n      <td>Yes</td>\n      <td>38230.0</td>\n      <td>1</td>\n      <td>297</td>\n      <td>0</td>\n      <td>raw</td>\n    </tr>\n    <tr>\n      <th>...</th>\n      <td>...</td>\n      <td>...</td>\n      <td>...</td>\n      <td>...</td>\n      <td>...</td>\n      <td>...</td>\n      <td>...</td>\n      <td>...</td>\n      <td>...</td>\n      <td>...</td>\n      <td>...</td>\n      <td>...</td>\n      <td>...</td>\n      <td>...</td>\n    </tr>\n    <tr>\n      <th>76216</th>\n      <td>76216</td>\n      <td>76216</td>\n      <td>0</td>\n      <td>46</td>\n      <td>1.0</td>\n      <td>3.0</td>\n      <td>0</td>\n      <td>&gt; 2 Years</td>\n      <td>Yes</td>\n      <td>30714.0</td>\n      <td>2</td>\n      <td>148</td>\n      <td>0</td>\n      <td>raw</td>\n    </tr>\n    <tr>\n      <th>76217</th>\n      <td>76217</td>\n      <td>76217</td>\n      <td>0</td>\n      <td>37</td>\n      <td>1.0</td>\n      <td>0.0</td>\n      <td>0</td>\n      <td>1-2 Year</td>\n      <td>No</td>\n      <td>2630.0</td>\n      <td>0</td>\n      <td>143</td>\n      <td>0</td>\n      <td>raw</td>\n    </tr>\n    <tr>\n      <th>76218</th>\n      <td>76218</td>\n      <td>76218</td>\n      <td>1</td>\n      <td>33</td>\n      <td>1.0</td>\n      <td>49.0</td>\n      <td>1</td>\n      <td>&lt; 1 Year</td>\n      <td>No</td>\n      <td>33553.0</td>\n      <td>1</td>\n      <td>267</td>\n      <td>0</td>\n      <td>raw</td>\n    </tr>\n    <tr>\n      <th>76219</th>\n      <td>76219</td>\n      <td>76219</td>\n      <td>1</td>\n      <td>72</td>\n      <td>1.0</td>\n      <td>28.0</td>\n      <td>0</td>\n      <td>&gt; 2 Years</td>\n      <td>Yes</td>\n      <td>34283.0</td>\n      <td>3</td>\n      <td>284</td>\n      <td>0</td>\n      <td>raw</td>\n    </tr>\n    <tr>\n      <th>76220</th>\n      <td>76220</td>\n      <td>76220</td>\n      <td>1</td>\n      <td>55</td>\n      <td>1.0</td>\n      <td>0.0</td>\n      <td>0</td>\n      <td>1-2 Year</td>\n      <td>Yes</td>\n      <td>2630.0</td>\n      <td>2</td>\n      <td>154</td>\n      <td>0</td>\n      <td>raw</td>\n    </tr>\n  </tbody>\n</table>\n<p>76221 rows × 14 columns</p>\n</div>"
     },
     "metadata": {},
     "execution_count": 15
    }
   ],
   "source": [
    "df_train['Policy_Sales_Channel'] = train_psc\n",
    "df_train"
   ]
  },
  {
   "source": [
    "## 同样Region_Code进行处理\n"
   ],
   "cell_type": "markdown",
   "metadata": {}
  },
  {
   "cell_type": "code",
   "execution_count": 16,
   "metadata": {},
   "outputs": [
    {
     "output_type": "execute_result",
     "data": {
      "text/plain": [
       "1210"
      ]
     },
     "metadata": {},
     "execution_count": 16
    }
   ],
   "source": [
    "rc_min = np.int(np.min(df_train['Region_Code']))\n",
    "rc_max = np.int(np.max(df_train['Region_Code']))\n",
    "rc_counts = [ np.sum(df_train['Region_Code'] == i) for i in range(rc_min, rc_max+1)]\n",
    "psc_sort = psc_counts.copy()\n",
    "psc_sort.sort(reverse=True)\n",
    "psc_threshold = psc_sort[7]\n",
    "psc_threshold"
   ]
  },
  {
   "cell_type": "code",
   "execution_count": 17,
   "metadata": {},
   "outputs": [
    {
     "output_type": "execute_result",
     "data": {
      "text/plain": [
       "       Unnamed: 0     id  Gender  Age  Driving_License  Region_Code  \\\n",
       "0               0      0       1   41              1.0          6.0   \n",
       "1               1      1       0   28              1.0         28.0   \n",
       "2               2      2       0   32              1.0          8.0   \n",
       "3               3      3       1   36              1.0         28.0   \n",
       "4               4      4       0   32              1.0         15.0   \n",
       "...           ...    ...     ...  ...              ...          ...   \n",
       "76216       76216  76216       0   46              1.0          3.0   \n",
       "76217       76217  76217       0   37              1.0          0.0   \n",
       "76218       76218  76218       1   33              1.0         49.0   \n",
       "76219       76219  76219       1   72              1.0         28.0   \n",
       "76220       76220  76220       1   55              1.0          0.0   \n",
       "\n",
       "       Previously_Insured Vehicle_Age Vehicle_Damage  Annual_Premium  \\\n",
       "0                       0    1-2 Year            Yes         36438.0   \n",
       "1                       1    < 1 Year             No         44632.0   \n",
       "2                       0    1-2 Year            Yes         36838.0   \n",
       "3                       1    1-2 Year             No         30074.0   \n",
       "4                       0    < 1 Year            Yes         38230.0   \n",
       "...                   ...         ...            ...             ...   \n",
       "76216                   0   > 2 Years            Yes         30714.0   \n",
       "76217                   0    1-2 Year             No          2630.0   \n",
       "76218                   1    < 1 Year             No         33553.0   \n",
       "76219                   0   > 2 Years            Yes         34283.0   \n",
       "76220                   0    1-2 Year            Yes          2630.0   \n",
       "\n",
       "       Policy_Sales_Channel  Vintage  Response  way  \n",
       "0                         3      119         0  raw  \n",
       "1                         1       91         0  raw  \n",
       "2                         3       83         0  raw  \n",
       "3                         6      273         0  raw  \n",
       "4                         1      297         0  raw  \n",
       "...                     ...      ...       ...  ...  \n",
       "76216                     2      148         0  raw  \n",
       "76217                     0      143         0  raw  \n",
       "76218                     1      267         0  raw  \n",
       "76219                     3      284         0  raw  \n",
       "76220                     2      154         0  raw  \n",
       "\n",
       "[76221 rows x 14 columns]"
      ],
      "text/html": "<div>\n<style scoped>\n    .dataframe tbody tr th:only-of-type {\n        vertical-align: middle;\n    }\n\n    .dataframe tbody tr th {\n        vertical-align: top;\n    }\n\n    .dataframe thead th {\n        text-align: right;\n    }\n</style>\n<table border=\"1\" class=\"dataframe\">\n  <thead>\n    <tr style=\"text-align: right;\">\n      <th></th>\n      <th>Unnamed: 0</th>\n      <th>id</th>\n      <th>Gender</th>\n      <th>Age</th>\n      <th>Driving_License</th>\n      <th>Region_Code</th>\n      <th>Previously_Insured</th>\n      <th>Vehicle_Age</th>\n      <th>Vehicle_Damage</th>\n      <th>Annual_Premium</th>\n      <th>Policy_Sales_Channel</th>\n      <th>Vintage</th>\n      <th>Response</th>\n      <th>way</th>\n    </tr>\n  </thead>\n  <tbody>\n    <tr>\n      <th>0</th>\n      <td>0</td>\n      <td>0</td>\n      <td>1</td>\n      <td>41</td>\n      <td>1.0</td>\n      <td>6.0</td>\n      <td>0</td>\n      <td>1-2 Year</td>\n      <td>Yes</td>\n      <td>36438.0</td>\n      <td>3</td>\n      <td>119</td>\n      <td>0</td>\n      <td>raw</td>\n    </tr>\n    <tr>\n      <th>1</th>\n      <td>1</td>\n      <td>1</td>\n      <td>0</td>\n      <td>28</td>\n      <td>1.0</td>\n      <td>28.0</td>\n      <td>1</td>\n      <td>&lt; 1 Year</td>\n      <td>No</td>\n      <td>44632.0</td>\n      <td>1</td>\n      <td>91</td>\n      <td>0</td>\n      <td>raw</td>\n    </tr>\n    <tr>\n      <th>2</th>\n      <td>2</td>\n      <td>2</td>\n      <td>0</td>\n      <td>32</td>\n      <td>1.0</td>\n      <td>8.0</td>\n      <td>0</td>\n      <td>1-2 Year</td>\n      <td>Yes</td>\n      <td>36838.0</td>\n      <td>3</td>\n      <td>83</td>\n      <td>0</td>\n      <td>raw</td>\n    </tr>\n    <tr>\n      <th>3</th>\n      <td>3</td>\n      <td>3</td>\n      <td>1</td>\n      <td>36</td>\n      <td>1.0</td>\n      <td>28.0</td>\n      <td>1</td>\n      <td>1-2 Year</td>\n      <td>No</td>\n      <td>30074.0</td>\n      <td>6</td>\n      <td>273</td>\n      <td>0</td>\n      <td>raw</td>\n    </tr>\n    <tr>\n      <th>4</th>\n      <td>4</td>\n      <td>4</td>\n      <td>0</td>\n      <td>32</td>\n      <td>1.0</td>\n      <td>15.0</td>\n      <td>0</td>\n      <td>&lt; 1 Year</td>\n      <td>Yes</td>\n      <td>38230.0</td>\n      <td>1</td>\n      <td>297</td>\n      <td>0</td>\n      <td>raw</td>\n    </tr>\n    <tr>\n      <th>...</th>\n      <td>...</td>\n      <td>...</td>\n      <td>...</td>\n      <td>...</td>\n      <td>...</td>\n      <td>...</td>\n      <td>...</td>\n      <td>...</td>\n      <td>...</td>\n      <td>...</td>\n      <td>...</td>\n      <td>...</td>\n      <td>...</td>\n      <td>...</td>\n    </tr>\n    <tr>\n      <th>76216</th>\n      <td>76216</td>\n      <td>76216</td>\n      <td>0</td>\n      <td>46</td>\n      <td>1.0</td>\n      <td>3.0</td>\n      <td>0</td>\n      <td>&gt; 2 Years</td>\n      <td>Yes</td>\n      <td>30714.0</td>\n      <td>2</td>\n      <td>148</td>\n      <td>0</td>\n      <td>raw</td>\n    </tr>\n    <tr>\n      <th>76217</th>\n      <td>76217</td>\n      <td>76217</td>\n      <td>0</td>\n      <td>37</td>\n      <td>1.0</td>\n      <td>0.0</td>\n      <td>0</td>\n      <td>1-2 Year</td>\n      <td>No</td>\n      <td>2630.0</td>\n      <td>0</td>\n      <td>143</td>\n      <td>0</td>\n      <td>raw</td>\n    </tr>\n    <tr>\n      <th>76218</th>\n      <td>76218</td>\n      <td>76218</td>\n      <td>1</td>\n      <td>33</td>\n      <td>1.0</td>\n      <td>49.0</td>\n      <td>1</td>\n      <td>&lt; 1 Year</td>\n      <td>No</td>\n      <td>33553.0</td>\n      <td>1</td>\n      <td>267</td>\n      <td>0</td>\n      <td>raw</td>\n    </tr>\n    <tr>\n      <th>76219</th>\n      <td>76219</td>\n      <td>76219</td>\n      <td>1</td>\n      <td>72</td>\n      <td>1.0</td>\n      <td>28.0</td>\n      <td>0</td>\n      <td>&gt; 2 Years</td>\n      <td>Yes</td>\n      <td>34283.0</td>\n      <td>3</td>\n      <td>284</td>\n      <td>0</td>\n      <td>raw</td>\n    </tr>\n    <tr>\n      <th>76220</th>\n      <td>76220</td>\n      <td>76220</td>\n      <td>1</td>\n      <td>55</td>\n      <td>1.0</td>\n      <td>0.0</td>\n      <td>0</td>\n      <td>1-2 Year</td>\n      <td>Yes</td>\n      <td>2630.0</td>\n      <td>2</td>\n      <td>154</td>\n      <td>0</td>\n      <td>raw</td>\n    </tr>\n  </tbody>\n</table>\n<p>76221 rows × 14 columns</p>\n</div>"
     },
     "metadata": {},
     "execution_count": 17
    }
   ],
   "source": [
    "df_train"
   ]
  },
  {
   "cell_type": "code",
   "execution_count": 18,
   "metadata": {},
   "outputs": [],
   "source": [
    "df_train['Policy_Sales_Channel'] = df_train['Policy_Sales_Channel'].astype('str')"
   ]
  },
  {
   "cell_type": "code",
   "execution_count": 19,
   "metadata": {},
   "outputs": [
    {
     "output_type": "execute_result",
     "data": {
      "text/plain": [
       "       Unnamed: 0     id  Gender  Age  Driving_License  Region_Code  \\\n",
       "0               0      0       1   41              1.0          6.0   \n",
       "1               1      1       0   28              1.0         28.0   \n",
       "2               2      2       0   32              1.0          8.0   \n",
       "3               3      3       1   36              1.0         28.0   \n",
       "4               4      4       0   32              1.0         15.0   \n",
       "...           ...    ...     ...  ...              ...          ...   \n",
       "76216       76216  76216       0   46              1.0          3.0   \n",
       "76217       76217  76217       0   37              1.0          0.0   \n",
       "76218       76218  76218       1   33              1.0         49.0   \n",
       "76219       76219  76219       1   72              1.0         28.0   \n",
       "76220       76220  76220       1   55              1.0          0.0   \n",
       "\n",
       "       Previously_Insured  Annual_Premium  Vintage  Response  ...  \\\n",
       "0                       0         36438.0      119         0  ...   \n",
       "1                       1         44632.0       91         0  ...   \n",
       "2                       0         36838.0       83         0  ...   \n",
       "3                       1         30074.0      273         0  ...   \n",
       "4                       0         38230.0      297         0  ...   \n",
       "...                   ...             ...      ...       ...  ...   \n",
       "76216                   0         30714.0      148         0  ...   \n",
       "76217                   0          2630.0      143         0  ...   \n",
       "76218                   1         33553.0      267         0  ...   \n",
       "76219                   0         34283.0      284         0  ...   \n",
       "76220                   0          2630.0      154         0  ...   \n",
       "\n",
       "       Vehicle_Damage_Yes  Policy_Sales_Channel_1  Policy_Sales_Channel_2  \\\n",
       "0                       1                       0                       0   \n",
       "1                       0                       1                       0   \n",
       "2                       1                       0                       0   \n",
       "3                       0                       0                       0   \n",
       "4                       1                       1                       0   \n",
       "...                   ...                     ...                     ...   \n",
       "76216                   1                       0                       1   \n",
       "76217                   0                       0                       0   \n",
       "76218                   0                       1                       0   \n",
       "76219                   1                       0                       0   \n",
       "76220                   1                       0                       1   \n",
       "\n",
       "       Policy_Sales_Channel_3  Policy_Sales_Channel_4  Policy_Sales_Channel_5  \\\n",
       "0                           1                       0                       0   \n",
       "1                           0                       0                       0   \n",
       "2                           1                       0                       0   \n",
       "3                           0                       0                       0   \n",
       "4                           0                       0                       0   \n",
       "...                       ...                     ...                     ...   \n",
       "76216                       0                       0                       0   \n",
       "76217                       0                       0                       0   \n",
       "76218                       0                       0                       0   \n",
       "76219                       1                       0                       0   \n",
       "76220                       0                       0                       0   \n",
       "\n",
       "       Policy_Sales_Channel_6  Policy_Sales_Channel_7  Policy_Sales_Channel_8  \\\n",
       "0                           0                       0                       0   \n",
       "1                           0                       0                       0   \n",
       "2                           0                       0                       0   \n",
       "3                           1                       0                       0   \n",
       "4                           0                       0                       0   \n",
       "...                       ...                     ...                     ...   \n",
       "76216                       0                       0                       0   \n",
       "76217                       0                       0                       0   \n",
       "76218                       0                       0                       0   \n",
       "76219                       0                       0                       0   \n",
       "76220                       0                       0                       0   \n",
       "\n",
       "       way_test  \n",
       "0             0  \n",
       "1             0  \n",
       "2             0  \n",
       "3             0  \n",
       "4             0  \n",
       "...         ...  \n",
       "76216         0  \n",
       "76217         0  \n",
       "76218         0  \n",
       "76219         0  \n",
       "76220         0  \n",
       "\n",
       "[76221 rows x 22 columns]"
      ],
      "text/html": "<div>\n<style scoped>\n    .dataframe tbody tr th:only-of-type {\n        vertical-align: middle;\n    }\n\n    .dataframe tbody tr th {\n        vertical-align: top;\n    }\n\n    .dataframe thead th {\n        text-align: right;\n    }\n</style>\n<table border=\"1\" class=\"dataframe\">\n  <thead>\n    <tr style=\"text-align: right;\">\n      <th></th>\n      <th>Unnamed: 0</th>\n      <th>id</th>\n      <th>Gender</th>\n      <th>Age</th>\n      <th>Driving_License</th>\n      <th>Region_Code</th>\n      <th>Previously_Insured</th>\n      <th>Annual_Premium</th>\n      <th>Vintage</th>\n      <th>Response</th>\n      <th>...</th>\n      <th>Vehicle_Damage_Yes</th>\n      <th>Policy_Sales_Channel_1</th>\n      <th>Policy_Sales_Channel_2</th>\n      <th>Policy_Sales_Channel_3</th>\n      <th>Policy_Sales_Channel_4</th>\n      <th>Policy_Sales_Channel_5</th>\n      <th>Policy_Sales_Channel_6</th>\n      <th>Policy_Sales_Channel_7</th>\n      <th>Policy_Sales_Channel_8</th>\n      <th>way_test</th>\n    </tr>\n  </thead>\n  <tbody>\n    <tr>\n      <th>0</th>\n      <td>0</td>\n      <td>0</td>\n      <td>1</td>\n      <td>41</td>\n      <td>1.0</td>\n      <td>6.0</td>\n      <td>0</td>\n      <td>36438.0</td>\n      <td>119</td>\n      <td>0</td>\n      <td>...</td>\n      <td>1</td>\n      <td>0</td>\n      <td>0</td>\n      <td>1</td>\n      <td>0</td>\n      <td>0</td>\n      <td>0</td>\n      <td>0</td>\n      <td>0</td>\n      <td>0</td>\n    </tr>\n    <tr>\n      <th>1</th>\n      <td>1</td>\n      <td>1</td>\n      <td>0</td>\n      <td>28</td>\n      <td>1.0</td>\n      <td>28.0</td>\n      <td>1</td>\n      <td>44632.0</td>\n      <td>91</td>\n      <td>0</td>\n      <td>...</td>\n      <td>0</td>\n      <td>1</td>\n      <td>0</td>\n      <td>0</td>\n      <td>0</td>\n      <td>0</td>\n      <td>0</td>\n      <td>0</td>\n      <td>0</td>\n      <td>0</td>\n    </tr>\n    <tr>\n      <th>2</th>\n      <td>2</td>\n      <td>2</td>\n      <td>0</td>\n      <td>32</td>\n      <td>1.0</td>\n      <td>8.0</td>\n      <td>0</td>\n      <td>36838.0</td>\n      <td>83</td>\n      <td>0</td>\n      <td>...</td>\n      <td>1</td>\n      <td>0</td>\n      <td>0</td>\n      <td>1</td>\n      <td>0</td>\n      <td>0</td>\n      <td>0</td>\n      <td>0</td>\n      <td>0</td>\n      <td>0</td>\n    </tr>\n    <tr>\n      <th>3</th>\n      <td>3</td>\n      <td>3</td>\n      <td>1</td>\n      <td>36</td>\n      <td>1.0</td>\n      <td>28.0</td>\n      <td>1</td>\n      <td>30074.0</td>\n      <td>273</td>\n      <td>0</td>\n      <td>...</td>\n      <td>0</td>\n      <td>0</td>\n      <td>0</td>\n      <td>0</td>\n      <td>0</td>\n      <td>0</td>\n      <td>1</td>\n      <td>0</td>\n      <td>0</td>\n      <td>0</td>\n    </tr>\n    <tr>\n      <th>4</th>\n      <td>4</td>\n      <td>4</td>\n      <td>0</td>\n      <td>32</td>\n      <td>1.0</td>\n      <td>15.0</td>\n      <td>0</td>\n      <td>38230.0</td>\n      <td>297</td>\n      <td>0</td>\n      <td>...</td>\n      <td>1</td>\n      <td>1</td>\n      <td>0</td>\n      <td>0</td>\n      <td>0</td>\n      <td>0</td>\n      <td>0</td>\n      <td>0</td>\n      <td>0</td>\n      <td>0</td>\n    </tr>\n    <tr>\n      <th>...</th>\n      <td>...</td>\n      <td>...</td>\n      <td>...</td>\n      <td>...</td>\n      <td>...</td>\n      <td>...</td>\n      <td>...</td>\n      <td>...</td>\n      <td>...</td>\n      <td>...</td>\n      <td>...</td>\n      <td>...</td>\n      <td>...</td>\n      <td>...</td>\n      <td>...</td>\n      <td>...</td>\n      <td>...</td>\n      <td>...</td>\n      <td>...</td>\n      <td>...</td>\n      <td>...</td>\n    </tr>\n    <tr>\n      <th>76216</th>\n      <td>76216</td>\n      <td>76216</td>\n      <td>0</td>\n      <td>46</td>\n      <td>1.0</td>\n      <td>3.0</td>\n      <td>0</td>\n      <td>30714.0</td>\n      <td>148</td>\n      <td>0</td>\n      <td>...</td>\n      <td>1</td>\n      <td>0</td>\n      <td>1</td>\n      <td>0</td>\n      <td>0</td>\n      <td>0</td>\n      <td>0</td>\n      <td>0</td>\n      <td>0</td>\n      <td>0</td>\n    </tr>\n    <tr>\n      <th>76217</th>\n      <td>76217</td>\n      <td>76217</td>\n      <td>0</td>\n      <td>37</td>\n      <td>1.0</td>\n      <td>0.0</td>\n      <td>0</td>\n      <td>2630.0</td>\n      <td>143</td>\n      <td>0</td>\n      <td>...</td>\n      <td>0</td>\n      <td>0</td>\n      <td>0</td>\n      <td>0</td>\n      <td>0</td>\n      <td>0</td>\n      <td>0</td>\n      <td>0</td>\n      <td>0</td>\n      <td>0</td>\n    </tr>\n    <tr>\n      <th>76218</th>\n      <td>76218</td>\n      <td>76218</td>\n      <td>1</td>\n      <td>33</td>\n      <td>1.0</td>\n      <td>49.0</td>\n      <td>1</td>\n      <td>33553.0</td>\n      <td>267</td>\n      <td>0</td>\n      <td>...</td>\n      <td>0</td>\n      <td>1</td>\n      <td>0</td>\n      <td>0</td>\n      <td>0</td>\n      <td>0</td>\n      <td>0</td>\n      <td>0</td>\n      <td>0</td>\n      <td>0</td>\n    </tr>\n    <tr>\n      <th>76219</th>\n      <td>76219</td>\n      <td>76219</td>\n      <td>1</td>\n      <td>72</td>\n      <td>1.0</td>\n      <td>28.0</td>\n      <td>0</td>\n      <td>34283.0</td>\n      <td>284</td>\n      <td>0</td>\n      <td>...</td>\n      <td>1</td>\n      <td>0</td>\n      <td>0</td>\n      <td>1</td>\n      <td>0</td>\n      <td>0</td>\n      <td>0</td>\n      <td>0</td>\n      <td>0</td>\n      <td>0</td>\n    </tr>\n    <tr>\n      <th>76220</th>\n      <td>76220</td>\n      <td>76220</td>\n      <td>1</td>\n      <td>55</td>\n      <td>1.0</td>\n      <td>0.0</td>\n      <td>0</td>\n      <td>2630.0</td>\n      <td>154</td>\n      <td>0</td>\n      <td>...</td>\n      <td>1</td>\n      <td>0</td>\n      <td>1</td>\n      <td>0</td>\n      <td>0</td>\n      <td>0</td>\n      <td>0</td>\n      <td>0</td>\n      <td>0</td>\n      <td>0</td>\n    </tr>\n  </tbody>\n</table>\n<p>76221 rows × 22 columns</p>\n</div>"
     },
     "metadata": {},
     "execution_count": 19
    }
   ],
   "source": [
    "df_train=pd.get_dummies(df_train,drop_first=True)\n",
    "df_train"
   ]
  },
  {
   "cell_type": "code",
   "execution_count": 20,
   "metadata": {},
   "outputs": [
    {
     "output_type": "execute_result",
     "data": {
      "text/plain": [
       "       Unnamed: 0  Gender  Age  Driving_License  Region_Code  \\\n",
       "0               0       1   41              1.0          6.0   \n",
       "1               1       0   28              1.0         28.0   \n",
       "2               2       0   32              1.0          8.0   \n",
       "3               3       1   36              1.0         28.0   \n",
       "4               4       0   32              1.0         15.0   \n",
       "...           ...     ...  ...              ...          ...   \n",
       "76216       76216       0   46              1.0          3.0   \n",
       "76217       76217       0   37              1.0          0.0   \n",
       "76218       76218       1   33              1.0         49.0   \n",
       "76219       76219       1   72              1.0         28.0   \n",
       "76220       76220       1   55              1.0          0.0   \n",
       "\n",
       "       Previously_Insured  Annual_Premium  Vintage  Response  \\\n",
       "0                       0         36438.0      119         0   \n",
       "1                       1         44632.0       91         0   \n",
       "2                       0         36838.0       83         0   \n",
       "3                       1         30074.0      273         0   \n",
       "4                       0         38230.0      297         0   \n",
       "...                   ...             ...      ...       ...   \n",
       "76216                   0         30714.0      148         0   \n",
       "76217                   0          2630.0      143         0   \n",
       "76218                   1         33553.0      267         0   \n",
       "76219                   0         34283.0      284         0   \n",
       "76220                   0          2630.0      154         0   \n",
       "\n",
       "       Vehicle_Age_1_Year_down  ...  Vehicle_Damage_Yes  \\\n",
       "0                            0  ...                   1   \n",
       "1                            1  ...                   0   \n",
       "2                            0  ...                   1   \n",
       "3                            0  ...                   0   \n",
       "4                            1  ...                   1   \n",
       "...                        ...  ...                 ...   \n",
       "76216                        0  ...                   1   \n",
       "76217                        0  ...                   0   \n",
       "76218                        1  ...                   0   \n",
       "76219                        0  ...                   1   \n",
       "76220                        0  ...                   1   \n",
       "\n",
       "       Policy_Sales_Channel_1  Policy_Sales_Channel_2  Policy_Sales_Channel_3  \\\n",
       "0                           0                       0                       1   \n",
       "1                           1                       0                       0   \n",
       "2                           0                       0                       1   \n",
       "3                           0                       0                       0   \n",
       "4                           1                       0                       0   \n",
       "...                       ...                     ...                     ...   \n",
       "76216                       0                       1                       0   \n",
       "76217                       0                       0                       0   \n",
       "76218                       1                       0                       0   \n",
       "76219                       0                       0                       1   \n",
       "76220                       0                       1                       0   \n",
       "\n",
       "       Policy_Sales_Channel_4  Policy_Sales_Channel_5  Policy_Sales_Channel_6  \\\n",
       "0                           0                       0                       0   \n",
       "1                           0                       0                       0   \n",
       "2                           0                       0                       0   \n",
       "3                           0                       0                       1   \n",
       "4                           0                       0                       0   \n",
       "...                       ...                     ...                     ...   \n",
       "76216                       0                       0                       0   \n",
       "76217                       0                       0                       0   \n",
       "76218                       0                       0                       0   \n",
       "76219                       0                       0                       0   \n",
       "76220                       0                       0                       0   \n",
       "\n",
       "       Policy_Sales_Channel_7  Policy_Sales_Channel_8  way_test  \n",
       "0                           0                       0         0  \n",
       "1                           0                       0         0  \n",
       "2                           0                       0         0  \n",
       "3                           0                       0         0  \n",
       "4                           0                       0         0  \n",
       "...                       ...                     ...       ...  \n",
       "76216                       0                       0         0  \n",
       "76217                       0                       0         0  \n",
       "76218                       0                       0         0  \n",
       "76219                       0                       0         0  \n",
       "76220                       0                       0         0  \n",
       "\n",
       "[76221 rows x 21 columns]"
      ],
      "text/html": "<div>\n<style scoped>\n    .dataframe tbody tr th:only-of-type {\n        vertical-align: middle;\n    }\n\n    .dataframe tbody tr th {\n        vertical-align: top;\n    }\n\n    .dataframe thead th {\n        text-align: right;\n    }\n</style>\n<table border=\"1\" class=\"dataframe\">\n  <thead>\n    <tr style=\"text-align: right;\">\n      <th></th>\n      <th>Unnamed: 0</th>\n      <th>Gender</th>\n      <th>Age</th>\n      <th>Driving_License</th>\n      <th>Region_Code</th>\n      <th>Previously_Insured</th>\n      <th>Annual_Premium</th>\n      <th>Vintage</th>\n      <th>Response</th>\n      <th>Vehicle_Age_1_Year_down</th>\n      <th>...</th>\n      <th>Vehicle_Damage_Yes</th>\n      <th>Policy_Sales_Channel_1</th>\n      <th>Policy_Sales_Channel_2</th>\n      <th>Policy_Sales_Channel_3</th>\n      <th>Policy_Sales_Channel_4</th>\n      <th>Policy_Sales_Channel_5</th>\n      <th>Policy_Sales_Channel_6</th>\n      <th>Policy_Sales_Channel_7</th>\n      <th>Policy_Sales_Channel_8</th>\n      <th>way_test</th>\n    </tr>\n  </thead>\n  <tbody>\n    <tr>\n      <th>0</th>\n      <td>0</td>\n      <td>1</td>\n      <td>41</td>\n      <td>1.0</td>\n      <td>6.0</td>\n      <td>0</td>\n      <td>36438.0</td>\n      <td>119</td>\n      <td>0</td>\n      <td>0</td>\n      <td>...</td>\n      <td>1</td>\n      <td>0</td>\n      <td>0</td>\n      <td>1</td>\n      <td>0</td>\n      <td>0</td>\n      <td>0</td>\n      <td>0</td>\n      <td>0</td>\n      <td>0</td>\n    </tr>\n    <tr>\n      <th>1</th>\n      <td>1</td>\n      <td>0</td>\n      <td>28</td>\n      <td>1.0</td>\n      <td>28.0</td>\n      <td>1</td>\n      <td>44632.0</td>\n      <td>91</td>\n      <td>0</td>\n      <td>1</td>\n      <td>...</td>\n      <td>0</td>\n      <td>1</td>\n      <td>0</td>\n      <td>0</td>\n      <td>0</td>\n      <td>0</td>\n      <td>0</td>\n      <td>0</td>\n      <td>0</td>\n      <td>0</td>\n    </tr>\n    <tr>\n      <th>2</th>\n      <td>2</td>\n      <td>0</td>\n      <td>32</td>\n      <td>1.0</td>\n      <td>8.0</td>\n      <td>0</td>\n      <td>36838.0</td>\n      <td>83</td>\n      <td>0</td>\n      <td>0</td>\n      <td>...</td>\n      <td>1</td>\n      <td>0</td>\n      <td>0</td>\n      <td>1</td>\n      <td>0</td>\n      <td>0</td>\n      <td>0</td>\n      <td>0</td>\n      <td>0</td>\n      <td>0</td>\n    </tr>\n    <tr>\n      <th>3</th>\n      <td>3</td>\n      <td>1</td>\n      <td>36</td>\n      <td>1.0</td>\n      <td>28.0</td>\n      <td>1</td>\n      <td>30074.0</td>\n      <td>273</td>\n      <td>0</td>\n      <td>0</td>\n      <td>...</td>\n      <td>0</td>\n      <td>0</td>\n      <td>0</td>\n      <td>0</td>\n      <td>0</td>\n      <td>0</td>\n      <td>1</td>\n      <td>0</td>\n      <td>0</td>\n      <td>0</td>\n    </tr>\n    <tr>\n      <th>4</th>\n      <td>4</td>\n      <td>0</td>\n      <td>32</td>\n      <td>1.0</td>\n      <td>15.0</td>\n      <td>0</td>\n      <td>38230.0</td>\n      <td>297</td>\n      <td>0</td>\n      <td>1</td>\n      <td>...</td>\n      <td>1</td>\n      <td>1</td>\n      <td>0</td>\n      <td>0</td>\n      <td>0</td>\n      <td>0</td>\n      <td>0</td>\n      <td>0</td>\n      <td>0</td>\n      <td>0</td>\n    </tr>\n    <tr>\n      <th>...</th>\n      <td>...</td>\n      <td>...</td>\n      <td>...</td>\n      <td>...</td>\n      <td>...</td>\n      <td>...</td>\n      <td>...</td>\n      <td>...</td>\n      <td>...</td>\n      <td>...</td>\n      <td>...</td>\n      <td>...</td>\n      <td>...</td>\n      <td>...</td>\n      <td>...</td>\n      <td>...</td>\n      <td>...</td>\n      <td>...</td>\n      <td>...</td>\n      <td>...</td>\n      <td>...</td>\n    </tr>\n    <tr>\n      <th>76216</th>\n      <td>76216</td>\n      <td>0</td>\n      <td>46</td>\n      <td>1.0</td>\n      <td>3.0</td>\n      <td>0</td>\n      <td>30714.0</td>\n      <td>148</td>\n      <td>0</td>\n      <td>0</td>\n      <td>...</td>\n      <td>1</td>\n      <td>0</td>\n      <td>1</td>\n      <td>0</td>\n      <td>0</td>\n      <td>0</td>\n      <td>0</td>\n      <td>0</td>\n      <td>0</td>\n      <td>0</td>\n    </tr>\n    <tr>\n      <th>76217</th>\n      <td>76217</td>\n      <td>0</td>\n      <td>37</td>\n      <td>1.0</td>\n      <td>0.0</td>\n      <td>0</td>\n      <td>2630.0</td>\n      <td>143</td>\n      <td>0</td>\n      <td>0</td>\n      <td>...</td>\n      <td>0</td>\n      <td>0</td>\n      <td>0</td>\n      <td>0</td>\n      <td>0</td>\n      <td>0</td>\n      <td>0</td>\n      <td>0</td>\n      <td>0</td>\n      <td>0</td>\n    </tr>\n    <tr>\n      <th>76218</th>\n      <td>76218</td>\n      <td>1</td>\n      <td>33</td>\n      <td>1.0</td>\n      <td>49.0</td>\n      <td>1</td>\n      <td>33553.0</td>\n      <td>267</td>\n      <td>0</td>\n      <td>1</td>\n      <td>...</td>\n      <td>0</td>\n      <td>1</td>\n      <td>0</td>\n      <td>0</td>\n      <td>0</td>\n      <td>0</td>\n      <td>0</td>\n      <td>0</td>\n      <td>0</td>\n      <td>0</td>\n    </tr>\n    <tr>\n      <th>76219</th>\n      <td>76219</td>\n      <td>1</td>\n      <td>72</td>\n      <td>1.0</td>\n      <td>28.0</td>\n      <td>0</td>\n      <td>34283.0</td>\n      <td>284</td>\n      <td>0</td>\n      <td>0</td>\n      <td>...</td>\n      <td>1</td>\n      <td>0</td>\n      <td>0</td>\n      <td>1</td>\n      <td>0</td>\n      <td>0</td>\n      <td>0</td>\n      <td>0</td>\n      <td>0</td>\n      <td>0</td>\n    </tr>\n    <tr>\n      <th>76220</th>\n      <td>76220</td>\n      <td>1</td>\n      <td>55</td>\n      <td>1.0</td>\n      <td>0.0</td>\n      <td>0</td>\n      <td>2630.0</td>\n      <td>154</td>\n      <td>0</td>\n      <td>0</td>\n      <td>...</td>\n      <td>1</td>\n      <td>0</td>\n      <td>1</td>\n      <td>0</td>\n      <td>0</td>\n      <td>0</td>\n      <td>0</td>\n      <td>0</td>\n      <td>0</td>\n      <td>0</td>\n    </tr>\n  </tbody>\n</table>\n<p>76221 rows × 21 columns</p>\n</div>"
     },
     "metadata": {},
     "execution_count": 20
    }
   ],
   "source": [
    "df_train.drop(['id'], axis=1, inplace=True)\n",
    "df_train=df_train.rename(columns={\"Vehicle_Age_< 1 Year\": \"Vehicle_Age_1_Year_down\", \"Vehicle_Age_> 2 Years\": \"Vehicle_Age_2_Years_up\"})\n",
    "df_train"
   ]
  },
  {
   "source": [
    "### 后续数据处理"
   ],
   "cell_type": "markdown",
   "metadata": {}
  },
  {
   "cell_type": "code",
   "execution_count": 21,
   "metadata": {},
   "outputs": [],
   "source": [
    "# 数据格式处理\n",
    "df_train['Driving_License'] = df_train['Driving_License'].astype(int)\n",
    "df_train['Region_Code'] = df_train['Region_Code'].astype(int)"
   ]
  },
  {
   "cell_type": "code",
   "execution_count": 22,
   "metadata": {},
   "outputs": [
    {
     "output_type": "execute_result",
     "data": {
      "text/plain": [
       "       Unnamed: 0  Gender  Age  Driving_License  Region_Code  \\\n",
       "0               0       1   41                1            6   \n",
       "1               1       0   28                1           28   \n",
       "2               2       0   32                1            8   \n",
       "3               3       1   36                1           28   \n",
       "4               4       0   32                1           15   \n",
       "...           ...     ...  ...              ...          ...   \n",
       "76216       76216       0   46                1            3   \n",
       "76217       76217       0   37                1            0   \n",
       "76218       76218       1   33                1           49   \n",
       "76219       76219       1   72                1           28   \n",
       "76220       76220       1   55                1            0   \n",
       "\n",
       "       Previously_Insured  Annual_Premium  Vintage  Response  \\\n",
       "0                       0         36438.0      119         0   \n",
       "1                       1         44632.0       91         0   \n",
       "2                       0         36838.0       83         0   \n",
       "3                       1         30074.0      273         0   \n",
       "4                       0         38230.0      297         0   \n",
       "...                   ...             ...      ...       ...   \n",
       "76216                   0         30714.0      148         0   \n",
       "76217                   0          2630.0      143         0   \n",
       "76218                   1         33553.0      267         0   \n",
       "76219                   0         34283.0      284         0   \n",
       "76220                   0          2630.0      154         0   \n",
       "\n",
       "       Vehicle_Age_1_Year_down  ...  Vehicle_Damage_Yes  \\\n",
       "0                            0  ...                   1   \n",
       "1                            1  ...                   0   \n",
       "2                            0  ...                   1   \n",
       "3                            0  ...                   0   \n",
       "4                            1  ...                   1   \n",
       "...                        ...  ...                 ...   \n",
       "76216                        0  ...                   1   \n",
       "76217                        0  ...                   0   \n",
       "76218                        1  ...                   0   \n",
       "76219                        0  ...                   1   \n",
       "76220                        0  ...                   1   \n",
       "\n",
       "       Policy_Sales_Channel_1  Policy_Sales_Channel_2  Policy_Sales_Channel_3  \\\n",
       "0                           0                       0                       1   \n",
       "1                           1                       0                       0   \n",
       "2                           0                       0                       1   \n",
       "3                           0                       0                       0   \n",
       "4                           1                       0                       0   \n",
       "...                       ...                     ...                     ...   \n",
       "76216                       0                       1                       0   \n",
       "76217                       0                       0                       0   \n",
       "76218                       1                       0                       0   \n",
       "76219                       0                       0                       1   \n",
       "76220                       0                       1                       0   \n",
       "\n",
       "       Policy_Sales_Channel_4  Policy_Sales_Channel_5  Policy_Sales_Channel_6  \\\n",
       "0                           0                       0                       0   \n",
       "1                           0                       0                       0   \n",
       "2                           0                       0                       0   \n",
       "3                           0                       0                       1   \n",
       "4                           0                       0                       0   \n",
       "...                       ...                     ...                     ...   \n",
       "76216                       0                       0                       0   \n",
       "76217                       0                       0                       0   \n",
       "76218                       0                       0                       0   \n",
       "76219                       0                       0                       0   \n",
       "76220                       0                       0                       0   \n",
       "\n",
       "       Policy_Sales_Channel_7  Policy_Sales_Channel_8  way_test  \n",
       "0                           0                       0         0  \n",
       "1                           0                       0         0  \n",
       "2                           0                       0         0  \n",
       "3                           0                       0         0  \n",
       "4                           0                       0         0  \n",
       "...                       ...                     ...       ...  \n",
       "76216                       0                       0         0  \n",
       "76217                       0                       0         0  \n",
       "76218                       0                       0         0  \n",
       "76219                       0                       0         0  \n",
       "76220                       0                       0         0  \n",
       "\n",
       "[76221 rows x 21 columns]"
      ],
      "text/html": "<div>\n<style scoped>\n    .dataframe tbody tr th:only-of-type {\n        vertical-align: middle;\n    }\n\n    .dataframe tbody tr th {\n        vertical-align: top;\n    }\n\n    .dataframe thead th {\n        text-align: right;\n    }\n</style>\n<table border=\"1\" class=\"dataframe\">\n  <thead>\n    <tr style=\"text-align: right;\">\n      <th></th>\n      <th>Unnamed: 0</th>\n      <th>Gender</th>\n      <th>Age</th>\n      <th>Driving_License</th>\n      <th>Region_Code</th>\n      <th>Previously_Insured</th>\n      <th>Annual_Premium</th>\n      <th>Vintage</th>\n      <th>Response</th>\n      <th>Vehicle_Age_1_Year_down</th>\n      <th>...</th>\n      <th>Vehicle_Damage_Yes</th>\n      <th>Policy_Sales_Channel_1</th>\n      <th>Policy_Sales_Channel_2</th>\n      <th>Policy_Sales_Channel_3</th>\n      <th>Policy_Sales_Channel_4</th>\n      <th>Policy_Sales_Channel_5</th>\n      <th>Policy_Sales_Channel_6</th>\n      <th>Policy_Sales_Channel_7</th>\n      <th>Policy_Sales_Channel_8</th>\n      <th>way_test</th>\n    </tr>\n  </thead>\n  <tbody>\n    <tr>\n      <th>0</th>\n      <td>0</td>\n      <td>1</td>\n      <td>41</td>\n      <td>1</td>\n      <td>6</td>\n      <td>0</td>\n      <td>36438.0</td>\n      <td>119</td>\n      <td>0</td>\n      <td>0</td>\n      <td>...</td>\n      <td>1</td>\n      <td>0</td>\n      <td>0</td>\n      <td>1</td>\n      <td>0</td>\n      <td>0</td>\n      <td>0</td>\n      <td>0</td>\n      <td>0</td>\n      <td>0</td>\n    </tr>\n    <tr>\n      <th>1</th>\n      <td>1</td>\n      <td>0</td>\n      <td>28</td>\n      <td>1</td>\n      <td>28</td>\n      <td>1</td>\n      <td>44632.0</td>\n      <td>91</td>\n      <td>0</td>\n      <td>1</td>\n      <td>...</td>\n      <td>0</td>\n      <td>1</td>\n      <td>0</td>\n      <td>0</td>\n      <td>0</td>\n      <td>0</td>\n      <td>0</td>\n      <td>0</td>\n      <td>0</td>\n      <td>0</td>\n    </tr>\n    <tr>\n      <th>2</th>\n      <td>2</td>\n      <td>0</td>\n      <td>32</td>\n      <td>1</td>\n      <td>8</td>\n      <td>0</td>\n      <td>36838.0</td>\n      <td>83</td>\n      <td>0</td>\n      <td>0</td>\n      <td>...</td>\n      <td>1</td>\n      <td>0</td>\n      <td>0</td>\n      <td>1</td>\n      <td>0</td>\n      <td>0</td>\n      <td>0</td>\n      <td>0</td>\n      <td>0</td>\n      <td>0</td>\n    </tr>\n    <tr>\n      <th>3</th>\n      <td>3</td>\n      <td>1</td>\n      <td>36</td>\n      <td>1</td>\n      <td>28</td>\n      <td>1</td>\n      <td>30074.0</td>\n      <td>273</td>\n      <td>0</td>\n      <td>0</td>\n      <td>...</td>\n      <td>0</td>\n      <td>0</td>\n      <td>0</td>\n      <td>0</td>\n      <td>0</td>\n      <td>0</td>\n      <td>1</td>\n      <td>0</td>\n      <td>0</td>\n      <td>0</td>\n    </tr>\n    <tr>\n      <th>4</th>\n      <td>4</td>\n      <td>0</td>\n      <td>32</td>\n      <td>1</td>\n      <td>15</td>\n      <td>0</td>\n      <td>38230.0</td>\n      <td>297</td>\n      <td>0</td>\n      <td>1</td>\n      <td>...</td>\n      <td>1</td>\n      <td>1</td>\n      <td>0</td>\n      <td>0</td>\n      <td>0</td>\n      <td>0</td>\n      <td>0</td>\n      <td>0</td>\n      <td>0</td>\n      <td>0</td>\n    </tr>\n    <tr>\n      <th>...</th>\n      <td>...</td>\n      <td>...</td>\n      <td>...</td>\n      <td>...</td>\n      <td>...</td>\n      <td>...</td>\n      <td>...</td>\n      <td>...</td>\n      <td>...</td>\n      <td>...</td>\n      <td>...</td>\n      <td>...</td>\n      <td>...</td>\n      <td>...</td>\n      <td>...</td>\n      <td>...</td>\n      <td>...</td>\n      <td>...</td>\n      <td>...</td>\n      <td>...</td>\n      <td>...</td>\n    </tr>\n    <tr>\n      <th>76216</th>\n      <td>76216</td>\n      <td>0</td>\n      <td>46</td>\n      <td>1</td>\n      <td>3</td>\n      <td>0</td>\n      <td>30714.0</td>\n      <td>148</td>\n      <td>0</td>\n      <td>0</td>\n      <td>...</td>\n      <td>1</td>\n      <td>0</td>\n      <td>1</td>\n      <td>0</td>\n      <td>0</td>\n      <td>0</td>\n      <td>0</td>\n      <td>0</td>\n      <td>0</td>\n      <td>0</td>\n    </tr>\n    <tr>\n      <th>76217</th>\n      <td>76217</td>\n      <td>0</td>\n      <td>37</td>\n      <td>1</td>\n      <td>0</td>\n      <td>0</td>\n      <td>2630.0</td>\n      <td>143</td>\n      <td>0</td>\n      <td>0</td>\n      <td>...</td>\n      <td>0</td>\n      <td>0</td>\n      <td>0</td>\n      <td>0</td>\n      <td>0</td>\n      <td>0</td>\n      <td>0</td>\n      <td>0</td>\n      <td>0</td>\n      <td>0</td>\n    </tr>\n    <tr>\n      <th>76218</th>\n      <td>76218</td>\n      <td>1</td>\n      <td>33</td>\n      <td>1</td>\n      <td>49</td>\n      <td>1</td>\n      <td>33553.0</td>\n      <td>267</td>\n      <td>0</td>\n      <td>1</td>\n      <td>...</td>\n      <td>0</td>\n      <td>1</td>\n      <td>0</td>\n      <td>0</td>\n      <td>0</td>\n      <td>0</td>\n      <td>0</td>\n      <td>0</td>\n      <td>0</td>\n      <td>0</td>\n    </tr>\n    <tr>\n      <th>76219</th>\n      <td>76219</td>\n      <td>1</td>\n      <td>72</td>\n      <td>1</td>\n      <td>28</td>\n      <td>0</td>\n      <td>34283.0</td>\n      <td>284</td>\n      <td>0</td>\n      <td>0</td>\n      <td>...</td>\n      <td>1</td>\n      <td>0</td>\n      <td>0</td>\n      <td>1</td>\n      <td>0</td>\n      <td>0</td>\n      <td>0</td>\n      <td>0</td>\n      <td>0</td>\n      <td>0</td>\n    </tr>\n    <tr>\n      <th>76220</th>\n      <td>76220</td>\n      <td>1</td>\n      <td>55</td>\n      <td>1</td>\n      <td>0</td>\n      <td>0</td>\n      <td>2630.0</td>\n      <td>154</td>\n      <td>0</td>\n      <td>0</td>\n      <td>...</td>\n      <td>1</td>\n      <td>0</td>\n      <td>1</td>\n      <td>0</td>\n      <td>0</td>\n      <td>0</td>\n      <td>0</td>\n      <td>0</td>\n      <td>0</td>\n      <td>0</td>\n    </tr>\n  </tbody>\n</table>\n<p>76221 rows × 21 columns</p>\n</div>"
     },
     "metadata": {},
     "execution_count": 22
    }
   ],
   "source": [
    "df_train"
   ]
  },
  {
   "cell_type": "code",
   "execution_count": 23,
   "metadata": {},
   "outputs": [],
   "source": [
    "df_train.drop(['Unnamed: 0', 'way_test'], axis=1, inplace=True)"
   ]
  },
  {
   "source": [
    "### 标准化\n",
    "*处理数值属性`num_feat`*"
   ],
   "cell_type": "markdown",
   "metadata": {}
  },
  {
   "cell_type": "code",
   "execution_count": 24,
   "metadata": {},
   "outputs": [],
   "source": [
    "# age_scaler = MinMaxScaler()\n",
    "df_train['Age'] = (df_train['Age'] - min(df_train['Age']))/(max(df_train['Age']) - min(df_train['Age']))\n",
    "\n",
    "# vintage_scaler = MinMaxScaler()\n",
    "df_train['Vintage'] = (df_train['Vintage'] - min(df_train['Vintage']))/(max(df_train['Vintage']) - min(df_train['Vintage']))\n",
    "\n",
    "# psc_scaler = StandardScaler() \n",
    "df_train['Annual_Premium'] = (df_train['Annual_Premium'] - np.mean(df_train['Annual_Premium'] )) / (np.std(df_train['Annual_Premium']))"
   ]
  },
  {
   "cell_type": "code",
   "execution_count": 25,
   "metadata": {},
   "outputs": [
    {
     "output_type": "execute_result",
     "data": {
      "text/plain": [
       "       Gender       Age  Driving_License  Region_Code  Previously_Insured  \\\n",
       "0           1  0.328125                1            6                   0   \n",
       "1           0  0.125000                1           28                   1   \n",
       "2           0  0.187500                1            8                   0   \n",
       "3           1  0.250000                1           28                   1   \n",
       "4           0  0.187500                1           15                   0   \n",
       "...       ...       ...              ...          ...                 ...   \n",
       "76216       0  0.406250                1            3                   0   \n",
       "76217       0  0.265625                1            0                   0   \n",
       "76218       1  0.203125                1           49                   1   \n",
       "76219       1  0.812500                1           28                   0   \n",
       "76220       1  0.546875                1            0                   0   \n",
       "\n",
       "       Annual_Premium   Vintage  Response  Vehicle_Age_1_Year_down  \\\n",
       "0            0.336961  0.377163         0                        0   \n",
       "1            0.811089  0.280277         0                        1   \n",
       "2            0.360106  0.252595         0                        0   \n",
       "3           -0.031278  0.910035         0                        0   \n",
       "4            0.440651  0.993080         0                        1   \n",
       "...               ...       ...       ...                      ...   \n",
       "76216        0.005754  0.477509         0                        0   \n",
       "76217       -1.619267  0.460208         0                        0   \n",
       "76218        0.170026  0.889273         0                        1   \n",
       "76219        0.212266  0.948097         0                        0   \n",
       "76220       -1.619267  0.498270         0                        0   \n",
       "\n",
       "       Vehicle_Age_2_Years_up  Vehicle_Damage_Yes  Policy_Sales_Channel_1  \\\n",
       "0                           0                   1                       0   \n",
       "1                           0                   0                       1   \n",
       "2                           0                   1                       0   \n",
       "3                           0                   0                       0   \n",
       "4                           0                   1                       1   \n",
       "...                       ...                 ...                     ...   \n",
       "76216                       1                   1                       0   \n",
       "76217                       0                   0                       0   \n",
       "76218                       0                   0                       1   \n",
       "76219                       1                   1                       0   \n",
       "76220                       0                   1                       0   \n",
       "\n",
       "       Policy_Sales_Channel_2  Policy_Sales_Channel_3  Policy_Sales_Channel_4  \\\n",
       "0                           0                       1                       0   \n",
       "1                           0                       0                       0   \n",
       "2                           0                       1                       0   \n",
       "3                           0                       0                       0   \n",
       "4                           0                       0                       0   \n",
       "...                       ...                     ...                     ...   \n",
       "76216                       1                       0                       0   \n",
       "76217                       0                       0                       0   \n",
       "76218                       0                       0                       0   \n",
       "76219                       0                       1                       0   \n",
       "76220                       1                       0                       0   \n",
       "\n",
       "       Policy_Sales_Channel_5  Policy_Sales_Channel_6  Policy_Sales_Channel_7  \\\n",
       "0                           0                       0                       0   \n",
       "1                           0                       0                       0   \n",
       "2                           0                       0                       0   \n",
       "3                           0                       1                       0   \n",
       "4                           0                       0                       0   \n",
       "...                       ...                     ...                     ...   \n",
       "76216                       0                       0                       0   \n",
       "76217                       0                       0                       0   \n",
       "76218                       0                       0                       0   \n",
       "76219                       0                       0                       0   \n",
       "76220                       0                       0                       0   \n",
       "\n",
       "       Policy_Sales_Channel_8  \n",
       "0                           0  \n",
       "1                           0  \n",
       "2                           0  \n",
       "3                           0  \n",
       "4                           0  \n",
       "...                       ...  \n",
       "76216                       0  \n",
       "76217                       0  \n",
       "76218                       0  \n",
       "76219                       0  \n",
       "76220                       0  \n",
       "\n",
       "[76221 rows x 19 columns]"
      ],
      "text/html": "<div>\n<style scoped>\n    .dataframe tbody tr th:only-of-type {\n        vertical-align: middle;\n    }\n\n    .dataframe tbody tr th {\n        vertical-align: top;\n    }\n\n    .dataframe thead th {\n        text-align: right;\n    }\n</style>\n<table border=\"1\" class=\"dataframe\">\n  <thead>\n    <tr style=\"text-align: right;\">\n      <th></th>\n      <th>Gender</th>\n      <th>Age</th>\n      <th>Driving_License</th>\n      <th>Region_Code</th>\n      <th>Previously_Insured</th>\n      <th>Annual_Premium</th>\n      <th>Vintage</th>\n      <th>Response</th>\n      <th>Vehicle_Age_1_Year_down</th>\n      <th>Vehicle_Age_2_Years_up</th>\n      <th>Vehicle_Damage_Yes</th>\n      <th>Policy_Sales_Channel_1</th>\n      <th>Policy_Sales_Channel_2</th>\n      <th>Policy_Sales_Channel_3</th>\n      <th>Policy_Sales_Channel_4</th>\n      <th>Policy_Sales_Channel_5</th>\n      <th>Policy_Sales_Channel_6</th>\n      <th>Policy_Sales_Channel_7</th>\n      <th>Policy_Sales_Channel_8</th>\n    </tr>\n  </thead>\n  <tbody>\n    <tr>\n      <th>0</th>\n      <td>1</td>\n      <td>0.328125</td>\n      <td>1</td>\n      <td>6</td>\n      <td>0</td>\n      <td>0.336961</td>\n      <td>0.377163</td>\n      <td>0</td>\n      <td>0</td>\n      <td>0</td>\n      <td>1</td>\n      <td>0</td>\n      <td>0</td>\n      <td>1</td>\n      <td>0</td>\n      <td>0</td>\n      <td>0</td>\n      <td>0</td>\n      <td>0</td>\n    </tr>\n    <tr>\n      <th>1</th>\n      <td>0</td>\n      <td>0.125000</td>\n      <td>1</td>\n      <td>28</td>\n      <td>1</td>\n      <td>0.811089</td>\n      <td>0.280277</td>\n      <td>0</td>\n      <td>1</td>\n      <td>0</td>\n      <td>0</td>\n      <td>1</td>\n      <td>0</td>\n      <td>0</td>\n      <td>0</td>\n      <td>0</td>\n      <td>0</td>\n      <td>0</td>\n      <td>0</td>\n    </tr>\n    <tr>\n      <th>2</th>\n      <td>0</td>\n      <td>0.187500</td>\n      <td>1</td>\n      <td>8</td>\n      <td>0</td>\n      <td>0.360106</td>\n      <td>0.252595</td>\n      <td>0</td>\n      <td>0</td>\n      <td>0</td>\n      <td>1</td>\n      <td>0</td>\n      <td>0</td>\n      <td>1</td>\n      <td>0</td>\n      <td>0</td>\n      <td>0</td>\n      <td>0</td>\n      <td>0</td>\n    </tr>\n    <tr>\n      <th>3</th>\n      <td>1</td>\n      <td>0.250000</td>\n      <td>1</td>\n      <td>28</td>\n      <td>1</td>\n      <td>-0.031278</td>\n      <td>0.910035</td>\n      <td>0</td>\n      <td>0</td>\n      <td>0</td>\n      <td>0</td>\n      <td>0</td>\n      <td>0</td>\n      <td>0</td>\n      <td>0</td>\n      <td>0</td>\n      <td>1</td>\n      <td>0</td>\n      <td>0</td>\n    </tr>\n    <tr>\n      <th>4</th>\n      <td>0</td>\n      <td>0.187500</td>\n      <td>1</td>\n      <td>15</td>\n      <td>0</td>\n      <td>0.440651</td>\n      <td>0.993080</td>\n      <td>0</td>\n      <td>1</td>\n      <td>0</td>\n      <td>1</td>\n      <td>1</td>\n      <td>0</td>\n      <td>0</td>\n      <td>0</td>\n      <td>0</td>\n      <td>0</td>\n      <td>0</td>\n      <td>0</td>\n    </tr>\n    <tr>\n      <th>...</th>\n      <td>...</td>\n      <td>...</td>\n      <td>...</td>\n      <td>...</td>\n      <td>...</td>\n      <td>...</td>\n      <td>...</td>\n      <td>...</td>\n      <td>...</td>\n      <td>...</td>\n      <td>...</td>\n      <td>...</td>\n      <td>...</td>\n      <td>...</td>\n      <td>...</td>\n      <td>...</td>\n      <td>...</td>\n      <td>...</td>\n      <td>...</td>\n    </tr>\n    <tr>\n      <th>76216</th>\n      <td>0</td>\n      <td>0.406250</td>\n      <td>1</td>\n      <td>3</td>\n      <td>0</td>\n      <td>0.005754</td>\n      <td>0.477509</td>\n      <td>0</td>\n      <td>0</td>\n      <td>1</td>\n      <td>1</td>\n      <td>0</td>\n      <td>1</td>\n      <td>0</td>\n      <td>0</td>\n      <td>0</td>\n      <td>0</td>\n      <td>0</td>\n      <td>0</td>\n    </tr>\n    <tr>\n      <th>76217</th>\n      <td>0</td>\n      <td>0.265625</td>\n      <td>1</td>\n      <td>0</td>\n      <td>0</td>\n      <td>-1.619267</td>\n      <td>0.460208</td>\n      <td>0</td>\n      <td>0</td>\n      <td>0</td>\n      <td>0</td>\n      <td>0</td>\n      <td>0</td>\n      <td>0</td>\n      <td>0</td>\n      <td>0</td>\n      <td>0</td>\n      <td>0</td>\n      <td>0</td>\n    </tr>\n    <tr>\n      <th>76218</th>\n      <td>1</td>\n      <td>0.203125</td>\n      <td>1</td>\n      <td>49</td>\n      <td>1</td>\n      <td>0.170026</td>\n      <td>0.889273</td>\n      <td>0</td>\n      <td>1</td>\n      <td>0</td>\n      <td>0</td>\n      <td>1</td>\n      <td>0</td>\n      <td>0</td>\n      <td>0</td>\n      <td>0</td>\n      <td>0</td>\n      <td>0</td>\n      <td>0</td>\n    </tr>\n    <tr>\n      <th>76219</th>\n      <td>1</td>\n      <td>0.812500</td>\n      <td>1</td>\n      <td>28</td>\n      <td>0</td>\n      <td>0.212266</td>\n      <td>0.948097</td>\n      <td>0</td>\n      <td>0</td>\n      <td>1</td>\n      <td>1</td>\n      <td>0</td>\n      <td>0</td>\n      <td>1</td>\n      <td>0</td>\n      <td>0</td>\n      <td>0</td>\n      <td>0</td>\n      <td>0</td>\n    </tr>\n    <tr>\n      <th>76220</th>\n      <td>1</td>\n      <td>0.546875</td>\n      <td>1</td>\n      <td>0</td>\n      <td>0</td>\n      <td>-1.619267</td>\n      <td>0.498270</td>\n      <td>0</td>\n      <td>0</td>\n      <td>0</td>\n      <td>1</td>\n      <td>0</td>\n      <td>1</td>\n      <td>0</td>\n      <td>0</td>\n      <td>0</td>\n      <td>0</td>\n      <td>0</td>\n      <td>0</td>\n    </tr>\n  </tbody>\n</table>\n<p>76221 rows × 19 columns</p>\n</div>"
     },
     "metadata": {},
     "execution_count": 25
    }
   ],
   "source": [
    "df_train"
   ]
  },
  {
   "cell_type": "code",
   "execution_count": 26,
   "metadata": {},
   "outputs": [
    {
     "output_type": "execute_result",
     "data": {
      "text/plain": [
       "Gender                       int64\n",
       "Age                        float64\n",
       "Driving_License              int64\n",
       "Region_Code                  int64\n",
       "Previously_Insured           int64\n",
       "Annual_Premium             float64\n",
       "Vintage                    float64\n",
       "Response                     int64\n",
       "Vehicle_Age_1_Year_down      uint8\n",
       "Vehicle_Age_2_Years_up       uint8\n",
       "Vehicle_Damage_Yes           uint8\n",
       "Policy_Sales_Channel_1       uint8\n",
       "Policy_Sales_Channel_2       uint8\n",
       "Policy_Sales_Channel_3       uint8\n",
       "Policy_Sales_Channel_4       uint8\n",
       "Policy_Sales_Channel_5       uint8\n",
       "Policy_Sales_Channel_6       uint8\n",
       "Policy_Sales_Channel_7       uint8\n",
       "Policy_Sales_Channel_8       uint8\n",
       "dtype: object"
      ]
     },
     "metadata": {},
     "execution_count": 26
    }
   ],
   "source": [
    "df_train.dtypes"
   ]
  },
  {
   "cell_type": "code",
   "execution_count": 44,
   "metadata": {},
   "outputs": [
    {
     "output_type": "execute_result",
     "data": {
      "text/plain": [
       "Gender                       int64\n",
       "Age                        float64\n",
       "Driving_License              int64\n",
       "Region_Code                  int64\n",
       "Previously_Insured           int64\n",
       "Annual_Premium             float64\n",
       "Vintage                    float64\n",
       "Response                     int64\n",
       "Vehicle_Age_1_Year_down      uint8\n",
       "Vehicle_Age_2_Years_up       uint8\n",
       "Vehicle_Damage_Yes           uint8\n",
       "Policy_Sales_Channel_1       uint8\n",
       "Policy_Sales_Channel_2       uint8\n",
       "Policy_Sales_Channel_3       uint8\n",
       "Policy_Sales_Channel_4       uint8\n",
       "Policy_Sales_Channel_5       uint8\n",
       "Policy_Sales_Channel_6       uint8\n",
       "Policy_Sales_Channel_7       uint8\n",
       "Policy_Sales_Channel_8       uint8\n",
       "dtype: object"
      ]
     },
     "metadata": {},
     "execution_count": 44
    }
   ],
   "source": [
    "df_train.dtypes"
   ]
  },
  {
   "cell_type": "code",
   "execution_count": 27,
   "metadata": {},
   "outputs": [],
   "source": [
    "df_train.to_csv('data/tmp_clean_v1.csv', index=False)"
   ]
  },
  {
   "cell_type": "code",
   "execution_count": 49,
   "metadata": {},
   "outputs": [
    {
     "output_type": "stream",
     "name": "stdout",
     "text": [
      "data\t\t\t examples.desktop  rf_model.sav\nEnsemble_learning.ipynb  nohup.out\t   train_clean_v1.csv\n"
     ]
    }
   ],
   "source": [
    "!ls"
   ]
  },
  {
   "cell_type": "code",
   "execution_count": null,
   "metadata": {},
   "outputs": [],
   "source": []
  }
 ]
}