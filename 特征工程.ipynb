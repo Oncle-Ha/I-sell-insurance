{
 "metadata": {
  "language_info": {
   "codemirror_mode": {
    "name": "ipython",
    "version": 3
   },
   "file_extension": ".py",
   "mimetype": "text/x-python",
   "name": "python",
   "nbconvert_exporter": "python",
   "pygments_lexer": "ipython3",
   "version": "3.7.3-final"
  },
  "orig_nbformat": 2,
  "kernelspec": {
   "name": "python3",
   "display_name": "Python 3"
  }
 },
 "nbformat": 4,
 "nbformat_minor": 2,
 "cells": [
  {
   "cell_type": "code",
   "execution_count": 403,
   "metadata": {},
   "outputs": [],
   "source": [
    "import pandas as pd\n",
    "from collections import Counter\n",
    "\n",
    "df_train = pd.read_csv('data/train.csv') # 训练集\n",
    "df_train['way'] = 'train'\n",
    "# df_train.drop(['id'], axis=1, inplace=True)\n",
    "df_vaild = pd.read_csv('data/tmp.csv')\n",
    "df_vaild.drop(['Unnamed: 0', 'way'], axis=1, inplace=True)\n",
    "df_vaild['way'] = 'vaild'\n",
    "df_train = pd.concat([df_train,df_vaild])\n"
   ]
  },
  {
   "cell_type": "code",
   "execution_count": 404,
   "metadata": {},
   "outputs": [],
   "source": [
    "df_train = df_train.reset_index(drop=True)\n",
    "# df_train = df_train.drop(['index'], axis=1,inplace=True)"
   ]
  },
  {
   "cell_type": "code",
   "execution_count": 405,
   "metadata": {},
   "outputs": [],
   "source": [
    "# 数据格式处理\n",
    "num_feat = ['Age', 'Vintage', 'Annual_Premium'] # 数值属性\n",
    "nor_feat = ['Gender', 'Driving_License', 'Region_Code', 'Vehicle_Damage',  'Vehicle_Age', 'Policy_Sales_Channel', 'Previously_Insured'] # 标称属性\n",
    "\n",
    "# df_train.drop(['Unnamed: 0', 'way'], axis=1, inplace=True)"
   ]
  },
  {
   "cell_type": "code",
   "execution_count": 406,
   "metadata": {
    "tags": []
   },
   "outputs": [
    {
     "output_type": "stream",
     "name": "stdout",
     "text": [
      "Counter({1.0: 379419, 0.0: 812})\n",
      "/home/haojie/anaconda3/lib/python3.6/site-packages/ipykernel_launcher.py:16: SettingWithCopyWarning: \n",
      "A value is trying to be set on a copy of a slice from a DataFrame\n",
      "\n",
      "See the caveats in the documentation: https://pandas.pydata.org/pandas-docs/stable/user_guide/indexing.html#returning-a-view-versus-a-copy\n",
      "  app.launch_new_instance()\n",
      "Counter({152.0: 134454, 26.0: 79523, 124.0: 73829, 160.0: 21714, 156.0: 10640, 122.0: 9920, 157.0: 6679, 154.0: 5978, 151.0: 3877, 163.0: 2883, 13.0: 1856, 25.0: 1840, 7.0: 1598, 8.0: 1511, 30.0: 1408, 55.0: 1262, 155.0: 1230, 11.0: 1198, 1.0: 1072, 52.0: 1053, 125.0: 1023, 15.0: 889, 29.0: 842, 12.0: 779, 120.0: 768, 24.0: 749, 31.0: 629, 14.0: 618, 153.0: 607, 61.0: 579, 3.0: 524, 16.0: 522, 60.0: 516, 4.0: 507, 158.0: 491, 23.0: 420, 22.0: 331, 150.0: 310, 10.0: 264, 19.0: 221, 147.0: 182, 136.0: 182, 109.0: 174, 145.0: 173, 9.0: 168, 18.0: 167, 91.0: 158, 116.0: 154, 37.0: 154, 21.0: 148, 139.0: 143, 128.0: 136, 42.0: 131, 59.0: 127, 138.0: 124, 131.0: 121, 127.0: 110, 140.0: 107, 119.0: 103, 113.0: 101, 135.0: 101, 44.0: 101, 54.0: 100, 64.0: 89, 133.0: 85, 148.0: 76, 35.0: 75, 103.0: 72, 111.0: 71, 121.0: 64, 56.0: 64, 47.0: 63, 132.0: 62, 65.0: 59, 107.0: 54, 159.0: 52, 36.0: 52, 106.0: 51, 86.0: 48, 45.0: 47, 94.0: 46, 129.0: 44, 108.0: 38, 88.0: 34, 53.0: 32, 93.0: 28, 20.0: 27, 90.0: 26, 92.0: 24, 114.0: 23, 78.0: 23, 32.0: 21, 130.0: 21, 98.0: 21, 48.0: 20, 63.0: 19, 118.0: 18, 66.0: 18, 17.0: 16, 46.0: 16, 146.0: 16, 96.0: 16, 40.0: 15, 81.0: 14, 80.0: 14, 89.0: 14, 49.0: 14, 97.0: 13, 73.0: 13, 51.0: 12, 110.0: 11, 134.0: 10, 39.0: 10, 38.0: 10, 58.0: 9, 95.0: 9, 137.0: 8, 100.0: 8, 99.0: 7, 117.0: 7, 87.0: 7, 101.0: 7, 62.0: 6, 79.0: 6, 69.0: 6, 71.0: 5, 126.0: 5, 104.0: 5, 57.0: 5, 82.0: 4, 83.0: 4, 68.0: 4, 70.0: 4, 2.0: 4, 115.0: 4, 67.0: 4, 76.0: 4, 27.0: 3, 34.0: 3, 102.0: 3, 6.0: 3, 28.0: 3, 33.0: 3, 105.0: 3, 50.0: 2, 112.0: 2, 75.0: 2, 74.0: 2, 149.0: 1, 144.0: 1, 43.0: 1, 84.0: 1, 41.0: 1, 143.0: 1, 123.0: 1})\n",
      "<class 'pandas.core.frame.DataFrame'>\n",
      "RangeIndex: 381109 entries, 0 to 381108\n",
      "Data columns (total 13 columns):\n",
      " #   Column                Non-Null Count   Dtype  \n",
      "---  ------                --------------   -----  \n",
      " 0   id                    381109 non-null  int64  \n",
      " 1   Gender                381109 non-null  object \n",
      " 2   Age                   381109 non-null  int64  \n",
      " 3   Driving_License       381109 non-null  float64\n",
      " 4   Region_Code           381109 non-null  float64\n",
      " 5   Previously_Insured    381109 non-null  int64  \n",
      " 6   Vehicle_Age           381109 non-null  object \n",
      " 7   Vehicle_Damage        381109 non-null  object \n",
      " 8   Annual_Premium        381109 non-null  float64\n",
      " 9   Policy_Sales_Channel  381109 non-null  float64\n",
      " 10  Vintage               381109 non-null  int64  \n",
      " 11  Response              381109 non-null  int64  \n",
      " 12  way                   381109 non-null  object \n",
      "dtypes: float64(4), int64(5), object(4)\n",
      "memory usage: 37.8+ MB\n"
     ]
    }
   ],
   "source": [
    "# 缺失值检测处理：轮盘法按概率填充（标称属性）\n",
    "import random\n",
    "\n",
    "null_pro = ['Driving_License', 'Policy_Sales_Channel']\n",
    "for pro in null_pro:\n",
    "    countPro = Counter([x for x in df_train[pro] if pd.isnull(x) == False])\n",
    "    print(countPro)\n",
    "    sumPro = sum(countPro.values())\n",
    "    for index in range(len(df_train[pro])):\n",
    "        if pd.isnull(df_train[pro][index]):\n",
    "            needle = random.random() \n",
    "            needle *= sumPro\n",
    "            for cur in countPro.most_common():\n",
    "                needle -= cur[1]\n",
    "                if needle <= 0:\n",
    "                    df_train[pro][index] = cur[0]\n",
    "                    break\n",
    "df_train.info()"
   ]
  },
  {
   "cell_type": "code",
   "execution_count": 407,
   "metadata": {},
   "outputs": [],
   "source": [
    "def Feature_Aggregations(df_train): # 特征聚合\n",
    "    df_Merge = df_train.copy()\n",
    "\n",
    "    # 销售渠道相关\n",
    "    df_Merge['Policy_Region'] = df_Merge['Policy_Sales_Channel'].astype(str)+'_'+df_Merge['Region_Code'].astype(str)\n",
    "\n",
    "    # 汽车相关\n",
    "    # df_Merge['Vehicle_Age_Damage_License'] = df_Merge['Vehicle_Age'].astype(str)+'_'+df_Merge['Vehicle_Damage'].astype(str)+'_'+df_Merge['Driving_License'].astype(str)\n",
    "\n",
    "    mix_feat = ['Policy_Region']\n",
    "    num_feat = ['Age', 'Annual_Premium', 'Vintage']\n",
    "    for mix in mix_feat:\n",
    "        for num in num_feat:\n",
    "            df_TMP_Merge = df_Merge.groupby(mix)[num].agg(['mean', 'std','nunique']).fillna(0)\n",
    "            df_TMP_Merge.columns = ['mean_' + mix + '_' + num, 'std_' + mix + '_' + num, 'nunique_' + mix + '_' + num]\n",
    "            df_Merge = df_Merge.merge(df_TMP_Merge, left_on = mix ,right_index=True, how = 'left')\n",
    "            \n",
    "    ### Policy_Region 和  Vehicle_Age_Damage_License 的目的只是用来做特征聚类，做完后删除这两列\n",
    "    return df_Merge.drop(mix_feat, axis=1)\n"
   ]
  },
  {
   "cell_type": "code",
   "execution_count": 408,
   "metadata": {},
   "outputs": [
    {
     "output_type": "stream",
     "name": "stdout",
     "text": [
      "<class 'pandas.core.frame.DataFrame'>\nRangeIndex: 381109 entries, 0 to 381108\nData columns (total 22 columns):\n #   Column                                Non-Null Count   Dtype  \n---  ------                                --------------   -----  \n 0   id                                    381109 non-null  int64  \n 1   Gender                                381109 non-null  object \n 2   Age                                   381109 non-null  int64  \n 3   Driving_License                       381109 non-null  float64\n 4   Region_Code                           381109 non-null  float64\n 5   Previously_Insured                    381109 non-null  int64  \n 6   Vehicle_Age                           381109 non-null  object \n 7   Vehicle_Damage                        381109 non-null  object \n 8   Annual_Premium                        381109 non-null  float64\n 9   Policy_Sales_Channel                  381109 non-null  float64\n 10  Vintage                               381109 non-null  int64  \n 11  Response                              381109 non-null  int64  \n 12  way                                   381109 non-null  object \n 13  mean_Policy_Region_Age                381109 non-null  float64\n 14  std_Policy_Region_Age                 381109 non-null  float64\n 15  nunique_Policy_Region_Age             381109 non-null  int64  \n 16  mean_Policy_Region_Annual_Premium     381109 non-null  float64\n 17  std_Policy_Region_Annual_Premium      381109 non-null  float64\n 18  nunique_Policy_Region_Annual_Premium  381109 non-null  int64  \n 19  mean_Policy_Region_Vintage            381109 non-null  float64\n 20  std_Policy_Region_Vintage             381109 non-null  float64\n 21  nunique_Policy_Region_Vintage         381109 non-null  int64  \ndtypes: float64(10), int64(8), object(4)\nmemory usage: 64.0+ MB\n"
     ]
    }
   ],
   "source": [
    "df_train_agg = Feature_Aggregations(df_train)\n",
    "df_train_agg.info()"
   ]
  },
  {
   "cell_type": "code",
   "execution_count": 409,
   "metadata": {},
   "outputs": [],
   "source": [
    "# 提取Policy_Sales_Channel中频率大的样本，进行编码\n",
    "import numpy as np\n",
    "psc_min = np.int(np.min(df_train_agg['Policy_Sales_Channel']))\n",
    "psc_max = np.int(np.max(df_train_agg['Policy_Sales_Channel']))\n",
    "psc_counts = [ np.sum(df_train_agg['Policy_Sales_Channel'] == i) for i in range(psc_min, psc_max+1)]\n",
    "psc_sort = psc_counts.copy()\n",
    "psc_sort.sort(reverse=True)\n",
    "psc_threshold = psc_sort[2]\n",
    "\n"
   ]
  },
  {
   "cell_type": "code",
   "execution_count": 410,
   "metadata": {},
   "outputs": [],
   "source": [
    "psc_cats = 3\n",
    "df_train_agg['Policy_Sales_Channel'] = df_train_agg['Policy_Sales_Channel'].astype('int')\n",
    "train_psc = df_train_agg['Policy_Sales_Channel'].copy()\n",
    "for i in range(len(train_psc)):\n",
    "    now_psc = train_psc[i]-1\n",
    "    if (psc_counts[now_psc] >= psc_threshold):\n",
    "        for j in range(psc_cats):\n",
    "            if (psc_sort[j] == psc_counts[now_psc]):\n",
    "                train_psc[i] = j+1\n",
    "                break\n",
    "    else:\n",
    "        train_psc[i] = 0"
   ]
  },
  {
   "cell_type": "code",
   "execution_count": 411,
   "metadata": {},
   "outputs": [
    {
     "output_type": "execute_result",
     "data": {
      "text/plain": [
       "<matplotlib.axes._subplots.AxesSubplot at 0x7fd6d3fbeeb8>"
      ]
     },
     "metadata": {},
     "execution_count": 411
    },
    {
     "output_type": "display_data",
     "data": {
      "text/plain": "<Figure size 432x288 with 1 Axes>",
      "image/svg+xml": "<?xml version=\"1.0\" encoding=\"utf-8\" standalone=\"no\"?>\n<!DOCTYPE svg PUBLIC \"-//W3C//DTD SVG 1.1//EN\"\n  \"http://www.w3.org/Graphics/SVG/1.1/DTD/svg11.dtd\">\n<!-- Created with matplotlib (http://matplotlib.org/) -->\n<svg height=\"265.974375pt\" version=\"1.1\" viewBox=\"0 0 411.553125 265.974375\" width=\"411.553125pt\" xmlns=\"http://www.w3.org/2000/svg\" xmlns:xlink=\"http://www.w3.org/1999/xlink\">\n <defs>\n  <style type=\"text/css\">\n*{stroke-linecap:butt;stroke-linejoin:round;}\n  </style>\n </defs>\n <g id=\"figure_1\">\n  <g id=\"patch_1\">\n   <path d=\"M 0 265.974375 \nL 411.553125 265.974375 \nL 411.553125 0 \nL 0 0 \nz\n\" style=\"fill:none;\"/>\n  </g>\n  <g id=\"axes_1\">\n   <g id=\"patch_2\">\n    <path d=\"M 66.053125 228.14 \nL 400.853125 228.14 \nL 400.853125 10.7 \nL 66.053125 10.7 \nz\n\" style=\"fill:#ffffff;\"/>\n   </g>\n   <g id=\"patch_3\">\n    <path clip-path=\"url(#p3d9a7c6864)\" d=\"M 74.423125 228.14 \nL 141.383125 228.14 \nL 141.383125 85.814094 \nL 74.423125 85.814094 \nz\n\" style=\"fill:#3274a1;\"/>\n   </g>\n   <g id=\"patch_4\">\n    <path clip-path=\"url(#p3d9a7c6864)\" d=\"M 158.123125 228.14 \nL 225.083125 228.14 \nL 225.083125 21.054286 \nL 158.123125 21.054286 \nz\n\" style=\"fill:#e1812c;\"/>\n   </g>\n   <g id=\"patch_5\">\n    <path clip-path=\"url(#p3d9a7c6864)\" d=\"M 241.823125 228.14 \nL 308.783125 228.14 \nL 308.783125 105.648937 \nL 241.823125 105.648937 \nz\n\" style=\"fill:#3a923a;\"/>\n   </g>\n   <g id=\"patch_6\">\n    <path clip-path=\"url(#p3d9a7c6864)\" d=\"M 325.523125 228.14 \nL 392.483125 228.14 \nL 392.483125 114.418494 \nL 325.523125 114.418494 \nz\n\" style=\"fill:#c03d3e;\"/>\n   </g>\n   <g id=\"matplotlib.axis_1\">\n    <g id=\"xtick_1\">\n     <g id=\"line2d_1\">\n      <defs>\n       <path d=\"M 0 0 \nL 0 3.5 \n\" id=\"m214e5fa94e\" style=\"stroke:#000000;stroke-width:0.8;\"/>\n      </defs>\n      <g>\n       <use style=\"stroke:#000000;stroke-width:0.8;\" x=\"107.903125\" xlink:href=\"#m214e5fa94e\" y=\"228.14\"/>\n      </g>\n     </g>\n     <g id=\"text_1\">\n      <!-- 0 -->\n      <defs>\n       <path d=\"M 31.78125 66.40625 \nQ 24.171875 66.40625 20.328125 58.90625 \nQ 16.5 51.421875 16.5 36.375 \nQ 16.5 21.390625 20.328125 13.890625 \nQ 24.171875 6.390625 31.78125 6.390625 \nQ 39.453125 6.390625 43.28125 13.890625 \nQ 47.125 21.390625 47.125 36.375 \nQ 47.125 51.421875 43.28125 58.90625 \nQ 39.453125 66.40625 31.78125 66.40625 \nz\nM 31.78125 74.21875 \nQ 44.046875 74.21875 50.515625 64.515625 \nQ 56.984375 54.828125 56.984375 36.375 \nQ 56.984375 17.96875 50.515625 8.265625 \nQ 44.046875 -1.421875 31.78125 -1.421875 \nQ 19.53125 -1.421875 13.0625 8.265625 \nQ 6.59375 17.96875 6.59375 36.375 \nQ 6.59375 54.828125 13.0625 64.515625 \nQ 19.53125 74.21875 31.78125 74.21875 \nz\n\" id=\"DejaVuSans-30\"/>\n      </defs>\n      <g transform=\"translate(104.721875 242.738438)scale(0.1 -0.1)\">\n       <use xlink:href=\"#DejaVuSans-30\"/>\n      </g>\n     </g>\n    </g>\n    <g id=\"xtick_2\">\n     <g id=\"line2d_2\">\n      <g>\n       <use style=\"stroke:#000000;stroke-width:0.8;\" x=\"191.603125\" xlink:href=\"#m214e5fa94e\" y=\"228.14\"/>\n      </g>\n     </g>\n     <g id=\"text_2\">\n      <!-- 1 -->\n      <defs>\n       <path d=\"M 12.40625 8.296875 \nL 28.515625 8.296875 \nL 28.515625 63.921875 \nL 10.984375 60.40625 \nL 10.984375 69.390625 \nL 28.421875 72.90625 \nL 38.28125 72.90625 \nL 38.28125 8.296875 \nL 54.390625 8.296875 \nL 54.390625 0 \nL 12.40625 0 \nz\n\" id=\"DejaVuSans-31\"/>\n      </defs>\n      <g transform=\"translate(188.421875 242.738438)scale(0.1 -0.1)\">\n       <use xlink:href=\"#DejaVuSans-31\"/>\n      </g>\n     </g>\n    </g>\n    <g id=\"xtick_3\">\n     <g id=\"line2d_3\">\n      <g>\n       <use style=\"stroke:#000000;stroke-width:0.8;\" x=\"275.303125\" xlink:href=\"#m214e5fa94e\" y=\"228.14\"/>\n      </g>\n     </g>\n     <g id=\"text_3\">\n      <!-- 2 -->\n      <defs>\n       <path d=\"M 19.1875 8.296875 \nL 53.609375 8.296875 \nL 53.609375 0 \nL 7.328125 0 \nL 7.328125 8.296875 \nQ 12.9375 14.109375 22.625 23.890625 \nQ 32.328125 33.6875 34.8125 36.53125 \nQ 39.546875 41.84375 41.421875 45.53125 \nQ 43.3125 49.21875 43.3125 52.78125 \nQ 43.3125 58.59375 39.234375 62.25 \nQ 35.15625 65.921875 28.609375 65.921875 \nQ 23.96875 65.921875 18.8125 64.3125 \nQ 13.671875 62.703125 7.8125 59.421875 \nL 7.8125 69.390625 \nQ 13.765625 71.78125 18.9375 73 \nQ 24.125 74.21875 28.421875 74.21875 \nQ 39.75 74.21875 46.484375 68.546875 \nQ 53.21875 62.890625 53.21875 53.421875 \nQ 53.21875 48.921875 51.53125 44.890625 \nQ 49.859375 40.875 45.40625 35.40625 \nQ 44.1875 33.984375 37.640625 27.21875 \nQ 31.109375 20.453125 19.1875 8.296875 \nz\n\" id=\"DejaVuSans-32\"/>\n      </defs>\n      <g transform=\"translate(272.121875 242.738438)scale(0.1 -0.1)\">\n       <use xlink:href=\"#DejaVuSans-32\"/>\n      </g>\n     </g>\n    </g>\n    <g id=\"xtick_4\">\n     <g id=\"line2d_4\">\n      <g>\n       <use style=\"stroke:#000000;stroke-width:0.8;\" x=\"359.003125\" xlink:href=\"#m214e5fa94e\" y=\"228.14\"/>\n      </g>\n     </g>\n     <g id=\"text_4\">\n      <!-- 3 -->\n      <defs>\n       <path d=\"M 40.578125 39.3125 \nQ 47.65625 37.796875 51.625 33 \nQ 55.609375 28.21875 55.609375 21.1875 \nQ 55.609375 10.40625 48.1875 4.484375 \nQ 40.765625 -1.421875 27.09375 -1.421875 \nQ 22.515625 -1.421875 17.65625 -0.515625 \nQ 12.796875 0.390625 7.625 2.203125 \nL 7.625 11.71875 \nQ 11.71875 9.328125 16.59375 8.109375 \nQ 21.484375 6.890625 26.8125 6.890625 \nQ 36.078125 6.890625 40.9375 10.546875 \nQ 45.796875 14.203125 45.796875 21.1875 \nQ 45.796875 27.640625 41.28125 31.265625 \nQ 36.765625 34.90625 28.71875 34.90625 \nL 20.21875 34.90625 \nL 20.21875 43.015625 \nL 29.109375 43.015625 \nQ 36.375 43.015625 40.234375 45.921875 \nQ 44.09375 48.828125 44.09375 54.296875 \nQ 44.09375 59.90625 40.109375 62.90625 \nQ 36.140625 65.921875 28.71875 65.921875 \nQ 24.65625 65.921875 20.015625 65.03125 \nQ 15.375 64.15625 9.8125 62.3125 \nL 9.8125 71.09375 \nQ 15.4375 72.65625 20.34375 73.4375 \nQ 25.25 74.21875 29.59375 74.21875 \nQ 40.828125 74.21875 47.359375 69.109375 \nQ 53.90625 64.015625 53.90625 55.328125 \nQ 53.90625 49.265625 50.4375 45.09375 \nQ 46.96875 40.921875 40.578125 39.3125 \nz\n\" id=\"DejaVuSans-33\"/>\n      </defs>\n      <g transform=\"translate(355.821875 242.738438)scale(0.1 -0.1)\">\n       <use xlink:href=\"#DejaVuSans-33\"/>\n      </g>\n     </g>\n    </g>\n    <g id=\"text_5\">\n     <!-- Policy_Sales_Channel -->\n     <defs>\n      <path d=\"M 19.671875 64.796875 \nL 19.671875 37.40625 \nL 32.078125 37.40625 \nQ 38.96875 37.40625 42.71875 40.96875 \nQ 46.484375 44.53125 46.484375 51.125 \nQ 46.484375 57.671875 42.71875 61.234375 \nQ 38.96875 64.796875 32.078125 64.796875 \nz\nM 9.8125 72.90625 \nL 32.078125 72.90625 \nQ 44.34375 72.90625 50.609375 67.359375 \nQ 56.890625 61.8125 56.890625 51.125 \nQ 56.890625 40.328125 50.609375 34.8125 \nQ 44.34375 29.296875 32.078125 29.296875 \nL 19.671875 29.296875 \nL 19.671875 0 \nL 9.8125 0 \nz\n\" id=\"DejaVuSans-50\"/>\n      <path d=\"M 30.609375 48.390625 \nQ 23.390625 48.390625 19.1875 42.75 \nQ 14.984375 37.109375 14.984375 27.296875 \nQ 14.984375 17.484375 19.15625 11.84375 \nQ 23.34375 6.203125 30.609375 6.203125 \nQ 37.796875 6.203125 41.984375 11.859375 \nQ 46.1875 17.53125 46.1875 27.296875 \nQ 46.1875 37.015625 41.984375 42.703125 \nQ 37.796875 48.390625 30.609375 48.390625 \nz\nM 30.609375 56 \nQ 42.328125 56 49.015625 48.375 \nQ 55.71875 40.765625 55.71875 27.296875 \nQ 55.71875 13.875 49.015625 6.21875 \nQ 42.328125 -1.421875 30.609375 -1.421875 \nQ 18.84375 -1.421875 12.171875 6.21875 \nQ 5.515625 13.875 5.515625 27.296875 \nQ 5.515625 40.765625 12.171875 48.375 \nQ 18.84375 56 30.609375 56 \nz\n\" id=\"DejaVuSans-6f\"/>\n      <path d=\"M 9.421875 75.984375 \nL 18.40625 75.984375 \nL 18.40625 0 \nL 9.421875 0 \nz\n\" id=\"DejaVuSans-6c\"/>\n      <path d=\"M 9.421875 54.6875 \nL 18.40625 54.6875 \nL 18.40625 0 \nL 9.421875 0 \nz\nM 9.421875 75.984375 \nL 18.40625 75.984375 \nL 18.40625 64.59375 \nL 9.421875 64.59375 \nz\n\" id=\"DejaVuSans-69\"/>\n      <path d=\"M 48.78125 52.59375 \nL 48.78125 44.1875 \nQ 44.96875 46.296875 41.140625 47.34375 \nQ 37.3125 48.390625 33.40625 48.390625 \nQ 24.65625 48.390625 19.8125 42.84375 \nQ 14.984375 37.3125 14.984375 27.296875 \nQ 14.984375 17.28125 19.8125 11.734375 \nQ 24.65625 6.203125 33.40625 6.203125 \nQ 37.3125 6.203125 41.140625 7.25 \nQ 44.96875 8.296875 48.78125 10.40625 \nL 48.78125 2.09375 \nQ 45.015625 0.34375 40.984375 -0.53125 \nQ 36.96875 -1.421875 32.421875 -1.421875 \nQ 20.0625 -1.421875 12.78125 6.34375 \nQ 5.515625 14.109375 5.515625 27.296875 \nQ 5.515625 40.671875 12.859375 48.328125 \nQ 20.21875 56 33.015625 56 \nQ 37.15625 56 41.109375 55.140625 \nQ 45.0625 54.296875 48.78125 52.59375 \nz\n\" id=\"DejaVuSans-63\"/>\n      <path d=\"M 32.171875 -5.078125 \nQ 28.375 -14.84375 24.75 -17.8125 \nQ 21.140625 -20.796875 15.09375 -20.796875 \nL 7.90625 -20.796875 \nL 7.90625 -13.28125 \nL 13.1875 -13.28125 \nQ 16.890625 -13.28125 18.9375 -11.515625 \nQ 21 -9.765625 23.484375 -3.21875 \nL 25.09375 0.875 \nL 2.984375 54.6875 \nL 12.5 54.6875 \nL 29.59375 11.921875 \nL 46.6875 54.6875 \nL 56.203125 54.6875 \nz\n\" id=\"DejaVuSans-79\"/>\n      <path d=\"M 50.984375 -16.609375 \nL 50.984375 -23.578125 \nL -0.984375 -23.578125 \nL -0.984375 -16.609375 \nz\n\" id=\"DejaVuSans-5f\"/>\n      <path d=\"M 53.515625 70.515625 \nL 53.515625 60.890625 \nQ 47.90625 63.578125 42.921875 64.890625 \nQ 37.9375 66.21875 33.296875 66.21875 \nQ 25.25 66.21875 20.875 63.09375 \nQ 16.5 59.96875 16.5 54.203125 \nQ 16.5 49.359375 19.40625 46.890625 \nQ 22.3125 44.4375 30.421875 42.921875 \nL 36.375 41.703125 \nQ 47.40625 39.59375 52.65625 34.296875 \nQ 57.90625 29 57.90625 20.125 \nQ 57.90625 9.515625 50.796875 4.046875 \nQ 43.703125 -1.421875 29.984375 -1.421875 \nQ 24.8125 -1.421875 18.96875 -0.25 \nQ 13.140625 0.921875 6.890625 3.21875 \nL 6.890625 13.375 \nQ 12.890625 10.015625 18.65625 8.296875 \nQ 24.421875 6.59375 29.984375 6.59375 \nQ 38.421875 6.59375 43.015625 9.90625 \nQ 47.609375 13.234375 47.609375 19.390625 \nQ 47.609375 24.75 44.3125 27.78125 \nQ 41.015625 30.8125 33.5 32.328125 \nL 27.484375 33.5 \nQ 16.453125 35.6875 11.515625 40.375 \nQ 6.59375 45.0625 6.59375 53.421875 \nQ 6.59375 63.09375 13.40625 68.65625 \nQ 20.21875 74.21875 32.171875 74.21875 \nQ 37.3125 74.21875 42.625 73.28125 \nQ 47.953125 72.359375 53.515625 70.515625 \nz\n\" id=\"DejaVuSans-53\"/>\n      <path d=\"M 34.28125 27.484375 \nQ 23.390625 27.484375 19.1875 25 \nQ 14.984375 22.515625 14.984375 16.5 \nQ 14.984375 11.71875 18.140625 8.90625 \nQ 21.296875 6.109375 26.703125 6.109375 \nQ 34.1875 6.109375 38.703125 11.40625 \nQ 43.21875 16.703125 43.21875 25.484375 \nL 43.21875 27.484375 \nz\nM 52.203125 31.203125 \nL 52.203125 0 \nL 43.21875 0 \nL 43.21875 8.296875 \nQ 40.140625 3.328125 35.546875 0.953125 \nQ 30.953125 -1.421875 24.3125 -1.421875 \nQ 15.921875 -1.421875 10.953125 3.296875 \nQ 6 8.015625 6 15.921875 \nQ 6 25.140625 12.171875 29.828125 \nQ 18.359375 34.515625 30.609375 34.515625 \nL 43.21875 34.515625 \nL 43.21875 35.40625 \nQ 43.21875 41.609375 39.140625 45 \nQ 35.0625 48.390625 27.6875 48.390625 \nQ 23 48.390625 18.546875 47.265625 \nQ 14.109375 46.140625 10.015625 43.890625 \nL 10.015625 52.203125 \nQ 14.9375 54.109375 19.578125 55.046875 \nQ 24.21875 56 28.609375 56 \nQ 40.484375 56 46.34375 49.84375 \nQ 52.203125 43.703125 52.203125 31.203125 \nz\n\" id=\"DejaVuSans-61\"/>\n      <path d=\"M 56.203125 29.59375 \nL 56.203125 25.203125 \nL 14.890625 25.203125 \nQ 15.484375 15.921875 20.484375 11.0625 \nQ 25.484375 6.203125 34.421875 6.203125 \nQ 39.59375 6.203125 44.453125 7.46875 \nQ 49.3125 8.734375 54.109375 11.28125 \nL 54.109375 2.78125 \nQ 49.265625 0.734375 44.1875 -0.34375 \nQ 39.109375 -1.421875 33.890625 -1.421875 \nQ 20.796875 -1.421875 13.15625 6.1875 \nQ 5.515625 13.8125 5.515625 26.8125 \nQ 5.515625 40.234375 12.765625 48.109375 \nQ 20.015625 56 32.328125 56 \nQ 43.359375 56 49.78125 48.890625 \nQ 56.203125 41.796875 56.203125 29.59375 \nz\nM 47.21875 32.234375 \nQ 47.125 39.59375 43.09375 43.984375 \nQ 39.0625 48.390625 32.421875 48.390625 \nQ 24.90625 48.390625 20.390625 44.140625 \nQ 15.875 39.890625 15.1875 32.171875 \nz\n\" id=\"DejaVuSans-65\"/>\n      <path d=\"M 44.28125 53.078125 \nL 44.28125 44.578125 \nQ 40.484375 46.53125 36.375 47.5 \nQ 32.28125 48.484375 27.875 48.484375 \nQ 21.1875 48.484375 17.84375 46.4375 \nQ 14.5 44.390625 14.5 40.28125 \nQ 14.5 37.15625 16.890625 35.375 \nQ 19.28125 33.59375 26.515625 31.984375 \nL 29.59375 31.296875 \nQ 39.15625 29.25 43.1875 25.515625 \nQ 47.21875 21.78125 47.21875 15.09375 \nQ 47.21875 7.46875 41.1875 3.015625 \nQ 35.15625 -1.421875 24.609375 -1.421875 \nQ 20.21875 -1.421875 15.453125 -0.5625 \nQ 10.6875 0.296875 5.421875 2 \nL 5.421875 11.28125 \nQ 10.40625 8.6875 15.234375 7.390625 \nQ 20.0625 6.109375 24.8125 6.109375 \nQ 31.15625 6.109375 34.5625 8.28125 \nQ 37.984375 10.453125 37.984375 14.40625 \nQ 37.984375 18.0625 35.515625 20.015625 \nQ 33.0625 21.96875 24.703125 23.78125 \nL 21.578125 24.515625 \nQ 13.234375 26.265625 9.515625 29.90625 \nQ 5.8125 33.546875 5.8125 39.890625 \nQ 5.8125 47.609375 11.28125 51.796875 \nQ 16.75 56 26.8125 56 \nQ 31.78125 56 36.171875 55.265625 \nQ 40.578125 54.546875 44.28125 53.078125 \nz\n\" id=\"DejaVuSans-73\"/>\n      <path d=\"M 64.40625 67.28125 \nL 64.40625 56.890625 \nQ 59.421875 61.53125 53.78125 63.8125 \nQ 48.140625 66.109375 41.796875 66.109375 \nQ 29.296875 66.109375 22.65625 58.46875 \nQ 16.015625 50.828125 16.015625 36.375 \nQ 16.015625 21.96875 22.65625 14.328125 \nQ 29.296875 6.6875 41.796875 6.6875 \nQ 48.140625 6.6875 53.78125 8.984375 \nQ 59.421875 11.28125 64.40625 15.921875 \nL 64.40625 5.609375 \nQ 59.234375 2.09375 53.4375 0.328125 \nQ 47.65625 -1.421875 41.21875 -1.421875 \nQ 24.65625 -1.421875 15.125 8.703125 \nQ 5.609375 18.84375 5.609375 36.375 \nQ 5.609375 53.953125 15.125 64.078125 \nQ 24.65625 74.21875 41.21875 74.21875 \nQ 47.75 74.21875 53.53125 72.484375 \nQ 59.328125 70.75 64.40625 67.28125 \nz\n\" id=\"DejaVuSans-43\"/>\n      <path d=\"M 54.890625 33.015625 \nL 54.890625 0 \nL 45.90625 0 \nL 45.90625 32.71875 \nQ 45.90625 40.484375 42.875 44.328125 \nQ 39.84375 48.1875 33.796875 48.1875 \nQ 26.515625 48.1875 22.3125 43.546875 \nQ 18.109375 38.921875 18.109375 30.90625 \nL 18.109375 0 \nL 9.078125 0 \nL 9.078125 75.984375 \nL 18.109375 75.984375 \nL 18.109375 46.1875 \nQ 21.34375 51.125 25.703125 53.5625 \nQ 30.078125 56 35.796875 56 \nQ 45.21875 56 50.046875 50.171875 \nQ 54.890625 44.34375 54.890625 33.015625 \nz\n\" id=\"DejaVuSans-68\"/>\n      <path d=\"M 54.890625 33.015625 \nL 54.890625 0 \nL 45.90625 0 \nL 45.90625 32.71875 \nQ 45.90625 40.484375 42.875 44.328125 \nQ 39.84375 48.1875 33.796875 48.1875 \nQ 26.515625 48.1875 22.3125 43.546875 \nQ 18.109375 38.921875 18.109375 30.90625 \nL 18.109375 0 \nL 9.078125 0 \nL 9.078125 54.6875 \nL 18.109375 54.6875 \nL 18.109375 46.1875 \nQ 21.34375 51.125 25.703125 53.5625 \nQ 30.078125 56 35.796875 56 \nQ 45.21875 56 50.046875 50.171875 \nQ 54.890625 44.34375 54.890625 33.015625 \nz\n\" id=\"DejaVuSans-6e\"/>\n     </defs>\n     <g transform=\"translate(180.058594 256.416562)scale(0.1 -0.1)\">\n      <use xlink:href=\"#DejaVuSans-50\"/>\n      <use x=\"60.255859\" xlink:href=\"#DejaVuSans-6f\"/>\n      <use x=\"121.4375\" xlink:href=\"#DejaVuSans-6c\"/>\n      <use x=\"149.220703\" xlink:href=\"#DejaVuSans-69\"/>\n      <use x=\"177.003906\" xlink:href=\"#DejaVuSans-63\"/>\n      <use x=\"231.984375\" xlink:href=\"#DejaVuSans-79\"/>\n      <use x=\"291.164062\" xlink:href=\"#DejaVuSans-5f\"/>\n      <use x=\"341.164062\" xlink:href=\"#DejaVuSans-53\"/>\n      <use x=\"404.640625\" xlink:href=\"#DejaVuSans-61\"/>\n      <use x=\"465.919922\" xlink:href=\"#DejaVuSans-6c\"/>\n      <use x=\"493.703125\" xlink:href=\"#DejaVuSans-65\"/>\n      <use x=\"555.226562\" xlink:href=\"#DejaVuSans-73\"/>\n      <use x=\"607.326172\" xlink:href=\"#DejaVuSans-5f\"/>\n      <use x=\"657.326172\" xlink:href=\"#DejaVuSans-43\"/>\n      <use x=\"727.150391\" xlink:href=\"#DejaVuSans-68\"/>\n      <use x=\"790.529297\" xlink:href=\"#DejaVuSans-61\"/>\n      <use x=\"851.808594\" xlink:href=\"#DejaVuSans-6e\"/>\n      <use x=\"915.1875\" xlink:href=\"#DejaVuSans-6e\"/>\n      <use x=\"978.566406\" xlink:href=\"#DejaVuSans-65\"/>\n      <use x=\"1040.089844\" xlink:href=\"#DejaVuSans-6c\"/>\n     </g>\n    </g>\n   </g>\n   <g id=\"matplotlib.axis_2\">\n    <g id=\"ytick_1\">\n     <g id=\"line2d_5\">\n      <defs>\n       <path d=\"M 0 0 \nL -3.5 0 \n\" id=\"m1049f4b877\" style=\"stroke:#000000;stroke-width:0.8;\"/>\n      </defs>\n      <g>\n       <use style=\"stroke:#000000;stroke-width:0.8;\" x=\"66.053125\" xlink:href=\"#m1049f4b877\" y=\"228.14\"/>\n      </g>\n     </g>\n     <g id=\"text_6\">\n      <!-- 0 -->\n      <g transform=\"translate(52.690625 231.939219)scale(0.1 -0.1)\">\n       <use xlink:href=\"#DejaVuSans-30\"/>\n      </g>\n     </g>\n    </g>\n    <g id=\"ytick_2\">\n     <g id=\"line2d_6\">\n      <g>\n       <use style=\"stroke:#000000;stroke-width:0.8;\" x=\"66.053125\" xlink:href=\"#m1049f4b877\" y=\"197.407365\"/>\n      </g>\n     </g>\n     <g id=\"text_7\">\n      <!-- 20000 -->\n      <g transform=\"translate(27.240625 201.206584)scale(0.1 -0.1)\">\n       <use xlink:href=\"#DejaVuSans-32\"/>\n       <use x=\"63.623047\" xlink:href=\"#DejaVuSans-30\"/>\n       <use x=\"127.246094\" xlink:href=\"#DejaVuSans-30\"/>\n       <use x=\"190.869141\" xlink:href=\"#DejaVuSans-30\"/>\n       <use x=\"254.492188\" xlink:href=\"#DejaVuSans-30\"/>\n      </g>\n     </g>\n    </g>\n    <g id=\"ytick_3\">\n     <g id=\"line2d_7\">\n      <g>\n       <use style=\"stroke:#000000;stroke-width:0.8;\" x=\"66.053125\" xlink:href=\"#m1049f4b877\" y=\"166.67473\"/>\n      </g>\n     </g>\n     <g id=\"text_8\">\n      <!-- 40000 -->\n      <defs>\n       <path d=\"M 37.796875 64.3125 \nL 12.890625 25.390625 \nL 37.796875 25.390625 \nz\nM 35.203125 72.90625 \nL 47.609375 72.90625 \nL 47.609375 25.390625 \nL 58.015625 25.390625 \nL 58.015625 17.1875 \nL 47.609375 17.1875 \nL 47.609375 0 \nL 37.796875 0 \nL 37.796875 17.1875 \nL 4.890625 17.1875 \nL 4.890625 26.703125 \nz\n\" id=\"DejaVuSans-34\"/>\n      </defs>\n      <g transform=\"translate(27.240625 170.473949)scale(0.1 -0.1)\">\n       <use xlink:href=\"#DejaVuSans-34\"/>\n       <use x=\"63.623047\" xlink:href=\"#DejaVuSans-30\"/>\n       <use x=\"127.246094\" xlink:href=\"#DejaVuSans-30\"/>\n       <use x=\"190.869141\" xlink:href=\"#DejaVuSans-30\"/>\n       <use x=\"254.492188\" xlink:href=\"#DejaVuSans-30\"/>\n      </g>\n     </g>\n    </g>\n    <g id=\"ytick_4\">\n     <g id=\"line2d_8\">\n      <g>\n       <use style=\"stroke:#000000;stroke-width:0.8;\" x=\"66.053125\" xlink:href=\"#m1049f4b877\" y=\"135.942095\"/>\n      </g>\n     </g>\n     <g id=\"text_9\">\n      <!-- 60000 -->\n      <defs>\n       <path d=\"M 33.015625 40.375 \nQ 26.375 40.375 22.484375 35.828125 \nQ 18.609375 31.296875 18.609375 23.390625 \nQ 18.609375 15.53125 22.484375 10.953125 \nQ 26.375 6.390625 33.015625 6.390625 \nQ 39.65625 6.390625 43.53125 10.953125 \nQ 47.40625 15.53125 47.40625 23.390625 \nQ 47.40625 31.296875 43.53125 35.828125 \nQ 39.65625 40.375 33.015625 40.375 \nz\nM 52.59375 71.296875 \nL 52.59375 62.3125 \nQ 48.875 64.0625 45.09375 64.984375 \nQ 41.3125 65.921875 37.59375 65.921875 \nQ 27.828125 65.921875 22.671875 59.328125 \nQ 17.53125 52.734375 16.796875 39.40625 \nQ 19.671875 43.65625 24.015625 45.921875 \nQ 28.375 48.1875 33.59375 48.1875 \nQ 44.578125 48.1875 50.953125 41.515625 \nQ 57.328125 34.859375 57.328125 23.390625 \nQ 57.328125 12.15625 50.6875 5.359375 \nQ 44.046875 -1.421875 33.015625 -1.421875 \nQ 20.359375 -1.421875 13.671875 8.265625 \nQ 6.984375 17.96875 6.984375 36.375 \nQ 6.984375 53.65625 15.1875 63.9375 \nQ 23.390625 74.21875 37.203125 74.21875 \nQ 40.921875 74.21875 44.703125 73.484375 \nQ 48.484375 72.75 52.59375 71.296875 \nz\n\" id=\"DejaVuSans-36\"/>\n      </defs>\n      <g transform=\"translate(27.240625 139.741314)scale(0.1 -0.1)\">\n       <use xlink:href=\"#DejaVuSans-36\"/>\n       <use x=\"63.623047\" xlink:href=\"#DejaVuSans-30\"/>\n       <use x=\"127.246094\" xlink:href=\"#DejaVuSans-30\"/>\n       <use x=\"190.869141\" xlink:href=\"#DejaVuSans-30\"/>\n       <use x=\"254.492188\" xlink:href=\"#DejaVuSans-30\"/>\n      </g>\n     </g>\n    </g>\n    <g id=\"ytick_5\">\n     <g id=\"line2d_9\">\n      <g>\n       <use style=\"stroke:#000000;stroke-width:0.8;\" x=\"66.053125\" xlink:href=\"#m1049f4b877\" y=\"105.20946\"/>\n      </g>\n     </g>\n     <g id=\"text_10\">\n      <!-- 80000 -->\n      <defs>\n       <path d=\"M 31.78125 34.625 \nQ 24.75 34.625 20.71875 30.859375 \nQ 16.703125 27.09375 16.703125 20.515625 \nQ 16.703125 13.921875 20.71875 10.15625 \nQ 24.75 6.390625 31.78125 6.390625 \nQ 38.8125 6.390625 42.859375 10.171875 \nQ 46.921875 13.96875 46.921875 20.515625 \nQ 46.921875 27.09375 42.890625 30.859375 \nQ 38.875 34.625 31.78125 34.625 \nz\nM 21.921875 38.8125 \nQ 15.578125 40.375 12.03125 44.71875 \nQ 8.5 49.078125 8.5 55.328125 \nQ 8.5 64.0625 14.71875 69.140625 \nQ 20.953125 74.21875 31.78125 74.21875 \nQ 42.671875 74.21875 48.875 69.140625 \nQ 55.078125 64.0625 55.078125 55.328125 \nQ 55.078125 49.078125 51.53125 44.71875 \nQ 48 40.375 41.703125 38.8125 \nQ 48.828125 37.15625 52.796875 32.3125 \nQ 56.78125 27.484375 56.78125 20.515625 \nQ 56.78125 9.90625 50.3125 4.234375 \nQ 43.84375 -1.421875 31.78125 -1.421875 \nQ 19.734375 -1.421875 13.25 4.234375 \nQ 6.78125 9.90625 6.78125 20.515625 \nQ 6.78125 27.484375 10.78125 32.3125 \nQ 14.796875 37.15625 21.921875 38.8125 \nz\nM 18.3125 54.390625 \nQ 18.3125 48.734375 21.84375 45.5625 \nQ 25.390625 42.390625 31.78125 42.390625 \nQ 38.140625 42.390625 41.71875 45.5625 \nQ 45.3125 48.734375 45.3125 54.390625 \nQ 45.3125 60.0625 41.71875 63.234375 \nQ 38.140625 66.40625 31.78125 66.40625 \nQ 25.390625 66.40625 21.84375 63.234375 \nQ 18.3125 60.0625 18.3125 54.390625 \nz\n\" id=\"DejaVuSans-38\"/>\n      </defs>\n      <g transform=\"translate(27.240625 109.008679)scale(0.1 -0.1)\">\n       <use xlink:href=\"#DejaVuSans-38\"/>\n       <use x=\"63.623047\" xlink:href=\"#DejaVuSans-30\"/>\n       <use x=\"127.246094\" xlink:href=\"#DejaVuSans-30\"/>\n       <use x=\"190.869141\" xlink:href=\"#DejaVuSans-30\"/>\n       <use x=\"254.492188\" xlink:href=\"#DejaVuSans-30\"/>\n      </g>\n     </g>\n    </g>\n    <g id=\"ytick_6\">\n     <g id=\"line2d_10\">\n      <g>\n       <use style=\"stroke:#000000;stroke-width:0.8;\" x=\"66.053125\" xlink:href=\"#m1049f4b877\" y=\"74.476825\"/>\n      </g>\n     </g>\n     <g id=\"text_11\">\n      <!-- 100000 -->\n      <g transform=\"translate(20.878125 78.276044)scale(0.1 -0.1)\">\n       <use xlink:href=\"#DejaVuSans-31\"/>\n       <use x=\"63.623047\" xlink:href=\"#DejaVuSans-30\"/>\n       <use x=\"127.246094\" xlink:href=\"#DejaVuSans-30\"/>\n       <use x=\"190.869141\" xlink:href=\"#DejaVuSans-30\"/>\n       <use x=\"254.492188\" xlink:href=\"#DejaVuSans-30\"/>\n       <use x=\"318.115234\" xlink:href=\"#DejaVuSans-30\"/>\n      </g>\n     </g>\n    </g>\n    <g id=\"ytick_7\">\n     <g id=\"line2d_11\">\n      <g>\n       <use style=\"stroke:#000000;stroke-width:0.8;\" x=\"66.053125\" xlink:href=\"#m1049f4b877\" y=\"43.74419\"/>\n      </g>\n     </g>\n     <g id=\"text_12\">\n      <!-- 120000 -->\n      <g transform=\"translate(20.878125 47.543409)scale(0.1 -0.1)\">\n       <use xlink:href=\"#DejaVuSans-31\"/>\n       <use x=\"63.623047\" xlink:href=\"#DejaVuSans-32\"/>\n       <use x=\"127.246094\" xlink:href=\"#DejaVuSans-30\"/>\n       <use x=\"190.869141\" xlink:href=\"#DejaVuSans-30\"/>\n       <use x=\"254.492188\" xlink:href=\"#DejaVuSans-30\"/>\n       <use x=\"318.115234\" xlink:href=\"#DejaVuSans-30\"/>\n      </g>\n     </g>\n    </g>\n    <g id=\"ytick_8\">\n     <g id=\"line2d_12\">\n      <g>\n       <use style=\"stroke:#000000;stroke-width:0.8;\" x=\"66.053125\" xlink:href=\"#m1049f4b877\" y=\"13.011555\"/>\n      </g>\n     </g>\n     <g id=\"text_13\">\n      <!-- 140000 -->\n      <g transform=\"translate(20.878125 16.810774)scale(0.1 -0.1)\">\n       <use xlink:href=\"#DejaVuSans-31\"/>\n       <use x=\"63.623047\" xlink:href=\"#DejaVuSans-34\"/>\n       <use x=\"127.246094\" xlink:href=\"#DejaVuSans-30\"/>\n       <use x=\"190.869141\" xlink:href=\"#DejaVuSans-30\"/>\n       <use x=\"254.492188\" xlink:href=\"#DejaVuSans-30\"/>\n       <use x=\"318.115234\" xlink:href=\"#DejaVuSans-30\"/>\n      </g>\n     </g>\n    </g>\n    <g id=\"text_14\">\n     <!-- count -->\n     <defs>\n      <path d=\"M 8.5 21.578125 \nL 8.5 54.6875 \nL 17.484375 54.6875 \nL 17.484375 21.921875 \nQ 17.484375 14.15625 20.5 10.265625 \nQ 23.53125 6.390625 29.59375 6.390625 \nQ 36.859375 6.390625 41.078125 11.03125 \nQ 45.3125 15.671875 45.3125 23.6875 \nL 45.3125 54.6875 \nL 54.296875 54.6875 \nL 54.296875 0 \nL 45.3125 0 \nL 45.3125 8.40625 \nQ 42.046875 3.421875 37.71875 1 \nQ 33.40625 -1.421875 27.6875 -1.421875 \nQ 18.265625 -1.421875 13.375 4.4375 \nQ 8.5 10.296875 8.5 21.578125 \nz\nM 31.109375 56 \nz\n\" id=\"DejaVuSans-75\"/>\n      <path d=\"M 18.3125 70.21875 \nL 18.3125 54.6875 \nL 36.8125 54.6875 \nL 36.8125 47.703125 \nL 18.3125 47.703125 \nL 18.3125 18.015625 \nQ 18.3125 11.328125 20.140625 9.421875 \nQ 21.96875 7.515625 27.59375 7.515625 \nL 36.8125 7.515625 \nL 36.8125 0 \nL 27.59375 0 \nQ 17.1875 0 13.234375 3.875 \nQ 9.28125 7.765625 9.28125 18.015625 \nL 9.28125 47.703125 \nL 2.6875 47.703125 \nL 2.6875 54.6875 \nL 9.28125 54.6875 \nL 9.28125 70.21875 \nz\n\" id=\"DejaVuSans-74\"/>\n     </defs>\n     <g transform=\"translate(14.798438 133.52625)rotate(-90)scale(0.1 -0.1)\">\n      <use xlink:href=\"#DejaVuSans-63\"/>\n      <use x=\"54.980469\" xlink:href=\"#DejaVuSans-6f\"/>\n      <use x=\"116.162109\" xlink:href=\"#DejaVuSans-75\"/>\n      <use x=\"179.541016\" xlink:href=\"#DejaVuSans-6e\"/>\n      <use x=\"242.919922\" xlink:href=\"#DejaVuSans-74\"/>\n     </g>\n    </g>\n   </g>\n   <g id=\"patch_7\">\n    <path d=\"M 66.053125 228.14 \nL 66.053125 10.7 \n\" style=\"fill:none;stroke:#000000;stroke-linecap:square;stroke-linejoin:miter;stroke-width:0.8;\"/>\n   </g>\n   <g id=\"patch_8\">\n    <path d=\"M 400.853125 228.14 \nL 400.853125 10.7 \n\" style=\"fill:none;stroke:#000000;stroke-linecap:square;stroke-linejoin:miter;stroke-width:0.8;\"/>\n   </g>\n   <g id=\"patch_9\">\n    <path d=\"M 66.053125 228.14 \nL 400.853125 228.14 \n\" style=\"fill:none;stroke:#000000;stroke-linecap:square;stroke-linejoin:miter;stroke-width:0.8;\"/>\n   </g>\n   <g id=\"patch_10\">\n    <path d=\"M 66.053125 10.7 \nL 400.853125 10.7 \n\" style=\"fill:none;stroke:#000000;stroke-linecap:square;stroke-linejoin:miter;stroke-width:0.8;\"/>\n   </g>\n  </g>\n </g>\n <defs>\n  <clipPath id=\"p3d9a7c6864\">\n   <rect height=\"217.44\" width=\"334.8\" x=\"66.053125\" y=\"10.7\"/>\n  </clipPath>\n </defs>\n</svg>\n",
      "image/png": "[encoded data removed]"
     },
     "metadata": {}
    }
   ],
   "source": [
    "import seaborn as sns\n",
    "sns.countplot(train_psc)"
   ]
  },
  {
   "cell_type": "code",
   "execution_count": 412,
   "metadata": {},
   "outputs": [],
   "source": [
    "df_train_agg['PSC_Plus'] = train_psc\n",
    "df_train_agg['PSC_Plus'] = df_train_agg['PSC_Plus'].astype('str')\n",
    "# df_train_agg=pd.get_dummies(df_train_agg ,drop_first=True)"
   ]
  },
  {
   "cell_type": "code",
   "execution_count": 413,
   "metadata": {},
   "outputs": [
    {
     "output_type": "execute_result",
     "data": {
      "text/plain": [
       "           id  Gender  Age  Driving_License  Region_Code  Previously_Insured  \\\n",
       "0           0    Male   27              1.0         46.0                   1   \n",
       "1           1  Female   44              1.0         28.0                   0   \n",
       "2           2    Male   52              1.0         46.0                   0   \n",
       "3           3    Male   23              1.0         46.0                   1   \n",
       "4           4  Female   43              1.0         28.0                   0   \n",
       "...       ...     ...  ...              ...          ...                 ...   \n",
       "381104  76216  Female   46              1.0          3.0                   0   \n",
       "381105  76217  Female   37              1.0          0.0                   0   \n",
       "381106  76218    Male   33              1.0         49.0                   1   \n",
       "381107  76219    Male   72              1.0         28.0                   0   \n",
       "381108  76220    Male   55              1.0          0.0                   0   \n",
       "\n",
       "       Vehicle_Age Vehicle_Damage  Annual_Premium  Policy_Sales_Channel  ...  \\\n",
       "0         < 1 Year             No         33138.0                   152  ...   \n",
       "1        > 2 Years            Yes         60529.0                    26  ...   \n",
       "2        > 2 Years            Yes         22476.0                   124  ...   \n",
       "3         < 1 Year             No          2630.0                   152  ...   \n",
       "4         1-2 Year            Yes         32543.0                   124  ...   \n",
       "...            ...            ...             ...                   ...  ...   \n",
       "381104   > 2 Years            Yes         30714.0                    26  ...   \n",
       "381105    1-2 Year             No          2630.0                    61  ...   \n",
       "381106    < 1 Year             No         33553.0                   152  ...   \n",
       "381107   > 2 Years            Yes         34283.0                   124  ...   \n",
       "381108    1-2 Year            Yes          2630.0                    26  ...   \n",
       "\n",
       "        mean_Policy_Region_Age  std_Policy_Region_Age  \\\n",
       "0                    25.368349               5.782044   \n",
       "1                    51.447656              12.006194   \n",
       "2                    46.490884              11.923756   \n",
       "3                    25.368349               5.782044   \n",
       "4                    46.972322              12.202753   \n",
       "...                        ...                    ...   \n",
       "381104               50.539577              13.409988   \n",
       "381105               46.928571              10.523091   \n",
       "381106               26.067141               5.997757   \n",
       "381107               46.972322              12.202753   \n",
       "381108               49.599260              10.746160   \n",
       "\n",
       "       nunique_Policy_Region_Age  mean_Policy_Region_Annual_Premium  \\\n",
       "0                             52                       28692.804348   \n",
       "1                             66                       40305.919541   \n",
       "2                             62                       27639.782313   \n",
       "3                             52                       28692.804348   \n",
       "4                             65                       38575.319676   \n",
       "...                          ...                                ...   \n",
       "381104                        60                       25793.568580   \n",
       "381105                        21                        2630.000000   \n",
       "381106                        38                       24754.181078   \n",
       "381107                        65                       38575.319676   \n",
       "381108                        52                        3100.286067   \n",
       "\n",
       "        std_Policy_Region_Annual_Premium  \\\n",
       "0                           10776.206599   \n",
       "1                           17732.672073   \n",
       "2                           12297.386051   \n",
       "3                           10776.206599   \n",
       "4                           17342.920486   \n",
       "...                                  ...   \n",
       "381104                      15840.237805   \n",
       "381105                          0.000000   \n",
       "381106                      11965.374232   \n",
       "381107                      17342.920486   \n",
       "381108                       5001.313918   \n",
       "\n",
       "        nunique_Policy_Region_Annual_Premium  mean_Policy_Region_Vintage  \\\n",
       "0                                       5269                  153.742019   \n",
       "1                                      21534                  154.276105   \n",
       "2                                       2853                  153.779592   \n",
       "3                                       5269                  153.742019   \n",
       "4                                      17036                  154.698849   \n",
       "...                                      ...                         ...   \n",
       "381104                                  1209                  154.548036   \n",
       "381105                                     1                  196.392857   \n",
       "381106                                   750                  154.773143   \n",
       "381107                                 17036                  154.698849   \n",
       "381108                                     9                  152.415536   \n",
       "\n",
       "        std_Policy_Region_Vintage  nunique_Policy_Region_Vintage  PSC_Plus  \n",
       "0                       84.324167                            290         1  \n",
       "1                       83.739435                            290         2  \n",
       "2                       83.784946                            290         3  \n",
       "3                       84.324167                            290         1  \n",
       "4                       83.438898                            290         3  \n",
       "...                           ...                            ...       ...  \n",
       "381104                  82.403943                            289         2  \n",
       "381105                  80.288526                             24         0  \n",
       "381106                  80.756406                            281         1  \n",
       "381107                  83.438898                            290         3  \n",
       "381108                  84.853854                            272         2  \n",
       "\n",
       "[381109 rows x 23 columns]"
      ],
      "text/html": "<div>\n<style scoped>\n    .dataframe tbody tr th:only-of-type {\n        vertical-align: middle;\n    }\n\n    .dataframe tbody tr th {\n        vertical-align: top;\n    }\n\n    .dataframe thead th {\n        text-align: right;\n    }\n</style>\n<table border=\"1\" class=\"dataframe\">\n  <thead>\n    <tr style=\"text-align: right;\">\n      <th></th>\n      <th>id</th>\n      <th>Gender</th>\n      <th>Age</th>\n      <th>Driving_License</th>\n      <th>Region_Code</th>\n      <th>Previously_Insured</th>\n      <th>Vehicle_Age</th>\n      <th>Vehicle_Damage</th>\n      <th>Annual_Premium</th>\n      <th>Policy_Sales_Channel</th>\n      <th>...</th>\n      <th>mean_Policy_Region_Age</th>\n      <th>std_Policy_Region_Age</th>\n      <th>nunique_Policy_Region_Age</th>\n      <th>mean_Policy_Region_Annual_Premium</th>\n      <th>std_Policy_Region_Annual_Premium</th>\n      <th>nunique_Policy_Region_Annual_Premium</th>\n      <th>mean_Policy_Region_Vintage</th>\n      <th>std_Policy_Region_Vintage</th>\n      <th>nunique_Policy_Region_Vintage</th>\n      <th>PSC_Plus</th>\n    </tr>\n  </thead>\n  <tbody>\n    <tr>\n      <th>0</th>\n      <td>0</td>\n      <td>Male</td>\n      <td>27</td>\n      <td>1.0</td>\n      <td>46.0</td>\n      <td>1</td>\n      <td>&lt; 1 Year</td>\n      <td>No</td>\n      <td>33138.0</td>\n      <td>152</td>\n      <td>...</td>\n      <td>25.368349</td>\n      <td>5.782044</td>\n      <td>52</td>\n      <td>28692.804348</td>\n      <td>10776.206599</td>\n      <td>5269</td>\n      <td>153.742019</td>\n      <td>84.324167</td>\n      <td>290</td>\n      <td>1</td>\n    </tr>\n    <tr>\n      <th>1</th>\n      <td>1</td>\n      <td>Female</td>\n      <td>44</td>\n      <td>1.0</td>\n      <td>28.0</td>\n      <td>0</td>\n      <td>&gt; 2 Years</td>\n      <td>Yes</td>\n      <td>60529.0</td>\n      <td>26</td>\n      <td>...</td>\n      <td>51.447656</td>\n      <td>12.006194</td>\n      <td>66</td>\n      <td>40305.919541</td>\n      <td>17732.672073</td>\n      <td>21534</td>\n      <td>154.276105</td>\n      <td>83.739435</td>\n      <td>290</td>\n      <td>2</td>\n    </tr>\n    <tr>\n      <th>2</th>\n      <td>2</td>\n      <td>Male</td>\n      <td>52</td>\n      <td>1.0</td>\n      <td>46.0</td>\n      <td>0</td>\n      <td>&gt; 2 Years</td>\n      <td>Yes</td>\n      <td>22476.0</td>\n      <td>124</td>\n      <td>...</td>\n      <td>46.490884</td>\n      <td>11.923756</td>\n      <td>62</td>\n      <td>27639.782313</td>\n      <td>12297.386051</td>\n      <td>2853</td>\n      <td>153.779592</td>\n      <td>83.784946</td>\n      <td>290</td>\n      <td>3</td>\n    </tr>\n    <tr>\n      <th>3</th>\n      <td>3</td>\n      <td>Male</td>\n      <td>23</td>\n      <td>1.0</td>\n      <td>46.0</td>\n      <td>1</td>\n      <td>&lt; 1 Year</td>\n      <td>No</td>\n      <td>2630.0</td>\n      <td>152</td>\n      <td>...</td>\n      <td>25.368349</td>\n      <td>5.782044</td>\n      <td>52</td>\n      <td>28692.804348</td>\n      <td>10776.206599</td>\n      <td>5269</td>\n      <td>153.742019</td>\n      <td>84.324167</td>\n      <td>290</td>\n      <td>1</td>\n    </tr>\n    <tr>\n      <th>4</th>\n      <td>4</td>\n      <td>Female</td>\n      <td>43</td>\n      <td>1.0</td>\n      <td>28.0</td>\n      <td>0</td>\n      <td>1-2 Year</td>\n      <td>Yes</td>\n      <td>32543.0</td>\n      <td>124</td>\n      <td>...</td>\n      <td>46.972322</td>\n      <td>12.202753</td>\n      <td>65</td>\n      <td>38575.319676</td>\n      <td>17342.920486</td>\n      <td>17036</td>\n      <td>154.698849</td>\n      <td>83.438898</td>\n      <td>290</td>\n      <td>3</td>\n    </tr>\n    <tr>\n      <th>...</th>\n      <td>...</td>\n      <td>...</td>\n      <td>...</td>\n      <td>...</td>\n      <td>...</td>\n      <td>...</td>\n      <td>...</td>\n      <td>...</td>\n      <td>...</td>\n      <td>...</td>\n      <td>...</td>\n      <td>...</td>\n      <td>...</td>\n      <td>...</td>\n      <td>...</td>\n      <td>...</td>\n      <td>...</td>\n      <td>...</td>\n      <td>...</td>\n      <td>...</td>\n      <td>...</td>\n    </tr>\n    <tr>\n      <th>381104</th>\n      <td>76216</td>\n      <td>Female</td>\n      <td>46</td>\n      <td>1.0</td>\n      <td>3.0</td>\n      <td>0</td>\n      <td>&gt; 2 Years</td>\n      <td>Yes</td>\n      <td>30714.0</td>\n      <td>26</td>\n      <td>...</td>\n      <td>50.539577</td>\n      <td>13.409988</td>\n      <td>60</td>\n      <td>25793.568580</td>\n      <td>15840.237805</td>\n      <td>1209</td>\n      <td>154.548036</td>\n      <td>82.403943</td>\n      <td>289</td>\n      <td>2</td>\n    </tr>\n    <tr>\n      <th>381105</th>\n      <td>76217</td>\n      <td>Female</td>\n      <td>37</td>\n      <td>1.0</td>\n      <td>0.0</td>\n      <td>0</td>\n      <td>1-2 Year</td>\n      <td>No</td>\n      <td>2630.0</td>\n      <td>61</td>\n      <td>...</td>\n      <td>46.928571</td>\n      <td>10.523091</td>\n      <td>21</td>\n      <td>2630.000000</td>\n      <td>0.000000</td>\n      <td>1</td>\n      <td>196.392857</td>\n      <td>80.288526</td>\n      <td>24</td>\n      <td>0</td>\n    </tr>\n    <tr>\n      <th>381106</th>\n      <td>76218</td>\n      <td>Male</td>\n      <td>33</td>\n      <td>1.0</td>\n      <td>49.0</td>\n      <td>1</td>\n      <td>&lt; 1 Year</td>\n      <td>No</td>\n      <td>33553.0</td>\n      <td>152</td>\n      <td>...</td>\n      <td>26.067141</td>\n      <td>5.997757</td>\n      <td>38</td>\n      <td>24754.181078</td>\n      <td>11965.374232</td>\n      <td>750</td>\n      <td>154.773143</td>\n      <td>80.756406</td>\n      <td>281</td>\n      <td>1</td>\n    </tr>\n    <tr>\n      <th>381107</th>\n      <td>76219</td>\n      <td>Male</td>\n      <td>72</td>\n      <td>1.0</td>\n      <td>28.0</td>\n      <td>0</td>\n      <td>&gt; 2 Years</td>\n      <td>Yes</td>\n      <td>34283.0</td>\n      <td>124</td>\n      <td>...</td>\n      <td>46.972322</td>\n      <td>12.202753</td>\n      <td>65</td>\n      <td>38575.319676</td>\n      <td>17342.920486</td>\n      <td>17036</td>\n      <td>154.698849</td>\n      <td>83.438898</td>\n      <td>290</td>\n      <td>3</td>\n    </tr>\n    <tr>\n      <th>381108</th>\n      <td>76220</td>\n      <td>Male</td>\n      <td>55</td>\n      <td>1.0</td>\n      <td>0.0</td>\n      <td>0</td>\n      <td>1-2 Year</td>\n      <td>Yes</td>\n      <td>2630.0</td>\n      <td>26</td>\n      <td>...</td>\n      <td>49.599260</td>\n      <td>10.746160</td>\n      <td>52</td>\n      <td>3100.286067</td>\n      <td>5001.313918</td>\n      <td>9</td>\n      <td>152.415536</td>\n      <td>84.853854</td>\n      <td>272</td>\n      <td>2</td>\n    </tr>\n  </tbody>\n</table>\n<p>381109 rows × 23 columns</p>\n</div>"
     },
     "metadata": {},
     "execution_count": 413
    }
   ],
   "source": [
    "df_train_agg"
   ]
  },
  {
   "cell_type": "code",
   "execution_count": 414,
   "metadata": {},
   "outputs": [
    {
     "output_type": "execute_result",
     "data": {
      "text/plain": [
       "0         0\n",
       "1         1\n",
       "2         0\n",
       "3         0\n",
       "4         1\n",
       "         ..\n",
       "381104    0\n",
       "381105    0\n",
       "381106    0\n",
       "381107    1\n",
       "381108    0\n",
       "Name: Region_Code, Length: 381109, dtype: int64"
      ]
     },
     "metadata": {},
     "execution_count": 414
    }
   ],
   "source": [
    "# 提取Region_Code中出现频率最大的样本，进行编码\n",
    "df_train_agg['Region_Code'] = df_train_agg['Region_Code'].astype('int')\n",
    "rc_min = np.int(np.min(df_train_agg['Region_Code']))\n",
    "rc_max = np.int(np.max(df_train_agg['Region_Code']))\n",
    "rc_counts = [ np.sum(df_train_agg['Region_Code'] == i) for i in range(rc_min, rc_max+1)]\n",
    "rc_sort = rc_counts.copy()\n",
    "rc_sort.sort(reverse=True)\n",
    "rc_threshold = rc_sort[0]\n",
    "rc_cats = 1\n",
    "\n",
    "train_rc = df_train_agg['Region_Code'].copy()\n",
    "for i in range(len(train_rc)):\n",
    "    now_rc = train_rc[i]-rc_min\n",
    "    if (rc_counts[now_rc] >= rc_threshold):\n",
    "        for j in range(rc_cats):\n",
    "            if (rc_sort[j] == rc_counts[now_rc]):\n",
    "                train_rc[i] = j+1\n",
    "                break\n",
    "    else:\n",
    "        train_rc[i] = 0\n",
    "train_rc"
   ]
  },
  {
   "cell_type": "code",
   "execution_count": 415,
   "metadata": {},
   "outputs": [],
   "source": [
    "df_train_agg['RC_Plus'] = train_rc\n",
    "df_train_agg['RC_Plus'] = df_train_agg['RC_Plus'].astype('str')\n",
    "\n",
    "real_train = df_train_agg[df_train_agg['way'] == 'train']\n",
    "real_vaild = df_train_agg[df_train_agg['way'] == 'vaild']\n",
    "\n",
    "real_train = real_train.drop(['way'],axis=1)\n",
    "real_vaild = real_vaild.drop(['way'],axis=1)\n"
   ]
  },
  {
   "cell_type": "code",
   "execution_count": 416,
   "metadata": {},
   "outputs": [
    {
     "output_type": "execute_result",
     "data": {
      "text/plain": [
       "            id  Age  Driving_License  Region_Code  Previously_Insured  \\\n",
       "0            0   27              1.0           46                   1   \n",
       "1            1   44              1.0           28                   0   \n",
       "2            2   52              1.0           46                   0   \n",
       "3            3   23              1.0           46                   1   \n",
       "4            4   43              1.0           28                   0   \n",
       "...        ...  ...              ...          ...                 ...   \n",
       "304883  304883   20              1.0            7                   0   \n",
       "304884  304884   24              1.0           20                   0   \n",
       "304885  304885   25              1.0           36                   1   \n",
       "304886  304886   22              1.0            8                   1   \n",
       "304887  304887   26              1.0           28                   1   \n",
       "\n",
       "        Annual_Premium  Policy_Sales_Channel  Vintage  Response  \\\n",
       "0              33138.0                   152      223         0   \n",
       "1              60529.0                    26      158         1   \n",
       "2              22476.0                   124      226         1   \n",
       "3               2630.0                   152      163         0   \n",
       "4              32543.0                   124       56         1   \n",
       "...                ...                   ...      ...       ...   \n",
       "304883          2630.0                   160      264         0   \n",
       "304884          2630.0                    26       63         0   \n",
       "304885         26826.0                   152       26         0   \n",
       "304886         71548.0                   152      140         0   \n",
       "304887         31674.0                   152       88         0   \n",
       "\n",
       "        mean_Policy_Region_Age  ...  std_Policy_Region_Vintage  \\\n",
       "0                    25.368349  ...                  84.324167   \n",
       "1                    51.447656  ...                  83.739435   \n",
       "2                    46.490884  ...                  83.784946   \n",
       "3                    25.368349  ...                  84.324167   \n",
       "4                    46.972322  ...                  83.438898   \n",
       "...                        ...  ...                        ...   \n",
       "304883               24.259124  ...                  83.613991   \n",
       "304884               52.592058  ...                  83.476452   \n",
       "304885               25.735354  ...                  84.359467   \n",
       "304886               25.964049  ...                  83.797696   \n",
       "304887               27.218766  ...                  83.716335   \n",
       "\n",
       "        nunique_Policy_Region_Vintage  Gender_Male  Vehicle_Age_1_Year_down  \\\n",
       "0                                 290            1                        1   \n",
       "1                                 290            0                        0   \n",
       "2                                 290            1                        0   \n",
       "3                                 290            1                        1   \n",
       "4                                 290            0                        0   \n",
       "...                               ...          ...                      ...   \n",
       "304883                            173            0                        1   \n",
       "304884                            245            0                        1   \n",
       "304885                            290            0                        1   \n",
       "304886                            290            1                        1   \n",
       "304887                            290            0                        1   \n",
       "\n",
       "        Vehicle_Age_2_Years_up  Vehicle_Damage_Yes  PSC_Plus_1  PSC_Plus_2  \\\n",
       "0                            0                   0           1           0   \n",
       "1                            1                   1           0           1   \n",
       "2                            1                   1           0           0   \n",
       "3                            0                   0           1           0   \n",
       "4                            0                   1           0           0   \n",
       "...                        ...                 ...         ...         ...   \n",
       "304883                       0                   1           0           0   \n",
       "304884                       0                   1           0           1   \n",
       "304885                       0                   0           1           0   \n",
       "304886                       0                   0           1           0   \n",
       "304887                       0                   0           1           0   \n",
       "\n",
       "        PSC_Plus_3  RC_Plus_1  \n",
       "0                0          0  \n",
       "1                0          1  \n",
       "2                1          0  \n",
       "3                0          0  \n",
       "4                1          1  \n",
       "...            ...        ...  \n",
       "304883           0          0  \n",
       "304884           0          0  \n",
       "304885           0          0  \n",
       "304886           0          0  \n",
       "304887           0          1  \n",
       "\n",
       "[304888 rows x 26 columns]"
      ],
      "text/html": "<div>\n<style scoped>\n    .dataframe tbody tr th:only-of-type {\n        vertical-align: middle;\n    }\n\n    .dataframe tbody tr th {\n        vertical-align: top;\n    }\n\n    .dataframe thead th {\n        text-align: right;\n    }\n</style>\n<table border=\"1\" class=\"dataframe\">\n  <thead>\n    <tr style=\"text-align: right;\">\n      <th></th>\n      <th>id</th>\n      <th>Age</th>\n      <th>Driving_License</th>\n      <th>Region_Code</th>\n      <th>Previously_Insured</th>\n      <th>Annual_Premium</th>\n      <th>Policy_Sales_Channel</th>\n      <th>Vintage</th>\n      <th>Response</th>\n      <th>mean_Policy_Region_Age</th>\n      <th>...</th>\n      <th>std_Policy_Region_Vintage</th>\n      <th>nunique_Policy_Region_Vintage</th>\n      <th>Gender_Male</th>\n      <th>Vehicle_Age_1_Year_down</th>\n      <th>Vehicle_Age_2_Years_up</th>\n      <th>Vehicle_Damage_Yes</th>\n      <th>PSC_Plus_1</th>\n      <th>PSC_Plus_2</th>\n      <th>PSC_Plus_3</th>\n      <th>RC_Plus_1</th>\n    </tr>\n  </thead>\n  <tbody>\n    <tr>\n      <th>0</th>\n      <td>0</td>\n      <td>27</td>\n      <td>1.0</td>\n      <td>46</td>\n      <td>1</td>\n      <td>33138.0</td>\n      <td>152</td>\n      <td>223</td>\n      <td>0</td>\n      <td>25.368349</td>\n      <td>...</td>\n      <td>84.324167</td>\n      <td>290</td>\n      <td>1</td>\n      <td>1</td>\n      <td>0</td>\n      <td>0</td>\n      <td>1</td>\n      <td>0</td>\n      <td>0</td>\n      <td>0</td>\n    </tr>\n    <tr>\n      <th>1</th>\n      <td>1</td>\n      <td>44</td>\n      <td>1.0</td>\n      <td>28</td>\n      <td>0</td>\n      <td>60529.0</td>\n      <td>26</td>\n      <td>158</td>\n      <td>1</td>\n      <td>51.447656</td>\n      <td>...</td>\n      <td>83.739435</td>\n      <td>290</td>\n      <td>0</td>\n      <td>0</td>\n      <td>1</td>\n      <td>1</td>\n      <td>0</td>\n      <td>1</td>\n      <td>0</td>\n      <td>1</td>\n    </tr>\n    <tr>\n      <th>2</th>\n      <td>2</td>\n      <td>52</td>\n      <td>1.0</td>\n      <td>46</td>\n      <td>0</td>\n      <td>22476.0</td>\n      <td>124</td>\n      <td>226</td>\n      <td>1</td>\n      <td>46.490884</td>\n      <td>...</td>\n      <td>83.784946</td>\n      <td>290</td>\n      <td>1</td>\n      <td>0</td>\n      <td>1</td>\n      <td>1</td>\n      <td>0</td>\n      <td>0</td>\n      <td>1</td>\n      <td>0</td>\n    </tr>\n    <tr>\n      <th>3</th>\n      <td>3</td>\n      <td>23</td>\n      <td>1.0</td>\n      <td>46</td>\n      <td>1</td>\n      <td>2630.0</td>\n      <td>152</td>\n      <td>163</td>\n      <td>0</td>\n      <td>25.368349</td>\n      <td>...</td>\n      <td>84.324167</td>\n      <td>290</td>\n      <td>1</td>\n      <td>1</td>\n      <td>0</td>\n      <td>0</td>\n      <td>1</td>\n      <td>0</td>\n      <td>0</td>\n      <td>0</td>\n    </tr>\n    <tr>\n      <th>4</th>\n      <td>4</td>\n      <td>43</td>\n      <td>1.0</td>\n      <td>28</td>\n      <td>0</td>\n      <td>32543.0</td>\n      <td>124</td>\n      <td>56</td>\n      <td>1</td>\n      <td>46.972322</td>\n      <td>...</td>\n      <td>83.438898</td>\n      <td>290</td>\n      <td>0</td>\n      <td>0</td>\n      <td>0</td>\n      <td>1</td>\n      <td>0</td>\n      <td>0</td>\n      <td>1</td>\n      <td>1</td>\n    </tr>\n    <tr>\n      <th>...</th>\n      <td>...</td>\n      <td>...</td>\n      <td>...</td>\n      <td>...</td>\n      <td>...</td>\n      <td>...</td>\n      <td>...</td>\n      <td>...</td>\n      <td>...</td>\n      <td>...</td>\n      <td>...</td>\n      <td>...</td>\n      <td>...</td>\n      <td>...</td>\n      <td>...</td>\n      <td>...</td>\n      <td>...</td>\n      <td>...</td>\n      <td>...</td>\n      <td>...</td>\n      <td>...</td>\n    </tr>\n    <tr>\n      <th>304883</th>\n      <td>304883</td>\n      <td>20</td>\n      <td>1.0</td>\n      <td>7</td>\n      <td>0</td>\n      <td>2630.0</td>\n      <td>160</td>\n      <td>264</td>\n      <td>0</td>\n      <td>24.259124</td>\n      <td>...</td>\n      <td>83.613991</td>\n      <td>173</td>\n      <td>0</td>\n      <td>1</td>\n      <td>0</td>\n      <td>1</td>\n      <td>0</td>\n      <td>0</td>\n      <td>0</td>\n      <td>0</td>\n    </tr>\n    <tr>\n      <th>304884</th>\n      <td>304884</td>\n      <td>24</td>\n      <td>1.0</td>\n      <td>20</td>\n      <td>0</td>\n      <td>2630.0</td>\n      <td>26</td>\n      <td>63</td>\n      <td>0</td>\n      <td>52.592058</td>\n      <td>...</td>\n      <td>83.476452</td>\n      <td>245</td>\n      <td>0</td>\n      <td>1</td>\n      <td>0</td>\n      <td>1</td>\n      <td>0</td>\n      <td>1</td>\n      <td>0</td>\n      <td>0</td>\n    </tr>\n    <tr>\n      <th>304885</th>\n      <td>304885</td>\n      <td>25</td>\n      <td>1.0</td>\n      <td>36</td>\n      <td>1</td>\n      <td>26826.0</td>\n      <td>152</td>\n      <td>26</td>\n      <td>0</td>\n      <td>25.735354</td>\n      <td>...</td>\n      <td>84.359467</td>\n      <td>290</td>\n      <td>0</td>\n      <td>1</td>\n      <td>0</td>\n      <td>0</td>\n      <td>1</td>\n      <td>0</td>\n      <td>0</td>\n      <td>0</td>\n    </tr>\n    <tr>\n      <th>304886</th>\n      <td>304886</td>\n      <td>22</td>\n      <td>1.0</td>\n      <td>8</td>\n      <td>1</td>\n      <td>71548.0</td>\n      <td>152</td>\n      <td>140</td>\n      <td>0</td>\n      <td>25.964049</td>\n      <td>...</td>\n      <td>83.797696</td>\n      <td>290</td>\n      <td>1</td>\n      <td>1</td>\n      <td>0</td>\n      <td>0</td>\n      <td>1</td>\n      <td>0</td>\n      <td>0</td>\n      <td>0</td>\n    </tr>\n    <tr>\n      <th>304887</th>\n      <td>304887</td>\n      <td>26</td>\n      <td>1.0</td>\n      <td>28</td>\n      <td>1</td>\n      <td>31674.0</td>\n      <td>152</td>\n      <td>88</td>\n      <td>0</td>\n      <td>27.218766</td>\n      <td>...</td>\n      <td>83.716335</td>\n      <td>290</td>\n      <td>0</td>\n      <td>1</td>\n      <td>0</td>\n      <td>0</td>\n      <td>1</td>\n      <td>0</td>\n      <td>0</td>\n      <td>1</td>\n    </tr>\n  </tbody>\n</table>\n<p>304888 rows × 26 columns</p>\n</div>"
     },
     "metadata": {},
     "execution_count": 416
    }
   ],
   "source": [
    "real_train=pd.get_dummies(real_train,drop_first=True)\n",
    "real_train=real_train.rename(columns={\"Vehicle_Age_< 1 Year\": \"Vehicle_Age_1_Year_down\", \"Vehicle_Age_> 2 Years\": \"Vehicle_Age_2_Years_up\"})\n",
    "\n",
    "real_train"
   ]
  },
  {
   "cell_type": "code",
   "execution_count": 417,
   "metadata": {},
   "outputs": [
    {
     "output_type": "execute_result",
     "data": {
      "text/plain": [
       "           id  Age  Driving_License  Region_Code  Previously_Insured  \\\n",
       "304888      0   41              1.0            6                   0   \n",
       "304889      1   28              1.0           28                   1   \n",
       "304890      2   32              1.0            8                   0   \n",
       "304891      3   36              1.0           28                   1   \n",
       "304892      4   32              1.0           15                   0   \n",
       "...       ...  ...              ...          ...                 ...   \n",
       "381104  76216   46              1.0            3                   0   \n",
       "381105  76217   37              1.0            0                   0   \n",
       "381106  76218   33              1.0           49                   1   \n",
       "381107  76219   72              1.0           28                   0   \n",
       "381108  76220   55              1.0            0                   0   \n",
       "\n",
       "        Annual_Premium  Policy_Sales_Channel  Vintage  Response  \\\n",
       "304888         36438.0                   124      119         0   \n",
       "304889         44632.0                   152       91         0   \n",
       "304890         36838.0                   124       83         0   \n",
       "304891         30074.0                   122      273         0   \n",
       "304892         38230.0                   152      297         0   \n",
       "...                ...                   ...      ...       ...   \n",
       "381104         30714.0                    26      148         0   \n",
       "381105          2630.0                    61      143         0   \n",
       "381106         33553.0                   152      267         0   \n",
       "381107         34283.0                   124      284         0   \n",
       "381108          2630.0                    26      154         0   \n",
       "\n",
       "        mean_Policy_Region_Age  ...  std_Policy_Region_Vintage  \\\n",
       "304888               45.676951  ...                  80.944768   \n",
       "304889               27.218766  ...                  83.716335   \n",
       "304890               47.871618  ...                  84.575106   \n",
       "304891               52.461135  ...                  83.387038   \n",
       "304892               26.666575  ...                  83.465197   \n",
       "...                        ...  ...                        ...   \n",
       "381104               50.539577  ...                  82.403943   \n",
       "381105               46.928571  ...                  80.288526   \n",
       "381106               26.067141  ...                  80.756406   \n",
       "381107               46.972322  ...                  83.438898   \n",
       "381108               49.599260  ...                  84.853854   \n",
       "\n",
       "        nunique_Policy_Region_Vintage  Gender_Male  Vehicle_Age_1_Year_down  \\\n",
       "304888                            250            1                        0   \n",
       "304889                            290            0                        1   \n",
       "304890                            290            0                        0   \n",
       "304891                            290            1                        0   \n",
       "304892                            290            0                        1   \n",
       "...                               ...          ...                      ...   \n",
       "381104                            289            0                        0   \n",
       "381105                             24            0                        0   \n",
       "381106                            281            1                        1   \n",
       "381107                            290            1                        0   \n",
       "381108                            272            1                        0   \n",
       "\n",
       "        Vehicle_Age_2_Years_up  Vehicle_Damage_Yes  PSC_Plus_1  PSC_Plus_2  \\\n",
       "304888                       0                   1           0           0   \n",
       "304889                       0                   0           1           0   \n",
       "304890                       0                   1           0           0   \n",
       "304891                       0                   0           0           0   \n",
       "304892                       0                   1           1           0   \n",
       "...                        ...                 ...         ...         ...   \n",
       "381104                       1                   1           0           1   \n",
       "381105                       0                   0           0           0   \n",
       "381106                       0                   0           1           0   \n",
       "381107                       1                   1           0           0   \n",
       "381108                       0                   1           0           1   \n",
       "\n",
       "        PSC_Plus_3  RC_Plus_1  \n",
       "304888           1          0  \n",
       "304889           0          1  \n",
       "304890           1          0  \n",
       "304891           0          1  \n",
       "304892           0          0  \n",
       "...            ...        ...  \n",
       "381104           0          0  \n",
       "381105           0          0  \n",
       "381106           0          0  \n",
       "381107           1          1  \n",
       "381108           0          0  \n",
       "\n",
       "[76221 rows x 26 columns]"
      ],
      "text/html": "<div>\n<style scoped>\n    .dataframe tbody tr th:only-of-type {\n        vertical-align: middle;\n    }\n\n    .dataframe tbody tr th {\n        vertical-align: top;\n    }\n\n    .dataframe thead th {\n        text-align: right;\n    }\n</style>\n<table border=\"1\" class=\"dataframe\">\n  <thead>\n    <tr style=\"text-align: right;\">\n      <th></th>\n      <th>id</th>\n      <th>Age</th>\n      <th>Driving_License</th>\n      <th>Region_Code</th>\n      <th>Previously_Insured</th>\n      <th>Annual_Premium</th>\n      <th>Policy_Sales_Channel</th>\n      <th>Vintage</th>\n      <th>Response</th>\n      <th>mean_Policy_Region_Age</th>\n      <th>...</th>\n      <th>std_Policy_Region_Vintage</th>\n      <th>nunique_Policy_Region_Vintage</th>\n      <th>Gender_Male</th>\n      <th>Vehicle_Age_1_Year_down</th>\n      <th>Vehicle_Age_2_Years_up</th>\n      <th>Vehicle_Damage_Yes</th>\n      <th>PSC_Plus_1</th>\n      <th>PSC_Plus_2</th>\n      <th>PSC_Plus_3</th>\n      <th>RC_Plus_1</th>\n    </tr>\n  </thead>\n  <tbody>\n    <tr>\n      <th>304888</th>\n      <td>0</td>\n      <td>41</td>\n      <td>1.0</td>\n      <td>6</td>\n      <td>0</td>\n      <td>36438.0</td>\n      <td>124</td>\n      <td>119</td>\n      <td>0</td>\n      <td>45.676951</td>\n      <td>...</td>\n      <td>80.944768</td>\n      <td>250</td>\n      <td>1</td>\n      <td>0</td>\n      <td>0</td>\n      <td>1</td>\n      <td>0</td>\n      <td>0</td>\n      <td>1</td>\n      <td>0</td>\n    </tr>\n    <tr>\n      <th>304889</th>\n      <td>1</td>\n      <td>28</td>\n      <td>1.0</td>\n      <td>28</td>\n      <td>1</td>\n      <td>44632.0</td>\n      <td>152</td>\n      <td>91</td>\n      <td>0</td>\n      <td>27.218766</td>\n      <td>...</td>\n      <td>83.716335</td>\n      <td>290</td>\n      <td>0</td>\n      <td>1</td>\n      <td>0</td>\n      <td>0</td>\n      <td>1</td>\n      <td>0</td>\n      <td>0</td>\n      <td>1</td>\n    </tr>\n    <tr>\n      <th>304890</th>\n      <td>2</td>\n      <td>32</td>\n      <td>1.0</td>\n      <td>8</td>\n      <td>0</td>\n      <td>36838.0</td>\n      <td>124</td>\n      <td>83</td>\n      <td>0</td>\n      <td>47.871618</td>\n      <td>...</td>\n      <td>84.575106</td>\n      <td>290</td>\n      <td>0</td>\n      <td>0</td>\n      <td>0</td>\n      <td>1</td>\n      <td>0</td>\n      <td>0</td>\n      <td>1</td>\n      <td>0</td>\n    </tr>\n    <tr>\n      <th>304891</th>\n      <td>3</td>\n      <td>36</td>\n      <td>1.0</td>\n      <td>28</td>\n      <td>1</td>\n      <td>30074.0</td>\n      <td>122</td>\n      <td>273</td>\n      <td>0</td>\n      <td>52.461135</td>\n      <td>...</td>\n      <td>83.387038</td>\n      <td>290</td>\n      <td>1</td>\n      <td>0</td>\n      <td>0</td>\n      <td>0</td>\n      <td>0</td>\n      <td>0</td>\n      <td>0</td>\n      <td>1</td>\n    </tr>\n    <tr>\n      <th>304892</th>\n      <td>4</td>\n      <td>32</td>\n      <td>1.0</td>\n      <td>15</td>\n      <td>0</td>\n      <td>38230.0</td>\n      <td>152</td>\n      <td>297</td>\n      <td>0</td>\n      <td>26.666575</td>\n      <td>...</td>\n      <td>83.465197</td>\n      <td>290</td>\n      <td>0</td>\n      <td>1</td>\n      <td>0</td>\n      <td>1</td>\n      <td>1</td>\n      <td>0</td>\n      <td>0</td>\n      <td>0</td>\n    </tr>\n    <tr>\n      <th>...</th>\n      <td>...</td>\n      <td>...</td>\n      <td>...</td>\n      <td>...</td>\n      <td>...</td>\n      <td>...</td>\n      <td>...</td>\n      <td>...</td>\n      <td>...</td>\n      <td>...</td>\n      <td>...</td>\n      <td>...</td>\n      <td>...</td>\n      <td>...</td>\n      <td>...</td>\n      <td>...</td>\n      <td>...</td>\n      <td>...</td>\n      <td>...</td>\n      <td>...</td>\n      <td>...</td>\n    </tr>\n    <tr>\n      <th>381104</th>\n      <td>76216</td>\n      <td>46</td>\n      <td>1.0</td>\n      <td>3</td>\n      <td>0</td>\n      <td>30714.0</td>\n      <td>26</td>\n      <td>148</td>\n      <td>0</td>\n      <td>50.539577</td>\n      <td>...</td>\n      <td>82.403943</td>\n      <td>289</td>\n      <td>0</td>\n      <td>0</td>\n      <td>1</td>\n      <td>1</td>\n      <td>0</td>\n      <td>1</td>\n      <td>0</td>\n      <td>0</td>\n    </tr>\n    <tr>\n      <th>381105</th>\n      <td>76217</td>\n      <td>37</td>\n      <td>1.0</td>\n      <td>0</td>\n      <td>0</td>\n      <td>2630.0</td>\n      <td>61</td>\n      <td>143</td>\n      <td>0</td>\n      <td>46.928571</td>\n      <td>...</td>\n      <td>80.288526</td>\n      <td>24</td>\n      <td>0</td>\n      <td>0</td>\n      <td>0</td>\n      <td>0</td>\n      <td>0</td>\n      <td>0</td>\n      <td>0</td>\n      <td>0</td>\n    </tr>\n    <tr>\n      <th>381106</th>\n      <td>76218</td>\n      <td>33</td>\n      <td>1.0</td>\n      <td>49</td>\n      <td>1</td>\n      <td>33553.0</td>\n      <td>152</td>\n      <td>267</td>\n      <td>0</td>\n      <td>26.067141</td>\n      <td>...</td>\n      <td>80.756406</td>\n      <td>281</td>\n      <td>1</td>\n      <td>1</td>\n      <td>0</td>\n      <td>0</td>\n      <td>1</td>\n      <td>0</td>\n      <td>0</td>\n      <td>0</td>\n    </tr>\n    <tr>\n      <th>381107</th>\n      <td>76219</td>\n      <td>72</td>\n      <td>1.0</td>\n      <td>28</td>\n      <td>0</td>\n      <td>34283.0</td>\n      <td>124</td>\n      <td>284</td>\n      <td>0</td>\n      <td>46.972322</td>\n      <td>...</td>\n      <td>83.438898</td>\n      <td>290</td>\n      <td>1</td>\n      <td>0</td>\n      <td>1</td>\n      <td>1</td>\n      <td>0</td>\n      <td>0</td>\n      <td>1</td>\n      <td>1</td>\n    </tr>\n    <tr>\n      <th>381108</th>\n      <td>76220</td>\n      <td>55</td>\n      <td>1.0</td>\n      <td>0</td>\n      <td>0</td>\n      <td>2630.0</td>\n      <td>26</td>\n      <td>154</td>\n      <td>0</td>\n      <td>49.599260</td>\n      <td>...</td>\n      <td>84.853854</td>\n      <td>272</td>\n      <td>1</td>\n      <td>0</td>\n      <td>0</td>\n      <td>1</td>\n      <td>0</td>\n      <td>1</td>\n      <td>0</td>\n      <td>0</td>\n    </tr>\n  </tbody>\n</table>\n<p>76221 rows × 26 columns</p>\n</div>"
     },
     "metadata": {},
     "execution_count": 417
    }
   ],
   "source": [
    "real_vaild=pd.get_dummies(real_vaild,drop_first=True)\n",
    "real_vaild=real_vaild.rename(columns={\"Vehicle_Age_< 1 Year\": \"Vehicle_Age_1_Year_down\", \"Vehicle_Age_> 2 Years\": \"Vehicle_Age_2_Years_up\"})\n",
    "real_vaild"
   ]
  },
  {
   "cell_type": "code",
   "execution_count": 418,
   "metadata": {},
   "outputs": [],
   "source": [
    "def normalize(data):\n",
    "    z_feat = ['Annual_Premium', 'Age']\n",
    "    for attr in data.columns:\n",
    "        min_v = np.min(data[attr])\n",
    "        max_v = np.max(data[attr])\n",
    "        if (min_v == 0 and max_v == 1):\n",
    "            continue\n",
    "        mean_v = np.mean(data[attr])\n",
    "        std_v = np.std(data[attr])\n",
    "        if (std_v == 0):\n",
    "            continue\n",
    "        # if attr in z_feat:\n",
    "        data[attr] = (data[attr] - mean_v) / std_v\n",
    "        # else:\n",
    "            # data[attr] = (data[attr] - min_v) / (max_v - min_v)\n",
    "\n",
    "normalize(real_train)\n",
    "normalize(real_vaild)"
   ]
  },
  {
   "cell_type": "code",
   "execution_count": 419,
   "metadata": {},
   "outputs": [],
   "source": [
    "## 特征聚类结果导出\n",
    "real_train.to_csv('data/train_clean_v4.csv', index=False)\n",
    "real_vaild.to_csv('data/tmp_clean_v4.csv', index=False)\n",
    "# df_train_agg.to_csv('data/tmp_clean_v4.csv', index=False)"
   ]
  },
  {
   "cell_type": "code",
   "execution_count": 420,
   "metadata": {},
   "outputs": [],
   "source": [
    "train = pd.read_csv('data/tmp_clean_v4.csv')\n"
   ]
  },
  {
   "cell_type": "code",
   "execution_count": 421,
   "metadata": {},
   "outputs": [
    {
     "output_type": "execute_result",
     "data": {
      "text/plain": [
       "             id       Age  Driving_License  Region_Code  Previously_Insured  \\\n",
       "0      0.000000  0.143477              1.0     0.115385                   0   \n",
       "1      0.000013 -0.695237              1.0     0.538462                   1   \n",
       "2      0.000026 -0.437171              1.0     0.153846                   0   \n",
       "3      0.000039 -0.179105              1.0     0.538462                   1   \n",
       "4      0.000052 -0.437171              1.0     0.288462                   0   \n",
       "...         ...       ...              ...          ...                 ...   \n",
       "76216  0.999948  0.466060              1.0     0.057692                   0   \n",
       "76217  0.999961 -0.114588              1.0     0.000000                   0   \n",
       "76218  0.999974 -0.372654              1.0     0.942308                   1   \n",
       "76219  0.999987  2.143487              1.0     0.538462                   0   \n",
       "76220  1.000000  1.046708              1.0     0.000000                   0   \n",
       "\n",
       "       Annual_Premium  Policy_Sales_Channel   Vintage  Response  \\\n",
       "0            0.336961              0.759259  0.377163         0   \n",
       "1            0.811089              0.932099  0.280277         0   \n",
       "2            0.360106              0.759259  0.252595         0   \n",
       "3           -0.031278              0.746914  0.910035         0   \n",
       "4            0.440651              0.932099  0.993080         0   \n",
       "...               ...                   ...       ...       ...   \n",
       "76216        0.005754              0.154321  0.477509         0   \n",
       "76217       -1.619267              0.370370  0.460208         0   \n",
       "76218        0.170026              0.932099  0.889273         0   \n",
       "76219        0.212266              0.759259  0.948097         0   \n",
       "76220       -1.619267              0.154321  0.498270         0   \n",
       "\n",
       "       mean_Policy_Region_Age  ...  std_Policy_Region_Vintage  \\\n",
       "0                    0.442706  ...                   0.493419   \n",
       "1                    0.124461  ...                   0.510314   \n",
       "2                    0.480545  ...                   0.515549   \n",
       "3                    0.559675  ...                   0.508306   \n",
       "4                    0.114941  ...                   0.508783   \n",
       "...                       ...  ...                        ...   \n",
       "76216                0.526544  ...                   0.502314   \n",
       "76217                0.464286  ...                   0.489419   \n",
       "76218                0.104606  ...                   0.492271   \n",
       "76219                0.465040  ...                   0.508623   \n",
       "76220                0.510332  ...                   0.517248   \n",
       "\n",
       "       nunique_Policy_Region_Vintage  Gender_Male  Vehicle_Age_1_Year_down  \\\n",
       "0                           0.861592            1                        0   \n",
       "1                           1.000000            0                        1   \n",
       "2                           1.000000            0                        0   \n",
       "3                           1.000000            1                        0   \n",
       "4                           1.000000            0                        1   \n",
       "...                              ...          ...                      ...   \n",
       "76216                       0.996540            0                        0   \n",
       "76217                       0.079585            0                        0   \n",
       "76218                       0.968858            1                        1   \n",
       "76219                       1.000000            1                        0   \n",
       "76220                       0.937716            1                        0   \n",
       "\n",
       "       Vehicle_Age_2_Years_up  Vehicle_Damage_Yes  PSC_Plus_1  PSC_Plus_2  \\\n",
       "0                           0                   1           0           0   \n",
       "1                           0                   0           1           0   \n",
       "2                           0                   1           0           0   \n",
       "3                           0                   0           0           0   \n",
       "4                           0                   1           1           0   \n",
       "...                       ...                 ...         ...         ...   \n",
       "76216                       1                   1           0           1   \n",
       "76217                       0                   0           0           0   \n",
       "76218                       0                   0           1           0   \n",
       "76219                       1                   1           0           0   \n",
       "76220                       0                   1           0           1   \n",
       "\n",
       "       PSC_Plus_3  RC_Plus_1  \n",
       "0               1          0  \n",
       "1               0          1  \n",
       "2               1          0  \n",
       "3               0          1  \n",
       "4               0          0  \n",
       "...           ...        ...  \n",
       "76216           0          0  \n",
       "76217           0          0  \n",
       "76218           0          0  \n",
       "76219           1          1  \n",
       "76220           0          0  \n",
       "\n",
       "[76221 rows x 26 columns]"
      ],
      "text/html": "<div>\n<style scoped>\n    .dataframe tbody tr th:only-of-type {\n        vertical-align: middle;\n    }\n\n    .dataframe tbody tr th {\n        vertical-align: top;\n    }\n\n    .dataframe thead th {\n        text-align: right;\n    }\n</style>\n<table border=\"1\" class=\"dataframe\">\n  <thead>\n    <tr style=\"text-align: right;\">\n      <th></th>\n      <th>id</th>\n      <th>Age</th>\n      <th>Driving_License</th>\n      <th>Region_Code</th>\n      <th>Previously_Insured</th>\n      <th>Annual_Premium</th>\n      <th>Policy_Sales_Channel</th>\n      <th>Vintage</th>\n      <th>Response</th>\n      <th>mean_Policy_Region_Age</th>\n      <th>...</th>\n      <th>std_Policy_Region_Vintage</th>\n      <th>nunique_Policy_Region_Vintage</th>\n      <th>Gender_Male</th>\n      <th>Vehicle_Age_1_Year_down</th>\n      <th>Vehicle_Age_2_Years_up</th>\n      <th>Vehicle_Damage_Yes</th>\n      <th>PSC_Plus_1</th>\n      <th>PSC_Plus_2</th>\n      <th>PSC_Plus_3</th>\n      <th>RC_Plus_1</th>\n    </tr>\n  </thead>\n  <tbody>\n    <tr>\n      <th>0</th>\n      <td>0.000000</td>\n      <td>0.143477</td>\n      <td>1.0</td>\n      <td>0.115385</td>\n      <td>0</td>\n      <td>0.336961</td>\n      <td>0.759259</td>\n      <td>0.377163</td>\n      <td>0</td>\n      <td>0.442706</td>\n      <td>...</td>\n      <td>0.493419</td>\n      <td>0.861592</td>\n      <td>1</td>\n      <td>0</td>\n      <td>0</td>\n      <td>1</td>\n      <td>0</td>\n      <td>0</td>\n      <td>1</td>\n      <td>0</td>\n    </tr>\n    <tr>\n      <th>1</th>\n      <td>0.000013</td>\n      <td>-0.695237</td>\n      <td>1.0</td>\n      <td>0.538462</td>\n      <td>1</td>\n      <td>0.811089</td>\n      <td>0.932099</td>\n      <td>0.280277</td>\n      <td>0</td>\n      <td>0.124461</td>\n      <td>...</td>\n      <td>0.510314</td>\n      <td>1.000000</td>\n      <td>0</td>\n      <td>1</td>\n      <td>0</td>\n      <td>0</td>\n      <td>1</td>\n      <td>0</td>\n      <td>0</td>\n      <td>1</td>\n    </tr>\n    <tr>\n      <th>2</th>\n      <td>0.000026</td>\n      <td>-0.437171</td>\n      <td>1.0</td>\n      <td>0.153846</td>\n      <td>0</td>\n      <td>0.360106</td>\n      <td>0.759259</td>\n      <td>0.252595</td>\n      <td>0</td>\n      <td>0.480545</td>\n      <td>...</td>\n      <td>0.515549</td>\n      <td>1.000000</td>\n      <td>0</td>\n      <td>0</td>\n      <td>0</td>\n      <td>1</td>\n      <td>0</td>\n      <td>0</td>\n      <td>1</td>\n      <td>0</td>\n    </tr>\n    <tr>\n      <th>3</th>\n      <td>0.000039</td>\n      <td>-0.179105</td>\n      <td>1.0</td>\n      <td>0.538462</td>\n      <td>1</td>\n      <td>-0.031278</td>\n      <td>0.746914</td>\n      <td>0.910035</td>\n      <td>0</td>\n      <td>0.559675</td>\n      <td>...</td>\n      <td>0.508306</td>\n      <td>1.000000</td>\n      <td>1</td>\n      <td>0</td>\n      <td>0</td>\n      <td>0</td>\n      <td>0</td>\n      <td>0</td>\n      <td>0</td>\n      <td>1</td>\n    </tr>\n    <tr>\n      <th>4</th>\n      <td>0.000052</td>\n      <td>-0.437171</td>\n      <td>1.0</td>\n      <td>0.288462</td>\n      <td>0</td>\n      <td>0.440651</td>\n      <td>0.932099</td>\n      <td>0.993080</td>\n      <td>0</td>\n      <td>0.114941</td>\n      <td>...</td>\n      <td>0.508783</td>\n      <td>1.000000</td>\n      <td>0</td>\n      <td>1</td>\n      <td>0</td>\n      <td>1</td>\n      <td>1</td>\n      <td>0</td>\n      <td>0</td>\n      <td>0</td>\n    </tr>\n    <tr>\n      <th>...</th>\n      <td>...</td>\n      <td>...</td>\n      <td>...</td>\n      <td>...</td>\n      <td>...</td>\n      <td>...</td>\n      <td>...</td>\n      <td>...</td>\n      <td>...</td>\n      <td>...</td>\n      <td>...</td>\n      <td>...</td>\n      <td>...</td>\n      <td>...</td>\n      <td>...</td>\n      <td>...</td>\n      <td>...</td>\n      <td>...</td>\n      <td>...</td>\n      <td>...</td>\n      <td>...</td>\n    </tr>\n    <tr>\n      <th>76216</th>\n      <td>0.999948</td>\n      <td>0.466060</td>\n      <td>1.0</td>\n      <td>0.057692</td>\n      <td>0</td>\n      <td>0.005754</td>\n      <td>0.154321</td>\n      <td>0.477509</td>\n      <td>0</td>\n      <td>0.526544</td>\n      <td>...</td>\n      <td>0.502314</td>\n      <td>0.996540</td>\n      <td>0</td>\n      <td>0</td>\n      <td>1</td>\n      <td>1</td>\n      <td>0</td>\n      <td>1</td>\n      <td>0</td>\n      <td>0</td>\n    </tr>\n    <tr>\n      <th>76217</th>\n      <td>0.999961</td>\n      <td>-0.114588</td>\n      <td>1.0</td>\n      <td>0.000000</td>\n      <td>0</td>\n      <td>-1.619267</td>\n      <td>0.370370</td>\n      <td>0.460208</td>\n      <td>0</td>\n      <td>0.464286</td>\n      <td>...</td>\n      <td>0.489419</td>\n      <td>0.079585</td>\n      <td>0</td>\n      <td>0</td>\n      <td>0</td>\n      <td>0</td>\n      <td>0</td>\n      <td>0</td>\n      <td>0</td>\n      <td>0</td>\n    </tr>\n    <tr>\n      <th>76218</th>\n      <td>0.999974</td>\n      <td>-0.372654</td>\n      <td>1.0</td>\n      <td>0.942308</td>\n      <td>1</td>\n      <td>0.170026</td>\n      <td>0.932099</td>\n      <td>0.889273</td>\n      <td>0</td>\n      <td>0.104606</td>\n      <td>...</td>\n      <td>0.492271</td>\n      <td>0.968858</td>\n      <td>1</td>\n      <td>1</td>\n      <td>0</td>\n      <td>0</td>\n      <td>1</td>\n      <td>0</td>\n      <td>0</td>\n      <td>0</td>\n    </tr>\n    <tr>\n      <th>76219</th>\n      <td>0.999987</td>\n      <td>2.143487</td>\n      <td>1.0</td>\n      <td>0.538462</td>\n      <td>0</td>\n      <td>0.212266</td>\n      <td>0.759259</td>\n      <td>0.948097</td>\n      <td>0</td>\n      <td>0.465040</td>\n      <td>...</td>\n      <td>0.508623</td>\n      <td>1.000000</td>\n      <td>1</td>\n      <td>0</td>\n      <td>1</td>\n      <td>1</td>\n      <td>0</td>\n      <td>0</td>\n      <td>1</td>\n      <td>1</td>\n    </tr>\n    <tr>\n      <th>76220</th>\n      <td>1.000000</td>\n      <td>1.046708</td>\n      <td>1.0</td>\n      <td>0.000000</td>\n      <td>0</td>\n      <td>-1.619267</td>\n      <td>0.154321</td>\n      <td>0.498270</td>\n      <td>0</td>\n      <td>0.510332</td>\n      <td>...</td>\n      <td>0.517248</td>\n      <td>0.937716</td>\n      <td>1</td>\n      <td>0</td>\n      <td>0</td>\n      <td>1</td>\n      <td>0</td>\n      <td>1</td>\n      <td>0</td>\n      <td>0</td>\n    </tr>\n  </tbody>\n</table>\n<p>76221 rows × 26 columns</p>\n</div>"
     },
     "metadata": {},
     "execution_count": 421
    }
   ],
   "source": [
    "train"
   ]
  },
  {
   "cell_type": "code",
   "execution_count": null,
   "metadata": {},
   "outputs": [],
   "source": []
  }
 ]
}