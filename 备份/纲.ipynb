{
 "metadata": {
  "language_info": {
   "codemirror_mode": {
    "name": "ipython",
    "version": 3
   },
   "file_extension": ".py",
   "mimetype": "text/x-python",
   "name": "python",
   "nbconvert_exporter": "python",
   "pygments_lexer": "ipython3",
   "version": "3.8.3-final"
  },
  "orig_nbformat": 2,
  "kernelspec": {
   "name": "Python 3.8.3 64-bit ('base': conda)",
   "display_name": "Python 3.8.3 64-bit ('base': conda)",
   "metadata": {
    "interpreter": {
     "hash": "79c9d1bfe61bb90fb7be5bc64043ea578cba474de75c55c4010338ea61c39fff"
    }
   }
  }
 },
 "nbformat": 4,
 "nbformat_minor": 2,
 "cells": [
  {
   "cell_type": "code",
   "execution_count": 26,
   "metadata": {},
   "outputs": [],
   "source": [
    "import pandas as pd\n",
    "import numpy as np\n",
    "import seaborn as sns\n",
    "import matplotlib.pyplot as plt"
   ]
  },
  {
   "source": [
    "## 数据采样"
   ],
   "cell_type": "markdown",
   "metadata": {}
  },
  {
   "source": [
    "### 缺失值处理\n",
    "\n"
   ],
   "cell_type": "markdown",
   "metadata": {}
  },
  {
   "cell_type": "code",
   "execution_count": 27,
   "metadata": {},
   "outputs": [
    {
     "output_type": "stream",
     "name": "stdout",
     "text": [
      "<class 'pandas.core.frame.DataFrame'>\nRangeIndex: 304888 entries, 0 to 304887\nData columns (total 12 columns):\n #   Column                Non-Null Count   Dtype  \n---  ------                --------------   -----  \n 0   id                    304888 non-null  int64  \n 1   Gender                304888 non-null  object \n 2   Age                   304888 non-null  int64  \n 3   Driving_License       304010 non-null  float64\n 4   Region_Code           304888 non-null  float64\n 5   Previously_Insured    304888 non-null  int64  \n 6   Vehicle_Age           304888 non-null  object \n 7   Vehicle_Damage        304888 non-null  object \n 8   Annual_Premium        304888 non-null  float64\n 9   Policy_Sales_Channel  304007 non-null  float64\n 10  Vintage               304888 non-null  int64  \n 11  Response              304888 non-null  int64  \ndtypes: float64(4), int64(5), object(3)\nmemory usage: 27.9+ MB\n"
     ]
    }
   ],
   "source": [
    "df_train = pd.read_csv('train.csv')\n",
    "df_train.info()\n",
    "\n",
    "\n",
    "\n"
   ]
  },
  {
   "source": [
    "只有`Driving_License`（0,1）和`Policy_Sales_Channel`（1~163）有缺失值。\n",
    "\n",
    "由于`Driving_License`只有两个数值，所以相关性表现不强。\n",
    "\n"
   ],
   "cell_type": "markdown",
   "metadata": {}
  },
  {
   "cell_type": "code",
   "execution_count": 28,
   "metadata": {},
   "outputs": [
    {
     "output_type": "stream",
     "name": "stdout",
     "text": [
      "{0.0, 1.0}\n"
     ]
    }
   ],
   "source": [
    "df_train[\"Driving_License\"] = df_train[\"Driving_License\"].fillna(1.0)\n",
    "print(set(df_train[\"Driving_License\"]))\n"
   ]
  },
  {
   "cell_type": "code",
   "execution_count": null,
   "metadata": {},
   "outputs": [],
   "source": []
  }
 ]
}