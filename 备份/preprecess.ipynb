{
 "metadata": {
  "language_info": {
   "codemirror_mode": {
    "name": "ipython",
    "version": 3
   },
   "file_extension": ".py",
   "mimetype": "text/x-python",
   "name": "python",
   "nbconvert_exporter": "python",
   "pygments_lexer": "ipython3",
   "version": "3.8.3-final"
  },
  "orig_nbformat": 2,
  "kernelspec": {
   "name": "Python 3.8.3 64-bit ('base': conda)",
   "display_name": "Python 3.8.3 64-bit ('base': conda)",
   "metadata": {
    "interpreter": {
     "hash": "79c9d1bfe61bb90fb7be5bc64043ea578cba474de75c55c4010338ea61c39fff"
    }
   }
  }
 },
 "nbformat": 4,
 "nbformat_minor": 2,
 "cells": [
  {
   "cell_type": "code",
   "execution_count": 12,
   "metadata": {},
   "outputs": [],
   "source": [
    "import numpy as np # linear algebra\n",
    "import pandas as pd # data processing, CSV file I/O (e.g. pd.read_csv)"
   ]
  },
  {
   "cell_type": "code",
   "execution_count": 13,
   "metadata": {},
   "outputs": [],
   "source": [
    "train_raw = pd.read_csv('train2.csv')\n",
    "test = pd.read_csv('test.csv')"
   ]
  },
  {
   "cell_type": "code",
   "execution_count": 14,
   "metadata": {},
   "outputs": [
    {
     "output_type": "execute_result",
     "data": {
      "text/plain": [
       "            id  Gender  Age  Driving_License  Region_Code  Previously_Insured  \\\n",
       "0            1    Male   44                1         28.0                   0   \n",
       "1            2    Male   76                1          3.0                   0   \n",
       "2            3    Male   47                1         28.0                   0   \n",
       "3            4    Male   21                1         11.0                   1   \n",
       "4            5  Female   29                1         41.0                   1   \n",
       "...        ...     ...  ...              ...          ...                 ...   \n",
       "381104  381105    Male   74                1         26.0                   1   \n",
       "381105  381106    Male   30                1         37.0                   1   \n",
       "381106  381107    Male   21                1         30.0                   1   \n",
       "381107  381108  Female   68                1         14.0                   0   \n",
       "381108  381109    Male   46                1         29.0                   0   \n",
       "\n",
       "       Vehicle_Age Vehicle_Damage  Annual_Premium  Policy_Sales_Channel  \\\n",
       "0        > 2 Years            Yes         40454.0                  26.0   \n",
       "1         1-2 Year             No         33536.0                  26.0   \n",
       "2        > 2 Years            Yes         38294.0                  26.0   \n",
       "3         < 1 Year             No         28619.0                 152.0   \n",
       "4         < 1 Year             No         27496.0                 152.0   \n",
       "...            ...            ...             ...                   ...   \n",
       "381104    1-2 Year             No         30170.0                  26.0   \n",
       "381105    < 1 Year             No         40016.0                 152.0   \n",
       "381106    < 1 Year             No         35118.0                 160.0   \n",
       "381107   > 2 Years            Yes         44617.0                 124.0   \n",
       "381108    1-2 Year             No         41777.0                  26.0   \n",
       "\n",
       "        Vintage  Response  \n",
       "0           217         1  \n",
       "1           183         0  \n",
       "2            27         1  \n",
       "3           203         0  \n",
       "4            39         0  \n",
       "...         ...       ...  \n",
       "381104       88         0  \n",
       "381105      131         0  \n",
       "381106      161         0  \n",
       "381107       74         0  \n",
       "381108      237         0  \n",
       "\n",
       "[381109 rows x 12 columns]"
      ],
      "text/html": "<div>\n<style scoped>\n    .dataframe tbody tr th:only-of-type {\n        vertical-align: middle;\n    }\n\n    .dataframe tbody tr th {\n        vertical-align: top;\n    }\n\n    .dataframe thead th {\n        text-align: right;\n    }\n</style>\n<table border=\"1\" class=\"dataframe\">\n  <thead>\n    <tr style=\"text-align: right;\">\n      <th></th>\n      <th>id</th>\n      <th>Gender</th>\n      <th>Age</th>\n      <th>Driving_License</th>\n      <th>Region_Code</th>\n      <th>Previously_Insured</th>\n      <th>Vehicle_Age</th>\n      <th>Vehicle_Damage</th>\n      <th>Annual_Premium</th>\n      <th>Policy_Sales_Channel</th>\n      <th>Vintage</th>\n      <th>Response</th>\n    </tr>\n  </thead>\n  <tbody>\n    <tr>\n      <th>0</th>\n      <td>1</td>\n      <td>Male</td>\n      <td>44</td>\n      <td>1</td>\n      <td>28.0</td>\n      <td>0</td>\n      <td>&gt; 2 Years</td>\n      <td>Yes</td>\n      <td>40454.0</td>\n      <td>26.0</td>\n      <td>217</td>\n      <td>1</td>\n    </tr>\n    <tr>\n      <th>1</th>\n      <td>2</td>\n      <td>Male</td>\n      <td>76</td>\n      <td>1</td>\n      <td>3.0</td>\n      <td>0</td>\n      <td>1-2 Year</td>\n      <td>No</td>\n      <td>33536.0</td>\n      <td>26.0</td>\n      <td>183</td>\n      <td>0</td>\n    </tr>\n    <tr>\n      <th>2</th>\n      <td>3</td>\n      <td>Male</td>\n      <td>47</td>\n      <td>1</td>\n      <td>28.0</td>\n      <td>0</td>\n      <td>&gt; 2 Years</td>\n      <td>Yes</td>\n      <td>38294.0</td>\n      <td>26.0</td>\n      <td>27</td>\n      <td>1</td>\n    </tr>\n    <tr>\n      <th>3</th>\n      <td>4</td>\n      <td>Male</td>\n      <td>21</td>\n      <td>1</td>\n      <td>11.0</td>\n      <td>1</td>\n      <td>&lt; 1 Year</td>\n      <td>No</td>\n      <td>28619.0</td>\n      <td>152.0</td>\n      <td>203</td>\n      <td>0</td>\n    </tr>\n    <tr>\n      <th>4</th>\n      <td>5</td>\n      <td>Female</td>\n      <td>29</td>\n      <td>1</td>\n      <td>41.0</td>\n      <td>1</td>\n      <td>&lt; 1 Year</td>\n      <td>No</td>\n      <td>27496.0</td>\n      <td>152.0</td>\n      <td>39</td>\n      <td>0</td>\n    </tr>\n    <tr>\n      <th>...</th>\n      <td>...</td>\n      <td>...</td>\n      <td>...</td>\n      <td>...</td>\n      <td>...</td>\n      <td>...</td>\n      <td>...</td>\n      <td>...</td>\n      <td>...</td>\n      <td>...</td>\n      <td>...</td>\n      <td>...</td>\n    </tr>\n    <tr>\n      <th>381104</th>\n      <td>381105</td>\n      <td>Male</td>\n      <td>74</td>\n      <td>1</td>\n      <td>26.0</td>\n      <td>1</td>\n      <td>1-2 Year</td>\n      <td>No</td>\n      <td>30170.0</td>\n      <td>26.0</td>\n      <td>88</td>\n      <td>0</td>\n    </tr>\n    <tr>\n      <th>381105</th>\n      <td>381106</td>\n      <td>Male</td>\n      <td>30</td>\n      <td>1</td>\n      <td>37.0</td>\n      <td>1</td>\n      <td>&lt; 1 Year</td>\n      <td>No</td>\n      <td>40016.0</td>\n      <td>152.0</td>\n      <td>131</td>\n      <td>0</td>\n    </tr>\n    <tr>\n      <th>381106</th>\n      <td>381107</td>\n      <td>Male</td>\n      <td>21</td>\n      <td>1</td>\n      <td>30.0</td>\n      <td>1</td>\n      <td>&lt; 1 Year</td>\n      <td>No</td>\n      <td>35118.0</td>\n      <td>160.0</td>\n      <td>161</td>\n      <td>0</td>\n    </tr>\n    <tr>\n      <th>381107</th>\n      <td>381108</td>\n      <td>Female</td>\n      <td>68</td>\n      <td>1</td>\n      <td>14.0</td>\n      <td>0</td>\n      <td>&gt; 2 Years</td>\n      <td>Yes</td>\n      <td>44617.0</td>\n      <td>124.0</td>\n      <td>74</td>\n      <td>0</td>\n    </tr>\n    <tr>\n      <th>381108</th>\n      <td>381109</td>\n      <td>Male</td>\n      <td>46</td>\n      <td>1</td>\n      <td>29.0</td>\n      <td>0</td>\n      <td>1-2 Year</td>\n      <td>No</td>\n      <td>41777.0</td>\n      <td>26.0</td>\n      <td>237</td>\n      <td>0</td>\n    </tr>\n  </tbody>\n</table>\n<p>381109 rows × 12 columns</p>\n</div>"
     },
     "metadata": {},
     "execution_count": 14
    }
   ],
   "source": [
    "train_raw"
   ]
  },
  {
   "cell_type": "code",
   "execution_count": 15,
   "metadata": {},
   "outputs": [
    {
     "output_type": "execute_result",
     "data": {
      "text/plain": [
       "          id  Gender  Age  Driving_License  Region_Code  Previously_Insured  \\\n",
       "0          0    Male   41              1.0          6.0                   0   \n",
       "1          1  Female   28              1.0         28.0                   1   \n",
       "2          2  Female   32              1.0          8.0                   0   \n",
       "3          3    Male   36              1.0         28.0                   1   \n",
       "4          4  Female   32              1.0         15.0                   0   \n",
       "...      ...     ...  ...              ...          ...                 ...   \n",
       "76216  76216  Female   46              1.0          3.0                   0   \n",
       "76217  76217  Female   37              1.0          0.0                   0   \n",
       "76218  76218    Male   33              1.0         49.0                   1   \n",
       "76219  76219    Male   72              1.0         28.0                   0   \n",
       "76220  76220    Male   55              1.0          0.0                   0   \n",
       "\n",
       "      Vehicle_Age Vehicle_Damage  Annual_Premium  Policy_Sales_Channel  \\\n",
       "0        1-2 Year            Yes         36438.0                 124.0   \n",
       "1        < 1 Year             No         44632.0                 152.0   \n",
       "2        1-2 Year            Yes         36838.0                 124.0   \n",
       "3        1-2 Year             No         30074.0                 122.0   \n",
       "4        < 1 Year            Yes         38230.0                 152.0   \n",
       "...           ...            ...             ...                   ...   \n",
       "76216   > 2 Years            Yes         30714.0                  26.0   \n",
       "76217    1-2 Year             No          2630.0                  61.0   \n",
       "76218    < 1 Year             No         33553.0                 152.0   \n",
       "76219   > 2 Years            Yes         34283.0                 124.0   \n",
       "76220    1-2 Year            Yes          2630.0                  26.0   \n",
       "\n",
       "       Vintage  \n",
       "0          119  \n",
       "1           91  \n",
       "2           83  \n",
       "3          273  \n",
       "4          297  \n",
       "...        ...  \n",
       "76216      148  \n",
       "76217      143  \n",
       "76218      267  \n",
       "76219      284  \n",
       "76220      154  \n",
       "\n",
       "[76221 rows x 11 columns]"
      ],
      "text/html": "<div>\n<style scoped>\n    .dataframe tbody tr th:only-of-type {\n        vertical-align: middle;\n    }\n\n    .dataframe tbody tr th {\n        vertical-align: top;\n    }\n\n    .dataframe thead th {\n        text-align: right;\n    }\n</style>\n<table border=\"1\" class=\"dataframe\">\n  <thead>\n    <tr style=\"text-align: right;\">\n      <th></th>\n      <th>id</th>\n      <th>Gender</th>\n      <th>Age</th>\n      <th>Driving_License</th>\n      <th>Region_Code</th>\n      <th>Previously_Insured</th>\n      <th>Vehicle_Age</th>\n      <th>Vehicle_Damage</th>\n      <th>Annual_Premium</th>\n      <th>Policy_Sales_Channel</th>\n      <th>Vintage</th>\n    </tr>\n  </thead>\n  <tbody>\n    <tr>\n      <th>0</th>\n      <td>0</td>\n      <td>Male</td>\n      <td>41</td>\n      <td>1.0</td>\n      <td>6.0</td>\n      <td>0</td>\n      <td>1-2 Year</td>\n      <td>Yes</td>\n      <td>36438.0</td>\n      <td>124.0</td>\n      <td>119</td>\n    </tr>\n    <tr>\n      <th>1</th>\n      <td>1</td>\n      <td>Female</td>\n      <td>28</td>\n      <td>1.0</td>\n      <td>28.0</td>\n      <td>1</td>\n      <td>&lt; 1 Year</td>\n      <td>No</td>\n      <td>44632.0</td>\n      <td>152.0</td>\n      <td>91</td>\n    </tr>\n    <tr>\n      <th>2</th>\n      <td>2</td>\n      <td>Female</td>\n      <td>32</td>\n      <td>1.0</td>\n      <td>8.0</td>\n      <td>0</td>\n      <td>1-2 Year</td>\n      <td>Yes</td>\n      <td>36838.0</td>\n      <td>124.0</td>\n      <td>83</td>\n    </tr>\n    <tr>\n      <th>3</th>\n      <td>3</td>\n      <td>Male</td>\n      <td>36</td>\n      <td>1.0</td>\n      <td>28.0</td>\n      <td>1</td>\n      <td>1-2 Year</td>\n      <td>No</td>\n      <td>30074.0</td>\n      <td>122.0</td>\n      <td>273</td>\n    </tr>\n    <tr>\n      <th>4</th>\n      <td>4</td>\n      <td>Female</td>\n      <td>32</td>\n      <td>1.0</td>\n      <td>15.0</td>\n      <td>0</td>\n      <td>&lt; 1 Year</td>\n      <td>Yes</td>\n      <td>38230.0</td>\n      <td>152.0</td>\n      <td>297</td>\n    </tr>\n    <tr>\n      <th>...</th>\n      <td>...</td>\n      <td>...</td>\n      <td>...</td>\n      <td>...</td>\n      <td>...</td>\n      <td>...</td>\n      <td>...</td>\n      <td>...</td>\n      <td>...</td>\n      <td>...</td>\n      <td>...</td>\n    </tr>\n    <tr>\n      <th>76216</th>\n      <td>76216</td>\n      <td>Female</td>\n      <td>46</td>\n      <td>1.0</td>\n      <td>3.0</td>\n      <td>0</td>\n      <td>&gt; 2 Years</td>\n      <td>Yes</td>\n      <td>30714.0</td>\n      <td>26.0</td>\n      <td>148</td>\n    </tr>\n    <tr>\n      <th>76217</th>\n      <td>76217</td>\n      <td>Female</td>\n      <td>37</td>\n      <td>1.0</td>\n      <td>0.0</td>\n      <td>0</td>\n      <td>1-2 Year</td>\n      <td>No</td>\n      <td>2630.0</td>\n      <td>61.0</td>\n      <td>143</td>\n    </tr>\n    <tr>\n      <th>76218</th>\n      <td>76218</td>\n      <td>Male</td>\n      <td>33</td>\n      <td>1.0</td>\n      <td>49.0</td>\n      <td>1</td>\n      <td>&lt; 1 Year</td>\n      <td>No</td>\n      <td>33553.0</td>\n      <td>152.0</td>\n      <td>267</td>\n    </tr>\n    <tr>\n      <th>76219</th>\n      <td>76219</td>\n      <td>Male</td>\n      <td>72</td>\n      <td>1.0</td>\n      <td>28.0</td>\n      <td>0</td>\n      <td>&gt; 2 Years</td>\n      <td>Yes</td>\n      <td>34283.0</td>\n      <td>124.0</td>\n      <td>284</td>\n    </tr>\n    <tr>\n      <th>76220</th>\n      <td>76220</td>\n      <td>Male</td>\n      <td>55</td>\n      <td>1.0</td>\n      <td>0.0</td>\n      <td>0</td>\n      <td>1-2 Year</td>\n      <td>Yes</td>\n      <td>2630.0</td>\n      <td>26.0</td>\n      <td>154</td>\n    </tr>\n  </tbody>\n</table>\n<p>76221 rows × 11 columns</p>\n</div>"
     },
     "metadata": {},
     "execution_count": 15
    }
   ],
   "source": [
    "test"
   ]
  },
  {
   "cell_type": "code",
   "execution_count": 16,
   "metadata": {},
   "outputs": [
    {
     "output_type": "execute_result",
     "data": {
      "text/plain": [
       "[numpy.int64,\n",
       " str,\n",
       " numpy.int64,\n",
       " numpy.float64,\n",
       " numpy.float64,\n",
       " numpy.int64,\n",
       " str,\n",
       " str,\n",
       " numpy.float64,\n",
       " numpy.float64,\n",
       " numpy.int64]"
      ]
     },
     "metadata": {},
     "execution_count": 16
    }
   ],
   "source": [
    "attrs = test.columns\n",
    "attr_types = [type(test[attrs[i]][0]) for i in range(len(attrs)) ]\n",
    "attr_types"
   ]
  },
  {
   "cell_type": "code",
   "execution_count": 17,
   "metadata": {},
   "outputs": [
    {
     "output_type": "execute_result",
     "data": {
      "text/plain": [
       "[numpy.int64,\n",
       " str,\n",
       " numpy.int64,\n",
       " numpy.int64,\n",
       " numpy.float64,\n",
       " numpy.int64,\n",
       " str,\n",
       " str,\n",
       " numpy.float64,\n",
       " numpy.float64,\n",
       " numpy.int64,\n",
       " numpy.int64]"
      ]
     },
     "metadata": {},
     "execution_count": 17
    }
   ],
   "source": [
    "attrs_raw = train_raw.columns\n",
    "attr_raw_types = [type(train_raw[attrs_raw[i]][0]) for i in range(len(attrs_raw)) ]\n",
    "attr_raw_types"
   ]
  },
  {
   "cell_type": "code",
   "execution_count": 18,
   "metadata": {},
   "outputs": [],
   "source": [
    "attr4 = 'Driving_License'\n",
    "tmp = train_raw[attr4]"
   ]
  },
  {
   "cell_type": "code",
   "execution_count": 19,
   "metadata": {},
   "outputs": [
    {
     "output_type": "execute_result",
     "data": {
      "text/plain": [
       "0         1\n",
       "1         1\n",
       "2         1\n",
       "3         1\n",
       "4         1\n",
       "         ..\n",
       "381104    1\n",
       "381105    1\n",
       "381106    1\n",
       "381107    1\n",
       "381108    1\n",
       "Name: Driving_License, Length: 381109, dtype: int64"
      ]
     },
     "metadata": {},
     "execution_count": 19
    }
   ],
   "source": [
    "tmp"
   ]
  },
  {
   "cell_type": "code",
   "execution_count": 20,
   "metadata": {},
   "outputs": [],
   "source": [
    "train_raw[attr4] =  tmp.astype('float64')"
   ]
  },
  {
   "cell_type": "code",
   "execution_count": 21,
   "metadata": {},
   "outputs": [
    {
     "output_type": "execute_result",
     "data": {
      "text/plain": [
       "Index(['id', 'Gender', 'Age', 'Driving_License', 'Region_Code',\n",
       "       'Previously_Insured', 'Vehicle_Age', 'Vehicle_Damage', 'Annual_Premium',\n",
       "       'Policy_Sales_Channel', 'Vintage'],\n",
       "      dtype='object')"
      ]
     },
     "metadata": {},
     "execution_count": 21
    }
   ],
   "source": [
    "attrs\n"
   ]
  },
  {
   "cell_type": "code",
   "execution_count": 25,
   "metadata": {},
   "outputs": [],
   "source": [
    "test['Response'] = 0"
   ]
  },
  {
   "cell_type": "code",
   "execution_count": 26,
   "metadata": {},
   "outputs": [
    {
     "output_type": "execute_result",
     "data": {
      "text/plain": [
       "          id  Gender  Age  Driving_License  Region_Code  Previously_Insured  \\\n",
       "0          0    Male   41              1.0          6.0                   0   \n",
       "1          1  Female   28              1.0         28.0                   1   \n",
       "2          2  Female   32              1.0          8.0                   0   \n",
       "3          3    Male   36              1.0         28.0                   1   \n",
       "4          4  Female   32              1.0         15.0                   0   \n",
       "...      ...     ...  ...              ...          ...                 ...   \n",
       "76216  76216  Female   46              1.0          3.0                   0   \n",
       "76217  76217  Female   37              1.0          0.0                   0   \n",
       "76218  76218    Male   33              1.0         49.0                   1   \n",
       "76219  76219    Male   72              1.0         28.0                   0   \n",
       "76220  76220    Male   55              1.0          0.0                   0   \n",
       "\n",
       "      Vehicle_Age Vehicle_Damage  Annual_Premium  Policy_Sales_Channel  \\\n",
       "0        1-2 Year            Yes         36438.0                 124.0   \n",
       "1        < 1 Year             No         44632.0                 152.0   \n",
       "2        1-2 Year            Yes         36838.0                 124.0   \n",
       "3        1-2 Year             No         30074.0                 122.0   \n",
       "4        < 1 Year            Yes         38230.0                 152.0   \n",
       "...           ...            ...             ...                   ...   \n",
       "76216   > 2 Years            Yes         30714.0                  26.0   \n",
       "76217    1-2 Year             No          2630.0                  61.0   \n",
       "76218    < 1 Year             No         33553.0                 152.0   \n",
       "76219   > 2 Years            Yes         34283.0                 124.0   \n",
       "76220    1-2 Year            Yes          2630.0                  26.0   \n",
       "\n",
       "       Vintage  Response  \n",
       "0          119         0  \n",
       "1           91         0  \n",
       "2           83         0  \n",
       "3          273         0  \n",
       "4          297         0  \n",
       "...        ...       ...  \n",
       "76216      148         0  \n",
       "76217      143         0  \n",
       "76218      267         0  \n",
       "76219      284         0  \n",
       "76220      154         0  \n",
       "\n",
       "[76221 rows x 12 columns]"
      ],
      "text/html": "<div>\n<style scoped>\n    .dataframe tbody tr th:only-of-type {\n        vertical-align: middle;\n    }\n\n    .dataframe tbody tr th {\n        vertical-align: top;\n    }\n\n    .dataframe thead th {\n        text-align: right;\n    }\n</style>\n<table border=\"1\" class=\"dataframe\">\n  <thead>\n    <tr style=\"text-align: right;\">\n      <th></th>\n      <th>id</th>\n      <th>Gender</th>\n      <th>Age</th>\n      <th>Driving_License</th>\n      <th>Region_Code</th>\n      <th>Previously_Insured</th>\n      <th>Vehicle_Age</th>\n      <th>Vehicle_Damage</th>\n      <th>Annual_Premium</th>\n      <th>Policy_Sales_Channel</th>\n      <th>Vintage</th>\n      <th>Response</th>\n    </tr>\n  </thead>\n  <tbody>\n    <tr>\n      <th>0</th>\n      <td>0</td>\n      <td>Male</td>\n      <td>41</td>\n      <td>1.0</td>\n      <td>6.0</td>\n      <td>0</td>\n      <td>1-2 Year</td>\n      <td>Yes</td>\n      <td>36438.0</td>\n      <td>124.0</td>\n      <td>119</td>\n      <td>0</td>\n    </tr>\n    <tr>\n      <th>1</th>\n      <td>1</td>\n      <td>Female</td>\n      <td>28</td>\n      <td>1.0</td>\n      <td>28.0</td>\n      <td>1</td>\n      <td>&lt; 1 Year</td>\n      <td>No</td>\n      <td>44632.0</td>\n      <td>152.0</td>\n      <td>91</td>\n      <td>0</td>\n    </tr>\n    <tr>\n      <th>2</th>\n      <td>2</td>\n      <td>Female</td>\n      <td>32</td>\n      <td>1.0</td>\n      <td>8.0</td>\n      <td>0</td>\n      <td>1-2 Year</td>\n      <td>Yes</td>\n      <td>36838.0</td>\n      <td>124.0</td>\n      <td>83</td>\n      <td>0</td>\n    </tr>\n    <tr>\n      <th>3</th>\n      <td>3</td>\n      <td>Male</td>\n      <td>36</td>\n      <td>1.0</td>\n      <td>28.0</td>\n      <td>1</td>\n      <td>1-2 Year</td>\n      <td>No</td>\n      <td>30074.0</td>\n      <td>122.0</td>\n      <td>273</td>\n      <td>0</td>\n    </tr>\n    <tr>\n      <th>4</th>\n      <td>4</td>\n      <td>Female</td>\n      <td>32</td>\n      <td>1.0</td>\n      <td>15.0</td>\n      <td>0</td>\n      <td>&lt; 1 Year</td>\n      <td>Yes</td>\n      <td>38230.0</td>\n      <td>152.0</td>\n      <td>297</td>\n      <td>0</td>\n    </tr>\n    <tr>\n      <th>...</th>\n      <td>...</td>\n      <td>...</td>\n      <td>...</td>\n      <td>...</td>\n      <td>...</td>\n      <td>...</td>\n      <td>...</td>\n      <td>...</td>\n      <td>...</td>\n      <td>...</td>\n      <td>...</td>\n      <td>...</td>\n    </tr>\n    <tr>\n      <th>76216</th>\n      <td>76216</td>\n      <td>Female</td>\n      <td>46</td>\n      <td>1.0</td>\n      <td>3.0</td>\n      <td>0</td>\n      <td>&gt; 2 Years</td>\n      <td>Yes</td>\n      <td>30714.0</td>\n      <td>26.0</td>\n      <td>148</td>\n      <td>0</td>\n    </tr>\n    <tr>\n      <th>76217</th>\n      <td>76217</td>\n      <td>Female</td>\n      <td>37</td>\n      <td>1.0</td>\n      <td>0.0</td>\n      <td>0</td>\n      <td>1-2 Year</td>\n      <td>No</td>\n      <td>2630.0</td>\n      <td>61.0</td>\n      <td>143</td>\n      <td>0</td>\n    </tr>\n    <tr>\n      <th>76218</th>\n      <td>76218</td>\n      <td>Male</td>\n      <td>33</td>\n      <td>1.0</td>\n      <td>49.0</td>\n      <td>1</td>\n      <td>&lt; 1 Year</td>\n      <td>No</td>\n      <td>33553.0</td>\n      <td>152.0</td>\n      <td>267</td>\n      <td>0</td>\n    </tr>\n    <tr>\n      <th>76219</th>\n      <td>76219</td>\n      <td>Male</td>\n      <td>72</td>\n      <td>1.0</td>\n      <td>28.0</td>\n      <td>0</td>\n      <td>&gt; 2 Years</td>\n      <td>Yes</td>\n      <td>34283.0</td>\n      <td>124.0</td>\n      <td>284</td>\n      <td>0</td>\n    </tr>\n    <tr>\n      <th>76220</th>\n      <td>76220</td>\n      <td>Male</td>\n      <td>55</td>\n      <td>1.0</td>\n      <td>0.0</td>\n      <td>0</td>\n      <td>1-2 Year</td>\n      <td>Yes</td>\n      <td>2630.0</td>\n      <td>26.0</td>\n      <td>154</td>\n      <td>0</td>\n    </tr>\n  </tbody>\n</table>\n<p>76221 rows × 12 columns</p>\n</div>"
     },
     "metadata": {},
     "execution_count": 26
    }
   ],
   "source": [
    "test"
   ]
  },
  {
   "cell_type": "code",
   "execution_count": 27,
   "metadata": {},
   "outputs": [
    {
     "output_type": "execute_result",
     "data": {
      "text/plain": [
       "Index(['id', 'Gender', 'Age', 'Driving_License', 'Region_Code',\n",
       "       'Previously_Insured', 'Vehicle_Age', 'Vehicle_Damage', 'Annual_Premium',\n",
       "       'Policy_Sales_Channel', 'Vintage'],\n",
       "      dtype='object')"
      ]
     },
     "metadata": {},
     "execution_count": 27
    }
   ],
   "source": [
    "attrs"
   ]
  },
  {
   "cell_type": "code",
   "execution_count": 28,
   "metadata": {},
   "outputs": [
    {
     "output_type": "stream",
     "name": "stdout",
     "text": [
      "testId: 0, train_rawId:205299\n",
      "testId: 1, train_rawId:200638\n",
      "testId: 2, train_rawId:204319\n",
      "testId: 3, train_rawId:126267\n",
      "testId: 4, train_rawId:168476\n",
      "testId: 5, train_rawId:77038\n",
      "testId: 6, train_rawId:270066\n",
      "testId: 7, train_rawId:276387\n",
      "testId: 8, train_rawId:165640\n",
      "testId: 9, train_rawId:187962\n",
      "testId: 10, train_rawId:333634\n",
      "testId: 11, train_rawId:344269\n",
      "testId: 12, train_rawId:264379\n",
      "testId: 13, train_rawId:147148\n",
      "testId: 14, train_rawId:78571\n",
      "testId: 15, train_rawId:274939\n",
      "testId: 16, train_rawId:333950\n",
      "testId: 17, train_rawId:60970\n",
      "testId: 18, train_rawId:324931\n",
      "testId: 19, train_rawId:234957\n",
      "testId: 20, train_rawId:11933\n",
      "testId: 21, train_rawId:325798\n",
      "testId: 22, train_rawId:52866\n",
      "testId: 23, train_rawId:215053\n",
      "testId: 24, train_rawId:3934\n",
      "testId: 25, train_rawId:192753\n",
      "testId: 26, train_rawId:304838\n",
      "testId: 27, train_rawId:74326\n",
      "testId: 28, train_rawId:126910\n",
      "testId: 29, train_rawId:276581\n",
      "testId: 30, train_rawId:311753\n",
      "testId: 31, train_rawId:203217\n",
      "testId: 32, train_rawId:343168\n",
      "testId: 33, train_rawId:99590\n",
      "testId: 34, train_rawId:138253\n",
      "testId: 35, train_rawId:267625\n",
      "testId: 36, train_rawId:274065\n",
      "testId: 37, train_rawId:248298\n",
      "testId: 38, train_rawId:179908\n"
     ]
    },
    {
     "output_type": "error",
     "ename": "KeyboardInterrupt",
     "evalue": "",
     "traceback": [
      "\u001b[1;31m---------------------------------------------------------------------------\u001b[0m",
      "\u001b[1;31mKeyboardInterrupt\u001b[0m                         Traceback (most recent call last)",
      "\u001b[1;32m<ipython-input-28-5aa7a5a0b775>\u001b[0m in \u001b[0;36m<module>\u001b[1;34m\u001b[0m\n\u001b[0;32m      6\u001b[0m             \u001b[1;32mif\u001b[0m \u001b[0mpd\u001b[0m\u001b[1;33m.\u001b[0m\u001b[0misnull\u001b[0m\u001b[1;33m(\u001b[0m\u001b[0mtest\u001b[0m\u001b[1;33m[\u001b[0m\u001b[0mattr\u001b[0m\u001b[1;33m]\u001b[0m\u001b[1;33m[\u001b[0m\u001b[0ma\u001b[0m\u001b[1;33m]\u001b[0m\u001b[1;33m)\u001b[0m\u001b[1;33m:\u001b[0m\u001b[1;33m\u001b[0m\u001b[1;33m\u001b[0m\u001b[0m\n\u001b[0;32m      7\u001b[0m                 \u001b[1;32mcontinue\u001b[0m\u001b[1;33m\u001b[0m\u001b[1;33m\u001b[0m\u001b[0m\n\u001b[1;32m----> 8\u001b[1;33m             \u001b[1;32mif\u001b[0m \u001b[0mtrain_raw\u001b[0m\u001b[1;33m[\u001b[0m\u001b[0mattr\u001b[0m\u001b[1;33m]\u001b[0m\u001b[1;33m[\u001b[0m\u001b[0mb\u001b[0m\u001b[1;33m]\u001b[0m \u001b[1;33m!=\u001b[0m \u001b[0mtest\u001b[0m\u001b[1;33m[\u001b[0m\u001b[0mattr\u001b[0m\u001b[1;33m]\u001b[0m\u001b[1;33m[\u001b[0m\u001b[0ma\u001b[0m\u001b[1;33m]\u001b[0m\u001b[1;33m:\u001b[0m\u001b[1;33m\u001b[0m\u001b[1;33m\u001b[0m\u001b[0m\n\u001b[0m\u001b[0;32m      9\u001b[0m                 \u001b[0mok\u001b[0m \u001b[1;33m=\u001b[0m \u001b[1;36m0\u001b[0m\u001b[1;33m\u001b[0m\u001b[1;33m\u001b[0m\u001b[0m\n\u001b[0;32m     10\u001b[0m                 \u001b[1;32mbreak\u001b[0m\u001b[1;33m\u001b[0m\u001b[1;33m\u001b[0m\u001b[0m\n",
      "\u001b[1;31mKeyboardInterrupt\u001b[0m: "
     ]
    }
   ],
   "source": [
    "for a in range(len(test)):\n",
    "    for b in range(len(train_raw)):\n",
    "        ok = 1\n",
    "        for i in range(1, len(attrs)):\n",
    "            attr = attrs[i]\n",
    "            if pd.isnull(test[attr][a]):\n",
    "                continue\n",
    "            if train_raw[attr][b] != test[attr][a]:\n",
    "                ok = 0\n",
    "                break\n",
    "        if ok:\n",
    "            test['Response'][a] = train_raw['Response'][b]\n",
    "            print('testId: %d, train_rawId:%d' % (test['id'][a], train_raw['id'][b]))\n",
    "            break\n",
    "\n",
    "\n",
    "            \n",
    "    "
   ]
  },
  {
   "cell_type": "code",
   "execution_count": 20,
   "metadata": {},
   "outputs": [
    {
     "output_type": "execute_result",
     "data": {
      "text/plain": [
       "76221"
      ]
     },
     "metadata": {},
     "execution_count": 20
    }
   ],
   "source": [
    "len(test)"
   ]
  },
  {
   "cell_type": "code",
   "execution_count": null,
   "metadata": {},
   "outputs": [],
   "source": [
    "10, 333634"
   ]
  }
 ]
}