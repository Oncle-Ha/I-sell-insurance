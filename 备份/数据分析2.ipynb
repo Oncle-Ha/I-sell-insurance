{
 "metadata": {
  "language_info": {
   "codemirror_mode": {
    "name": "ipython",
    "version": 3
   },
   "file_extension": ".py",
   "mimetype": "text/x-python",
   "name": "python",
   "nbconvert_exporter": "python",
   "pygments_lexer": "ipython3",
   "version": "3.8.3-final"
  },
  "orig_nbformat": 2,
  "kernelspec": {
   "name": "Python 3.8.3 64-bit ('base': conda)",
   "display_name": "Python 3.8.3 64-bit ('base': conda)",
   "metadata": {
    "interpreter": {
     "hash": "79c9d1bfe61bb90fb7be5bc64043ea578cba474de75c55c4010338ea61c39fff"
    }
   }
  }
 },
 "nbformat": 4,
 "nbformat_minor": 2,
 "cells": [
  {
   "source": [
    "take a lie"
   ],
   "cell_type": "markdown",
   "metadata": {}
  },
  {
   "cell_type": "code",
   "execution_count": 7,
   "metadata": {},
   "outputs": [],
   "source": [
    "import pandas as pd\n"
   ]
  },
  {
   "cell_type": "code",
   "execution_count": 8,
   "metadata": {},
   "outputs": [],
   "source": [
    "df_train = pd.read_csv('train2.csv')\n",
    "df_test = pd.read_csv(\"test.csv\")\n"
   ]
  },
  {
   "cell_type": "code",
   "execution_count": 9,
   "metadata": {},
   "outputs": [
    {
     "output_type": "stream",
     "name": "stdout",
     "text": [
      "<class 'pandas.core.frame.DataFrame'>\nRangeIndex: 76221 entries, 0 to 76220\nData columns (total 11 columns):\n #   Column                Non-Null Count  Dtype  \n---  ------                --------------  -----  \n 0   id                    76221 non-null  int64  \n 1   Gender                76221 non-null  object \n 2   Age                   76221 non-null  int64  \n 3   Driving_License       75999 non-null  float64\n 4   Region_Code           76221 non-null  float64\n 5   Previously_Insured    76221 non-null  int64  \n 6   Vehicle_Age           76221 non-null  object \n 7   Vehicle_Damage        76221 non-null  object \n 8   Annual_Premium        76221 non-null  float64\n 9   Policy_Sales_Channel  76002 non-null  float64\n 10  Vintage               76221 non-null  int64  \ndtypes: float64(4), int64(4), object(3)\nmemory usage: 6.4+ MB\n"
     ]
    }
   ],
   "source": [
    "df_test.info()"
   ]
  }
 ]
}