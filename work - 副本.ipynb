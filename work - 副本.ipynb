{
 "metadata": {
  "language_info": {
   "codemirror_mode": {
    "name": "ipython",
    "version": 3
   },
   "file_extension": ".py",
   "mimetype": "text/x-python",
   "name": "python",
   "nbconvert_exporter": "python",
   "pygments_lexer": "ipython3",
   "version": "3.7.3-final"
  },
  "orig_nbformat": 2,
  "kernelspec": {
   "name": "python3",
   "display_name": "Python 3"
  }
 },
 "nbformat": 4,
 "nbformat_minor": 2,
 "cells": [
  {
   "cell_type": "code",
   "execution_count": 25,
   "metadata": {},
   "outputs": [],
   "source": [
    "from sklearn.model_selection import RandomizedSearchCV\n",
    "from sklearn.model_selection import cross_val_score\n",
    "from sklearn.ensemble import RandomForestClassifier\n",
    "from catboost import CatBoostClassifier\n",
    "from scipy.stats import randint\n",
    "import pickle\n",
    "import xgboost as xgb\n",
    "import lightgbm as lgb\n",
    "from sklearn.metrics import accuracy_score\n",
    "# import packages for hyperparameters tuning\n",
    "from hyperopt import STATUS_OK, Trials, fmin, hp, tpe\n",
    "from sklearn.model_selection import train_test_split, RandomizedSearchCV, StratifiedKFold, KFold, GridSearchCV\n",
    "from sklearn.metrics import f1_score, roc_auc_score,accuracy_score,confusion_matrix, precision_recall_curve, auc, roc_curve, recall_score, classification_report \n",
    "from xgboost import XGBClassifier\n",
    "import xgboost as xgb\n",
    "\n",
    "from catboost import CatBoostClassifier\n",
    "\n",
    "import numpy as np\n",
    "import pandas as pd\n",
    "import matplotlib.pyplot as plt\n",
    "import seaborn as sns\n",
    "from imblearn.over_sampling import RandomOverSampler\n",
    "from sklearn.preprocessing import PolynomialFeatures\n",
    "from sklearn.utils import resample,shuffle\n",
    "\n",
    "from lightgbm import LGBMClassifier\n",
    "from sklearn.feature_selection import SelectFromModel\n",
    "from sklearn.ensemble import GradientBoostingClassifier\n",
    "import time"
   ]
  },
  {
   "cell_type": "code",
   "execution_count": 26,
   "metadata": {},
   "outputs": [
    {
     "output_type": "stream",
     "name": "stdout",
     "text": [
      "<class 'pandas.core.frame.DataFrame'>\nRangeIndex: 304888 entries, 0 to 304887\nData columns (total 29 columns):\n #   Column                                Non-Null Count   Dtype  \n---  ------                                --------------   -----  \n 0   id                                    304888 non-null  float64\n 1   Age                                   304888 non-null  float64\n 2   Driving_License                       304888 non-null  float64\n 3   Region_Code                           304888 non-null  float64\n 4   Previously_Insured                    304888 non-null  int64  \n 5   Annual_Premium                        304888 non-null  float64\n 6   Policy_Sales_Channel                  304888 non-null  float64\n 7   Vintage                               304888 non-null  float64\n 8   Response                              304888 non-null  int64  \n 9   mean_Policy_Region_Age                304888 non-null  float64\n 10  std_Policy_Region_Age                 304888 non-null  float64\n 11  nunique_Policy_Region_Age             304888 non-null  float64\n 12  count_Policy_Region_Age               304888 non-null  float64\n 13  mean_Policy_Region_Annual_Premium     304888 non-null  float64\n 14  std_Policy_Region_Annual_Premium      304888 non-null  float64\n 15  nunique_Policy_Region_Annual_Premium  304888 non-null  float64\n 16  count_Policy_Region_Annual_Premium    304888 non-null  float64\n 17  mean_Policy_Region_Vintage            304888 non-null  float64\n 18  std_Policy_Region_Vintage             304888 non-null  float64\n 19  nunique_Policy_Region_Vintage         304888 non-null  float64\n 20  count_Policy_Region_Vintage           304888 non-null  float64\n 21  Gender_Male                           304888 non-null  int64  \n 22  Vehicle_Age_1_Year_down               304888 non-null  int64  \n 23  Vehicle_Age_2_Years_up                304888 non-null  int64  \n 24  Vehicle_Damage_Yes                    304888 non-null  int64  \n 25  PSC_Plus_1                            304888 non-null  int64  \n 26  PSC_Plus_2                            304888 non-null  int64  \n 27  PSC_Plus_3                            304888 non-null  int64  \n 28  RC_Plus_1                             304888 non-null  int64  \ndtypes: float64(19), int64(10)\nmemory usage: 67.5 MB\n"
     ]
    }
   ],
   "source": [
    "train = pd.read_csv('data/train_clean_v4.csv')\n",
    "valid = pd.read_csv('data/tmp_clean_v4.csv')\n",
    "\n",
    "# 过采样\n",
    "# train_big = train[train['Response']==0]\n",
    "# train_small = train[train['Response']==1]\n",
    "# train_small_up = resample(train_small,replace=True,n_samples=len(train_big),random_state = 0)\n",
    "# train_balance = pd.concat([train_big, train_small_up])\n",
    "# train_balance = shuffle(train_balance)\n",
    "# train_balance.Response.value_counts()\n",
    "train.info()\n",
    "\n"
   ]
  },
  {
   "cell_type": "code",
   "execution_count": 27,
   "metadata": {},
   "outputs": [
    {
     "output_type": "execute_result",
     "data": {
      "text/plain": [
       "              id       Age  Driving_License  Region_Code  Previously_Insured  \\\n",
       "0      -1.732045 -0.762784              1.0     1.482552                   1   \n",
       "1      -1.732034  0.332966              1.0     0.121874                   0   \n",
       "2      -1.732022  0.848613              1.0     1.482552                   0   \n",
       "3      -1.732011 -1.020608              1.0     1.482552                   1   \n",
       "4      -1.732000  0.268510              1.0     0.121874                   0   \n",
       "...          ...       ...              ...          ...                 ...   \n",
       "304883  1.732000 -1.213975              1.0    -1.465583                   0   \n",
       "304884  1.732011 -0.956152              1.0    -0.482871                   0   \n",
       "304885  1.732022 -0.891696              1.0     0.726620                   1   \n",
       "304886  1.732034 -1.085064              1.0    -1.389990                   1   \n",
       "304887  1.732045 -0.827240              1.0     0.121874                   1   \n",
       "\n",
       "        Annual_Premium  Policy_Sales_Channel   Vintage  Response  \\\n",
       "0             0.150395              0.737825  0.820034         0   \n",
       "1             1.743285             -1.586133  0.043264         1   \n",
       "2            -0.469641              0.221390  0.855885         1   \n",
       "3            -1.623761              0.737825  0.103016         0   \n",
       "4             0.115793              0.221390 -1.175668         1   \n",
       "...                ...                   ...       ...       ...   \n",
       "304883       -1.623761              0.885378  1.309997         0   \n",
       "304884       -1.623761             -1.586133 -1.092016         0   \n",
       "304885       -0.216672              0.737825 -1.534178         0   \n",
       "304886        2.384081              0.737825 -0.171842         0   \n",
       "304887        0.065257              0.737825 -0.793258         0   \n",
       "\n",
       "        mean_Policy_Region_Age  ...  nunique_Policy_Region_Vintage  \\\n",
       "0                    -1.159427  ...                       0.461358   \n",
       "1                     1.087193  ...                       0.461358   \n",
       "2                     0.661282  ...                       0.461358   \n",
       "3                    -1.159427  ...                       0.461358   \n",
       "4                     0.701725  ...                       0.461358   \n",
       "...                        ...  ...                            ...   \n",
       "304883               -1.266609  ...                      -1.311128   \n",
       "304884                1.188033  ...                      -0.220367   \n",
       "304885               -1.129257  ...                       0.461358   \n",
       "304886               -1.108384  ...                       0.461358   \n",
       "304887               -0.998203  ...                       0.461358   \n",
       "\n",
       "        count_Policy_Region_Vintage  Gender_Male  Vehicle_Age_1_Year_down  \\\n",
       "0                         -0.167517            1                        1   \n",
       "1                          2.434970            0                        0   \n",
       "2                         -0.412774            1                        0   \n",
       "3                         -0.167517            1                        1   \n",
       "4                          1.599815            0                        0   \n",
       "...                             ...          ...                      ...   \n",
       "304883                    -0.699708            0                        1   \n",
       "304884                    -0.675917            0                        1   \n",
       "304885                    -0.308074            0                        1   \n",
       "304886                     0.270519            1                        1   \n",
       "304887                     0.438242            0                        1   \n",
       "\n",
       "        Vehicle_Age_2_Years_up  Vehicle_Damage_Yes  PSC_Plus_1  PSC_Plus_2  \\\n",
       "0                            0                   0           1           0   \n",
       "1                            1                   1           0           1   \n",
       "2                            1                   1           0           0   \n",
       "3                            0                   0           1           0   \n",
       "4                            0                   1           0           0   \n",
       "...                        ...                 ...         ...         ...   \n",
       "304883                       0                   1           0           0   \n",
       "304884                       0                   1           0           1   \n",
       "304885                       0                   0           1           0   \n",
       "304886                       0                   0           1           0   \n",
       "304887                       0                   0           1           0   \n",
       "\n",
       "        PSC_Plus_3  RC_Plus_1  \n",
       "0                0          0  \n",
       "1                0          1  \n",
       "2                1          0  \n",
       "3                0          0  \n",
       "4                1          1  \n",
       "...            ...        ...  \n",
       "304883           0          0  \n",
       "304884           0          0  \n",
       "304885           0          0  \n",
       "304886           0          0  \n",
       "304887           0          1  \n",
       "\n",
       "[304888 rows x 29 columns]"
      ],
      "text/html": "<div>\n<style scoped>\n    .dataframe tbody tr th:only-of-type {\n        vertical-align: middle;\n    }\n\n    .dataframe tbody tr th {\n        vertical-align: top;\n    }\n\n    .dataframe thead th {\n        text-align: right;\n    }\n</style>\n<table border=\"1\" class=\"dataframe\">\n  <thead>\n    <tr style=\"text-align: right;\">\n      <th></th>\n      <th>id</th>\n      <th>Age</th>\n      <th>Driving_License</th>\n      <th>Region_Code</th>\n      <th>Previously_Insured</th>\n      <th>Annual_Premium</th>\n      <th>Policy_Sales_Channel</th>\n      <th>Vintage</th>\n      <th>Response</th>\n      <th>mean_Policy_Region_Age</th>\n      <th>...</th>\n      <th>nunique_Policy_Region_Vintage</th>\n      <th>count_Policy_Region_Vintage</th>\n      <th>Gender_Male</th>\n      <th>Vehicle_Age_1_Year_down</th>\n      <th>Vehicle_Age_2_Years_up</th>\n      <th>Vehicle_Damage_Yes</th>\n      <th>PSC_Plus_1</th>\n      <th>PSC_Plus_2</th>\n      <th>PSC_Plus_3</th>\n      <th>RC_Plus_1</th>\n    </tr>\n  </thead>\n  <tbody>\n    <tr>\n      <th>0</th>\n      <td>-1.732045</td>\n      <td>-0.762784</td>\n      <td>1.0</td>\n      <td>1.482552</td>\n      <td>1</td>\n      <td>0.150395</td>\n      <td>0.737825</td>\n      <td>0.820034</td>\n      <td>0</td>\n      <td>-1.159427</td>\n      <td>...</td>\n      <td>0.461358</td>\n      <td>-0.167517</td>\n      <td>1</td>\n      <td>1</td>\n      <td>0</td>\n      <td>0</td>\n      <td>1</td>\n      <td>0</td>\n      <td>0</td>\n      <td>0</td>\n    </tr>\n    <tr>\n      <th>1</th>\n      <td>-1.732034</td>\n      <td>0.332966</td>\n      <td>1.0</td>\n      <td>0.121874</td>\n      <td>0</td>\n      <td>1.743285</td>\n      <td>-1.586133</td>\n      <td>0.043264</td>\n      <td>1</td>\n      <td>1.087193</td>\n      <td>...</td>\n      <td>0.461358</td>\n      <td>2.434970</td>\n      <td>0</td>\n      <td>0</td>\n      <td>1</td>\n      <td>1</td>\n      <td>0</td>\n      <td>1</td>\n      <td>0</td>\n      <td>1</td>\n    </tr>\n    <tr>\n      <th>2</th>\n      <td>-1.732022</td>\n      <td>0.848613</td>\n      <td>1.0</td>\n      <td>1.482552</td>\n      <td>0</td>\n      <td>-0.469641</td>\n      <td>0.221390</td>\n      <td>0.855885</td>\n      <td>1</td>\n      <td>0.661282</td>\n      <td>...</td>\n      <td>0.461358</td>\n      <td>-0.412774</td>\n      <td>1</td>\n      <td>0</td>\n      <td>1</td>\n      <td>1</td>\n      <td>0</td>\n      <td>0</td>\n      <td>1</td>\n      <td>0</td>\n    </tr>\n    <tr>\n      <th>3</th>\n      <td>-1.732011</td>\n      <td>-1.020608</td>\n      <td>1.0</td>\n      <td>1.482552</td>\n      <td>1</td>\n      <td>-1.623761</td>\n      <td>0.737825</td>\n      <td>0.103016</td>\n      <td>0</td>\n      <td>-1.159427</td>\n      <td>...</td>\n      <td>0.461358</td>\n      <td>-0.167517</td>\n      <td>1</td>\n      <td>1</td>\n      <td>0</td>\n      <td>0</td>\n      <td>1</td>\n      <td>0</td>\n      <td>0</td>\n      <td>0</td>\n    </tr>\n    <tr>\n      <th>4</th>\n      <td>-1.732000</td>\n      <td>0.268510</td>\n      <td>1.0</td>\n      <td>0.121874</td>\n      <td>0</td>\n      <td>0.115793</td>\n      <td>0.221390</td>\n      <td>-1.175668</td>\n      <td>1</td>\n      <td>0.701725</td>\n      <td>...</td>\n      <td>0.461358</td>\n      <td>1.599815</td>\n      <td>0</td>\n      <td>0</td>\n      <td>0</td>\n      <td>1</td>\n      <td>0</td>\n      <td>0</td>\n      <td>1</td>\n      <td>1</td>\n    </tr>\n    <tr>\n      <th>...</th>\n      <td>...</td>\n      <td>...</td>\n      <td>...</td>\n      <td>...</td>\n      <td>...</td>\n      <td>...</td>\n      <td>...</td>\n      <td>...</td>\n      <td>...</td>\n      <td>...</td>\n      <td>...</td>\n      <td>...</td>\n      <td>...</td>\n      <td>...</td>\n      <td>...</td>\n      <td>...</td>\n      <td>...</td>\n      <td>...</td>\n      <td>...</td>\n      <td>...</td>\n      <td>...</td>\n    </tr>\n    <tr>\n      <th>304883</th>\n      <td>1.732000</td>\n      <td>-1.213975</td>\n      <td>1.0</td>\n      <td>-1.465583</td>\n      <td>0</td>\n      <td>-1.623761</td>\n      <td>0.885378</td>\n      <td>1.309997</td>\n      <td>0</td>\n      <td>-1.266609</td>\n      <td>...</td>\n      <td>-1.311128</td>\n      <td>-0.699708</td>\n      <td>0</td>\n      <td>1</td>\n      <td>0</td>\n      <td>1</td>\n      <td>0</td>\n      <td>0</td>\n      <td>0</td>\n      <td>0</td>\n    </tr>\n    <tr>\n      <th>304884</th>\n      <td>1.732011</td>\n      <td>-0.956152</td>\n      <td>1.0</td>\n      <td>-0.482871</td>\n      <td>0</td>\n      <td>-1.623761</td>\n      <td>-1.586133</td>\n      <td>-1.092016</td>\n      <td>0</td>\n      <td>1.188033</td>\n      <td>...</td>\n      <td>-0.220367</td>\n      <td>-0.675917</td>\n      <td>0</td>\n      <td>1</td>\n      <td>0</td>\n      <td>1</td>\n      <td>0</td>\n      <td>1</td>\n      <td>0</td>\n      <td>0</td>\n    </tr>\n    <tr>\n      <th>304885</th>\n      <td>1.732022</td>\n      <td>-0.891696</td>\n      <td>1.0</td>\n      <td>0.726620</td>\n      <td>1</td>\n      <td>-0.216672</td>\n      <td>0.737825</td>\n      <td>-1.534178</td>\n      <td>0</td>\n      <td>-1.129257</td>\n      <td>...</td>\n      <td>0.461358</td>\n      <td>-0.308074</td>\n      <td>0</td>\n      <td>1</td>\n      <td>0</td>\n      <td>0</td>\n      <td>1</td>\n      <td>0</td>\n      <td>0</td>\n      <td>0</td>\n    </tr>\n    <tr>\n      <th>304886</th>\n      <td>1.732034</td>\n      <td>-1.085064</td>\n      <td>1.0</td>\n      <td>-1.389990</td>\n      <td>1</td>\n      <td>2.384081</td>\n      <td>0.737825</td>\n      <td>-0.171842</td>\n      <td>0</td>\n      <td>-1.108384</td>\n      <td>...</td>\n      <td>0.461358</td>\n      <td>0.270519</td>\n      <td>1</td>\n      <td>1</td>\n      <td>0</td>\n      <td>0</td>\n      <td>1</td>\n      <td>0</td>\n      <td>0</td>\n      <td>0</td>\n    </tr>\n    <tr>\n      <th>304887</th>\n      <td>1.732045</td>\n      <td>-0.827240</td>\n      <td>1.0</td>\n      <td>0.121874</td>\n      <td>1</td>\n      <td>0.065257</td>\n      <td>0.737825</td>\n      <td>-0.793258</td>\n      <td>0</td>\n      <td>-0.998203</td>\n      <td>...</td>\n      <td>0.461358</td>\n      <td>0.438242</td>\n      <td>0</td>\n      <td>1</td>\n      <td>0</td>\n      <td>0</td>\n      <td>1</td>\n      <td>0</td>\n      <td>0</td>\n      <td>1</td>\n    </tr>\n  </tbody>\n</table>\n<p>304888 rows × 29 columns</p>\n</div>"
     },
     "metadata": {},
     "execution_count": 27
    }
   ],
   "source": [
    "train"
   ]
  },
  {
   "cell_type": "code",
   "execution_count": 28,
   "metadata": {},
   "outputs": [
    {
     "output_type": "stream",
     "name": "stdout",
     "text": [
      "<class 'pandas.core.frame.DataFrame'>\nRangeIndex: 76221 entries, 0 to 76220\nData columns (total 29 columns):\n #   Column                                Non-Null Count  Dtype  \n---  ------                                --------------  -----  \n 0   id                                    76221 non-null  float64\n 1   Age                                   76221 non-null  float64\n 2   Driving_License                       76221 non-null  float64\n 3   Region_Code                           76221 non-null  float64\n 4   Previously_Insured                    76221 non-null  int64  \n 5   Annual_Premium                        76221 non-null  float64\n 6   Policy_Sales_Channel                  76221 non-null  float64\n 7   Vintage                               76221 non-null  float64\n 8   Response                              76221 non-null  int64  \n 9   mean_Policy_Region_Age                76221 non-null  float64\n 10  std_Policy_Region_Age                 76221 non-null  float64\n 11  nunique_Policy_Region_Age             76221 non-null  float64\n 12  count_Policy_Region_Age               76221 non-null  float64\n 13  mean_Policy_Region_Annual_Premium     76221 non-null  float64\n 14  std_Policy_Region_Annual_Premium      76221 non-null  float64\n 15  nunique_Policy_Region_Annual_Premium  76221 non-null  float64\n 16  count_Policy_Region_Annual_Premium    76221 non-null  float64\n 17  mean_Policy_Region_Vintage            76221 non-null  float64\n 18  std_Policy_Region_Vintage             76221 non-null  float64\n 19  nunique_Policy_Region_Vintage         76221 non-null  float64\n 20  count_Policy_Region_Vintage           76221 non-null  float64\n 21  Gender_Male                           76221 non-null  int64  \n 22  Vehicle_Age_1_Year_down               76221 non-null  int64  \n 23  Vehicle_Age_2_Years_up                76221 non-null  int64  \n 24  Vehicle_Damage_Yes                    76221 non-null  int64  \n 25  PSC_Plus_1                            76221 non-null  int64  \n 26  PSC_Plus_2                            76221 non-null  int64  \n 27  PSC_Plus_3                            76221 non-null  int64  \n 28  RC_Plus_1                             76221 non-null  int64  \ndtypes: float64(19), int64(10)\nmemory usage: 16.9 MB\n"
     ]
    }
   ],
   "source": [
    "valid.info()"
   ]
  },
  {
   "cell_type": "code",
   "execution_count": 29,
   "metadata": {},
   "outputs": [],
   "source": [
    "train_target = train['Response']\n",
    "train.drop(['Response','id'], axis=1, inplace=True)\n",
    "valid_target = valid['Response']\n",
    "valid.drop(['Response','id'], axis=1, inplace=True)\n",
    "\n",
    "# ## 标椎化\n",
    "# from sklearn.preprocessing import MinMaxScaler\n",
    "# scaler = MinMaxScaler()\n",
    "# train = scaler.fit_transform(train)\n",
    "# scaler = MinMaxScaler()\n",
    "# valid = scaler.fit_transform(valid)\n",
    "\n",
    "train_X, test_X, train_Y, test_Y = train_test_split(train, train_target, test_size=0.1)"
   ]
  },
  {
   "cell_type": "code",
   "execution_count": 30,
   "metadata": {},
   "outputs": [
    {
     "output_type": "stream",
     "name": "stdout",
     "text": [
      "<class 'pandas.core.frame.DataFrame'>\nInt64Index: 274399 entries, 250865 to 211979\nData columns (total 27 columns):\n #   Column                                Non-Null Count   Dtype  \n---  ------                                --------------   -----  \n 0   Age                                   274399 non-null  float64\n 1   Driving_License                       274399 non-null  float64\n 2   Region_Code                           274399 non-null  float64\n 3   Previously_Insured                    274399 non-null  int64  \n 4   Annual_Premium                        274399 non-null  float64\n 5   Policy_Sales_Channel                  274399 non-null  float64\n 6   Vintage                               274399 non-null  float64\n 7   mean_Policy_Region_Age                274399 non-null  float64\n 8   std_Policy_Region_Age                 274399 non-null  float64\n 9   nunique_Policy_Region_Age             274399 non-null  float64\n 10  count_Policy_Region_Age               274399 non-null  float64\n 11  mean_Policy_Region_Annual_Premium     274399 non-null  float64\n 12  std_Policy_Region_Annual_Premium      274399 non-null  float64\n 13  nunique_Policy_Region_Annual_Premium  274399 non-null  float64\n 14  count_Policy_Region_Annual_Premium    274399 non-null  float64\n 15  mean_Policy_Region_Vintage            274399 non-null  float64\n 16  std_Policy_Region_Vintage             274399 non-null  float64\n 17  nunique_Policy_Region_Vintage         274399 non-null  float64\n 18  count_Policy_Region_Vintage           274399 non-null  float64\n 19  Gender_Male                           274399 non-null  int64  \n 20  Vehicle_Age_1_Year_down               274399 non-null  int64  \n 21  Vehicle_Age_2_Years_up                274399 non-null  int64  \n 22  Vehicle_Damage_Yes                    274399 non-null  int64  \n 23  PSC_Plus_1                            274399 non-null  int64  \n 24  PSC_Plus_2                            274399 non-null  int64  \n 25  PSC_Plus_3                            274399 non-null  int64  \n 26  RC_Plus_1                             274399 non-null  int64  \ndtypes: float64(18), int64(9)\nmemory usage: 58.6 MB\n"
     ]
    }
   ],
   "source": [
    "train_X.info()"
   ]
  },
  {
   "source": [
    "## 测试多项式升维"
   ],
   "cell_type": "markdown",
   "metadata": {}
  },
  {
   "cell_type": "code",
   "execution_count": 285,
   "metadata": {},
   "outputs": [
    {
     "output_type": "stream",
     "name": "stdout",
     "text": [
      "新特征数量： 324\n"
     ]
    }
   ],
   "source": [
    "poly = PolynomialFeatures(degree=2,include_bias=False)\n",
    "train_X_plus = poly.fit_transform(train_X)\n",
    "test_X_plus = poly.fit_transform(test_X)\n",
    "valid_plus = poly.fit_transform(valid)\n",
    "\n",
    "print(\"新特征数量：\", train_X_plus.shape[1])"
   ]
  },
  {
   "cell_type": "code",
   "execution_count": 287,
   "metadata": {},
   "outputs": [
    {
     "output_type": "error",
     "ename": "TypeError",
     "evalue": "__init__() got an unexpected keyword argument 'n_jobs'",
     "traceback": [
      "\u001b[0;31m---------------------------------------------------------------------------\u001b[0m",
      "\u001b[0;31mTypeError\u001b[0m                                 Traceback (most recent call last)",
      "\u001b[0;32m<ipython-input-287-7bdfb7ff41c8>\u001b[0m in \u001b[0;36m<module>\u001b[0;34m()\u001b[0m\n\u001b[1;32m      3\u001b[0m \u001b[0;31m# clf=XGBClassifier(n_estimators = 300, max_depth = 13, gamma = 2.3408807913619945, reg_lambda = 0.3770436657913232,reg_alpha = 40.0, min_child_weight=7.0,colsample_bytree = 0.5786479102658189 ,random_state = 0).fit(train_X_plus, train_Y)\u001b[0m\u001b[0;34m\u001b[0m\u001b[0;34m\u001b[0m\u001b[0m\n\u001b[1;32m      4\u001b[0m \u001b[0;34m\u001b[0m\u001b[0m\n\u001b[0;32m----> 5\u001b[0;31m \u001b[0mclf\u001b[0m \u001b[0;34m=\u001b[0m \u001b[0mGradientBoostingClassifier\u001b[0m\u001b[0;34m(\u001b[0m\u001b[0mn_jobs\u001b[0m\u001b[0;34m=\u001b[0m\u001b[0;34m-\u001b[0m\u001b[0;36m1\u001b[0m\u001b[0;34m)\u001b[0m\u001b[0;34m.\u001b[0m\u001b[0mfit\u001b[0m\u001b[0;34m(\u001b[0m\u001b[0mtrain_X_plus\u001b[0m\u001b[0;34m,\u001b[0m \u001b[0mtrain_Y\u001b[0m\u001b[0;34m)\u001b[0m\u001b[0;34m\u001b[0m\u001b[0m\n\u001b[0m\u001b[1;32m      6\u001b[0m \u001b[0mprint\u001b[0m\u001b[0;34m(\u001b[0m\u001b[0;34m\"feature importance after trainning:\"\u001b[0m\u001b[0;34m,\u001b[0m \u001b[0mclf\u001b[0m\u001b[0;34m.\u001b[0m\u001b[0mfeature_importances_\u001b[0m\u001b[0;34m)\u001b[0m\u001b[0;34m\u001b[0m\u001b[0m\n\u001b[1;32m      7\u001b[0m \u001b[0mprint\u001b[0m\u001b[0;34m(\u001b[0m\u001b[0;34m\"totoal trainning leghth:\"\u001b[0m\u001b[0;34m,\u001b[0m \u001b[0mtime\u001b[0m\u001b[0;34m.\u001b[0m\u001b[0mtime\u001b[0m\u001b[0;34m(\u001b[0m\u001b[0;34m)\u001b[0m \u001b[0;34m-\u001b[0m \u001b[0mtime_start\u001b[0m\u001b[0;34m)\u001b[0m\u001b[0;34m\u001b[0m\u001b[0m\n",
      "\u001b[0;32m~/anaconda3/lib/python3.6/site-packages/sklearn/utils/validation.py\u001b[0m in \u001b[0;36minner_f\u001b[0;34m(*args, **kwargs)\u001b[0m\n\u001b[1;32m     70\u001b[0m                           FutureWarning)\n\u001b[1;32m     71\u001b[0m         \u001b[0mkwargs\u001b[0m\u001b[0;34m.\u001b[0m\u001b[0mupdate\u001b[0m\u001b[0;34m(\u001b[0m\u001b[0;34m{\u001b[0m\u001b[0mk\u001b[0m\u001b[0;34m:\u001b[0m \u001b[0marg\u001b[0m \u001b[0;32mfor\u001b[0m \u001b[0mk\u001b[0m\u001b[0;34m,\u001b[0m \u001b[0marg\u001b[0m \u001b[0;32min\u001b[0m \u001b[0mzip\u001b[0m\u001b[0;34m(\u001b[0m\u001b[0msig\u001b[0m\u001b[0;34m.\u001b[0m\u001b[0mparameters\u001b[0m\u001b[0;34m,\u001b[0m \u001b[0margs\u001b[0m\u001b[0;34m)\u001b[0m\u001b[0;34m}\u001b[0m\u001b[0;34m)\u001b[0m\u001b[0;34m\u001b[0m\u001b[0m\n\u001b[0;32m---> 72\u001b[0;31m         \u001b[0;32mreturn\u001b[0m \u001b[0mf\u001b[0m\u001b[0;34m(\u001b[0m\u001b[0;34m**\u001b[0m\u001b[0mkwargs\u001b[0m\u001b[0;34m)\u001b[0m\u001b[0;34m\u001b[0m\u001b[0m\n\u001b[0m\u001b[1;32m     73\u001b[0m     \u001b[0;32mreturn\u001b[0m \u001b[0minner_f\u001b[0m\u001b[0;34m\u001b[0m\u001b[0m\n\u001b[1;32m     74\u001b[0m \u001b[0;34m\u001b[0m\u001b[0m\n",
      "\u001b[0;31mTypeError\u001b[0m: __init__() got an unexpected keyword argument 'n_jobs'"
     ]
    }
   ],
   "source": [
    "# 特征选择\n",
    "time_start = time.time()\n",
    "clf=XGBClassifier(n_estimators = 300, max_depth = 13, gamma = 2.3408807913619945, reg_lambda = 0.3770436657913232,reg_alpha = 40.0, min_child_weight=7.0,colsample_bytree = 0.5786479102658189 ,random_state = 0).fit(train_X_plus, train_Y)\n",
    "\n",
    "# clf = GradientBoostingClassifier().fit(train_X_plus, train_Y)\n",
    "print(\"feature importance after trainning:\", clf.feature_importances_)\n",
    "print(\"totoal trainning leghth:\", time.time() - time_start)\n"
   ]
  },
  {
   "cell_type": "code",
   "execution_count": 158,
   "metadata": {},
   "outputs": [
    {
     "output_type": "stream",
     "name": "stdout",
     "text": [
      "新的特征数量: 25\n"
     ]
    }
   ],
   "source": [
    "sel_model = SelectFromModel(clf, prefit=True, threshold=-np.inf, max_features=25)\n",
    "train_X_2 = sel_model.transform(train_X)\n",
    "test_X_2 = sel_model.transform(test_X)\n",
    "valid_2 = sel_model.transform(valid)\n",
    "\n",
    "print(\"新的特征数量:\", train_X_2.shape[1])"
   ]
  },
  {
   "cell_type": "code",
   "execution_count": null,
   "metadata": {},
   "outputs": [],
   "source": [
    "# ## pca 降维\n",
    "# from sklearn.decomposition import PCA\n",
    "\n",
    "# pca = PCA(n_components=0.98)\n",
    "\n",
    "# pca.fit(train_X_plus)\n",
    "# train_X_pca = pca.transform(train_X_plus)\n",
    "# test_X_pca = pca.transform(test_X_plus)\n",
    "# valid_pca = pca.transform(valid_plus)"
   ]
  },
  {
   "cell_type": "code",
   "execution_count": 31,
   "metadata": {},
   "outputs": [
    {
     "output_type": "stream",
     "name": "stdout",
     "text": [
      "totoal trainning leghth: 148.5859055519104\n"
     ]
    }
   ],
   "source": [
    "XGB_=XGBClassifier(n_estimators = 300, max_depth = 7, gamma = 2.5952033716242866, reg_lambda = 0.707680330032109,reg_alpha = 40.0, min_child_weight=7.0,colsample_bytree = 0.6611082911056974,random_state = 0,n_jobs=-1)\n",
    "\n",
    "# XGB_ = XGBClassifier(n_estimators=1000,max_depth=6,learning_rate=0.04,subsample=0.9,colsample_bytree=0.35,objective = 'binary:logistic',random_state = 1) \n",
    "time_start = time.time()\n",
    "XGB_fit = XGB_.fit(train_X, train_Y)\n",
    "print(\"totoal trainning leghth:\", time.time() - time_start)"
   ]
  },
  {
   "cell_type": "code",
   "execution_count": 32,
   "metadata": {
    "tags": [
     "outputPrepend"
    ]
   },
   "outputs": [
    {
     "output_type": "stream",
     "name": "stdout",
     "text": [
      "emaining: 19.2s\n",
      "614:\tlearn: 0.4056766\ttotal: 30.6s\tremaining: 19.1s\n",
      "615:\tlearn: 0.4056455\ttotal: 30.6s\tremaining: 19.1s\n",
      "616:\tlearn: 0.4056262\ttotal: 30.7s\tremaining: 19s\n",
      "617:\tlearn: 0.4055991\ttotal: 30.7s\tremaining: 19s\n",
      "618:\tlearn: 0.4055779\ttotal: 30.8s\tremaining: 18.9s\n",
      "619:\tlearn: 0.4055615\ttotal: 30.8s\tremaining: 18.9s\n",
      "620:\tlearn: 0.4055419\ttotal: 30.9s\tremaining: 18.8s\n",
      "621:\tlearn: 0.4055168\ttotal: 30.9s\tremaining: 18.8s\n",
      "622:\tlearn: 0.4054976\ttotal: 31s\tremaining: 18.7s\n",
      "623:\tlearn: 0.4054665\ttotal: 31s\tremaining: 18.7s\n",
      "624:\tlearn: 0.4054378\ttotal: 31.1s\tremaining: 18.6s\n",
      "625:\tlearn: 0.4054152\ttotal: 31.1s\tremaining: 18.6s\n",
      "626:\tlearn: 0.4053854\ttotal: 31.2s\tremaining: 18.6s\n",
      "627:\tlearn: 0.4053642\ttotal: 31.2s\tremaining: 18.5s\n",
      "628:\tlearn: 0.4053363\ttotal: 31.3s\tremaining: 18.5s\n",
      "629:\tlearn: 0.4053219\ttotal: 31.3s\tremaining: 18.4s\n",
      "630:\tlearn: 0.4052995\ttotal: 31.4s\tremaining: 18.4s\n",
      "631:\tlearn: 0.4052723\ttotal: 31.4s\tremaining: 18.3s\n",
      "632:\tlearn: 0.4052436\ttotal: 31.5s\tremaining: 18.3s\n",
      "633:\tlearn: 0.4052211\ttotal: 31.5s\tremaining: 18.2s\n",
      "634:\tlearn: 0.4051969\ttotal: 31.6s\tremaining: 18.1s\n",
      "635:\tlearn: 0.4051726\ttotal: 31.6s\tremaining: 18.1s\n",
      "636:\tlearn: 0.4051470\ttotal: 31.7s\tremaining: 18s\n",
      "637:\tlearn: 0.4051151\ttotal: 31.7s\tremaining: 18s\n",
      "638:\tlearn: 0.4050782\ttotal: 31.8s\tremaining: 18s\n",
      "639:\tlearn: 0.4050511\ttotal: 31.8s\tremaining: 17.9s\n",
      "640:\tlearn: 0.4050164\ttotal: 31.9s\tremaining: 17.9s\n",
      "641:\tlearn: 0.4049963\ttotal: 31.9s\tremaining: 17.8s\n",
      "642:\tlearn: 0.4049788\ttotal: 32s\tremaining: 17.8s\n",
      "643:\tlearn: 0.4049594\ttotal: 32s\tremaining: 17.7s\n",
      "644:\tlearn: 0.4049382\ttotal: 32.1s\tremaining: 17.7s\n",
      "645:\tlearn: 0.4049187\ttotal: 32.1s\tremaining: 17.6s\n",
      "646:\tlearn: 0.4048980\ttotal: 32.2s\tremaining: 17.6s\n",
      "647:\tlearn: 0.4048725\ttotal: 32.2s\tremaining: 17.5s\n",
      "648:\tlearn: 0.4048543\ttotal: 32.3s\tremaining: 17.5s\n",
      "649:\tlearn: 0.4048349\ttotal: 32.3s\tremaining: 17.4s\n",
      "650:\tlearn: 0.4048148\ttotal: 32.4s\tremaining: 17.4s\n",
      "651:\tlearn: 0.4047990\ttotal: 32.4s\tremaining: 17.3s\n",
      "652:\tlearn: 0.4047712\ttotal: 32.5s\tremaining: 17.3s\n",
      "653:\tlearn: 0.4047296\ttotal: 32.5s\tremaining: 17.2s\n",
      "654:\tlearn: 0.4047130\ttotal: 32.6s\tremaining: 17.2s\n",
      "655:\tlearn: 0.4046958\ttotal: 32.6s\tremaining: 17.1s\n",
      "656:\tlearn: 0.4046799\ttotal: 32.7s\tremaining: 17.1s\n",
      "657:\tlearn: 0.4046566\ttotal: 32.7s\tremaining: 17s\n",
      "658:\tlearn: 0.4046269\ttotal: 32.8s\tremaining: 17s\n",
      "659:\tlearn: 0.4046069\ttotal: 32.8s\tremaining: 16.9s\n",
      "660:\tlearn: 0.4045989\ttotal: 32.9s\tremaining: 16.9s\n",
      "661:\tlearn: 0.4045762\ttotal: 32.9s\tremaining: 16.8s\n",
      "662:\tlearn: 0.4045586\ttotal: 33s\tremaining: 16.8s\n",
      "663:\tlearn: 0.4045324\ttotal: 33s\tremaining: 16.7s\n",
      "664:\tlearn: 0.4045072\ttotal: 33.1s\tremaining: 16.7s\n",
      "665:\tlearn: 0.4044797\ttotal: 33.1s\tremaining: 16.6s\n",
      "666:\tlearn: 0.4044617\ttotal: 33.2s\tremaining: 16.6s\n",
      "667:\tlearn: 0.4044287\ttotal: 33.2s\tremaining: 16.5s\n",
      "668:\tlearn: 0.4044081\ttotal: 33.3s\tremaining: 16.5s\n",
      "669:\tlearn: 0.4043870\ttotal: 33.3s\tremaining: 16.4s\n",
      "670:\tlearn: 0.4043681\ttotal: 33.4s\tremaining: 16.4s\n",
      "671:\tlearn: 0.4043323\ttotal: 33.4s\tremaining: 16.3s\n",
      "672:\tlearn: 0.4043137\ttotal: 33.5s\tremaining: 16.3s\n",
      "673:\tlearn: 0.4042782\ttotal: 33.5s\tremaining: 16.2s\n",
      "674:\tlearn: 0.4042526\ttotal: 33.6s\tremaining: 16.2s\n",
      "675:\tlearn: 0.4042150\ttotal: 33.6s\tremaining: 16.1s\n",
      "676:\tlearn: 0.4041913\ttotal: 33.7s\tremaining: 16.1s\n",
      "677:\tlearn: 0.4041693\ttotal: 33.7s\tremaining: 16s\n",
      "678:\tlearn: 0.4041548\ttotal: 33.8s\tremaining: 16s\n",
      "679:\tlearn: 0.4041256\ttotal: 33.8s\tremaining: 15.9s\n",
      "680:\tlearn: 0.4041079\ttotal: 33.9s\tremaining: 15.9s\n",
      "681:\tlearn: 0.4040886\ttotal: 33.9s\tremaining: 15.8s\n",
      "682:\tlearn: 0.4040663\ttotal: 34s\tremaining: 15.8s\n",
      "683:\tlearn: 0.4040360\ttotal: 34s\tremaining: 15.7s\n",
      "684:\tlearn: 0.4040124\ttotal: 34.1s\tremaining: 15.7s\n",
      "685:\tlearn: 0.4039906\ttotal: 34.1s\tremaining: 15.6s\n",
      "686:\tlearn: 0.4039584\ttotal: 34.2s\tremaining: 15.6s\n",
      "687:\tlearn: 0.4039489\ttotal: 34.2s\tremaining: 15.5s\n",
      "688:\tlearn: 0.4039266\ttotal: 34.3s\tremaining: 15.5s\n",
      "689:\tlearn: 0.4038941\ttotal: 34.3s\tremaining: 15.4s\n",
      "690:\tlearn: 0.4038787\ttotal: 34.3s\tremaining: 15.4s\n",
      "691:\tlearn: 0.4038624\ttotal: 34.4s\tremaining: 15.3s\n",
      "692:\tlearn: 0.4038362\ttotal: 34.4s\tremaining: 15.3s\n",
      "693:\tlearn: 0.4038203\ttotal: 34.5s\tremaining: 15.2s\n",
      "694:\tlearn: 0.4038013\ttotal: 34.5s\tremaining: 15.2s\n",
      "695:\tlearn: 0.4037717\ttotal: 34.6s\tremaining: 15.1s\n",
      "696:\tlearn: 0.4037470\ttotal: 34.6s\tremaining: 15.1s\n",
      "697:\tlearn: 0.4037178\ttotal: 34.7s\tremaining: 15s\n",
      "698:\tlearn: 0.4036988\ttotal: 34.7s\tremaining: 15s\n",
      "699:\tlearn: 0.4036722\ttotal: 34.8s\tremaining: 14.9s\n",
      "700:\tlearn: 0.4036556\ttotal: 34.8s\tremaining: 14.9s\n",
      "701:\tlearn: 0.4036302\ttotal: 34.9s\tremaining: 14.8s\n",
      "702:\tlearn: 0.4036076\ttotal: 34.9s\tremaining: 14.8s\n",
      "703:\tlearn: 0.4035827\ttotal: 35s\tremaining: 14.7s\n",
      "704:\tlearn: 0.4035640\ttotal: 35s\tremaining: 14.7s\n",
      "705:\tlearn: 0.4035422\ttotal: 35.1s\tremaining: 14.6s\n",
      "706:\tlearn: 0.4035294\ttotal: 35.1s\tremaining: 14.6s\n",
      "707:\tlearn: 0.4035031\ttotal: 35.2s\tremaining: 14.5s\n",
      "708:\tlearn: 0.4034839\ttotal: 35.2s\tremaining: 14.5s\n",
      "709:\tlearn: 0.4034650\ttotal: 35.3s\tremaining: 14.4s\n",
      "710:\tlearn: 0.4034470\ttotal: 35.3s\tremaining: 14.4s\n",
      "711:\tlearn: 0.4034310\ttotal: 35.4s\tremaining: 14.3s\n",
      "712:\tlearn: 0.4034166\ttotal: 35.4s\tremaining: 14.3s\n",
      "713:\tlearn: 0.4033978\ttotal: 35.5s\tremaining: 14.2s\n",
      "714:\tlearn: 0.4033799\ttotal: 35.5s\tremaining: 14.2s\n",
      "715:\tlearn: 0.4033555\ttotal: 35.6s\tremaining: 14.1s\n",
      "716:\tlearn: 0.4033374\ttotal: 35.6s\tremaining: 14.1s\n",
      "717:\tlearn: 0.4033138\ttotal: 35.7s\tremaining: 14s\n",
      "718:\tlearn: 0.4032940\ttotal: 35.7s\tremaining: 14s\n",
      "719:\tlearn: 0.4032827\ttotal: 35.8s\tremaining: 13.9s\n",
      "720:\tlearn: 0.4032649\ttotal: 35.8s\tremaining: 13.9s\n",
      "721:\tlearn: 0.4032394\ttotal: 35.8s\tremaining: 13.8s\n",
      "722:\tlearn: 0.4032158\ttotal: 35.9s\tremaining: 13.8s\n",
      "723:\tlearn: 0.4032004\ttotal: 36s\tremaining: 13.7s\n",
      "724:\tlearn: 0.4031791\ttotal: 36s\tremaining: 13.7s\n",
      "725:\tlearn: 0.4031600\ttotal: 36s\tremaining: 13.6s\n",
      "726:\tlearn: 0.4031394\ttotal: 36.1s\tremaining: 13.6s\n",
      "727:\tlearn: 0.4031171\ttotal: 36.1s\tremaining: 13.5s\n",
      "728:\tlearn: 0.4030976\ttotal: 36.2s\tremaining: 13.5s\n",
      "729:\tlearn: 0.4030765\ttotal: 36.2s\tremaining: 13.4s\n",
      "730:\tlearn: 0.4030584\ttotal: 36.3s\tremaining: 13.4s\n",
      "731:\tlearn: 0.4030446\ttotal: 36.3s\tremaining: 13.3s\n",
      "732:\tlearn: 0.4030244\ttotal: 36.4s\tremaining: 13.3s\n",
      "733:\tlearn: 0.4030000\ttotal: 36.4s\tremaining: 13.2s\n",
      "734:\tlearn: 0.4029797\ttotal: 36.5s\tremaining: 13.2s\n",
      "735:\tlearn: 0.4029559\ttotal: 36.5s\tremaining: 13.1s\n",
      "736:\tlearn: 0.4029380\ttotal: 36.6s\tremaining: 13.1s\n",
      "737:\tlearn: 0.4029167\ttotal: 36.6s\tremaining: 13s\n",
      "738:\tlearn: 0.4028959\ttotal: 36.7s\tremaining: 13s\n",
      "739:\tlearn: 0.4028804\ttotal: 36.7s\tremaining: 12.9s\n",
      "740:\tlearn: 0.4028596\ttotal: 36.8s\tremaining: 12.9s\n",
      "741:\tlearn: 0.4028358\ttotal: 36.8s\tremaining: 12.8s\n",
      "742:\tlearn: 0.4028153\ttotal: 36.9s\tremaining: 12.8s\n",
      "743:\tlearn: 0.4027928\ttotal: 36.9s\tremaining: 12.7s\n",
      "744:\tlearn: 0.4027748\ttotal: 37s\tremaining: 12.7s\n",
      "745:\tlearn: 0.4027572\ttotal: 37s\tremaining: 12.6s\n",
      "746:\tlearn: 0.4027352\ttotal: 37.1s\tremaining: 12.6s\n",
      "747:\tlearn: 0.4027095\ttotal: 37.1s\tremaining: 12.5s\n",
      "748:\tlearn: 0.4026912\ttotal: 37.2s\tremaining: 12.5s\n",
      "749:\tlearn: 0.4026681\ttotal: 37.2s\tremaining: 12.4s\n",
      "750:\tlearn: 0.4026232\ttotal: 37.3s\tremaining: 12.4s\n",
      "751:\tlearn: 0.4026027\ttotal: 37.3s\tremaining: 12.3s\n",
      "752:\tlearn: 0.4025823\ttotal: 37.4s\tremaining: 12.3s\n",
      "753:\tlearn: 0.4025605\ttotal: 37.4s\tremaining: 12.2s\n",
      "754:\tlearn: 0.4025443\ttotal: 37.5s\tremaining: 12.2s\n",
      "755:\tlearn: 0.4025203\ttotal: 37.5s\tremaining: 12.1s\n",
      "756:\tlearn: 0.4024954\ttotal: 37.6s\tremaining: 12.1s\n",
      "757:\tlearn: 0.4024753\ttotal: 37.6s\tremaining: 12s\n",
      "758:\tlearn: 0.4024569\ttotal: 37.7s\tremaining: 12s\n",
      "759:\tlearn: 0.4024381\ttotal: 37.7s\tremaining: 11.9s\n",
      "760:\tlearn: 0.4024141\ttotal: 37.8s\tremaining: 11.9s\n",
      "761:\tlearn: 0.4024007\ttotal: 37.8s\tremaining: 11.8s\n",
      "762:\tlearn: 0.4023774\ttotal: 37.9s\tremaining: 11.8s\n",
      "763:\tlearn: 0.4023583\ttotal: 37.9s\tremaining: 11.7s\n",
      "764:\tlearn: 0.4023448\ttotal: 38s\tremaining: 11.7s\n",
      "765:\tlearn: 0.4023236\ttotal: 38s\tremaining: 11.6s\n",
      "766:\tlearn: 0.4023038\ttotal: 38.1s\tremaining: 11.6s\n",
      "767:\tlearn: 0.4022863\ttotal: 38.1s\tremaining: 11.5s\n",
      "768:\tlearn: 0.4022630\ttotal: 38.2s\tremaining: 11.5s\n",
      "769:\tlearn: 0.4022422\ttotal: 38.2s\tremaining: 11.4s\n",
      "770:\tlearn: 0.4022240\ttotal: 38.3s\tremaining: 11.4s\n",
      "771:\tlearn: 0.4022082\ttotal: 38.3s\tremaining: 11.3s\n",
      "772:\tlearn: 0.4021879\ttotal: 38.4s\tremaining: 11.3s\n",
      "773:\tlearn: 0.4021634\ttotal: 38.4s\tremaining: 11.2s\n",
      "774:\tlearn: 0.4021416\ttotal: 38.5s\tremaining: 11.2s\n",
      "775:\tlearn: 0.4021192\ttotal: 38.5s\tremaining: 11.1s\n",
      "776:\tlearn: 0.4020950\ttotal: 38.6s\tremaining: 11.1s\n",
      "777:\tlearn: 0.4020750\ttotal: 38.6s\tremaining: 11s\n",
      "778:\tlearn: 0.4020501\ttotal: 38.7s\tremaining: 11s\n",
      "779:\tlearn: 0.4020261\ttotal: 38.7s\tremaining: 10.9s\n",
      "780:\tlearn: 0.4020044\ttotal: 38.8s\tremaining: 10.9s\n",
      "781:\tlearn: 0.4019870\ttotal: 38.8s\tremaining: 10.8s\n",
      "782:\tlearn: 0.4019770\ttotal: 38.9s\tremaining: 10.8s\n",
      "783:\tlearn: 0.4019497\ttotal: 38.9s\tremaining: 10.7s\n",
      "784:\tlearn: 0.4019285\ttotal: 39s\tremaining: 10.7s\n",
      "785:\tlearn: 0.4019051\ttotal: 39s\tremaining: 10.6s\n",
      "786:\tlearn: 0.4018848\ttotal: 39.1s\tremaining: 10.6s\n",
      "787:\tlearn: 0.4018572\ttotal: 39.1s\tremaining: 10.5s\n",
      "788:\tlearn: 0.4018355\ttotal: 39.2s\tremaining: 10.5s\n",
      "789:\tlearn: 0.4018092\ttotal: 39.2s\tremaining: 10.4s\n",
      "790:\tlearn: 0.4017820\ttotal: 39.3s\tremaining: 10.4s\n",
      "791:\tlearn: 0.4017618\ttotal: 39.3s\tremaining: 10.3s\n",
      "792:\tlearn: 0.4017454\ttotal: 39.4s\tremaining: 10.3s\n",
      "793:\tlearn: 0.4017234\ttotal: 39.4s\tremaining: 10.2s\n",
      "794:\tlearn: 0.4017041\ttotal: 39.5s\tremaining: 10.2s\n",
      "795:\tlearn: 0.4016902\ttotal: 39.5s\tremaining: 10.1s\n",
      "796:\tlearn: 0.4016784\ttotal: 39.6s\tremaining: 10.1s\n",
      "797:\tlearn: 0.4016691\ttotal: 39.6s\tremaining: 10s\n",
      "798:\tlearn: 0.4016492\ttotal: 39.7s\tremaining: 9.98s\n",
      "799:\tlearn: 0.4016266\ttotal: 39.7s\tremaining: 9.93s\n",
      "800:\tlearn: 0.4016121\ttotal: 39.8s\tremaining: 9.88s\n",
      "801:\tlearn: 0.4015844\ttotal: 39.8s\tremaining: 9.83s\n",
      "802:\tlearn: 0.4015580\ttotal: 39.9s\tremaining: 9.78s\n",
      "803:\tlearn: 0.4015332\ttotal: 39.9s\tremaining: 9.73s\n",
      "804:\tlearn: 0.4015151\ttotal: 40s\tremaining: 9.68s\n",
      "805:\tlearn: 0.4014951\ttotal: 40s\tremaining: 9.63s\n",
      "806:\tlearn: 0.4014749\ttotal: 40s\tremaining: 9.58s\n",
      "807:\tlearn: 0.4014367\ttotal: 40.1s\tremaining: 9.53s\n",
      "808:\tlearn: 0.4014175\ttotal: 40.1s\tremaining: 9.48s\n",
      "809:\tlearn: 0.4013839\ttotal: 40.2s\tremaining: 9.43s\n",
      "810:\tlearn: 0.4013599\ttotal: 40.3s\tremaining: 9.38s\n",
      "811:\tlearn: 0.4013379\ttotal: 40.3s\tremaining: 9.33s\n",
      "812:\tlearn: 0.4013179\ttotal: 40.3s\tremaining: 9.28s\n",
      "813:\tlearn: 0.4013049\ttotal: 40.4s\tremaining: 9.23s\n",
      "814:\tlearn: 0.4012832\ttotal: 40.4s\tremaining: 9.18s\n",
      "815:\tlearn: 0.4012654\ttotal: 40.5s\tremaining: 9.13s\n",
      "816:\tlearn: 0.4012456\ttotal: 40.5s\tremaining: 9.08s\n",
      "817:\tlearn: 0.4012235\ttotal: 40.6s\tremaining: 9.03s\n",
      "818:\tlearn: 0.4012073\ttotal: 40.6s\tremaining: 8.98s\n",
      "819:\tlearn: 0.4011851\ttotal: 40.7s\tremaining: 8.93s\n",
      "820:\tlearn: 0.4011673\ttotal: 40.7s\tremaining: 8.88s\n",
      "821:\tlearn: 0.4011467\ttotal: 40.8s\tremaining: 8.83s\n",
      "822:\tlearn: 0.4011238\ttotal: 40.8s\tremaining: 8.78s\n",
      "823:\tlearn: 0.4010893\ttotal: 40.9s\tremaining: 8.73s\n",
      "824:\tlearn: 0.4010771\ttotal: 40.9s\tremaining: 8.68s\n",
      "825:\tlearn: 0.4010586\ttotal: 41s\tremaining: 8.63s\n",
      "826:\tlearn: 0.4010319\ttotal: 41s\tremaining: 8.58s\n",
      "827:\tlearn: 0.4010053\ttotal: 41.1s\tremaining: 8.53s\n",
      "828:\tlearn: 0.4009855\ttotal: 41.1s\tremaining: 8.48s\n",
      "829:\tlearn: 0.4009633\ttotal: 41.2s\tremaining: 8.43s\n",
      "830:\tlearn: 0.4009397\ttotal: 41.2s\tremaining: 8.38s\n",
      "831:\tlearn: 0.4009228\ttotal: 41.3s\tremaining: 8.33s\n",
      "832:\tlearn: 0.4009062\ttotal: 41.3s\tremaining: 8.28s\n",
      "833:\tlearn: 0.4008890\ttotal: 41.4s\tremaining: 8.23s\n",
      "834:\tlearn: 0.4008667\ttotal: 41.4s\tremaining: 8.18s\n",
      "835:\tlearn: 0.4008462\ttotal: 41.5s\tremaining: 8.13s\n",
      "836:\tlearn: 0.4008269\ttotal: 41.5s\tremaining: 8.08s\n",
      "837:\tlearn: 0.4008048\ttotal: 41.5s\tremaining: 8.03s\n",
      "838:\tlearn: 0.4007851\ttotal: 41.6s\tremaining: 7.98s\n",
      "839:\tlearn: 0.4007602\ttotal: 41.6s\tremaining: 7.93s\n",
      "840:\tlearn: 0.4007393\ttotal: 41.7s\tremaining: 7.88s\n",
      "841:\tlearn: 0.4007195\ttotal: 41.7s\tremaining: 7.83s\n",
      "842:\tlearn: 0.4007020\ttotal: 41.8s\tremaining: 7.78s\n",
      "843:\tlearn: 0.4006880\ttotal: 41.8s\tremaining: 7.73s\n",
      "844:\tlearn: 0.4006703\ttotal: 41.9s\tremaining: 7.68s\n",
      "845:\tlearn: 0.4006484\ttotal: 41.9s\tremaining: 7.63s\n",
      "846:\tlearn: 0.4006270\ttotal: 42s\tremaining: 7.58s\n",
      "847:\tlearn: 0.4006066\ttotal: 42s\tremaining: 7.53s\n",
      "848:\tlearn: 0.4005841\ttotal: 42.1s\tremaining: 7.48s\n",
      "849:\tlearn: 0.4005696\ttotal: 42.1s\tremaining: 7.43s\n",
      "850:\tlearn: 0.4005516\ttotal: 42.2s\tremaining: 7.38s\n",
      "851:\tlearn: 0.4005309\ttotal: 42.2s\tremaining: 7.34s\n",
      "852:\tlearn: 0.4005140\ttotal: 42.3s\tremaining: 7.29s\n",
      "853:\tlearn: 0.4004901\ttotal: 42.3s\tremaining: 7.24s\n",
      "854:\tlearn: 0.4004781\ttotal: 42.4s\tremaining: 7.19s\n",
      "855:\tlearn: 0.4004610\ttotal: 42.4s\tremaining: 7.14s\n",
      "856:\tlearn: 0.4004440\ttotal: 42.5s\tremaining: 7.09s\n",
      "857:\tlearn: 0.4004232\ttotal: 42.5s\tremaining: 7.04s\n",
      "858:\tlearn: 0.4004043\ttotal: 42.6s\tremaining: 6.99s\n",
      "859:\tlearn: 0.4003863\ttotal: 42.6s\tremaining: 6.94s\n",
      "860:\tlearn: 0.4003688\ttotal: 42.7s\tremaining: 6.89s\n",
      "861:\tlearn: 0.4003536\ttotal: 42.7s\tremaining: 6.84s\n",
      "862:\tlearn: 0.4003368\ttotal: 42.7s\tremaining: 6.79s\n",
      "863:\tlearn: 0.4003115\ttotal: 42.8s\tremaining: 6.74s\n",
      "864:\tlearn: 0.4002944\ttotal: 42.8s\tremaining: 6.69s\n",
      "865:\tlearn: 0.4002826\ttotal: 42.9s\tremaining: 6.64s\n",
      "866:\tlearn: 0.4002516\ttotal: 42.9s\tremaining: 6.59s\n",
      "867:\tlearn: 0.4002332\ttotal: 43s\tremaining: 6.54s\n",
      "868:\tlearn: 0.4002135\ttotal: 43s\tremaining: 6.49s\n",
      "869:\tlearn: 0.4001988\ttotal: 43.1s\tremaining: 6.44s\n",
      "870:\tlearn: 0.4001808\ttotal: 43.1s\tremaining: 6.39s\n",
      "871:\tlearn: 0.4001534\ttotal: 43.2s\tremaining: 6.34s\n",
      "872:\tlearn: 0.4001347\ttotal: 43.2s\tremaining: 6.29s\n",
      "873:\tlearn: 0.4001108\ttotal: 43.3s\tremaining: 6.24s\n",
      "874:\tlearn: 0.4000924\ttotal: 43.3s\tremaining: 6.19s\n",
      "875:\tlearn: 0.4000744\ttotal: 43.4s\tremaining: 6.14s\n",
      "876:\tlearn: 0.4000436\ttotal: 43.4s\tremaining: 6.09s\n",
      "877:\tlearn: 0.4000352\ttotal: 43.5s\tremaining: 6.04s\n",
      "878:\tlearn: 0.4000142\ttotal: 43.5s\tremaining: 5.99s\n",
      "879:\tlearn: 0.3999991\ttotal: 43.6s\tremaining: 5.94s\n",
      "880:\tlearn: 0.3999847\ttotal: 43.6s\tremaining: 5.89s\n",
      "881:\tlearn: 0.3999619\ttotal: 43.7s\tremaining: 5.84s\n",
      "882:\tlearn: 0.3999414\ttotal: 43.7s\tremaining: 5.79s\n",
      "883:\tlearn: 0.3999181\ttotal: 43.7s\tremaining: 5.74s\n",
      "884:\tlearn: 0.3999041\ttotal: 43.8s\tremaining: 5.69s\n",
      "885:\tlearn: 0.3998800\ttotal: 43.8s\tremaining: 5.64s\n",
      "886:\tlearn: 0.3998583\ttotal: 43.9s\tremaining: 5.59s\n",
      "887:\tlearn: 0.3998344\ttotal: 43.9s\tremaining: 5.54s\n",
      "888:\tlearn: 0.3998178\ttotal: 44s\tremaining: 5.49s\n",
      "889:\tlearn: 0.3997951\ttotal: 44s\tremaining: 5.44s\n",
      "890:\tlearn: 0.3997697\ttotal: 44.1s\tremaining: 5.39s\n",
      "891:\tlearn: 0.3997400\ttotal: 44.1s\tremaining: 5.34s\n",
      "892:\tlearn: 0.3997171\ttotal: 44.2s\tremaining: 5.29s\n",
      "893:\tlearn: 0.3997025\ttotal: 44.2s\tremaining: 5.25s\n",
      "894:\tlearn: 0.3996866\ttotal: 44.3s\tremaining: 5.2s\n",
      "895:\tlearn: 0.3996705\ttotal: 44.3s\tremaining: 5.15s\n",
      "896:\tlearn: 0.3996507\ttotal: 44.4s\tremaining: 5.1s\n",
      "897:\tlearn: 0.3996294\ttotal: 44.4s\tremaining: 5.05s\n",
      "898:\tlearn: 0.3996150\ttotal: 44.5s\tremaining: 5s\n",
      "899:\tlearn: 0.3995842\ttotal: 44.5s\tremaining: 4.95s\n",
      "900:\tlearn: 0.3995687\ttotal: 44.6s\tremaining: 4.9s\n",
      "901:\tlearn: 0.3995511\ttotal: 44.6s\tremaining: 4.85s\n",
      "902:\tlearn: 0.3995242\ttotal: 44.7s\tremaining: 4.8s\n",
      "903:\tlearn: 0.3995103\ttotal: 44.7s\tremaining: 4.75s\n",
      "904:\tlearn: 0.3994899\ttotal: 44.8s\tremaining: 4.7s\n",
      "905:\tlearn: 0.3994753\ttotal: 44.8s\tremaining: 4.65s\n",
      "906:\tlearn: 0.3994604\ttotal: 44.9s\tremaining: 4.6s\n",
      "907:\tlearn: 0.3994460\ttotal: 44.9s\tremaining: 4.55s\n",
      "908:\tlearn: 0.3994266\ttotal: 45s\tremaining: 4.5s\n",
      "909:\tlearn: 0.3994060\ttotal: 45s\tremaining: 4.45s\n",
      "910:\tlearn: 0.3993857\ttotal: 45.1s\tremaining: 4.4s\n",
      "911:\tlearn: 0.3993728\ttotal: 45.1s\tremaining: 4.36s\n",
      "912:\tlearn: 0.3993599\ttotal: 45.2s\tremaining: 4.3s\n",
      "913:\tlearn: 0.3993436\ttotal: 45.2s\tremaining: 4.26s\n",
      "914:\tlearn: 0.3993272\ttotal: 45.3s\tremaining: 4.21s\n",
      "915:\tlearn: 0.3993116\ttotal: 45.3s\tremaining: 4.16s\n",
      "916:\tlearn: 0.3992947\ttotal: 45.4s\tremaining: 4.11s\n",
      "917:\tlearn: 0.3992884\ttotal: 45.4s\tremaining: 4.06s\n",
      "918:\tlearn: 0.3992758\ttotal: 45.5s\tremaining: 4.01s\n",
      "919:\tlearn: 0.3992566\ttotal: 45.5s\tremaining: 3.96s\n",
      "920:\tlearn: 0.3992439\ttotal: 45.6s\tremaining: 3.91s\n",
      "921:\tlearn: 0.3992289\ttotal: 45.6s\tremaining: 3.86s\n",
      "922:\tlearn: 0.3992031\ttotal: 45.7s\tremaining: 3.81s\n",
      "923:\tlearn: 0.3991835\ttotal: 45.7s\tremaining: 3.76s\n",
      "924:\tlearn: 0.3991694\ttotal: 45.8s\tremaining: 3.71s\n",
      "925:\tlearn: 0.3991543\ttotal: 45.8s\tremaining: 3.66s\n",
      "926:\tlearn: 0.3991315\ttotal: 45.9s\tremaining: 3.61s\n",
      "927:\tlearn: 0.3991135\ttotal: 45.9s\tremaining: 3.56s\n",
      "928:\tlearn: 0.3990913\ttotal: 46s\tremaining: 3.51s\n",
      "929:\tlearn: 0.3990707\ttotal: 46s\tremaining: 3.46s\n",
      "930:\tlearn: 0.3990433\ttotal: 46.1s\tremaining: 3.41s\n",
      "931:\tlearn: 0.3990237\ttotal: 46.1s\tremaining: 3.36s\n",
      "932:\tlearn: 0.3990082\ttotal: 46.2s\tremaining: 3.31s\n",
      "933:\tlearn: 0.3989839\ttotal: 46.2s\tremaining: 3.27s\n",
      "934:\tlearn: 0.3989619\ttotal: 46.3s\tremaining: 3.22s\n",
      "935:\tlearn: 0.3989470\ttotal: 46.3s\tremaining: 3.17s\n",
      "936:\tlearn: 0.3989305\ttotal: 46.4s\tremaining: 3.12s\n",
      "937:\tlearn: 0.3989141\ttotal: 46.4s\tremaining: 3.07s\n",
      "938:\tlearn: 0.3988847\ttotal: 46.5s\tremaining: 3.02s\n",
      "939:\tlearn: 0.3988674\ttotal: 46.5s\tremaining: 2.97s\n",
      "940:\tlearn: 0.3988506\ttotal: 46.6s\tremaining: 2.92s\n",
      "941:\tlearn: 0.3988207\ttotal: 46.6s\tremaining: 2.87s\n",
      "942:\tlearn: 0.3988010\ttotal: 46.7s\tremaining: 2.82s\n",
      "943:\tlearn: 0.3987849\ttotal: 46.7s\tremaining: 2.77s\n",
      "944:\tlearn: 0.3987659\ttotal: 46.8s\tremaining: 2.72s\n",
      "945:\tlearn: 0.3987516\ttotal: 46.8s\tremaining: 2.67s\n",
      "946:\tlearn: 0.3987330\ttotal: 46.9s\tremaining: 2.62s\n",
      "947:\tlearn: 0.3987139\ttotal: 46.9s\tremaining: 2.57s\n",
      "948:\tlearn: 0.3987038\ttotal: 46.9s\tremaining: 2.52s\n",
      "949:\tlearn: 0.3986781\ttotal: 47s\tremaining: 2.47s\n",
      "950:\tlearn: 0.3986536\ttotal: 47s\tremaining: 2.42s\n",
      "951:\tlearn: 0.3986338\ttotal: 47.1s\tremaining: 2.37s\n",
      "952:\tlearn: 0.3986133\ttotal: 47.1s\tremaining: 2.32s\n",
      "953:\tlearn: 0.3985868\ttotal: 47.2s\tremaining: 2.27s\n",
      "954:\tlearn: 0.3985603\ttotal: 47.2s\tremaining: 2.23s\n",
      "955:\tlearn: 0.3985430\ttotal: 47.3s\tremaining: 2.18s\n",
      "956:\tlearn: 0.3985232\ttotal: 47.3s\tremaining: 2.13s\n",
      "957:\tlearn: 0.3985039\ttotal: 47.4s\tremaining: 2.08s\n",
      "958:\tlearn: 0.3984883\ttotal: 47.4s\tremaining: 2.03s\n",
      "959:\tlearn: 0.3984685\ttotal: 47.5s\tremaining: 1.98s\n",
      "960:\tlearn: 0.3984490\ttotal: 47.5s\tremaining: 1.93s\n",
      "961:\tlearn: 0.3984273\ttotal: 47.6s\tremaining: 1.88s\n",
      "962:\tlearn: 0.3984052\ttotal: 47.6s\tremaining: 1.83s\n",
      "963:\tlearn: 0.3983899\ttotal: 47.7s\tremaining: 1.78s\n",
      "964:\tlearn: 0.3983682\ttotal: 47.7s\tremaining: 1.73s\n",
      "965:\tlearn: 0.3983533\ttotal: 47.8s\tremaining: 1.68s\n",
      "966:\tlearn: 0.3983291\ttotal: 47.8s\tremaining: 1.63s\n",
      "967:\tlearn: 0.3983070\ttotal: 47.9s\tremaining: 1.58s\n",
      "968:\tlearn: 0.3982929\ttotal: 47.9s\tremaining: 1.53s\n",
      "969:\tlearn: 0.3982799\ttotal: 48s\tremaining: 1.48s\n",
      "970:\tlearn: 0.3982618\ttotal: 48s\tremaining: 1.43s\n",
      "971:\tlearn: 0.3982369\ttotal: 48.1s\tremaining: 1.38s\n",
      "972:\tlearn: 0.3982196\ttotal: 48.1s\tremaining: 1.33s\n",
      "973:\tlearn: 0.3982043\ttotal: 48.2s\tremaining: 1.28s\n",
      "974:\tlearn: 0.3981841\ttotal: 48.2s\tremaining: 1.24s\n",
      "975:\tlearn: 0.3981684\ttotal: 48.3s\tremaining: 1.19s\n",
      "976:\tlearn: 0.3981474\ttotal: 48.3s\tremaining: 1.14s\n",
      "977:\tlearn: 0.3981340\ttotal: 48.4s\tremaining: 1.09s\n",
      "978:\tlearn: 0.3981208\ttotal: 48.4s\tremaining: 1.04s\n",
      "979:\tlearn: 0.3980972\ttotal: 48.5s\tremaining: 989ms\n",
      "980:\tlearn: 0.3980808\ttotal: 48.5s\tremaining: 939ms\n",
      "981:\tlearn: 0.3980698\ttotal: 48.5s\tremaining: 890ms\n",
      "982:\tlearn: 0.3980501\ttotal: 48.6s\tremaining: 840ms\n",
      "983:\tlearn: 0.3980280\ttotal: 48.6s\tremaining: 791ms\n",
      "984:\tlearn: 0.3980068\ttotal: 48.7s\tremaining: 742ms\n",
      "985:\tlearn: 0.3979795\ttotal: 48.7s\tremaining: 692ms\n",
      "986:\tlearn: 0.3979514\ttotal: 48.8s\tremaining: 643ms\n",
      "987:\tlearn: 0.3979266\ttotal: 48.8s\tremaining: 593ms\n",
      "988:\tlearn: 0.3979087\ttotal: 48.9s\tremaining: 544ms\n",
      "989:\tlearn: 0.3978870\ttotal: 48.9s\tremaining: 494ms\n",
      "990:\tlearn: 0.3978643\ttotal: 49s\tremaining: 445ms\n",
      "991:\tlearn: 0.3978486\ttotal: 49s\tremaining: 395ms\n",
      "992:\tlearn: 0.3978300\ttotal: 49.1s\tremaining: 346ms\n",
      "993:\tlearn: 0.3978075\ttotal: 49.1s\tremaining: 297ms\n",
      "994:\tlearn: 0.3977893\ttotal: 49.2s\tremaining: 247ms\n",
      "995:\tlearn: 0.3977651\ttotal: 49.2s\tremaining: 198ms\n",
      "996:\tlearn: 0.3977500\ttotal: 49.3s\tremaining: 148ms\n",
      "997:\tlearn: 0.3977285\ttotal: 49.3s\tremaining: 98.8ms\n",
      "998:\tlearn: 0.3977135\ttotal: 49.4s\tremaining: 49.4ms\n",
      "999:\tlearn: 0.3976889\ttotal: 49.4s\tremaining: 0us\n",
      "totoal trainning leghth: 49.848373889923096\n"
     ]
    }
   ],
   "source": [
    "CAB = CatBoostClassifier(learning_rate = 0.055,random_state=42,scale_pos_weight=7, custom_metric=['AUC'])\n",
    "\n",
    "# XGB_ = XGBClassifier(n_estimators=1000,max_depth=6,learning_rate=0.04,subsample=0.9,colsample_bytree=0.35,objective = 'binary:logistic',random_state = 1) \n",
    "time_start = time.time()\n",
    "CAB_fit = CAB.fit(train_X, train_Y)\n",
    "print(\"totoal trainning leghth:\", time.time() - time_start)"
   ]
  },
  {
   "cell_type": "code",
   "execution_count": 33,
   "metadata": {},
   "outputs": [
    {
     "output_type": "stream",
     "name": "stdout",
     "text": [
      "[LightGBM] [Warning] Unknown parameter: depth\n",
      "totoal trainning leghth: 19.61931800842285\n"
     ]
    }
   ],
   "source": [
    "lg=LGBMClassifier(boosting_type='gbdt',n_estimators=500,depth=10,learning_rate=0.04,objective='binary',metric='auc',colsample_bytree=0.5,reg_lambda=2,reg_alpha=2,random_state=294,n_jobs=-1) \n",
    "# lg = LGBMClassifier(boosting_type='gbdt',n_estimators=10000,max_depth=10,learning_rate=0.02,subsample=0.9,colsample_bytree=0.4,objective ='binary',random_state = 1,importance_type='gain',reg_alpha=2,reg_lambda=2)\n",
    "\n",
    "time_start = time.time()\n",
    "lg_fit = lg.fit(train_X, train_Y)\n",
    "print(\"totoal trainning leghth:\", time.time() - time_start)"
   ]
  },
  {
   "cell_type": "code",
   "execution_count": 36,
   "metadata": {
    "tags": []
   },
   "outputs": [
    {
     "output_type": "stream",
     "name": "stdout",
     "text": [
      "Area under curve (AUC):  0.86008\nBest X: 0.344\n"
     ]
    }
   ],
   "source": [
    "yscore = XGB_fit.predict_proba(valid)[:,1]\n",
    "lg_yscore = lg_fit.predict_proba(valid)[:,1]\n",
    "best_auc = 0.\n",
    "best_x = 0.\n",
    "for x in np.arange(0,1.001,0.001):\n",
    "    fpr, tpr, _ = roc_curve(valid_target, yscore * x + lg_yscore * (1-x))\n",
    "    tmp_auc = auc(fpr,tpr)\n",
    "    if tmp_auc > best_auc:\n",
    "        best_auc = tmp_auc\n",
    "        best_x = x\n",
    "\n",
    "# plt.title('XGBOOST ROC curve')\n",
    "# plt.xlabel('FPR (Precision)')\n",
    "# plt.ylabel('TPR (Recall)')\n",
    "\n",
    "# plt.plot(fpr,tpr)\n",
    "# plt.plot((0,1), ls='dashed',color='black')\n",
    "# plt.show()\n",
    "print ('Area under curve (AUC): ', format(round(best_auc,5)))\n",
    "print ('Best X:', format(round(best_x,5)))"
   ]
  },
  {
   "cell_type": "code",
   "execution_count": 37,
   "metadata": {},
   "outputs": [
    {
     "output_type": "stream",
     "name": "stdout",
     "text": [
      "Area under curve (AUC):  0.85848\nBest X: 0.795\n"
     ]
    }
   ],
   "source": [
    "yscore = XGB_fit.predict_proba(test_X)[:,1]\n",
    "lg_yscore = lg_fit.predict_proba(test_X)[:,1]\n",
    "best_auc = 0.\n",
    "best_x = 0.\n",
    "for x in np.arange(0,1.001,0.001):\n",
    "    fpr, tpr, _ = roc_curve(test_Y, yscore * x + lg_yscore * (1-x))\n",
    "    tmp_auc = auc(fpr,tpr)\n",
    "    if tmp_auc > best_auc:\n",
    "        best_auc = tmp_auc\n",
    "        best_x = x\n",
    "\n",
    "# plt.title('XGBOOST ROC curve')\n",
    "# plt.xlabel('FPR (Precision)')\n",
    "# plt.ylabel('TPR (Recall)')\n",
    "\n",
    "# plt.plot(fpr,tpr)\n",
    "# plt.plot((0,1), ls='dashed',color='black')\n",
    "# plt.show()\n",
    "print ('Area under curve (AUC): ', format(round(best_auc,5)))\n",
    "print ('Best X:', format(round(best_x,5)))"
   ]
  },
  {
   "cell_type": "code",
   "execution_count": 39,
   "metadata": {},
   "outputs": [
    {
     "output_type": "stream",
     "name": "stdout",
     "text": [
      "Area under curve (AUC):  0.86971\nBest X: 0.0\n"
     ]
    }
   ],
   "source": [
    "yscore = XGB_fit.predict_proba(train_X)[:,1]\n",
    "lg_yscore = lg_fit.predict_proba(train_X)[:,1]\n",
    "best_auc = 0.\n",
    "best_x = 0.\n",
    "for x in np.arange(0,1.001,0.001):\n",
    "    fpr, tpr, _ = roc_curve(train_Y, yscore * x + lg_yscore * (1-x))\n",
    "    tmp_auc = auc(fpr,tpr)\n",
    "    if tmp_auc > best_auc:\n",
    "        best_auc = tmp_auc\n",
    "        best_x = x\n",
    "\n",
    "# plt.title('XGBOOST ROC curve')\n",
    "# plt.xlabel('FPR (Precision)')\n",
    "# plt.ylabel('TPR (Recall)')\n",
    "\n",
    "# plt.plot(fpr,tpr)\n",
    "# plt.plot((0,1), ls='dashed',color='black')\n",
    "# plt.show()\n",
    "print ('Area under curve (AUC): ', format(round(best_auc,5)))\n",
    "print ('Best X:', format(round(best_x,5)))"
   ]
  },
  {
   "cell_type": "code",
   "execution_count": null,
   "metadata": {},
   "outputs": [],
   "source": [
    "# random_search = {'criterion': ['entropy', 'gini'],\n",
    "#                'max_depth': [2,3,4,5,6,7,10],\n",
    "#                'min_samples_leaf': [4, 6, 8],\n",
    "#                'min_samples_split': [5, 7,10],\n",
    "#                'n_estimators': [300]}\n",
    "\n",
    "# clf = RandomForestClassifier()\n",
    "# model = RandomizedSearchCV(estimator = clf, param_distributions = random_search, n_iter = 10, \n",
    "#                                cv = 4, verbose= 1, random_state= 101, n_jobs = -1)\n",
    "# model.fit(train, train_target)"
   ]
  },
  {
   "cell_type": "code",
   "execution_count": null,
   "metadata": {},
   "outputs": [],
   "source": [
    "# model"
   ]
  },
  {
   "cell_type": "code",
   "execution_count": null,
   "metadata": {},
   "outputs": [],
   "source": [
    "# y_pred=model.predict(test)\n",
    "# print (classification_report(test_target, y_pred))"
   ]
  },
  {
   "cell_type": "code",
   "execution_count": null,
   "metadata": {},
   "outputs": [],
   "source": [
    "# sns.countplot(train_target)\n"
   ]
  },
  {
   "cell_type": "code",
   "execution_count": null,
   "metadata": {},
   "outputs": [],
   "source": [
    "# y_score = model.predict_proba(test)[:,1]\n",
    "# fpr, tpr, _ = roc_curve(test_target, y_score)\n",
    "\n",
    "# plt.title('Random Forest ROC curve: CC Fraud')\n",
    "# plt.xlabel('FPR (Precision)')\n",
    "# plt.ylabel('TPR , y_pred')\n",
    "\n",
    "# plt.plot(fpr,tpr)\n",
    "# plt.plot((0,1), ls='dashed',color='black')\n",
    "# plt.show()\n",
    "# print ('Area under curve (AUC): ', auc(fpr,tpr))"
   ]
  },
  {
   "cell_type": "code",
   "execution_count": null,
   "metadata": {},
   "outputs": [],
   "source": []
  },
  {
   "cell_type": "code",
   "execution_count": null,
   "metadata": {},
   "outputs": [],
   "source": [
    "model.best_estimator_"
   ]
  },
  {
   "cell_type": "code",
   "execution_count": null,
   "metadata": {},
   "outputs": [],
   "source": [
    "pickle.dump(model, open('rf_model_clean_v1.sav', 'wb'))"
   ]
  },
  {
   "cell_type": "code",
   "execution_count": null,
   "metadata": {},
   "outputs": [],
   "source": [
    "from sklearn.svm import SVC\n",
    "from sklearn.model_selection import train_test_split"
   ]
  },
  {
   "cell_type": "code",
   "execution_count": null,
   "metadata": {},
   "outputs": [],
   "source": [
    "train_svc = train.copy()\n",
    "train_svc_target = train_target.copy()\n",
    "\n",
    "train_X, test_X, train_y, test_y = train_test_split(train_svc, train_svc_target, test_size=0.2, random_state=42)"
   ]
  },
  {
   "cell_type": "code",
   "execution_count": null,
   "metadata": {},
   "outputs": [],
   "source": [
    "train_svc_X = train_X[:10000]\n",
    "train_svc_Y = train_y[:10000]"
   ]
  },
  {
   "cell_type": "code",
   "execution_count": null,
   "metadata": {},
   "outputs": [],
   "source": [
    "random_search_svc = {'C': 10. ** np.arange(-3, 8),\n",
    "               'gamma' : 10. ** np.arange(-5, 4),}\n",
    "clf_svc = SVC(probability=True)\n",
    "svc_model = RandomizedSearchCV(estimator = clf_svc, param_distributions = random_search_svc, n_jobs\\\n",
    "                                         = -1, cv=5)\n",
    "\n",
    "svc_model.fit(train_svc_X, train_svc_Y)"
   ]
  },
  {
   "cell_type": "code",
   "execution_count": null,
   "metadata": {},
   "outputs": [],
   "source": [
    "svc_model.best_params_"
   ]
  },
  {
   "cell_type": "code",
   "execution_count": null,
   "metadata": {},
   "outputs": [],
   "source": [
    "y_score2 = svc_model.predict_proba(test_X)[:,1]\n",
    "fpr, tpr, _ = roc_curve(test_y, y_score2)\n",
    "\n",
    "plt.title('SVC ROC curve: CC Fraud')\n",
    "plt.xlabel('FPR (Precision)')\n",
    "plt.ylabel('TPR , y_pred')\n",
    "\n",
    "plt.plot(fpr,tpr)\n",
    "plt.plot((0,1), ls='dashed',color='black')\n",
    "plt.show()\n",
    "print ('Area under curve (AUC): ', auc(fpr,tpr))"
   ]
  },
  {
   "cell_type": "code",
   "execution_count": null,
   "metadata": {},
   "outputs": [],
   "source": [
    "y_score2 = svc_model.predict_proba(test)[:,1]\n",
    "fpr, tpr, _ = roc_curve(test_target, y_score2)\n",
    "\n",
    "plt.title('SVC ROC curve: CC Fraud')\n",
    "plt.xlabel('FPR (Precision)')\n",
    "plt.ylabel('TPR , y_pred')\n",
    "\n",
    "plt.plot(fpr,tpr)\n",
    "plt.plot((0,1), ls='dashed',color='black')\n",
    "plt.show()\n",
    "print ('Area under curve (AUC): ', auc(fpr,tpr))"
   ]
  },
  {
   "cell_type": "code",
   "execution_count": null,
   "metadata": {},
   "outputs": [],
   "source": [
    "pickle.dump(svc_model, open('model/svc_model_clean_v1.sav', 'wb'))"
   ]
  },
  {
   "cell_type": "code",
   "execution_count": null,
   "metadata": {},
   "outputs": [],
   "source": []
  },
  {
   "cell_type": "code",
   "execution_count": null,
   "metadata": {},
   "outputs": [],
   "source": [
    "y_score2"
   ]
  },
  {
   "cell_type": "code",
   "execution_count": null,
   "metadata": {},
   "outputs": [],
   "source": [
    "train"
   ]
  },
  {
   "cell_type": "code",
   "execution_count": null,
   "metadata": {},
   "outputs": [],
   "source": [
    "test_y.sum()"
   ]
  },
  {
   "cell_type": "code",
   "execution_count": null,
   "metadata": {},
   "outputs": [],
   "source": [
    "clf = xgb.XGBClassifier()\n",
    "\n",
    "\n",
    "param_grid = {\n",
    "        'silent': [False],\n",
    "        'max_depth': [6, 10, 15, 20],\n",
    "        'learning_rate': [0.001, 0.01, 0.1, 0.2, 0,3],\n",
    "        'subsample': [0.5, 0.6, 0.7, 0.8, 0.9, 1.0],\n",
    "        'colsample_bytree': [0.4, 0.5, 0.6, 0.7, 0.8, 0.9, 1.0],\n",
    "        'colsample_bylevel': [0.4, 0.5, 0.6, 0.7, 0.8, 0.9, 1.0],\n",
    "        'min_child_weight': [0.5, 1.0, 3.0, 5.0, 7.0, 10.0],\n",
    "        'gamma': [0, 0.25, 0.5, 1.0],\n",
    "        'reg_lambda': [0.1, 1.0, 5.0, 10.0, 50.0, 100.0],\n",
    "        'n_estimators': [100]}\n",
    "\n",
    "fit_params = {'eval_metric': 'mlogloss',\n",
    "              'early_stopping_rounds': 10,\n",
    "              'eval_set': [(test_X, test_y)]}\n",
    "\n",
    "rs_xgb_model = RandomizedSearchCV(clf, param_grid, n_iter=20,\n",
    "                            n_jobs=-1, verbose=2, cv=2,\n",
    "                            scoring='neg_log_loss', random_state=42)"
   ]
  },
  {
   "cell_type": "code",
   "execution_count": null,
   "metadata": {},
   "outputs": [],
   "source": [
    "import time"
   ]
  },
  {
   "cell_type": "code",
   "execution_count": null,
   "metadata": {},
   "outputs": [],
   "source": [
    "search_time_start = time.time()\n",
    "rs_xgb_model.fit(train_X, train_y)\n",
    "print(\"Randomized search time:\", time.time() - search_time_start)\n"
   ]
  },
  {
   "cell_type": "code",
   "execution_count": null,
   "metadata": {},
   "outputs": [],
   "source": [
    "rs_xgb_model.best_params_"
   ]
  },
  {
   "cell_type": "code",
   "execution_count": null,
   "metadata": {},
   "outputs": [],
   "source": [
    "train_balance_target = train_balance['Response']\n",
    "train_balance.drop(['Response'], axis=1, inplace=True)\n",
    "valid_target = valid['Response']\n",
    "valid.drop(['Response'], axis=1, inplace=True)\n",
    "train_X, test_X, train_Y, test_Y = train_test_split(train_balance, train_balance_target, test_size=0.33)"
   ]
  },
  {
   "cell_type": "code",
   "execution_count": null,
   "metadata": {},
   "outputs": [],
   "source": [
    "clf2 = xgb.XGBClassifier()\n",
    "\n",
    "param_dist = {\n",
    "        'n_estimators':[300],\n",
    "        'max_depth':range(2,15,1),\n",
    "        'learning_rate':np.linspace(0.01,2,20),\n",
    "        'subsample':np.linspace(0.7,0.9,20),\n",
    "        'colsample_bytree':np.linspace(0.5,0.98,10),\n",
    "        'min_child_weight':range(1,9,1) }\n",
    "\n",
    "rs_xgb_model_v2 = RandomizedSearchCV(clf2, param_dist, n_iter=300, \\\n",
    "                        n_jobs=-1, cv=3, verbose=1, scoring='neg_log_loss')"
   ]
  },
  {
   "cell_type": "code",
   "execution_count": null,
   "metadata": {},
   "outputs": [],
   "source": [
    "test_Y"
   ]
  },
  {
   "cell_type": "code",
   "execution_count": null,
   "metadata": {},
   "outputs": [],
   "source": [
    "import time"
   ]
  },
  {
   "cell_type": "code",
   "execution_count": null,
   "metadata": {},
   "outputs": [],
   "source": [
    "XGB_=XGBClassifier(n_estimators = 300, max_depth = 13, gamma = 2.3408807913619945, reg_lambda = 0.3770436657913232,\n",
    "                            reg_alpha = 40.0, min_child_weight=7.0,colsample_bytree = 0.5786479102658189 ,random_state = 0)\n",
    "time_start = time.time()\n",
    "XGB_fit = XGB_.fit(train_X_2, train_Y)\n",
    "print(\"totoal trainning leghth:\", time.time() - time_start)"
   ]
  },
  {
   "cell_type": "code",
   "execution_count": null,
   "metadata": {},
   "outputs": [],
   "source": [
    "## 过采样\n",
    "\n",
    "yscore = XGB_fit.predict_proba(valid)[:,1]\n",
    "fpr, tpr, _ = roc_curve(valid_target, yscore)\n",
    "\n",
    "plt.title('XGBOOST ROC curve')\n",
    "plt.xlabel('FPR (Precision)')\n",
    "plt.ylabel('TPR (Recall)')\n",
    "\n",
    "plt.plot(fpr,tpr)\n",
    "plt.plot((0,1), ls='dashed',color='black')\n",
    "plt.show()\n",
    "print ('Area under curve (AUC): ', format(round(auc(fpr,tpr),5)))"
   ]
  },
  {
   "cell_type": "code",
   "execution_count": null,
   "metadata": {},
   "outputs": [],
   "source": [
    "yscore = XGB_fit.predict_proba(valid_2)[:,1]\n",
    "fpr, tpr, _ = roc_curve(valid_target, yscore)\n",
    "\n",
    "plt.title('XGBOOST ROC curve')\n",
    "plt.xlabel('FPR (Precision)')\n",
    "plt.ylabel('TPR (Recall)')\n",
    "\n",
    "plt.plot(fpr,tpr)\n",
    "plt.plot((0,1), ls='dashed',color='black')\n",
    "plt.show()\n",
    "print ('Area under curve (AUC): ', format(round(auc(fpr,tpr),5)))"
   ]
  },
  {
   "cell_type": "code",
   "execution_count": null,
   "metadata": {},
   "outputs": [],
   "source": [
    "yscore = XGB_fit.predict_proba(test_X_2)[:,1]\n",
    "fpr, tpr, _ = roc_curve(test_Y, yscore)\n",
    "\n",
    "plt.title('XGBOOST ROC curve')\n",
    "plt.xlabel('FPR (Precision)')\n",
    "plt.ylabel('TPR (Recall)')\n",
    "\n",
    "plt.plot(fpr,tpr)\n",
    "plt.plot((0,1), ls='dashed',color='black')\n",
    "plt.show()\n",
    "print ('Area under curve (AUC): ', format(round(auc(fpr,tpr),5)))"
   ]
  },
  {
   "cell_type": "code",
   "execution_count": null,
   "metadata": {},
   "outputs": [],
   "source": [
    "##best param of us\n",
    "XGB_=XGBClassifier(n_estimators = 300, max_depth = 7, gamma = 2.5952033716242866, reg_lambda = 0.707680330032109,\n",
    "                            reg_alpha = 40.0, min_child_weight=7.0,colsample_bytree = 0.6611082911056974,random_state = 0)\n",
    "time_start = time.time()\n",
    "XGB_fit = XGB_.fit(train_X_2, train_Y)\n",
    "print(\"totoal trainning leghth:\", time.time() - time_start)"
   ]
  },
  {
   "cell_type": "code",
   "execution_count": null,
   "metadata": {},
   "outputs": [],
   "source": [
    "yscore = XGB_fit.predict_proba(valid_2)[:,1]\n",
    "fpr, tpr, _ = roc_curve(valid_target, yscore)\n",
    "\n",
    "plt.title('XGBOOST ROC curve')\n",
    "plt.xlabel('FPR (Precision)')\n",
    "plt.ylabel('TPR (Recal l)')\n",
    "\n",
    "plt.plot(fpr,tpr)\n",
    "plt.plot((0,1), ls='dashed',color='black')\n",
    "plt.show()\n",
    "print ('Area under curve (AUC): ', format(round(auc(fpr,tpr),5)))"
   ]
  },
  {
   "cell_type": "code",
   "execution_count": null,
   "metadata": {},
   "outputs": [],
   "source": [
    "yscore = XGB_fit.predict_proba(train_X_2)[:,1]\n",
    "fpr, tpr, _ = roc_curve(train_Y, yscore)\n",
    "\n",
    "plt.title('XGBOOST ROC curve')\n",
    "plt.xlabel('FPR (Precision)')\n",
    "plt.ylabel('TPR (Recal l)')\n",
    "\n",
    "plt.plot(fpr,tpr)\n",
    "plt.plot((0,1), ls='dashed',color='black')\n",
    "plt.show()\n",
    "print ('Area under curve (AUC): ', format(round(auc(fpr,tpr),5)))"
   ]
  },
  {
   "cell_type": "code",
   "execution_count": null,
   "metadata": {},
   "outputs": [],
   "source": [
    "yscore = XGB_fit.predict_proba(test_X_2)[:,1]\n",
    "fpr, tpr, _ = roc_curve(test_Y, yscore)\n",
    "\n",
    "plt.title('XGBOOST ROC curve')\n",
    "plt.xlabel('FPR (Precision)')\n",
    "plt.ylabel('TPR (Recal l)')\n",
    "\n",
    "plt.plot(fpr,tpr)\n",
    "plt.plot((0,1), ls='dashed',color='black')\n",
    "plt.show()\n",
    "print ('Area under curve (AUC): ', format(round(auc(fpr,tpr),5)))"
   ]
  },
  {
   "cell_type": "code",
   "execution_count": null,
   "metadata": {},
   "outputs": [],
   "source": [
    "clf = xgb.XGBClassifier()\n",
    "\n",
    "\n",
    "param_grid = {\n",
    "        'silent': [False],\n",
    "        'max_depth': [6, 10, 15, 20],\n",
    "        'learning_rate': [0.001, 0.01, 0.1, 0.2, 0,3],\n",
    "        'subsample': [0.5, 0.6, 0.7, 0.8, 0.9, 1.0],\n",
    "        'colsample_bytree': [0.4, 0.5, 0.6, 0.7, 0.8, 0.9, 1.0],\n",
    "        'colsample_bylevel': [0.4, 0.5, 0.6, 0.7, 0.8, 0.9, 1.0],\n",
    "        'min_child_weight': [0.5, 1.0, 3.0, 5.0, 7.0, 10.0],\n",
    "        'gamma': [0, 0.25, 0.5, 1.0],\n",
    "        'reg_lambda': [0.1, 1.0, 5.0, 10.0, 50.0, 100.0],\n",
    "        'n_estimators': [300]}\n",
    "\n",
    "fit_params = {'eval_metric': 'mlogloss',\n",
    "              'early_stopping_rounds': 10,\n",
    "              'eval_set': [(test_X, test_Y)]}\n",
    "\n",
    "rs_xgb_model = RandomizedSearchCV(clf, param_grid, n_iter=20,\n",
    "                            n_jobs=-1, verbose=2, cv=2,\n",
    "                            scoring='neg_log_loss', random_state=42)"
   ]
  },
  {
   "cell_type": "code",
   "execution_count": null,
   "metadata": {},
   "outputs": [],
   "source": [
    "import time"
   ]
  },
  {
   "cell_type": "code",
   "execution_count": null,
   "metadata": {},
   "outputs": [],
   "source": [
    "search_time_start = time.time()\n",
    "rs_xgb_model.fit(train_X, train_Y)\n",
    "print(\"Randomized search time:\", time.time() - search_time_start)\n"
   ]
  },
  {
   "cell_type": "code",
   "execution_count": null,
   "metadata": {},
   "outputs": [],
   "source": []
  }
 ]
}