{
 "metadata": {
  "language_info": {
   "codemirror_mode": {
    "name": "ipython",
    "version": 3
   },
   "file_extension": ".py",
   "mimetype": "text/x-python",
   "name": "python",
   "nbconvert_exporter": "python",
   "pygments_lexer": "ipython3",
   "version": "3.7.3-final"
  },
  "orig_nbformat": 2,
  "kernelspec": {
   "name": "python3",
   "display_name": "Python 3"
  }
 },
 "nbformat": 4,
 "nbformat_minor": 2,
 "cells": [
  {
   "cell_type": "code",
   "execution_count": 337,
   "metadata": {},
   "outputs": [],
   "source": [
    "from sklearn.model_selection import RandomizedSearchCV\n",
    "from sklearn.model_selection import cross_val_score\n",
    "from sklearn.ensemble import RandomForestClassifier\n",
    "from catboost import CatBoostClassifier\n",
    "from scipy.stats import randint\n",
    "import pickle\n",
    "import xgboost as xgb\n",
    "import lightgbm as lgb\n",
    "from sklearn.metrics import accuracy_score\n",
    "# import packages for hyperparameters tuning\n",
    "from hyperopt import STATUS_OK, Trials, fmin, hp, tpe\n",
    "from sklearn.model_selection import train_test_split, RandomizedSearchCV, StratifiedKFold, KFold, GridSearchCV\n",
    "from sklearn.metrics import f1_score, roc_auc_score,accuracy_score,confusion_matrix, precision_recall_curve, auc, roc_curve, recall_score, classification_report \n",
    "from xgboost import XGBClassifier\n",
    "import xgboost as xgb\n",
    "\n",
    "from catboost import CatBoostClassifier\n",
    "\n",
    "import numpy as np\n",
    "import pandas as pd\n",
    "import matplotlib.pyplot as plt\n",
    "import seaborn as sns\n",
    "from imblearn.over_sampling import RandomOverSampler\n",
    "from sklearn.preprocessing import PolynomialFeatures\n",
    "from sklearn.utils import resample,shuffle\n",
    "\n",
    "from lightgbm import LGBMClassifier\n",
    "from sklearn.feature_selection import SelectFromModel\n",
    "from sklearn.ensemble import GradientBoostingClassifier\n",
    "import time"
   ]
  },
  {
   "cell_type": "code",
   "execution_count": 338,
   "metadata": {},
   "outputs": [
    {
     "output_type": "stream",
     "name": "stdout",
     "text": [
      "<class 'pandas.core.frame.DataFrame'>\nRangeIndex: 304888 entries, 0 to 304887\nData columns (total 26 columns):\n #   Column                                Non-Null Count   Dtype  \n---  ------                                --------------   -----  \n 0   id                                    304888 non-null  float64\n 1   Age                                   304888 non-null  float64\n 2   Driving_License                       304888 non-null  float64\n 3   Region_Code                           304888 non-null  float64\n 4   Previously_Insured                    304888 non-null  int64  \n 5   Annual_Premium                        304888 non-null  float64\n 6   Policy_Sales_Channel                  304888 non-null  float64\n 7   Vintage                               304888 non-null  float64\n 8   Response                              304888 non-null  int64  \n 9   mean_Policy_Region_Age                304888 non-null  float64\n 10  std_Policy_Region_Age                 304888 non-null  float64\n 11  nunique_Policy_Region_Age             304888 non-null  float64\n 12  mean_Policy_Region_Annual_Premium     304888 non-null  float64\n 13  std_Policy_Region_Annual_Premium      304888 non-null  float64\n 14  nunique_Policy_Region_Annual_Premium  304888 non-null  float64\n 15  mean_Policy_Region_Vintage            304888 non-null  float64\n 16  std_Policy_Region_Vintage             304888 non-null  float64\n 17  nunique_Policy_Region_Vintage         304888 non-null  float64\n 18  Gender_Male                           304888 non-null  int64  \n 19  Vehicle_Age_1_Year_down               304888 non-null  int64  \n 20  Vehicle_Age_2_Years_up                304888 non-null  int64  \n 21  Vehicle_Damage_Yes                    304888 non-null  int64  \n 22  PSC_Plus_1                            304888 non-null  int64  \n 23  PSC_Plus_2                            304888 non-null  int64  \n 24  PSC_Plus_3                            304888 non-null  int64  \n 25  RC_Plus_1                             304888 non-null  int64  \ndtypes: float64(16), int64(10)\nmemory usage: 60.5 MB\n"
     ]
    }
   ],
   "source": [
    "train = pd.read_csv('data/train_clean_v4.csv')\n",
    "valid = pd.read_csv('data/tmp_clean_v4.csv')\n",
    "\n",
    "# 过采样\n",
    "# train_big = train[train['Response']==0]\n",
    "# train_small = train[train['Response']==1]\n",
    "# train_small_up = resample(train_small,replace=True,n_samples=len(train_big),random_state = 0)\n",
    "# train_balance = pd.concat([train_big, train_small_up])\n",
    "# train_balance = shuffle(train_balance)\n",
    "# train_balance.Response.value_counts()\n",
    "train.info()\n",
    "\n"
   ]
  },
  {
   "cell_type": "code",
   "execution_count": 339,
   "metadata": {},
   "outputs": [
    {
     "output_type": "execute_result",
     "data": {
      "text/plain": [
       "              id       Age  Driving_License  Region_Code  Previously_Insured  \\\n",
       "0      -1.732045 -0.762784              1.0     1.482552                   1   \n",
       "1      -1.732034  0.332966              1.0     0.121874                   0   \n",
       "2      -1.732022  0.848613              1.0     1.482552                   0   \n",
       "3      -1.732011 -1.020608              1.0     1.482552                   1   \n",
       "4      -1.732000  0.268510              1.0     0.121874                   0   \n",
       "...          ...       ...              ...          ...                 ...   \n",
       "304883  1.732000 -1.213975              1.0    -1.465583                   0   \n",
       "304884  1.732011 -0.956152              1.0    -0.482871                   0   \n",
       "304885  1.732022 -0.891696              1.0     0.726620                   1   \n",
       "304886  1.732034 -1.085064              1.0    -1.389990                   1   \n",
       "304887  1.732045 -0.827240              1.0     0.121874                   1   \n",
       "\n",
       "        Annual_Premium  Policy_Sales_Channel   Vintage  Response  \\\n",
       "0             0.150395              0.737734  0.820034         0   \n",
       "1             1.743285             -1.586528  0.043264         1   \n",
       "2            -0.469641              0.221231  0.855885         1   \n",
       "3            -1.623761              0.737734  0.103016         0   \n",
       "4             0.115793              0.221231 -1.175668         1   \n",
       "...                ...                   ...       ...       ...   \n",
       "304883       -1.623761              0.885306  1.309997         0   \n",
       "304884       -1.623761             -1.586528 -1.092016         0   \n",
       "304885       -0.216672              0.737734 -1.534178         0   \n",
       "304886        2.384081              0.737734 -0.171842         0   \n",
       "304887        0.065257              0.737734 -0.793258         0   \n",
       "\n",
       "        mean_Policy_Region_Age  ...  std_Policy_Region_Vintage  \\\n",
       "0                    -1.159158  ...                   0.175606   \n",
       "1                     1.087133  ...                   0.059754   \n",
       "2                     0.660620  ...                   0.073876   \n",
       "3                    -1.159158  ...                   0.175606   \n",
       "4                     0.702061  ...                  -0.003576   \n",
       "...                        ...  ...                        ...   \n",
       "304883               -1.266242  ...                   0.037181   \n",
       "304884                1.186185  ...                   0.004700   \n",
       "304885               -1.129398  ...                   0.186608   \n",
       "304886               -1.108251  ...                   0.070221   \n",
       "304887               -0.998139  ...                   0.054484   \n",
       "\n",
       "        nunique_Policy_Region_Vintage  Gender_Male  Vehicle_Age_1_Year_down  \\\n",
       "0                            0.461397            1                        1   \n",
       "1                            0.461397            0                        0   \n",
       "2                            0.461397            1                        0   \n",
       "3                            0.461397            1                        1   \n",
       "4                            0.461397            0                        0   \n",
       "...                               ...          ...                      ...   \n",
       "304883                      -1.310622            0                        1   \n",
       "304884                      -0.220149            0                        1   \n",
       "304885                       0.461397            0                        1   \n",
       "304886                       0.461397            1                        1   \n",
       "304887                       0.461397            0                        1   \n",
       "\n",
       "        Vehicle_Age_2_Years_up  Vehicle_Damage_Yes  PSC_Plus_1  PSC_Plus_2  \\\n",
       "0                            0                   0           1           0   \n",
       "1                            1                   1           0           1   \n",
       "2                            1                   1           0           0   \n",
       "3                            0                   0           1           0   \n",
       "4                            0                   1           0           0   \n",
       "...                        ...                 ...         ...         ...   \n",
       "304883                       0                   1           0           0   \n",
       "304884                       0                   1           0           1   \n",
       "304885                       0                   0           1           0   \n",
       "304886                       0                   0           1           0   \n",
       "304887                       0                   0           1           0   \n",
       "\n",
       "        PSC_Plus_3  RC_Plus_1  \n",
       "0                0          0  \n",
       "1                0          1  \n",
       "2                1          0  \n",
       "3                0          0  \n",
       "4                1          1  \n",
       "...            ...        ...  \n",
       "304883           0          0  \n",
       "304884           0          0  \n",
       "304885           0          0  \n",
       "304886           0          0  \n",
       "304887           0          1  \n",
       "\n",
       "[304888 rows x 26 columns]"
      ],
      "text/html": "<div>\n<style scoped>\n    .dataframe tbody tr th:only-of-type {\n        vertical-align: middle;\n    }\n\n    .dataframe tbody tr th {\n        vertical-align: top;\n    }\n\n    .dataframe thead th {\n        text-align: right;\n    }\n</style>\n<table border=\"1\" class=\"dataframe\">\n  <thead>\n    <tr style=\"text-align: right;\">\n      <th></th>\n      <th>id</th>\n      <th>Age</th>\n      <th>Driving_License</th>\n      <th>Region_Code</th>\n      <th>Previously_Insured</th>\n      <th>Annual_Premium</th>\n      <th>Policy_Sales_Channel</th>\n      <th>Vintage</th>\n      <th>Response</th>\n      <th>mean_Policy_Region_Age</th>\n      <th>...</th>\n      <th>std_Policy_Region_Vintage</th>\n      <th>nunique_Policy_Region_Vintage</th>\n      <th>Gender_Male</th>\n      <th>Vehicle_Age_1_Year_down</th>\n      <th>Vehicle_Age_2_Years_up</th>\n      <th>Vehicle_Damage_Yes</th>\n      <th>PSC_Plus_1</th>\n      <th>PSC_Plus_2</th>\n      <th>PSC_Plus_3</th>\n      <th>RC_Plus_1</th>\n    </tr>\n  </thead>\n  <tbody>\n    <tr>\n      <th>0</th>\n      <td>-1.732045</td>\n      <td>-0.762784</td>\n      <td>1.0</td>\n      <td>1.482552</td>\n      <td>1</td>\n      <td>0.150395</td>\n      <td>0.737734</td>\n      <td>0.820034</td>\n      <td>0</td>\n      <td>-1.159158</td>\n      <td>...</td>\n      <td>0.175606</td>\n      <td>0.461397</td>\n      <td>1</td>\n      <td>1</td>\n      <td>0</td>\n      <td>0</td>\n      <td>1</td>\n      <td>0</td>\n      <td>0</td>\n      <td>0</td>\n    </tr>\n    <tr>\n      <th>1</th>\n      <td>-1.732034</td>\n      <td>0.332966</td>\n      <td>1.0</td>\n      <td>0.121874</td>\n      <td>0</td>\n      <td>1.743285</td>\n      <td>-1.586528</td>\n      <td>0.043264</td>\n      <td>1</td>\n      <td>1.087133</td>\n      <td>...</td>\n      <td>0.059754</td>\n      <td>0.461397</td>\n      <td>0</td>\n      <td>0</td>\n      <td>1</td>\n      <td>1</td>\n      <td>0</td>\n      <td>1</td>\n      <td>0</td>\n      <td>1</td>\n    </tr>\n    <tr>\n      <th>2</th>\n      <td>-1.732022</td>\n      <td>0.848613</td>\n      <td>1.0</td>\n      <td>1.482552</td>\n      <td>0</td>\n      <td>-0.469641</td>\n      <td>0.221231</td>\n      <td>0.855885</td>\n      <td>1</td>\n      <td>0.660620</td>\n      <td>...</td>\n      <td>0.073876</td>\n      <td>0.461397</td>\n      <td>1</td>\n      <td>0</td>\n      <td>1</td>\n      <td>1</td>\n      <td>0</td>\n      <td>0</td>\n      <td>1</td>\n      <td>0</td>\n    </tr>\n    <tr>\n      <th>3</th>\n      <td>-1.732011</td>\n      <td>-1.020608</td>\n      <td>1.0</td>\n      <td>1.482552</td>\n      <td>1</td>\n      <td>-1.623761</td>\n      <td>0.737734</td>\n      <td>0.103016</td>\n      <td>0</td>\n      <td>-1.159158</td>\n      <td>...</td>\n      <td>0.175606</td>\n      <td>0.461397</td>\n      <td>1</td>\n      <td>1</td>\n      <td>0</td>\n      <td>0</td>\n      <td>1</td>\n      <td>0</td>\n      <td>0</td>\n      <td>0</td>\n    </tr>\n    <tr>\n      <th>4</th>\n      <td>-1.732000</td>\n      <td>0.268510</td>\n      <td>1.0</td>\n      <td>0.121874</td>\n      <td>0</td>\n      <td>0.115793</td>\n      <td>0.221231</td>\n      <td>-1.175668</td>\n      <td>1</td>\n      <td>0.702061</td>\n      <td>...</td>\n      <td>-0.003576</td>\n      <td>0.461397</td>\n      <td>0</td>\n      <td>0</td>\n      <td>0</td>\n      <td>1</td>\n      <td>0</td>\n      <td>0</td>\n      <td>1</td>\n      <td>1</td>\n    </tr>\n    <tr>\n      <th>...</th>\n      <td>...</td>\n      <td>...</td>\n      <td>...</td>\n      <td>...</td>\n      <td>...</td>\n      <td>...</td>\n      <td>...</td>\n      <td>...</td>\n      <td>...</td>\n      <td>...</td>\n      <td>...</td>\n      <td>...</td>\n      <td>...</td>\n      <td>...</td>\n      <td>...</td>\n      <td>...</td>\n      <td>...</td>\n      <td>...</td>\n      <td>...</td>\n      <td>...</td>\n      <td>...</td>\n    </tr>\n    <tr>\n      <th>304883</th>\n      <td>1.732000</td>\n      <td>-1.213975</td>\n      <td>1.0</td>\n      <td>-1.465583</td>\n      <td>0</td>\n      <td>-1.623761</td>\n      <td>0.885306</td>\n      <td>1.309997</td>\n      <td>0</td>\n      <td>-1.266242</td>\n      <td>...</td>\n      <td>0.037181</td>\n      <td>-1.310622</td>\n      <td>0</td>\n      <td>1</td>\n      <td>0</td>\n      <td>1</td>\n      <td>0</td>\n      <td>0</td>\n      <td>0</td>\n      <td>0</td>\n    </tr>\n    <tr>\n      <th>304884</th>\n      <td>1.732011</td>\n      <td>-0.956152</td>\n      <td>1.0</td>\n      <td>-0.482871</td>\n      <td>0</td>\n      <td>-1.623761</td>\n      <td>-1.586528</td>\n      <td>-1.092016</td>\n      <td>0</td>\n      <td>1.186185</td>\n      <td>...</td>\n      <td>0.004700</td>\n      <td>-0.220149</td>\n      <td>0</td>\n      <td>1</td>\n      <td>0</td>\n      <td>1</td>\n      <td>0</td>\n      <td>1</td>\n      <td>0</td>\n      <td>0</td>\n    </tr>\n    <tr>\n      <th>304885</th>\n      <td>1.732022</td>\n      <td>-0.891696</td>\n      <td>1.0</td>\n      <td>0.726620</td>\n      <td>1</td>\n      <td>-0.216672</td>\n      <td>0.737734</td>\n      <td>-1.534178</td>\n      <td>0</td>\n      <td>-1.129398</td>\n      <td>...</td>\n      <td>0.186608</td>\n      <td>0.461397</td>\n      <td>0</td>\n      <td>1</td>\n      <td>0</td>\n      <td>0</td>\n      <td>1</td>\n      <td>0</td>\n      <td>0</td>\n      <td>0</td>\n    </tr>\n    <tr>\n      <th>304886</th>\n      <td>1.732034</td>\n      <td>-1.085064</td>\n      <td>1.0</td>\n      <td>-1.389990</td>\n      <td>1</td>\n      <td>2.384081</td>\n      <td>0.737734</td>\n      <td>-0.171842</td>\n      <td>0</td>\n      <td>-1.108251</td>\n      <td>...</td>\n      <td>0.070221</td>\n      <td>0.461397</td>\n      <td>1</td>\n      <td>1</td>\n      <td>0</td>\n      <td>0</td>\n      <td>1</td>\n      <td>0</td>\n      <td>0</td>\n      <td>0</td>\n    </tr>\n    <tr>\n      <th>304887</th>\n      <td>1.732045</td>\n      <td>-0.827240</td>\n      <td>1.0</td>\n      <td>0.121874</td>\n      <td>1</td>\n      <td>0.065257</td>\n      <td>0.737734</td>\n      <td>-0.793258</td>\n      <td>0</td>\n      <td>-0.998139</td>\n      <td>...</td>\n      <td>0.054484</td>\n      <td>0.461397</td>\n      <td>0</td>\n      <td>1</td>\n      <td>0</td>\n      <td>0</td>\n      <td>1</td>\n      <td>0</td>\n      <td>0</td>\n      <td>1</td>\n    </tr>\n  </tbody>\n</table>\n<p>304888 rows × 26 columns</p>\n</div>"
     },
     "metadata": {},
     "execution_count": 339
    }
   ],
   "source": [
    "train"
   ]
  },
  {
   "cell_type": "code",
   "execution_count": 340,
   "metadata": {},
   "outputs": [
    {
     "output_type": "stream",
     "name": "stdout",
     "text": [
      "<class 'pandas.core.frame.DataFrame'>\nRangeIndex: 76221 entries, 0 to 76220\nData columns (total 26 columns):\n #   Column                                Non-Null Count  Dtype  \n---  ------                                --------------  -----  \n 0   id                                    76221 non-null  float64\n 1   Age                                   76221 non-null  float64\n 2   Driving_License                       76221 non-null  float64\n 3   Region_Code                           76221 non-null  float64\n 4   Previously_Insured                    76221 non-null  int64  \n 5   Annual_Premium                        76221 non-null  float64\n 6   Policy_Sales_Channel                  76221 non-null  float64\n 7   Vintage                               76221 non-null  float64\n 8   Response                              76221 non-null  int64  \n 9   mean_Policy_Region_Age                76221 non-null  float64\n 10  std_Policy_Region_Age                 76221 non-null  float64\n 11  nunique_Policy_Region_Age             76221 non-null  float64\n 12  mean_Policy_Region_Annual_Premium     76221 non-null  float64\n 13  std_Policy_Region_Annual_Premium      76221 non-null  float64\n 14  nunique_Policy_Region_Annual_Premium  76221 non-null  float64\n 15  mean_Policy_Region_Vintage            76221 non-null  float64\n 16  std_Policy_Region_Vintage             76221 non-null  float64\n 17  nunique_Policy_Region_Vintage         76221 non-null  float64\n 18  Gender_Male                           76221 non-null  int64  \n 19  Vehicle_Age_1_Year_down               76221 non-null  int64  \n 20  Vehicle_Age_2_Years_up                76221 non-null  int64  \n 21  Vehicle_Damage_Yes                    76221 non-null  int64  \n 22  PSC_Plus_1                            76221 non-null  int64  \n 23  PSC_Plus_2                            76221 non-null  int64  \n 24  PSC_Plus_3                            76221 non-null  int64  \n 25  RC_Plus_1                             76221 non-null  int64  \ndtypes: float64(16), int64(10)\nmemory usage: 15.1 MB\n"
     ]
    }
   ],
   "source": [
    "valid.info()"
   ]
  },
  {
   "cell_type": "code",
   "execution_count": 341,
   "metadata": {},
   "outputs": [],
   "source": [
    "train_target = train['Response']\n",
    "train.drop(['Response','id'], axis=1, inplace=True)\n",
    "valid_target = valid['Response']\n",
    "valid_id = valid['id']\n",
    "valid.drop(['Response','id'], axis=1, inplace=True)\n",
    "\n",
    "# ## 标椎化\n",
    "# from sklearn.preprocessing import MinMaxScaler\n",
    "# scaler = MinMaxScaler()\n",
    "# train = scaler.fit_transform(train)\n",
    "# scaler = MinMaxScaler()\n",
    "# valid = scaler.fit_transform(valid)\n",
    "\n",
    "train_X = train\n",
    "train_Y = train_target\n",
    "# train_X, test_X, train_Y, test_Y = train_test_split(train, train_target, test_size=0.001)"
   ]
  },
  {
   "cell_type": "code",
   "execution_count": 342,
   "metadata": {},
   "outputs": [
    {
     "output_type": "stream",
     "name": "stdout",
     "text": [
      "<class 'pandas.core.frame.DataFrame'>\nRangeIndex: 304888 entries, 0 to 304887\nData columns (total 24 columns):\n #   Column                                Non-Null Count   Dtype  \n---  ------                                --------------   -----  \n 0   Age                                   304888 non-null  float64\n 1   Driving_License                       304888 non-null  float64\n 2   Region_Code                           304888 non-null  float64\n 3   Previously_Insured                    304888 non-null  int64  \n 4   Annual_Premium                        304888 non-null  float64\n 5   Policy_Sales_Channel                  304888 non-null  float64\n 6   Vintage                               304888 non-null  float64\n 7   mean_Policy_Region_Age                304888 non-null  float64\n 8   std_Policy_Region_Age                 304888 non-null  float64\n 9   nunique_Policy_Region_Age             304888 non-null  float64\n 10  mean_Policy_Region_Annual_Premium     304888 non-null  float64\n 11  std_Policy_Region_Annual_Premium      304888 non-null  float64\n 12  nunique_Policy_Region_Annual_Premium  304888 non-null  float64\n 13  mean_Policy_Region_Vintage            304888 non-null  float64\n 14  std_Policy_Region_Vintage             304888 non-null  float64\n 15  nunique_Policy_Region_Vintage         304888 non-null  float64\n 16  Gender_Male                           304888 non-null  int64  \n 17  Vehicle_Age_1_Year_down               304888 non-null  int64  \n 18  Vehicle_Age_2_Years_up                304888 non-null  int64  \n 19  Vehicle_Damage_Yes                    304888 non-null  int64  \n 20  PSC_Plus_1                            304888 non-null  int64  \n 21  PSC_Plus_2                            304888 non-null  int64  \n 22  PSC_Plus_3                            304888 non-null  int64  \n 23  RC_Plus_1                             304888 non-null  int64  \ndtypes: float64(15), int64(9)\nmemory usage: 55.8 MB\n"
     ]
    }
   ],
   "source": [
    "train_X.info()"
   ]
  },
  {
   "source": [
    "## 测试多项式升维"
   ],
   "cell_type": "markdown",
   "metadata": {}
  },
  {
   "cell_type": "code",
   "execution_count": 285,
   "metadata": {},
   "outputs": [
    {
     "output_type": "stream",
     "name": "stdout",
     "text": [
      "新特征数量： 324\n"
     ]
    }
   ],
   "source": [
    "poly = PolynomialFeatures(degree=2,include_bias=False)\n",
    "train_X_plus = poly.fit_transform(train_X)\n",
    "test_X_plus = poly.fit_transform(test_X)\n",
    "valid_plus = poly.fit_transform(valid)\n",
    "\n",
    "print(\"新特征数量：\", train_X_plus.shape[1])"
   ]
  },
  {
   "cell_type": "code",
   "execution_count": 289,
   "metadata": {},
   "outputs": [
    {
     "output_type": "stream",
     "name": "stdout",
     "text": [
      "feature importance after trainning: [1.92628161e-03 0.00000000e+00 3.15741636e-04 1.13469966e-01\n 2.01634466e-04 8.10272584e-04 2.59828201e-04 2.20122677e-03\n 2.54086335e-04 7.20848388e-04 2.96532962e-04 5.20945701e-04\n 3.09039548e-04 2.55968072e-04 3.36717145e-04 3.35586257e-04\n 2.93065968e-04 3.38886428e-04 0.00000000e+00 1.38465194e-02\n 2.89642019e-04 0.00000000e+00 0.00000000e+00 0.00000000e+00\n 2.44681747e-03 2.24503456e-04 2.27203520e-04 0.00000000e+00\n 1.92076637e-04 3.41493054e-04 1.94913373e-04 3.39062914e-04\n 1.30285334e-03 2.19209367e-04 1.96489156e-04 1.98210313e-04\n 2.14475731e-04 1.73993074e-04 2.05435092e-04 2.13042164e-04\n 2.30928927e-04 1.12162139e-02 2.14991931e-04 1.42438163e-03\n 2.61072128e-04 6.28482143e-04 6.37377962e-04 3.15661542e-04\n 0.00000000e+00 4.45439975e-04 2.03621183e-02 1.80574076e-04\n 2.65050447e-04 1.87685611e-04 1.27343903e-03 2.12463536e-04\n 1.74383866e-04 2.58758169e-04 2.56584754e-04 2.72946345e-04\n 2.73503741e-04 2.55576480e-04 1.73572276e-04 1.13430433e-04\n 1.71294005e-03 3.07648967e-04 9.67696533e-02 0.00000000e+00\n 0.00000000e+00 0.00000000e+00 0.00000000e+00 3.75228788e-04\n 0.00000000e+00 1.86568650e-04 2.66225223e-04 2.31024562e-04\n 2.05843011e-04 2.67633906e-04 2.31796817e-04 2.58976157e-04\n 2.51045392e-04 3.27080430e-04 2.75216269e-04 2.62995629e-04\n 2.71935278e-04 2.93310615e-04 3.12858669e-04 4.15212475e-04\n 2.57799664e-04 3.33377975e-04 3.86099855e-04 3.21079802e-04\n 0.00000000e+00 2.86539465e-01 4.17129369e-04 2.46190786e-04\n 0.00000000e+00 1.18794046e-01 0.00000000e+00 0.00000000e+00\n 0.00000000e+00 0.00000000e+00 0.00000000e+00 0.00000000e+00\n 0.00000000e+00 0.00000000e+00 0.00000000e+00 0.00000000e+00\n 0.00000000e+00 2.35856269e-02 0.00000000e+00 0.00000000e+00\n 0.00000000e+00 0.00000000e+00 2.30079415e-04 1.91243860e-04\n 1.85150173e-04 2.05365272e-04 2.19471680e-04 2.19231573e-04\n 3.09040857e-04 2.28205070e-04 2.66376766e-04 1.90678431e-04\n 1.83024560e-04 1.97036934e-04 2.53203325e-04 2.71634490e-04\n 4.24352300e-04 2.14975022e-04 2.88708135e-04 2.82746390e-04\n 3.19052371e-04 2.88466341e-04 2.08865007e-04 2.03279851e-04\n 1.74630759e-03 1.03714480e-03 9.85081308e-04 2.44307565e-04\n 2.27817523e-04 5.13466657e-04 3.21113650e-04 2.01239032e-04\n 3.71202623e-04 2.59790977e-04 5.81207918e-04 1.15220167e-03\n 1.11065828e-03 0.00000000e+00 3.56483215e-04 0.00000000e+00\n 4.53589746e-04 2.02882598e-04 2.27791083e-04 2.10330894e-04\n 1.87584199e-04 1.97601912e-04 2.11452760e-04 2.34594831e-04\n 2.01125615e-04 2.12611922e-04 1.91531028e-04 2.12916784e-04\n 2.70776480e-04 3.30696639e-04 2.24141957e-04 2.76114210e-04\n 2.72945705e-04 2.87732575e-04 2.93891790e-04 1.02089241e-03\n 3.14622099e-04 3.22829175e-04 2.15408523e-04 3.15020152e-04\n 7.37924944e-04 2.21542941e-04 2.77419633e-04 2.17165478e-04\n 2.19184891e-04 4.26244398e-04 4.27371095e-04 1.67139798e-01\n 3.41107429e-04 4.17922973e-04 5.37445885e-04 7.06797931e-04\n 2.96287151e-04 2.72279896e-04 2.21899871e-04 2.35029336e-04\n 2.60766770e-04 2.48932367e-04 2.57078354e-04 2.57006759e-04\n 3.30588024e-04 3.85164050e-04 2.68233329e-04 3.60102952e-02\n 9.16854769e-04 1.96907364e-04 2.71687168e-04 4.39012394e-04\n 2.45702831e-04 2.49673467e-04 2.56841013e-04 2.58078711e-04\n 2.97986786e-04 2.34716979e-04 2.65790732e-04 4.90184932e-04\n 4.58692230e-04 8.71563272e-04 2.88675365e-04 6.92665111e-04\n 2.81689514e-04 3.25871282e-04 2.04109514e-04 2.43981020e-04\n 4.03733109e-04 3.70813883e-04 2.36208958e-04 2.59903434e-04\n 2.28597986e-04 3.49824870e-04 2.46404699e-04 2.95619684e-04\n 2.16963192e-04 5.03502728e-04 3.19860032e-04 3.95472598e-04\n 3.76606942e-04 3.20664898e-04 2.53067614e-04 2.70818244e-04\n 2.41364745e-04 2.61495385e-04 2.49203789e-04 2.74693681e-04\n 1.26698415e-03 2.39621018e-04 2.52723548e-04 3.40210740e-04\n 2.69997836e-04 2.94395519e-04 2.95624108e-04 1.77708105e-04\n 1.64586279e-04 2.54885323e-04 2.91157368e-04 4.22091485e-04\n 9.46111511e-04 2.17748675e-04 2.41693342e-04 3.71614180e-04\n 2.91252334e-04 3.83260951e-04 5.46192285e-04 2.68142845e-04\n 2.41548652e-04 2.42922804e-04 5.05262928e-04 3.32193245e-04\n 2.51655700e-04 2.68751697e-04 4.04251943e-04 3.17072991e-04\n 2.92400073e-04 2.51342542e-04 2.17244509e-04 2.60438916e-04\n 2.77338782e-04 2.61373876e-04 3.25886533e-04 2.63550639e-04\n 2.22071959e-03 3.01850465e-04 2.62601505e-04 2.77814834e-04\n 2.72064557e-04 2.64784321e-04 2.64261005e-04 2.33683386e-03\n 1.67799939e-04 2.81866698e-04 2.16515342e-04 2.44287134e-04\n 0.00000000e+00 2.60261004e-04 3.36103200e-04 4.44698322e-04\n 2.94700905e-04 1.59404575e-04 4.43823752e-04 5.57881314e-04\n 0.00000000e+00 0.00000000e+00 0.00000000e+00 0.00000000e+00\n 0.00000000e+00 2.46519502e-03 3.39883612e-04 0.00000000e+00\n 2.52481172e-04 0.00000000e+00 1.25714054e-03 3.04635498e-04\n 0.00000000e+00 9.68050491e-03 2.70662160e-04 0.00000000e+00\n 0.00000000e+00 5.04466763e-04 0.00000000e+00 0.00000000e+00\n 0.00000000e+00 0.00000000e+00 0.00000000e+00 0.00000000e+00\n 0.00000000e+00 0.00000000e+00 0.00000000e+00 0.00000000e+00]\ntotoal trainning leghth: 1788.7675430774689\n"
     ]
    }
   ],
   "source": [
    "# 特征选择\n",
    "time_start = time.time()\n",
    "clf=XGBClassifier(n_estimators = 300, max_depth = 13, gamma = 2.3408807913619945, reg_lambda = 0.3770436657913232,reg_alpha = 40.0, min_child_weight=7.0,colsample_bytree = 0.5786479102658189 ,random_state = 0).fit(train_X_plus, train_Y)\n",
    "\n",
    "# clf = GradientBoostingClassifier().fit(train_X_plus, train_Y)\n",
    "print(\"feature importance after trainning:\", clf.feature_importances_)\n",
    "print(\"totoal trainning leghth:\", time.time() - time_start)\n"
   ]
  },
  {
   "cell_type": "code",
   "execution_count": 298,
   "metadata": {},
   "outputs": [
    {
     "output_type": "stream",
     "name": "stdout",
     "text": [
      "新的特征数量: 50\n"
     ]
    }
   ],
   "source": [
    "sel_model = SelectFromModel(clf, prefit=True, threshold=-np.inf, max_features=50)\n",
    "train_X_2 = sel_model.transform(train_X_plus)\n",
    "test_X_2 = sel_model.transform(test_X_plus)\n",
    "valid_2 = sel_model.transform(valid_plus)\n",
    "\n",
    "print(\"新的特征数量:\", train_X_2.shape[1])"
   ]
  },
  {
   "cell_type": "code",
   "execution_count": null,
   "metadata": {},
   "outputs": [],
   "source": [
    "# ## pca 降维\n",
    "# from sklearn.decomposition import PCA\n",
    "\n",
    "# pca = PCA(n_components=0.98)\n",
    "\n",
    "# pca.fit(train_X_plus)\n",
    "# train_X_pca = pca.transform(train_X_plus)\n",
    "# test_X_pca = pca.transform(test_X_plus)\n",
    "# valid_pca = pca.transform(valid_plus)"
   ]
  },
  {
   "cell_type": "code",
   "execution_count": 343,
   "metadata": {},
   "outputs": [
    {
     "output_type": "stream",
     "name": "stdout",
     "text": [
      "totoal trainning leghth: 96.52957582473755\n"
     ]
    }
   ],
   "source": [
    "XGB_=XGBClassifier(n_estimators = 300, max_depth = 7, gamma = 2.5952033716242866, reg_lambda = 0.707680330032109,reg_alpha = 40.0, min_child_weight=7.0,colsample_bytree = 0.6611082911056974,random_state = 0,n_jobs=-1)\n",
    "\n",
    "# XGB_ = XGBClassifier(n_estimators=1000,max_depth=6,learning_rate=0.04,subsample=0.9,colsample_bytree=0.35,objective = 'binary:logistic',random_state = 1) \n",
    "time_start = time.time()\n",
    "XGB_fit = XGB_.fit(train_X, train_Y)\n",
    "print(\"totoal trainning leghth:\", time.time() - time_start)"
   ]
  },
  {
   "cell_type": "code",
   "execution_count": 300,
   "metadata": {
    "tags": [
     "outputPrepend"
    ]
   },
   "outputs": [
    {
     "output_type": "stream",
     "name": "stdout",
     "text": [
      ": 24s\tremaining: 15.1s\n",
      "614:\tlearn: 0.4088840\ttotal: 24s\tremaining: 15s\n",
      "615:\tlearn: 0.4088636\ttotal: 24.1s\tremaining: 15s\n",
      "616:\tlearn: 0.4088454\ttotal: 24.1s\tremaining: 15s\n",
      "617:\tlearn: 0.4088270\ttotal: 24.1s\tremaining: 14.9s\n",
      "618:\tlearn: 0.4088133\ttotal: 24.2s\tremaining: 14.9s\n",
      "619:\tlearn: 0.4087862\ttotal: 24.2s\tremaining: 14.8s\n",
      "620:\tlearn: 0.4087701\ttotal: 24.3s\tremaining: 14.8s\n",
      "621:\tlearn: 0.4087547\ttotal: 24.3s\tremaining: 14.8s\n",
      "622:\tlearn: 0.4087383\ttotal: 24.3s\tremaining: 14.7s\n",
      "623:\tlearn: 0.4087187\ttotal: 24.4s\tremaining: 14.7s\n",
      "624:\tlearn: 0.4087162\ttotal: 24.4s\tremaining: 14.7s\n",
      "625:\tlearn: 0.4087088\ttotal: 24.5s\tremaining: 14.6s\n",
      "626:\tlearn: 0.4086919\ttotal: 24.5s\tremaining: 14.6s\n",
      "627:\tlearn: 0.4086750\ttotal: 24.5s\tremaining: 14.5s\n",
      "628:\tlearn: 0.4086597\ttotal: 24.6s\tremaining: 14.5s\n",
      "629:\tlearn: 0.4086457\ttotal: 24.6s\tremaining: 14.5s\n",
      "630:\tlearn: 0.4086355\ttotal: 24.7s\tremaining: 14.4s\n",
      "631:\tlearn: 0.4086170\ttotal: 24.7s\tremaining: 14.4s\n",
      "632:\tlearn: 0.4086039\ttotal: 24.7s\tremaining: 14.3s\n",
      "633:\tlearn: 0.4085825\ttotal: 24.8s\tremaining: 14.3s\n",
      "634:\tlearn: 0.4085656\ttotal: 24.8s\tremaining: 14.3s\n",
      "635:\tlearn: 0.4085463\ttotal: 24.9s\tremaining: 14.2s\n",
      "636:\tlearn: 0.4085227\ttotal: 24.9s\tremaining: 14.2s\n",
      "637:\tlearn: 0.4085095\ttotal: 24.9s\tremaining: 14.1s\n",
      "638:\tlearn: 0.4084928\ttotal: 25s\tremaining: 14.1s\n",
      "639:\tlearn: 0.4084910\ttotal: 25s\tremaining: 14.1s\n",
      "640:\tlearn: 0.4084779\ttotal: 25s\tremaining: 14s\n",
      "641:\tlearn: 0.4084512\ttotal: 25.1s\tremaining: 14s\n",
      "642:\tlearn: 0.4084331\ttotal: 25.1s\tremaining: 13.9s\n",
      "643:\tlearn: 0.4084159\ttotal: 25.2s\tremaining: 13.9s\n",
      "644:\tlearn: 0.4083971\ttotal: 25.2s\tremaining: 13.9s\n",
      "645:\tlearn: 0.4083837\ttotal: 25.2s\tremaining: 13.8s\n",
      "646:\tlearn: 0.4083675\ttotal: 25.3s\tremaining: 13.8s\n",
      "647:\tlearn: 0.4083499\ttotal: 25.3s\tremaining: 13.7s\n",
      "648:\tlearn: 0.4083322\ttotal: 25.4s\tremaining: 13.7s\n",
      "649:\tlearn: 0.4083012\ttotal: 25.4s\tremaining: 13.7s\n",
      "650:\tlearn: 0.4082871\ttotal: 25.4s\tremaining: 13.6s\n",
      "651:\tlearn: 0.4082704\ttotal: 25.5s\tremaining: 13.6s\n",
      "652:\tlearn: 0.4082540\ttotal: 25.5s\tremaining: 13.6s\n",
      "653:\tlearn: 0.4082240\ttotal: 25.6s\tremaining: 13.5s\n",
      "654:\tlearn: 0.4081986\ttotal: 25.6s\tremaining: 13.5s\n",
      "655:\tlearn: 0.4081704\ttotal: 25.7s\tremaining: 13.5s\n",
      "656:\tlearn: 0.4081577\ttotal: 25.7s\tremaining: 13.4s\n",
      "657:\tlearn: 0.4081414\ttotal: 25.8s\tremaining: 13.4s\n",
      "658:\tlearn: 0.4081264\ttotal: 25.8s\tremaining: 13.4s\n",
      "659:\tlearn: 0.4081021\ttotal: 25.8s\tremaining: 13.3s\n",
      "660:\tlearn: 0.4080840\ttotal: 25.9s\tremaining: 13.3s\n",
      "661:\tlearn: 0.4080663\ttotal: 25.9s\tremaining: 13.2s\n",
      "662:\tlearn: 0.4080488\ttotal: 26s\tremaining: 13.2s\n",
      "663:\tlearn: 0.4080278\ttotal: 26s\tremaining: 13.2s\n",
      "664:\tlearn: 0.4080086\ttotal: 26.1s\tremaining: 13.1s\n",
      "665:\tlearn: 0.4079888\ttotal: 26.1s\tremaining: 13.1s\n",
      "666:\tlearn: 0.4079686\ttotal: 26.1s\tremaining: 13.1s\n",
      "667:\tlearn: 0.4079481\ttotal: 26.2s\tremaining: 13s\n",
      "668:\tlearn: 0.4079226\ttotal: 26.2s\tremaining: 13s\n",
      "669:\tlearn: 0.4079016\ttotal: 26.3s\tremaining: 12.9s\n",
      "670:\tlearn: 0.4078865\ttotal: 26.3s\tremaining: 12.9s\n",
      "671:\tlearn: 0.4078706\ttotal: 26.3s\tremaining: 12.9s\n",
      "672:\tlearn: 0.4078536\ttotal: 26.4s\tremaining: 12.8s\n",
      "673:\tlearn: 0.4078383\ttotal: 26.4s\tremaining: 12.8s\n",
      "674:\tlearn: 0.4078204\ttotal: 26.5s\tremaining: 12.7s\n",
      "675:\tlearn: 0.4078087\ttotal: 26.5s\tremaining: 12.7s\n",
      "676:\tlearn: 0.4077873\ttotal: 26.5s\tremaining: 12.7s\n",
      "677:\tlearn: 0.4077717\ttotal: 26.6s\tremaining: 12.6s\n",
      "678:\tlearn: 0.4077521\ttotal: 26.6s\tremaining: 12.6s\n",
      "679:\tlearn: 0.4077496\ttotal: 26.7s\tremaining: 12.5s\n",
      "680:\tlearn: 0.4077332\ttotal: 26.7s\tremaining: 12.5s\n",
      "681:\tlearn: 0.4077048\ttotal: 26.7s\tremaining: 12.5s\n",
      "682:\tlearn: 0.4076814\ttotal: 26.8s\tremaining: 12.4s\n",
      "683:\tlearn: 0.4076616\ttotal: 26.8s\tremaining: 12.4s\n",
      "684:\tlearn: 0.4076462\ttotal: 26.9s\tremaining: 12.4s\n",
      "685:\tlearn: 0.4076221\ttotal: 26.9s\tremaining: 12.3s\n",
      "686:\tlearn: 0.4076017\ttotal: 26.9s\tremaining: 12.3s\n",
      "687:\tlearn: 0.4075820\ttotal: 27s\tremaining: 12.2s\n",
      "688:\tlearn: 0.4075651\ttotal: 27s\tremaining: 12.2s\n",
      "689:\tlearn: 0.4075510\ttotal: 27.1s\tremaining: 12.2s\n",
      "690:\tlearn: 0.4075409\ttotal: 27.1s\tremaining: 12.1s\n",
      "691:\tlearn: 0.4075265\ttotal: 27.1s\tremaining: 12.1s\n",
      "692:\tlearn: 0.4075071\ttotal: 27.2s\tremaining: 12s\n",
      "693:\tlearn: 0.4074831\ttotal: 27.2s\tremaining: 12s\n",
      "694:\tlearn: 0.4074647\ttotal: 27.2s\tremaining: 12s\n",
      "695:\tlearn: 0.4074531\ttotal: 27.3s\tremaining: 11.9s\n",
      "696:\tlearn: 0.4074350\ttotal: 27.3s\tremaining: 11.9s\n",
      "697:\tlearn: 0.4074189\ttotal: 27.4s\tremaining: 11.8s\n",
      "698:\tlearn: 0.4074029\ttotal: 27.4s\tremaining: 11.8s\n",
      "699:\tlearn: 0.4073778\ttotal: 27.4s\tremaining: 11.8s\n",
      "700:\tlearn: 0.4073543\ttotal: 27.5s\tremaining: 11.7s\n",
      "701:\tlearn: 0.4073371\ttotal: 27.5s\tremaining: 11.7s\n",
      "702:\tlearn: 0.4073186\ttotal: 27.5s\tremaining: 11.6s\n",
      "703:\tlearn: 0.4073022\ttotal: 27.6s\tremaining: 11.6s\n",
      "704:\tlearn: 0.4072909\ttotal: 27.6s\tremaining: 11.6s\n",
      "705:\tlearn: 0.4072753\ttotal: 27.7s\tremaining: 11.5s\n",
      "706:\tlearn: 0.4072633\ttotal: 27.7s\tremaining: 11.5s\n",
      "707:\tlearn: 0.4072444\ttotal: 27.7s\tremaining: 11.4s\n",
      "708:\tlearn: 0.4072251\ttotal: 27.8s\tremaining: 11.4s\n",
      "709:\tlearn: 0.4072117\ttotal: 27.8s\tremaining: 11.4s\n",
      "710:\tlearn: 0.4071959\ttotal: 27.9s\tremaining: 11.3s\n",
      "711:\tlearn: 0.4071800\ttotal: 27.9s\tremaining: 11.3s\n",
      "712:\tlearn: 0.4071610\ttotal: 27.9s\tremaining: 11.2s\n",
      "713:\tlearn: 0.4071469\ttotal: 28s\tremaining: 11.2s\n",
      "714:\tlearn: 0.4071296\ttotal: 28s\tremaining: 11.2s\n",
      "715:\tlearn: 0.4071151\ttotal: 28s\tremaining: 11.1s\n",
      "716:\tlearn: 0.4070924\ttotal: 28.1s\tremaining: 11.1s\n",
      "717:\tlearn: 0.4070808\ttotal: 28.1s\tremaining: 11s\n",
      "718:\tlearn: 0.4070702\ttotal: 28.2s\tremaining: 11s\n",
      "719:\tlearn: 0.4070580\ttotal: 28.2s\tremaining: 11s\n",
      "720:\tlearn: 0.4070439\ttotal: 28.2s\tremaining: 10.9s\n",
      "721:\tlearn: 0.4070278\ttotal: 28.3s\tremaining: 10.9s\n",
      "722:\tlearn: 0.4070181\ttotal: 28.3s\tremaining: 10.9s\n",
      "723:\tlearn: 0.4069950\ttotal: 28.4s\tremaining: 10.8s\n",
      "724:\tlearn: 0.4069865\ttotal: 28.4s\tremaining: 10.8s\n",
      "725:\tlearn: 0.4069681\ttotal: 28.4s\tremaining: 10.7s\n",
      "726:\tlearn: 0.4069544\ttotal: 28.5s\tremaining: 10.7s\n",
      "727:\tlearn: 0.4069421\ttotal: 28.5s\tremaining: 10.7s\n",
      "728:\tlearn: 0.4069289\ttotal: 28.6s\tremaining: 10.6s\n",
      "729:\tlearn: 0.4069040\ttotal: 28.6s\tremaining: 10.6s\n",
      "730:\tlearn: 0.4069023\ttotal: 28.6s\tremaining: 10.5s\n",
      "731:\tlearn: 0.4068866\ttotal: 28.7s\tremaining: 10.5s\n",
      "732:\tlearn: 0.4068708\ttotal: 28.7s\tremaining: 10.5s\n",
      "733:\tlearn: 0.4068582\ttotal: 28.7s\tremaining: 10.4s\n",
      "734:\tlearn: 0.4068389\ttotal: 28.8s\tremaining: 10.4s\n",
      "735:\tlearn: 0.4068248\ttotal: 28.8s\tremaining: 10.3s\n",
      "736:\tlearn: 0.4068075\ttotal: 28.9s\tremaining: 10.3s\n",
      "737:\tlearn: 0.4067908\ttotal: 28.9s\tremaining: 10.3s\n",
      "738:\tlearn: 0.4067731\ttotal: 28.9s\tremaining: 10.2s\n",
      "739:\tlearn: 0.4067504\ttotal: 29s\tremaining: 10.2s\n",
      "740:\tlearn: 0.4067267\ttotal: 29s\tremaining: 10.1s\n",
      "741:\tlearn: 0.4067152\ttotal: 29.1s\tremaining: 10.1s\n",
      "742:\tlearn: 0.4067035\ttotal: 29.1s\tremaining: 10.1s\n",
      "743:\tlearn: 0.4066837\ttotal: 29.1s\tremaining: 10s\n",
      "744:\tlearn: 0.4066704\ttotal: 29.2s\tremaining: 9.99s\n",
      "745:\tlearn: 0.4066581\ttotal: 29.2s\tremaining: 9.95s\n",
      "746:\tlearn: 0.4066404\ttotal: 29.3s\tremaining: 9.91s\n",
      "747:\tlearn: 0.4066186\ttotal: 29.3s\tremaining: 9.87s\n",
      "748:\tlearn: 0.4066012\ttotal: 29.3s\tremaining: 9.83s\n",
      "749:\tlearn: 0.4065875\ttotal: 29.4s\tremaining: 9.79s\n",
      "750:\tlearn: 0.4065689\ttotal: 29.4s\tremaining: 9.76s\n",
      "751:\tlearn: 0.4065489\ttotal: 29.5s\tremaining: 9.72s\n",
      "752:\tlearn: 0.4065353\ttotal: 29.5s\tremaining: 9.68s\n",
      "753:\tlearn: 0.4065306\ttotal: 29.5s\tremaining: 9.64s\n",
      "754:\tlearn: 0.4065130\ttotal: 29.6s\tremaining: 9.6s\n",
      "755:\tlearn: 0.4065024\ttotal: 29.6s\tremaining: 9.56s\n",
      "756:\tlearn: 0.4064920\ttotal: 29.7s\tremaining: 9.52s\n",
      "757:\tlearn: 0.4064759\ttotal: 29.7s\tremaining: 9.48s\n",
      "758:\tlearn: 0.4064595\ttotal: 29.8s\tremaining: 9.45s\n",
      "759:\tlearn: 0.4064460\ttotal: 29.8s\tremaining: 9.41s\n",
      "760:\tlearn: 0.4064308\ttotal: 29.8s\tremaining: 9.37s\n",
      "761:\tlearn: 0.4064141\ttotal: 29.9s\tremaining: 9.33s\n",
      "762:\tlearn: 0.4064038\ttotal: 29.9s\tremaining: 9.29s\n",
      "763:\tlearn: 0.4063936\ttotal: 30s\tremaining: 9.25s\n",
      "764:\tlearn: 0.4063712\ttotal: 30s\tremaining: 9.21s\n",
      "765:\tlearn: 0.4063543\ttotal: 30s\tremaining: 9.18s\n",
      "766:\tlearn: 0.4063389\ttotal: 30.1s\tremaining: 9.14s\n",
      "767:\tlearn: 0.4063277\ttotal: 30.1s\tremaining: 9.1s\n",
      "768:\tlearn: 0.4063055\ttotal: 30.2s\tremaining: 9.06s\n",
      "769:\tlearn: 0.4062878\ttotal: 30.2s\tremaining: 9.02s\n",
      "770:\tlearn: 0.4062682\ttotal: 30.2s\tremaining: 8.98s\n",
      "771:\tlearn: 0.4062567\ttotal: 30.3s\tremaining: 8.94s\n",
      "772:\tlearn: 0.4062521\ttotal: 30.3s\tremaining: 8.9s\n",
      "773:\tlearn: 0.4062314\ttotal: 30.4s\tremaining: 8.86s\n",
      "774:\tlearn: 0.4062177\ttotal: 30.4s\tremaining: 8.82s\n",
      "775:\tlearn: 0.4062052\ttotal: 30.4s\tremaining: 8.78s\n",
      "776:\tlearn: 0.4061931\ttotal: 30.5s\tremaining: 8.74s\n",
      "777:\tlearn: 0.4061833\ttotal: 30.5s\tremaining: 8.71s\n",
      "778:\tlearn: 0.4061703\ttotal: 30.6s\tremaining: 8.67s\n",
      "779:\tlearn: 0.4061548\ttotal: 30.6s\tremaining: 8.63s\n",
      "780:\tlearn: 0.4061324\ttotal: 30.6s\tremaining: 8.59s\n",
      "781:\tlearn: 0.4061094\ttotal: 30.7s\tremaining: 8.55s\n",
      "782:\tlearn: 0.4060930\ttotal: 30.7s\tremaining: 8.51s\n",
      "783:\tlearn: 0.4060762\ttotal: 30.7s\tremaining: 8.47s\n",
      "784:\tlearn: 0.4060584\ttotal: 30.8s\tremaining: 8.43s\n",
      "785:\tlearn: 0.4060445\ttotal: 30.8s\tremaining: 8.39s\n",
      "786:\tlearn: 0.4060242\ttotal: 30.9s\tremaining: 8.35s\n",
      "787:\tlearn: 0.4060118\ttotal: 30.9s\tremaining: 8.32s\n",
      "788:\tlearn: 0.4059858\ttotal: 31s\tremaining: 8.28s\n",
      "789:\tlearn: 0.4059718\ttotal: 31s\tremaining: 8.24s\n",
      "790:\tlearn: 0.4059510\ttotal: 31s\tremaining: 8.2s\n",
      "791:\tlearn: 0.4059388\ttotal: 31.1s\tremaining: 8.16s\n",
      "792:\tlearn: 0.4059364\ttotal: 31.1s\tremaining: 8.12s\n",
      "793:\tlearn: 0.4059129\ttotal: 31.2s\tremaining: 8.08s\n",
      "794:\tlearn: 0.4058952\ttotal: 31.2s\tremaining: 8.04s\n",
      "795:\tlearn: 0.4058740\ttotal: 31.2s\tremaining: 8s\n",
      "796:\tlearn: 0.4058569\ttotal: 31.3s\tremaining: 7.96s\n",
      "797:\tlearn: 0.4058383\ttotal: 31.3s\tremaining: 7.93s\n",
      "798:\tlearn: 0.4058269\ttotal: 31.4s\tremaining: 7.89s\n",
      "799:\tlearn: 0.4058057\ttotal: 31.4s\tremaining: 7.85s\n",
      "800:\tlearn: 0.4057882\ttotal: 31.4s\tremaining: 7.81s\n",
      "801:\tlearn: 0.4057740\ttotal: 31.5s\tremaining: 7.77s\n",
      "802:\tlearn: 0.4057652\ttotal: 31.5s\tremaining: 7.73s\n",
      "803:\tlearn: 0.4057514\ttotal: 31.5s\tremaining: 7.69s\n",
      "804:\tlearn: 0.4057408\ttotal: 31.6s\tremaining: 7.65s\n",
      "805:\tlearn: 0.4057294\ttotal: 31.6s\tremaining: 7.61s\n",
      "806:\tlearn: 0.4057130\ttotal: 31.7s\tremaining: 7.57s\n",
      "807:\tlearn: 0.4056945\ttotal: 31.7s\tremaining: 7.53s\n",
      "808:\tlearn: 0.4056804\ttotal: 31.7s\tremaining: 7.49s\n",
      "809:\tlearn: 0.4056676\ttotal: 31.8s\tremaining: 7.45s\n",
      "810:\tlearn: 0.4056543\ttotal: 31.8s\tremaining: 7.41s\n",
      "811:\tlearn: 0.4056329\ttotal: 31.9s\tremaining: 7.37s\n",
      "812:\tlearn: 0.4056166\ttotal: 31.9s\tremaining: 7.33s\n",
      "813:\tlearn: 0.4056018\ttotal: 31.9s\tremaining: 7.3s\n",
      "814:\tlearn: 0.4055910\ttotal: 32s\tremaining: 7.26s\n",
      "815:\tlearn: 0.4055757\ttotal: 32s\tremaining: 7.22s\n",
      "816:\tlearn: 0.4055627\ttotal: 32s\tremaining: 7.18s\n",
      "817:\tlearn: 0.4055477\ttotal: 32.1s\tremaining: 7.14s\n",
      "818:\tlearn: 0.4055277\ttotal: 32.1s\tremaining: 7.1s\n",
      "819:\tlearn: 0.4055164\ttotal: 32.2s\tremaining: 7.06s\n",
      "820:\tlearn: 0.4054938\ttotal: 32.2s\tremaining: 7.02s\n",
      "821:\tlearn: 0.4054809\ttotal: 32.2s\tremaining: 6.98s\n",
      "822:\tlearn: 0.4054649\ttotal: 32.3s\tremaining: 6.94s\n",
      "823:\tlearn: 0.4054459\ttotal: 32.3s\tremaining: 6.9s\n",
      "824:\tlearn: 0.4054321\ttotal: 32.4s\tremaining: 6.86s\n",
      "825:\tlearn: 0.4054107\ttotal: 32.4s\tremaining: 6.83s\n",
      "826:\tlearn: 0.4053896\ttotal: 32.4s\tremaining: 6.79s\n",
      "827:\tlearn: 0.4053760\ttotal: 32.5s\tremaining: 6.75s\n",
      "828:\tlearn: 0.4053548\ttotal: 32.5s\tremaining: 6.71s\n",
      "829:\tlearn: 0.4053444\ttotal: 32.6s\tremaining: 6.67s\n",
      "830:\tlearn: 0.4053288\ttotal: 32.6s\tremaining: 6.63s\n",
      "831:\tlearn: 0.4053158\ttotal: 32.6s\tremaining: 6.59s\n",
      "832:\tlearn: 0.4053017\ttotal: 32.7s\tremaining: 6.55s\n",
      "833:\tlearn: 0.4052869\ttotal: 32.7s\tremaining: 6.51s\n",
      "834:\tlearn: 0.4052723\ttotal: 32.8s\tremaining: 6.47s\n",
      "835:\tlearn: 0.4052481\ttotal: 32.8s\tremaining: 6.43s\n",
      "836:\tlearn: 0.4052397\ttotal: 32.8s\tremaining: 6.39s\n",
      "837:\tlearn: 0.4052261\ttotal: 32.9s\tremaining: 6.36s\n",
      "838:\tlearn: 0.4052139\ttotal: 32.9s\tremaining: 6.32s\n",
      "839:\tlearn: 0.4051984\ttotal: 33s\tremaining: 6.28s\n",
      "840:\tlearn: 0.4051831\ttotal: 33s\tremaining: 6.24s\n",
      "841:\tlearn: 0.4051703\ttotal: 33s\tremaining: 6.2s\n",
      "842:\tlearn: 0.4051504\ttotal: 33.1s\tremaining: 6.16s\n",
      "843:\tlearn: 0.4051366\ttotal: 33.1s\tremaining: 6.12s\n",
      "844:\tlearn: 0.4051174\ttotal: 33.2s\tremaining: 6.08s\n",
      "845:\tlearn: 0.4051019\ttotal: 33.2s\tremaining: 6.04s\n",
      "846:\tlearn: 0.4050882\ttotal: 33.2s\tremaining: 6s\n",
      "847:\tlearn: 0.4050771\ttotal: 33.3s\tremaining: 5.96s\n",
      "848:\tlearn: 0.4050662\ttotal: 33.3s\tremaining: 5.92s\n",
      "849:\tlearn: 0.4050508\ttotal: 33.4s\tremaining: 5.88s\n",
      "850:\tlearn: 0.4050280\ttotal: 33.4s\tremaining: 5.85s\n",
      "851:\tlearn: 0.4050161\ttotal: 33.4s\tremaining: 5.81s\n",
      "852:\tlearn: 0.4049969\ttotal: 33.5s\tremaining: 5.77s\n",
      "853:\tlearn: 0.4049789\ttotal: 33.5s\tremaining: 5.73s\n",
      "854:\tlearn: 0.4049603\ttotal: 33.5s\tremaining: 5.69s\n",
      "855:\tlearn: 0.4049456\ttotal: 33.6s\tremaining: 5.65s\n",
      "856:\tlearn: 0.4049249\ttotal: 33.6s\tremaining: 5.61s\n",
      "857:\tlearn: 0.4049131\ttotal: 33.7s\tremaining: 5.57s\n",
      "858:\tlearn: 0.4049000\ttotal: 33.7s\tremaining: 5.53s\n",
      "859:\tlearn: 0.4048897\ttotal: 33.7s\tremaining: 5.49s\n",
      "860:\tlearn: 0.4048779\ttotal: 33.8s\tremaining: 5.45s\n",
      "861:\tlearn: 0.4048662\ttotal: 33.8s\tremaining: 5.41s\n",
      "862:\tlearn: 0.4048477\ttotal: 33.9s\tremaining: 5.38s\n",
      "863:\tlearn: 0.4048267\ttotal: 33.9s\tremaining: 5.34s\n",
      "864:\tlearn: 0.4048180\ttotal: 34s\tremaining: 5.3s\n",
      "865:\tlearn: 0.4047954\ttotal: 34s\tremaining: 5.26s\n",
      "866:\tlearn: 0.4047795\ttotal: 34s\tremaining: 5.22s\n",
      "867:\tlearn: 0.4047545\ttotal: 34.1s\tremaining: 5.18s\n",
      "868:\tlearn: 0.4047331\ttotal: 34.1s\tremaining: 5.14s\n",
      "869:\tlearn: 0.4047178\ttotal: 34.2s\tremaining: 5.1s\n",
      "870:\tlearn: 0.4047044\ttotal: 34.2s\tremaining: 5.07s\n",
      "871:\tlearn: 0.4046975\ttotal: 34.2s\tremaining: 5.03s\n",
      "872:\tlearn: 0.4046787\ttotal: 34.3s\tremaining: 4.99s\n",
      "873:\tlearn: 0.4046665\ttotal: 34.3s\tremaining: 4.95s\n",
      "874:\tlearn: 0.4046586\ttotal: 34.4s\tremaining: 4.91s\n",
      "875:\tlearn: 0.4046391\ttotal: 34.4s\tremaining: 4.87s\n",
      "876:\tlearn: 0.4046238\ttotal: 34.4s\tremaining: 4.83s\n",
      "877:\tlearn: 0.4045941\ttotal: 34.5s\tremaining: 4.79s\n",
      "878:\tlearn: 0.4045842\ttotal: 34.5s\tremaining: 4.75s\n",
      "879:\tlearn: 0.4045687\ttotal: 34.5s\tremaining: 4.71s\n",
      "880:\tlearn: 0.4045519\ttotal: 34.6s\tremaining: 4.67s\n",
      "881:\tlearn: 0.4045348\ttotal: 34.6s\tremaining: 4.63s\n",
      "882:\tlearn: 0.4045232\ttotal: 34.7s\tremaining: 4.59s\n",
      "883:\tlearn: 0.4045158\ttotal: 34.7s\tremaining: 4.55s\n",
      "884:\tlearn: 0.4044955\ttotal: 34.7s\tremaining: 4.51s\n",
      "885:\tlearn: 0.4044807\ttotal: 34.8s\tremaining: 4.47s\n",
      "886:\tlearn: 0.4044680\ttotal: 34.8s\tremaining: 4.43s\n",
      "887:\tlearn: 0.4044543\ttotal: 34.8s\tremaining: 4.39s\n",
      "888:\tlearn: 0.4044465\ttotal: 34.9s\tremaining: 4.36s\n",
      "889:\tlearn: 0.4044300\ttotal: 34.9s\tremaining: 4.32s\n",
      "890:\tlearn: 0.4044162\ttotal: 35s\tremaining: 4.28s\n",
      "891:\tlearn: 0.4043981\ttotal: 35s\tremaining: 4.24s\n",
      "892:\tlearn: 0.4043894\ttotal: 35s\tremaining: 4.2s\n",
      "893:\tlearn: 0.4043736\ttotal: 35.1s\tremaining: 4.16s\n",
      "894:\tlearn: 0.4043596\ttotal: 35.1s\tremaining: 4.12s\n",
      "895:\tlearn: 0.4043403\ttotal: 35.2s\tremaining: 4.08s\n",
      "896:\tlearn: 0.4043360\ttotal: 35.2s\tremaining: 4.04s\n",
      "897:\tlearn: 0.4043200\ttotal: 35.2s\tremaining: 4s\n",
      "898:\tlearn: 0.4042990\ttotal: 35.3s\tremaining: 3.96s\n",
      "899:\tlearn: 0.4042861\ttotal: 35.3s\tremaining: 3.92s\n",
      "900:\tlearn: 0.4042715\ttotal: 35.4s\tremaining: 3.88s\n",
      "901:\tlearn: 0.4042549\ttotal: 35.4s\tremaining: 3.85s\n",
      "902:\tlearn: 0.4042383\ttotal: 35.4s\tremaining: 3.81s\n",
      "903:\tlearn: 0.4042252\ttotal: 35.5s\tremaining: 3.77s\n",
      "904:\tlearn: 0.4042075\ttotal: 35.5s\tremaining: 3.73s\n",
      "905:\tlearn: 0.4041975\ttotal: 35.5s\tremaining: 3.69s\n",
      "906:\tlearn: 0.4041837\ttotal: 35.6s\tremaining: 3.65s\n",
      "907:\tlearn: 0.4041622\ttotal: 35.6s\tremaining: 3.61s\n",
      "908:\tlearn: 0.4041520\ttotal: 35.7s\tremaining: 3.57s\n",
      "909:\tlearn: 0.4041331\ttotal: 35.7s\tremaining: 3.53s\n",
      "910:\tlearn: 0.4041209\ttotal: 35.7s\tremaining: 3.49s\n",
      "911:\tlearn: 0.4041016\ttotal: 35.8s\tremaining: 3.45s\n",
      "912:\tlearn: 0.4040854\ttotal: 35.8s\tremaining: 3.41s\n",
      "913:\tlearn: 0.4040639\ttotal: 35.8s\tremaining: 3.37s\n",
      "914:\tlearn: 0.4040487\ttotal: 35.9s\tremaining: 3.33s\n",
      "915:\tlearn: 0.4040389\ttotal: 35.9s\tremaining: 3.29s\n",
      "916:\tlearn: 0.4040201\ttotal: 36s\tremaining: 3.25s\n",
      "917:\tlearn: 0.4040065\ttotal: 36s\tremaining: 3.21s\n",
      "918:\tlearn: 0.4039918\ttotal: 36s\tremaining: 3.18s\n",
      "919:\tlearn: 0.4039731\ttotal: 36.1s\tremaining: 3.14s\n",
      "920:\tlearn: 0.4039669\ttotal: 36.1s\tremaining: 3.1s\n",
      "921:\tlearn: 0.4039373\ttotal: 36.2s\tremaining: 3.06s\n",
      "922:\tlearn: 0.4039196\ttotal: 36.2s\tremaining: 3.02s\n",
      "923:\tlearn: 0.4039074\ttotal: 36.2s\tremaining: 2.98s\n",
      "924:\tlearn: 0.4038902\ttotal: 36.3s\tremaining: 2.94s\n",
      "925:\tlearn: 0.4038797\ttotal: 36.3s\tremaining: 2.9s\n",
      "926:\tlearn: 0.4038674\ttotal: 36.4s\tremaining: 2.86s\n",
      "927:\tlearn: 0.4038616\ttotal: 36.4s\tremaining: 2.82s\n",
      "928:\tlearn: 0.4038512\ttotal: 36.4s\tremaining: 2.78s\n",
      "929:\tlearn: 0.4038357\ttotal: 36.5s\tremaining: 2.74s\n",
      "930:\tlearn: 0.4038097\ttotal: 36.5s\tremaining: 2.71s\n",
      "931:\tlearn: 0.4037852\ttotal: 36.5s\tremaining: 2.67s\n",
      "932:\tlearn: 0.4037708\ttotal: 36.6s\tremaining: 2.63s\n",
      "933:\tlearn: 0.4037586\ttotal: 36.6s\tremaining: 2.59s\n",
      "934:\tlearn: 0.4037426\ttotal: 36.7s\tremaining: 2.55s\n",
      "935:\tlearn: 0.4037305\ttotal: 36.7s\tremaining: 2.51s\n",
      "936:\tlearn: 0.4037148\ttotal: 36.7s\tremaining: 2.47s\n",
      "937:\tlearn: 0.4036965\ttotal: 36.8s\tremaining: 2.43s\n",
      "938:\tlearn: 0.4036847\ttotal: 36.8s\tremaining: 2.39s\n",
      "939:\tlearn: 0.4036709\ttotal: 36.9s\tremaining: 2.35s\n",
      "940:\tlearn: 0.4036578\ttotal: 36.9s\tremaining: 2.31s\n",
      "941:\tlearn: 0.4036426\ttotal: 36.9s\tremaining: 2.27s\n",
      "942:\tlearn: 0.4036273\ttotal: 37s\tremaining: 2.23s\n",
      "943:\tlearn: 0.4036111\ttotal: 37s\tremaining: 2.2s\n",
      "944:\tlearn: 0.4035902\ttotal: 37.1s\tremaining: 2.16s\n",
      "945:\tlearn: 0.4035763\ttotal: 37.1s\tremaining: 2.12s\n",
      "946:\tlearn: 0.4035622\ttotal: 37.1s\tremaining: 2.08s\n",
      "947:\tlearn: 0.4035473\ttotal: 37.2s\tremaining: 2.04s\n",
      "948:\tlearn: 0.4035309\ttotal: 37.2s\tremaining: 2s\n",
      "949:\tlearn: 0.4035203\ttotal: 37.3s\tremaining: 1.96s\n",
      "950:\tlearn: 0.4035064\ttotal: 37.3s\tremaining: 1.92s\n",
      "951:\tlearn: 0.4034956\ttotal: 37.3s\tremaining: 1.88s\n",
      "952:\tlearn: 0.4034811\ttotal: 37.4s\tremaining: 1.84s\n",
      "953:\tlearn: 0.4034680\ttotal: 37.4s\tremaining: 1.8s\n",
      "954:\tlearn: 0.4034438\ttotal: 37.5s\tremaining: 1.76s\n",
      "955:\tlearn: 0.4034339\ttotal: 37.5s\tremaining: 1.73s\n",
      "956:\tlearn: 0.4034170\ttotal: 37.5s\tremaining: 1.69s\n",
      "957:\tlearn: 0.4034047\ttotal: 37.6s\tremaining: 1.65s\n",
      "958:\tlearn: 0.4033942\ttotal: 37.6s\tremaining: 1.61s\n",
      "959:\tlearn: 0.4033767\ttotal: 37.7s\tremaining: 1.57s\n",
      "960:\tlearn: 0.4033640\ttotal: 37.7s\tremaining: 1.53s\n",
      "961:\tlearn: 0.4033427\ttotal: 37.8s\tremaining: 1.49s\n",
      "962:\tlearn: 0.4033293\ttotal: 37.8s\tremaining: 1.45s\n",
      "963:\tlearn: 0.4033163\ttotal: 37.8s\tremaining: 1.41s\n",
      "964:\tlearn: 0.4032992\ttotal: 37.9s\tremaining: 1.37s\n",
      "965:\tlearn: 0.4032788\ttotal: 37.9s\tremaining: 1.33s\n",
      "966:\tlearn: 0.4032696\ttotal: 37.9s\tremaining: 1.29s\n",
      "967:\tlearn: 0.4032583\ttotal: 38s\tremaining: 1.25s\n",
      "968:\tlearn: 0.4032472\ttotal: 38s\tremaining: 1.22s\n",
      "969:\tlearn: 0.4032236\ttotal: 38.1s\tremaining: 1.18s\n",
      "970:\tlearn: 0.4032127\ttotal: 38.1s\tremaining: 1.14s\n",
      "971:\tlearn: 0.4031955\ttotal: 38.1s\tremaining: 1.1s\n",
      "972:\tlearn: 0.4031832\ttotal: 38.2s\tremaining: 1.06s\n",
      "973:\tlearn: 0.4031685\ttotal: 38.2s\tremaining: 1.02s\n",
      "974:\tlearn: 0.4031591\ttotal: 38.3s\tremaining: 981ms\n",
      "975:\tlearn: 0.4031452\ttotal: 38.3s\tremaining: 942ms\n",
      "976:\tlearn: 0.4031300\ttotal: 38.3s\tremaining: 902ms\n",
      "977:\tlearn: 0.4031161\ttotal: 38.4s\tremaining: 863ms\n",
      "978:\tlearn: 0.4031032\ttotal: 38.4s\tremaining: 824ms\n",
      "979:\tlearn: 0.4030875\ttotal: 38.5s\tremaining: 785ms\n",
      "980:\tlearn: 0.4030754\ttotal: 38.5s\tremaining: 746ms\n",
      "981:\tlearn: 0.4030601\ttotal: 38.5s\tremaining: 706ms\n",
      "982:\tlearn: 0.4030461\ttotal: 38.6s\tremaining: 667ms\n",
      "983:\tlearn: 0.4030276\ttotal: 38.6s\tremaining: 628ms\n",
      "984:\tlearn: 0.4030214\ttotal: 38.7s\tremaining: 589ms\n",
      "985:\tlearn: 0.4029971\ttotal: 38.7s\tremaining: 549ms\n",
      "986:\tlearn: 0.4029833\ttotal: 38.7s\tremaining: 510ms\n",
      "987:\tlearn: 0.4029688\ttotal: 38.8s\tremaining: 471ms\n",
      "988:\tlearn: 0.4029564\ttotal: 38.8s\tremaining: 432ms\n",
      "989:\tlearn: 0.4029460\ttotal: 38.9s\tremaining: 392ms\n",
      "990:\tlearn: 0.4029376\ttotal: 38.9s\tremaining: 353ms\n",
      "991:\tlearn: 0.4029238\ttotal: 38.9s\tremaining: 314ms\n",
      "992:\tlearn: 0.4029016\ttotal: 39s\tremaining: 275ms\n",
      "993:\tlearn: 0.4028869\ttotal: 39s\tremaining: 235ms\n",
      "994:\tlearn: 0.4028752\ttotal: 39s\tremaining: 196ms\n",
      "995:\tlearn: 0.4028585\ttotal: 39.1s\tremaining: 157ms\n",
      "996:\tlearn: 0.4028577\ttotal: 39.1s\tremaining: 118ms\n",
      "997:\tlearn: 0.4028428\ttotal: 39.1s\tremaining: 78.5ms\n",
      "998:\tlearn: 0.4028275\ttotal: 39.2s\tremaining: 39.2ms\n",
      "999:\tlearn: 0.4028117\ttotal: 39.2s\tremaining: 0us\n",
      "totoal trainning leghth: 39.62720203399658\n"
     ]
    }
   ],
   "source": [
    "CAB = CatBoostClassifier(learning_rate = 0.055,random_state=42,scale_pos_weight=7, custom_metric=['AUC'])\n",
    "\n",
    "# XGB_ = XGBClassifier(n_estimators=1000,max_depth=6,learning_rate=0.04,subsample=0.9,colsample_bytree=0.35,objective = 'binary:logistic',random_state = 1) \n",
    "time_start = time.time()\n",
    "CAB_fit = CAB.fit(train_X, train_Y)\n",
    "print(\"totoal trainning leghth:\", time.time() - time_start)"
   ]
  },
  {
   "cell_type": "code",
   "execution_count": 344,
   "metadata": {},
   "outputs": [
    {
     "output_type": "stream",
     "name": "stdout",
     "text": [
      "[LightGBM] [Warning] Unknown parameter: depth\n",
      "totoal trainning leghth: 14.284417629241943\n"
     ]
    }
   ],
   "source": [
    "lg=LGBMClassifier(boosting_type='gbdt',n_estimators=500,depth=10,learning_rate=0.04,objective='binary',metric='auc',colsample_bytree=0.5,reg_lambda=2,reg_alpha=2,random_state=294,n_jobs=-1) \n",
    "# lg = LGBMClassifier(boosting_type='gbdt',n_estimators=10000,max_depth=10,learning_rate=0.02,subsample=0.9,colsample_bytree=0.4,objective ='binary',random_state = 1,importance_type='gain',reg_alpha=2,reg_lambda=2)\n",
    "\n",
    "time_start = time.time()\n",
    "lg_fit = lg.fit(train_X, train_Y)\n",
    "print(\"totoal trainning leghth:\", time.time() - time_start)"
   ]
  },
  {
   "cell_type": "code",
   "execution_count": 361,
   "metadata": {
    "tags": []
   },
   "outputs": [
    {
     "output_type": "stream",
     "name": "stdout",
     "text": [
      "Area under curve (AUC):  0.86045\nBest X: 0.248\n"
     ]
    }
   ],
   "source": [
    "yscore = XGB_fit.predict_proba(valid)[:,1]\n",
    "lg_yscore = lg_fit.predict_proba(valid)[:,1]\n",
    "best_auc = 0.\n",
    "best_x = 0.\n",
    "for x in np.arange(0,1.001,0.001):\n",
    "    fpr, tpr, _ = roc_curve(valid_target, yscore * x + lg_yscore * (1-x))\n",
    "    tmp_auc = auc(fpr,tpr)\n",
    "    if tmp_auc > best_auc:\n",
    "        best_auc = tmp_auc\n",
    "        best_x = x\n",
    "\n",
    "# plt.title('XGBOOST ROC curve')\n",
    "# plt.xlabel('FPR (Precision)')\n",
    "# plt.ylabel('TPR (Recall)')\n",
    "\n",
    "# plt.plot(fpr,tpr)\n",
    "# plt.plot((0,1), ls='dashed',color='black')\n",
    "# plt.show()\n",
    "print ('Area under curve (AUC): ', format(round(best_auc,5)))\n",
    "print ('Best X:', format(round(best_x,5)))\n",
    "\n"
   ]
  },
  {
   "cell_type": "code",
   "execution_count": 351,
   "metadata": {},
   "outputs": [
    {
     "output_type": "stream",
     "name": "stdout",
     "text": [
      "<class 'pandas.core.frame.DataFrame'>\nRangeIndex: 76221 entries, 0 to 76220\nData columns (total 24 columns):\n #   Column                                Non-Null Count  Dtype  \n---  ------                                --------------  -----  \n 0   Age                                   76221 non-null  float64\n 1   Driving_License                       76221 non-null  float64\n 2   Region_Code                           76221 non-null  float64\n 3   Previously_Insured                    76221 non-null  int64  \n 4   Annual_Premium                        76221 non-null  float64\n 5   Policy_Sales_Channel                  76221 non-null  float64\n 6   Vintage                               76221 non-null  float64\n 7   mean_Policy_Region_Age                76221 non-null  float64\n 8   std_Policy_Region_Age                 76221 non-null  float64\n 9   nunique_Policy_Region_Age             76221 non-null  float64\n 10  mean_Policy_Region_Annual_Premium     76221 non-null  float64\n 11  std_Policy_Region_Annual_Premium      76221 non-null  float64\n 12  nunique_Policy_Region_Annual_Premium  76221 non-null  float64\n 13  mean_Policy_Region_Vintage            76221 non-null  float64\n 14  std_Policy_Region_Vintage             76221 non-null  float64\n 15  nunique_Policy_Region_Vintage         76221 non-null  float64\n 16  Gender_Male                           76221 non-null  int64  \n 17  Vehicle_Age_1_Year_down               76221 non-null  int64  \n 18  Vehicle_Age_2_Years_up                76221 non-null  int64  \n 19  Vehicle_Damage_Yes                    76221 non-null  int64  \n 20  PSC_Plus_1                            76221 non-null  int64  \n 21  PSC_Plus_2                            76221 non-null  int64  \n 22  PSC_Plus_3                            76221 non-null  int64  \n 23  RC_Plus_1                             76221 non-null  int64  \ndtypes: float64(15), int64(9)\nmemory usage: 14.0 MB\n"
     ]
    }
   ],
   "source": [
    "valid.info()"
   ]
  },
  {
   "cell_type": "code",
   "execution_count": 362,
   "metadata": {},
   "outputs": [
    {
     "output_type": "stream",
     "name": "stdout",
     "text": [
      "<class 'pandas.core.frame.DataFrame'>\nRangeIndex: 76221 entries, 0 to 76220\nData columns (total 1 columns):\n #   Column  Non-Null Count  Dtype\n---  ------  --------------  -----\n 0   id      76221 non-null  int64\ndtypes: int64(1)\nmemory usage: 595.6 KB\n"
     ]
    }
   ],
   "source": [
    "df_ans = pd.DataFrame(range(76221),columns=['id'])\n",
    "df_ans.info()"
   ]
  },
  {
   "cell_type": "code",
   "execution_count": 363,
   "metadata": {},
   "outputs": [
    {
     "output_type": "stream",
     "name": "stdout",
     "text": [
      "<class 'pandas.core.frame.DataFrame'>\nRangeIndex: 76221 entries, 0 to 76220\nData columns (total 2 columns):\n #   Column    Non-Null Count  Dtype  \n---  ------    --------------  -----  \n 0   id        76221 non-null  int64  \n 1   Response  76221 non-null  float64\ndtypes: float64(1), int64(1)\nmemory usage: 1.2 MB\n"
     ]
    }
   ],
   "source": [
    "df_ans['Response'] = yscore * 0.25 + lg_yscore * (1-0.25)\n",
    "df_ans.info()"
   ]
  },
  {
   "source": [
    "# ANS!!!!!!"
   ],
   "cell_type": "markdown",
   "metadata": {}
  },
  {
   "cell_type": "code",
   "execution_count": 364,
   "metadata": {},
   "outputs": [],
   "source": [
    "df_ans.to_csv('data/ans.csv') "
   ]
  },
  {
   "cell_type": "code",
   "execution_count": 327,
   "metadata": {},
   "outputs": [
    {
     "output_type": "stream",
     "name": "stdout",
     "text": [
      "Area under curve (AUC):  0.85788\nBest X: 0.54\n"
     ]
    }
   ],
   "source": [
    "yscore = XGB_fit.predict_proba(test_X)[:,1]\n",
    "lg_yscore = lg_fit.predict_proba(test_X)[:,1]\n",
    "best_auc = 0.\n",
    "best_x = 0.\n",
    "for x in np.arange(0,1.01,0.01):\n",
    "    fpr, tpr, _ = roc_curve(test_Y, yscore * x + lg_yscore * (1-x))\n",
    "    tmp_auc = auc(fpr,tpr)\n",
    "    if tmp_auc > best_auc:\n",
    "        best_auc = tmp_auc\n",
    "        best_x = x\n",
    "\n",
    "# plt.title('XGBOOST ROC curve')\n",
    "# plt.xlabel('FPR (Precision)')\n",
    "# plt.ylabel('TPR (Recall)')\n",
    "\n",
    "# plt.plot(fpr,tpr)\n",
    "# plt.plot((0,1), ls='dashed',color='black')\n",
    "# plt.show()\n",
    "print ('Area under curve (AUC): ', format(round(best_auc,5)))\n",
    "print ('Best X:', format(round(best_x,5)))"
   ]
  },
  {
   "cell_type": "code",
   "execution_count": null,
   "metadata": {},
   "outputs": [],
   "source": [
    "yscore = XGB_fit.predict_proba(train_X)[:,1]\n",
    "lg_yscore = lg_fit.predict_proba(train_X)[:,1]\n",
    "best_auc = 0.\n",
    "best_x = 0.\n",
    "for x in np.arange(0,1.01,0.01):\n",
    "    fpr, tpr, _ = roc_curve(train_Y, yscore * x + lg_yscore * (1-x))\n",
    "    tmp_auc = auc(fpr,tpr)\n",
    "    if tmp_auc > best_auc:\n",
    "        best_auc = tmp_auc\n",
    "        best_x = x\n",
    "\n",
    "# plt.title('XGBOOST ROC curve')\n",
    "# plt.xlabel('FPR (Precision)')\n",
    "# plt.ylabel('TPR (Recall)')\n",
    "\n",
    "# plt.plot(fpr,tpr)\n",
    "# plt.plot((0,1), ls='dashed',color='black')\n",
    "# plt.show()\n",
    "print ('Area under curve (AUC): ', format(round(best_auc,5)))\n",
    "print ('Best X:', format(round(best_x,5)))"
   ]
  },
  {
   "cell_type": "code",
   "execution_count": null,
   "metadata": {},
   "outputs": [],
   "source": [
    "# random_search = {'criterion': ['entropy', 'gini'],\n",
    "#                'max_depth': [2,3,4,5,6,7,10],\n",
    "#                'min_samples_leaf': [4, 6, 8],\n",
    "#                'min_samples_split': [5, 7,10],\n",
    "#                'n_estimators': [300]}\n",
    "\n",
    "# clf = RandomForestClassifier()\n",
    "# model = RandomizedSearchCV(estimator = clf, param_distributions = random_search, n_iter = 10, \n",
    "#                                cv = 4, verbose= 1, random_state= 101, n_jobs = -1)\n",
    "# model.fit(train, train_target)"
   ]
  },
  {
   "cell_type": "code",
   "execution_count": null,
   "metadata": {},
   "outputs": [],
   "source": [
    "# model"
   ]
  },
  {
   "cell_type": "code",
   "execution_count": null,
   "metadata": {},
   "outputs": [],
   "source": [
    "# y_pred=model.predict(test)\n",
    "# print (classification_report(test_target, y_pred))"
   ]
  },
  {
   "cell_type": "code",
   "execution_count": null,
   "metadata": {},
   "outputs": [],
   "source": [
    "# sns.countplot(train_target)\n"
   ]
  },
  {
   "cell_type": "code",
   "execution_count": null,
   "metadata": {},
   "outputs": [],
   "source": [
    "# y_score = model.predict_proba(test)[:,1]\n",
    "# fpr, tpr, _ = roc_curve(test_target, y_score)\n",
    "\n",
    "# plt.title('Random Forest ROC curve: CC Fraud')\n",
    "# plt.xlabel('FPR (Precision)')\n",
    "# plt.ylabel('TPR , y_pred')\n",
    "\n",
    "# plt.plot(fpr,tpr)\n",
    "# plt.plot((0,1), ls='dashed',color='black')\n",
    "# plt.show()\n",
    "# print ('Area under curve (AUC): ', auc(fpr,tpr))"
   ]
  },
  {
   "cell_type": "code",
   "execution_count": null,
   "metadata": {},
   "outputs": [],
   "source": []
  },
  {
   "cell_type": "code",
   "execution_count": null,
   "metadata": {},
   "outputs": [],
   "source": [
    "model.best_estimator_"
   ]
  },
  {
   "cell_type": "code",
   "execution_count": null,
   "metadata": {},
   "outputs": [],
   "source": [
    "pickle.dump(model, open('rf_model_clean_v1.sav', 'wb'))"
   ]
  },
  {
   "cell_type": "code",
   "execution_count": null,
   "metadata": {},
   "outputs": [],
   "source": [
    "from sklearn.svm import SVC\n",
    "from sklearn.model_selection import train_test_split"
   ]
  },
  {
   "cell_type": "code",
   "execution_count": null,
   "metadata": {},
   "outputs": [],
   "source": [
    "train_svc = train.copy()\n",
    "train_svc_target = train_target.copy()\n",
    "\n",
    "train_X, test_X, train_y, test_y = train_test_split(train_svc, train_svc_target, test_size=0.2, random_state=42)"
   ]
  },
  {
   "cell_type": "code",
   "execution_count": null,
   "metadata": {},
   "outputs": [],
   "source": [
    "train_svc_X = train_X[:10000]\n",
    "train_svc_Y = train_y[:10000]"
   ]
  },
  {
   "cell_type": "code",
   "execution_count": null,
   "metadata": {},
   "outputs": [],
   "source": [
    "random_search_svc = {'C': 10. ** np.arange(-3, 8),\n",
    "               'gamma' : 10. ** np.arange(-5, 4),}\n",
    "clf_svc = SVC(probability=True)\n",
    "svc_model = RandomizedSearchCV(estimator = clf_svc, param_distributions = random_search_svc, n_jobs\\\n",
    "                                         = -1, cv=5)\n",
    "\n",
    "svc_model.fit(train_svc_X, train_svc_Y)"
   ]
  },
  {
   "cell_type": "code",
   "execution_count": null,
   "metadata": {},
   "outputs": [],
   "source": [
    "svc_model.best_params_"
   ]
  },
  {
   "cell_type": "code",
   "execution_count": null,
   "metadata": {},
   "outputs": [],
   "source": [
    "y_score2 = svc_model.predict_proba(test_X)[:,1]\n",
    "fpr, tpr, _ = roc_curve(test_y, y_score2)\n",
    "\n",
    "plt.title('SVC ROC curve: CC Fraud')\n",
    "plt.xlabel('FPR (Precision)')\n",
    "plt.ylabel('TPR , y_pred')\n",
    "\n",
    "plt.plot(fpr,tpr)\n",
    "plt.plot((0,1), ls='dashed',color='black')\n",
    "plt.show()\n",
    "print ('Area under curve (AUC): ', auc(fpr,tpr))"
   ]
  },
  {
   "cell_type": "code",
   "execution_count": null,
   "metadata": {},
   "outputs": [],
   "source": [
    "y_score2 = svc_model.predict_proba(test)[:,1]\n",
    "fpr, tpr, _ = roc_curve(test_target, y_score2)\n",
    "\n",
    "plt.title('SVC ROC curve: CC Fraud')\n",
    "plt.xlabel('FPR (Precision)')\n",
    "plt.ylabel('TPR , y_pred')\n",
    "\n",
    "plt.plot(fpr,tpr)\n",
    "plt.plot((0,1), ls='dashed',color='black')\n",
    "plt.show()\n",
    "print ('Area under curve (AUC): ', auc(fpr,tpr))"
   ]
  },
  {
   "cell_type": "code",
   "execution_count": null,
   "metadata": {},
   "outputs": [],
   "source": [
    "pickle.dump(svc_model, open('model/svc_model_clean_v1.sav', 'wb'))"
   ]
  },
  {
   "cell_type": "code",
   "execution_count": null,
   "metadata": {},
   "outputs": [],
   "source": []
  },
  {
   "cell_type": "code",
   "execution_count": null,
   "metadata": {},
   "outputs": [],
   "source": [
    "y_score2"
   ]
  },
  {
   "cell_type": "code",
   "execution_count": null,
   "metadata": {},
   "outputs": [],
   "source": [
    "train"
   ]
  },
  {
   "cell_type": "code",
   "execution_count": null,
   "metadata": {},
   "outputs": [],
   "source": [
    "test_y.sum()"
   ]
  },
  {
   "cell_type": "code",
   "execution_count": null,
   "metadata": {},
   "outputs": [],
   "source": [
    "clf = xgb.XGBClassifier()\n",
    "\n",
    "\n",
    "param_grid = {\n",
    "        'silent': [False],\n",
    "        'max_depth': [6, 10, 15, 20],\n",
    "        'learning_rate': [0.001, 0.01, 0.1, 0.2, 0,3],\n",
    "        'subsample': [0.5, 0.6, 0.7, 0.8, 0.9, 1.0],\n",
    "        'colsample_bytree': [0.4, 0.5, 0.6, 0.7, 0.8, 0.9, 1.0],\n",
    "        'colsample_bylevel': [0.4, 0.5, 0.6, 0.7, 0.8, 0.9, 1.0],\n",
    "        'min_child_weight': [0.5, 1.0, 3.0, 5.0, 7.0, 10.0],\n",
    "        'gamma': [0, 0.25, 0.5, 1.0],\n",
    "        'reg_lambda': [0.1, 1.0, 5.0, 10.0, 50.0, 100.0],\n",
    "        'n_estimators': [100]}\n",
    "\n",
    "fit_params = {'eval_metric': 'mlogloss',\n",
    "              'early_stopping_rounds': 10,\n",
    "              'eval_set': [(test_X, test_y)]}\n",
    "\n",
    "rs_xgb_model = RandomizedSearchCV(clf, param_grid, n_iter=20,\n",
    "                            n_jobs=-1, verbose=2, cv=2,\n",
    "                            scoring='neg_log_loss', random_state=42)"
   ]
  },
  {
   "cell_type": "code",
   "execution_count": null,
   "metadata": {},
   "outputs": [],
   "source": [
    "import time"
   ]
  },
  {
   "cell_type": "code",
   "execution_count": null,
   "metadata": {},
   "outputs": [],
   "source": [
    "search_time_start = time.time()\n",
    "rs_xgb_model.fit(train_X, train_y)\n",
    "print(\"Randomized search time:\", time.time() - search_time_start)\n"
   ]
  },
  {
   "cell_type": "code",
   "execution_count": null,
   "metadata": {},
   "outputs": [],
   "source": [
    "rs_xgb_model.best_params_"
   ]
  },
  {
   "cell_type": "code",
   "execution_count": null,
   "metadata": {},
   "outputs": [],
   "source": [
    "train_balance_target = train_balance['Response']\n",
    "train_balance.drop(['Response'], axis=1, inplace=True)\n",
    "valid_target = valid['Response']\n",
    "valid.drop(['Response'], axis=1, inplace=True)\n",
    "train_X, test_X, train_Y, test_Y = train_test_split(train_balance, train_balance_target, test_size=0.33)"
   ]
  },
  {
   "cell_type": "code",
   "execution_count": null,
   "metadata": {},
   "outputs": [],
   "source": [
    "clf2 = xgb.XGBClassifier()\n",
    "\n",
    "param_dist = {\n",
    "        'n_estimators':[300],\n",
    "        'max_depth':range(2,15,1),\n",
    "        'learning_rate':np.linspace(0.01,2,20),\n",
    "        'subsample':np.linspace(0.7,0.9,20),\n",
    "        'colsample_bytree':np.linspace(0.5,0.98,10),\n",
    "        'min_child_weight':range(1,9,1) }\n",
    "\n",
    "rs_xgb_model_v2 = RandomizedSearchCV(clf2, param_dist, n_iter=300, \\\n",
    "                        n_jobs=-1, cv=3, verbose=1, scoring='neg_log_loss')"
   ]
  },
  {
   "cell_type": "code",
   "execution_count": null,
   "metadata": {},
   "outputs": [],
   "source": [
    "test_Y"
   ]
  },
  {
   "cell_type": "code",
   "execution_count": null,
   "metadata": {},
   "outputs": [],
   "source": [
    "import time"
   ]
  },
  {
   "cell_type": "code",
   "execution_count": null,
   "metadata": {},
   "outputs": [],
   "source": [
    "XGB_=XGBClassifier(n_estimators = 300, max_depth = 13, gamma = 2.3408807913619945, reg_lambda = 0.3770436657913232,\n",
    "                            reg_alpha = 40.0, min_child_weight=7.0,colsample_bytree = 0.5786479102658189 ,random_state = 0)\n",
    "time_start = time.time()\n",
    "XGB_fit = XGB_.fit(train_X_2, train_Y)\n",
    "print(\"totoal trainning leghth:\", time.time() - time_start)"
   ]
  },
  {
   "cell_type": "code",
   "execution_count": null,
   "metadata": {},
   "outputs": [],
   "source": [
    "## 过采样\n",
    "\n",
    "yscore = XGB_fit.predict_proba(valid)[:,1]\n",
    "fpr, tpr, _ = roc_curve(valid_target, yscore)\n",
    "\n",
    "plt.title('XGBOOST ROC curve')\n",
    "plt.xlabel('FPR (Precision)')\n",
    "plt.ylabel('TPR (Recall)')\n",
    "\n",
    "plt.plot(fpr,tpr)\n",
    "plt.plot((0,1), ls='dashed',color='black')\n",
    "plt.show()\n",
    "print ('Area under curve (AUC): ', format(round(auc(fpr,tpr),5)))"
   ]
  },
  {
   "cell_type": "code",
   "execution_count": null,
   "metadata": {},
   "outputs": [],
   "source": [
    "yscore = XGB_fit.predict_proba(valid_2)[:,1]\n",
    "fpr, tpr, _ = roc_curve(valid_target, yscore)\n",
    "\n",
    "plt.title('XGBOOST ROC curve')\n",
    "plt.xlabel('FPR (Precision)')\n",
    "plt.ylabel('TPR (Recall)')\n",
    "\n",
    "plt.plot(fpr,tpr)\n",
    "plt.plot((0,1), ls='dashed',color='black')\n",
    "plt.show()\n",
    "print ('Area under curve (AUC): ', format(round(auc(fpr,tpr),5)))"
   ]
  },
  {
   "cell_type": "code",
   "execution_count": null,
   "metadata": {},
   "outputs": [],
   "source": [
    "yscore = XGB_fit.predict_proba(test_X_2)[:,1]\n",
    "fpr, tpr, _ = roc_curve(test_Y, yscore)\n",
    "\n",
    "plt.title('XGBOOST ROC curve')\n",
    "plt.xlabel('FPR (Precision)')\n",
    "plt.ylabel('TPR (Recall)')\n",
    "\n",
    "plt.plot(fpr,tpr)\n",
    "plt.plot((0,1), ls='dashed',color='black')\n",
    "plt.show()\n",
    "print ('Area under curve (AUC): ', format(round(auc(fpr,tpr),5)))"
   ]
  },
  {
   "cell_type": "code",
   "execution_count": null,
   "metadata": {},
   "outputs": [],
   "source": [
    "##best param of us\n",
    "XGB_=XGBClassifier(n_estimators = 300, max_depth = 7, gamma = 2.5952033716242866, reg_lambda = 0.707680330032109,\n",
    "                            reg_alpha = 40.0, min_child_weight=7.0,colsample_bytree = 0.6611082911056974,random_state = 0)\n",
    "time_start = time.time()\n",
    "XGB_fit = XGB_.fit(train_X_2, train_Y)\n",
    "print(\"totoal trainning leghth:\", time.time() - time_start)"
   ]
  },
  {
   "cell_type": "code",
   "execution_count": null,
   "metadata": {},
   "outputs": [],
   "source": [
    "yscore = XGB_fit.predict_proba(valid_2)[:,1]\n",
    "fpr, tpr, _ = roc_curve(valid_target, yscore)\n",
    "\n",
    "plt.title('XGBOOST ROC curve')\n",
    "plt.xlabel('FPR (Precision)')\n",
    "plt.ylabel('TPR (Recal l)')\n",
    "\n",
    "plt.plot(fpr,tpr)\n",
    "plt.plot((0,1), ls='dashed',color='black')\n",
    "plt.show()\n",
    "print ('Area under curve (AUC): ', format(round(auc(fpr,tpr),5)))"
   ]
  },
  {
   "cell_type": "code",
   "execution_count": null,
   "metadata": {},
   "outputs": [],
   "source": [
    "yscore = XGB_fit.predict_proba(train_X_2)[:,1]\n",
    "fpr, tpr, _ = roc_curve(train_Y, yscore)\n",
    "\n",
    "plt.title('XGBOOST ROC curve')\n",
    "plt.xlabel('FPR (Precision)')\n",
    "plt.ylabel('TPR (Recal l)')\n",
    "\n",
    "plt.plot(fpr,tpr)\n",
    "plt.plot((0,1), ls='dashed',color='black')\n",
    "plt.show()\n",
    "print ('Area under curve (AUC): ', format(round(auc(fpr,tpr),5)))"
   ]
  },
  {
   "cell_type": "code",
   "execution_count": null,
   "metadata": {},
   "outputs": [],
   "source": [
    "yscore = XGB_fit.predict_proba(test_X_2)[:,1]\n",
    "fpr, tpr, _ = roc_curve(test_Y, yscore)\n",
    "\n",
    "plt.title('XGBOOST ROC curve')\n",
    "plt.xlabel('FPR (Precision)')\n",
    "plt.ylabel('TPR (Recal l)')\n",
    "\n",
    "plt.plot(fpr,tpr)\n",
    "plt.plot((0,1), ls='dashed',color='black')\n",
    "plt.show()\n",
    "print ('Area under curve (AUC): ', format(round(auc(fpr,tpr),5)))"
   ]
  },
  {
   "cell_type": "code",
   "execution_count": null,
   "metadata": {},
   "outputs": [],
   "source": [
    "clf = xgb.XGBClassifier()\n",
    "\n",
    "\n",
    "param_grid = {\n",
    "        'silent': [False],\n",
    "        'max_depth': [6, 10, 15, 20],\n",
    "        'learning_rate': [0.001, 0.01, 0.1, 0.2, 0,3],\n",
    "        'subsample': [0.5, 0.6, 0.7, 0.8, 0.9, 1.0],\n",
    "        'colsample_bytree': [0.4, 0.5, 0.6, 0.7, 0.8, 0.9, 1.0],\n",
    "        'colsample_bylevel': [0.4, 0.5, 0.6, 0.7, 0.8, 0.9, 1.0],\n",
    "        'min_child_weight': [0.5, 1.0, 3.0, 5.0, 7.0, 10.0],\n",
    "        'gamma': [0, 0.25, 0.5, 1.0],\n",
    "        'reg_lambda': [0.1, 1.0, 5.0, 10.0, 50.0, 100.0],\n",
    "        'n_estimators': [300]}\n",
    "\n",
    "fit_params = {'eval_metric': 'mlogloss',\n",
    "              'early_stopping_rounds': 10,\n",
    "              'eval_set': [(test_X, test_Y)]}\n",
    "\n",
    "rs_xgb_model = RandomizedSearchCV(clf, param_grid, n_iter=20,\n",
    "                            n_jobs=-1, verbose=2, cv=2,\n",
    "                            scoring='neg_log_loss', random_state=42)"
   ]
  },
  {
   "cell_type": "code",
   "execution_count": null,
   "metadata": {},
   "outputs": [],
   "source": [
    "import time"
   ]
  },
  {
   "cell_type": "code",
   "execution_count": null,
   "metadata": {},
   "outputs": [],
   "source": [
    "search_time_start = time.time()\n",
    "rs_xgb_model.fit(train_X, train_Y)\n",
    "print(\"Randomized search time:\", time.time() - search_time_start)\n"
   ]
  },
  {
   "cell_type": "code",
   "execution_count": null,
   "metadata": {},
   "outputs": [],
   "source": []
  }
 ]
}